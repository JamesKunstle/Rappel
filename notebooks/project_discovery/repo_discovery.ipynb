{
 "cells": [
  {
   "cell_type": "markdown",
   "metadata": {},
   "source": [
    "# Repository Discovery\n",
    "\n",
    "It is difficult, without specialized knowledge or dedicated inspection, to determine how repos on Github are related to one another.\n",
    "\n",
    "Which projects (repos) are trying to solve the same problem? Which are in the same ecosystem? Which pre-date which others?\n",
    "\n",
    "We've begun to study this problem using the abstract model of networks. Our approach is summarized by the neuroscience Hebbian mneumonic approximation: \"fire together, wire together.\"\n",
    "Said with greater context, groups of projects that share features (contributors, in this first exploration) are more likely than others to do similar things.\n",
    "\n",
    "We expect projects in the container orchestration space to, pairwise, share more contributors together than with projects outside of that context, on average.\n",
    "\n",
    "## This notebook's contribution\n",
    "\n",
    "In this notebook, we attempt to solve a challenging problem:\n",
    "\n",
    "**Given the contributors in a known kernel of projects within the same domain, identify relevant, previously censored, repos that those contributors have also taken part in.**\n",
    "\n",
    "Similarly,\n",
    "\n",
    "**Given a list of newly discovered potential ecosystem member repositories, identify those that are the most preeminent, filtering out those that are natural 'noise,' irrelevant to the studied ecosystem.**"
   ]
  },
  {
   "cell_type": "markdown",
   "metadata": {},
   "source": [
    "# Setup\n",
    "\n",
    "Import Python packages, load database access credentials, define connection to DB."
   ]
  },
  {
   "cell_type": "code",
   "execution_count": 50,
   "metadata": {},
   "outputs": [],
   "source": [
    "#IMPORTS\n",
    "import pandas as pd\n",
    "import sqlalchemy as salc\n",
    "import plotly.express as px\n",
    "import pyarrow\n",
    "import json\n",
    "import uuid"
   ]
  },
  {
   "cell_type": "code",
   "execution_count": 51,
   "metadata": {},
   "outputs": [],
   "source": [
    "#DATABASE ACCESS\n",
    "\n",
    "with open(\"wasm_creds.json\") as config_file:\n",
    "    config = json.load(config_file)\n",
    "\n",
    "database_connection_string = f\"postgresql+psycopg2://{config['user']}:{config['password']}@{config['host']}:{config['port']}/{config['database']}\"\n",
    "\n",
    "engine = salc.create_engine(\n",
    "    database_connection_string,\n",
    "    connect_args={'options': f\"-csearch_path={'augur_data'}\"})"
   ]
  },
  {
   "cell_type": "code",
   "execution_count": 52,
   "metadata": {},
   "outputs": [],
   "source": [
    "# SWITCHES\n",
    "\n",
    "LOCAL_DATA = True"
   ]
  },
  {
   "cell_type": "markdown",
   "metadata": {},
   "source": [
    "# Known contributors\n",
    "\n",
    "At the outset, we identified a kernel of projects that we are highly confident exist within our ecosystem of interest.\n",
    "\n",
    "From this kernel of projects, we identified all of the contributors and ranked them based on how they interacted with one another.\n",
    "\n",
    "Those who interact with many others in a valuable way are more highly ranked than those who never interact whatsover, and soforth.\n",
    "\n",
    "The data below is the artifact from that analysis, where each row is: {contributor_id, contributor_importance_ranking}"
   ]
  },
  {
   "cell_type": "code",
   "execution_count": 53,
   "metadata": {},
   "outputs": [
    {
     "data": {
      "text/html": [
       "<div>\n",
       "<style scoped>\n",
       "    .dataframe tbody tr th:only-of-type {\n",
       "        vertical-align: middle;\n",
       "    }\n",
       "\n",
       "    .dataframe tbody tr th {\n",
       "        vertical-align: top;\n",
       "    }\n",
       "\n",
       "    .dataframe thead th {\n",
       "        text-align: right;\n",
       "    }\n",
       "</style>\n",
       "<table border=\"1\" class=\"dataframe\">\n",
       "  <thead>\n",
       "    <tr style=\"text-align: right;\">\n",
       "      <th></th>\n",
       "      <th>cntrb_id</th>\n",
       "      <th>normalized_pagerank_score</th>\n",
       "    </tr>\n",
       "  </thead>\n",
       "  <tbody>\n",
       "    <tr>\n",
       "      <th>0</th>\n",
       "      <td>010002df-6100-0000-0000-000000000000</td>\n",
       "      <td>20.000000</td>\n",
       "    </tr>\n",
       "    <tr>\n",
       "      <th>1</th>\n",
       "      <td>010000fd-e400-0000-0000-000000000000</td>\n",
       "      <td>19.052353</td>\n",
       "    </tr>\n",
       "    <tr>\n",
       "      <th>2</th>\n",
       "      <td>01002a5e-b400-0000-0000-000000000000</td>\n",
       "      <td>17.138503</td>\n",
       "    </tr>\n",
       "    <tr>\n",
       "      <th>3</th>\n",
       "      <td>0100034c-5400-0000-0000-000000000000</td>\n",
       "      <td>16.901099</td>\n",
       "    </tr>\n",
       "    <tr>\n",
       "      <th>4</th>\n",
       "      <td>01003291-1b00-0000-0000-000000000000</td>\n",
       "      <td>16.831682</td>\n",
       "    </tr>\n",
       "  </tbody>\n",
       "</table>\n",
       "</div>"
      ],
      "text/plain": [
       "                               cntrb_id  normalized_pagerank_score\n",
       "0  010002df-6100-0000-0000-000000000000                  20.000000\n",
       "1  010000fd-e400-0000-0000-000000000000                  19.052353\n",
       "2  01002a5e-b400-0000-0000-000000000000                  17.138503\n",
       "3  0100034c-5400-0000-0000-000000000000                  16.901099\n",
       "4  01003291-1b00-0000-0000-000000000000                  16.831682"
      ]
     },
     "execution_count": 53,
     "metadata": {},
     "output_type": "execute_result"
    }
   ],
   "source": [
    "df_known_contribs = pd.read_csv('contrib_pagerank_scores.csv')\n",
    "df_known_contribs = df_known_contribs.rename(columns={\"contrib_id\": \"cntrb_id\"})\n",
    "df_known_contribs.head()"
   ]
  },
  {
   "cell_type": "markdown",
   "metadata": {},
   "source": [
    "# Contribution event stream\n",
    "\n",
    "Github provides an API endpoint from which one can query every event that occurs. For instance, if a contributor creates an issue on some repo, that event will be logged in the stream.\n",
    "\n",
    "We want to use this stream to identify the set of repositories that our Known Contributors are also working in that weren't in the initial ecosystem kernel.\n",
    "\n",
    "The database that we use collects this event stream so we can query it from there rather than from Github. This is much faster than relying on the public Github API. In the Augur database, the table with this information is the 'contributor_repo' table."
   ]
  },
  {
   "cell_type": "code",
   "execution_count": 54,
   "metadata": {},
   "outputs": [],
   "source": [
    "event_stream_query = salc.sql.text(\n",
    "    f\"\"\"\n",
    "        SET SCHEMA 'augur_data';\n",
    "        SELECT \n",
    "            c.cntrb_id,\n",
    "            c.event_id,\n",
    "            c.created_at,\n",
    "            c.cntrb_repo_id as repo_id,\n",
    "            c.repo_git,\n",
    "            c.repo_name,\n",
    "            c.gh_repo_id,\n",
    "            c.cntrb_category as event_type\n",
    "        FROM\n",
    "        contributor_repo c\n",
    "    \"\"\")\n",
    "\n",
    "\n",
    "if not LOCAL_DATA:\n",
    "    with engine.connect() as conn:\n",
    "        df_event_stream = pd.read_sql_query(event_stream_query, conn)\n",
    "        \n",
    "    with open(\"df_event_stream.parquet\", \"wb+\") as f:\n",
    "        df_event_stream.cntrb_id = df_event_stream.cntrb_id.astype(str)\n",
    "        df_event_stream.to_parquet(f)\n",
    "else:\n",
    "    with open(\"df_event_stream.parquet\", \"rb+\") as f:\n",
    "        df_event_stream = pd.read_parquet(f)"
   ]
  },
  {
   "cell_type": "markdown",
   "metadata": {},
   "source": [
    "## Event stream data\n",
    "\n",
    "Below we see a summary of the data we have:\n",
    "\n",
    "- 3.5 million events,\n",
    "- earliest is 8/19/2022, most recent is 9/27/2023"
   ]
  },
  {
   "cell_type": "code",
   "execution_count": 55,
   "metadata": {},
   "outputs": [
    {
     "data": {
      "text/html": [
       "<div>\n",
       "<style scoped>\n",
       "    .dataframe tbody tr th:only-of-type {\n",
       "        vertical-align: middle;\n",
       "    }\n",
       "\n",
       "    .dataframe tbody tr th {\n",
       "        vertical-align: top;\n",
       "    }\n",
       "\n",
       "    .dataframe thead th {\n",
       "        text-align: right;\n",
       "    }\n",
       "</style>\n",
       "<table border=\"1\" class=\"dataframe\">\n",
       "  <thead>\n",
       "    <tr style=\"text-align: right;\">\n",
       "      <th></th>\n",
       "      <th>event_id</th>\n",
       "      <th>created_at</th>\n",
       "      <th>repo_id</th>\n",
       "      <th>gh_repo_id</th>\n",
       "    </tr>\n",
       "  </thead>\n",
       "  <tbody>\n",
       "    <tr>\n",
       "      <th>count</th>\n",
       "      <td>3.725197e+06</td>\n",
       "      <td>3725197</td>\n",
       "      <td>3.725197e+06</td>\n",
       "      <td>3.725197e+06</td>\n",
       "    </tr>\n",
       "    <tr>\n",
       "      <th>mean</th>\n",
       "      <td>3.083393e+10</td>\n",
       "      <td>2023-08-01 19:24:19.586107904</td>\n",
       "      <td>1.938252e+07</td>\n",
       "      <td>3.429606e+08</td>\n",
       "    </tr>\n",
       "    <tr>\n",
       "      <th>min</th>\n",
       "      <td>2.888731e+10</td>\n",
       "      <td>2022-02-07 19:37:07</td>\n",
       "      <td>1.000000e+00</td>\n",
       "      <td>1.000000e+00</td>\n",
       "    </tr>\n",
       "    <tr>\n",
       "      <th>25%</th>\n",
       "      <td>3.030225e+10</td>\n",
       "      <td>2023-07-10 06:47:02</td>\n",
       "      <td>9.343510e+05</td>\n",
       "      <td>1.150397e+08</td>\n",
       "    </tr>\n",
       "    <tr>\n",
       "      <th>50%</th>\n",
       "      <td>3.095659e+10</td>\n",
       "      <td>2023-08-07 21:55:36</td>\n",
       "      <td>1.959492e+06</td>\n",
       "      <td>3.342359e+08</td>\n",
       "    </tr>\n",
       "    <tr>\n",
       "      <th>75%</th>\n",
       "      <td>3.139628e+10</td>\n",
       "      <td>2023-08-27 00:29:31</td>\n",
       "      <td>4.872971e+07</td>\n",
       "      <td>5.851590e+08</td>\n",
       "    </tr>\n",
       "    <tr>\n",
       "      <th>max</th>\n",
       "      <td>3.215458e+10</td>\n",
       "      <td>2023-09-27 20:13:13</td>\n",
       "      <td>5.366886e+07</td>\n",
       "      <td>6.974606e+08</td>\n",
       "    </tr>\n",
       "    <tr>\n",
       "      <th>std</th>\n",
       "      <td>8.201160e+08</td>\n",
       "      <td>NaN</td>\n",
       "      <td>2.233892e+07</td>\n",
       "      <td>2.361204e+08</td>\n",
       "    </tr>\n",
       "  </tbody>\n",
       "</table>\n",
       "</div>"
      ],
      "text/plain": [
       "           event_id                     created_at       repo_id    gh_repo_id\n",
       "count  3.725197e+06                        3725197  3.725197e+06  3.725197e+06\n",
       "mean   3.083393e+10  2023-08-01 19:24:19.586107904  1.938252e+07  3.429606e+08\n",
       "min    2.888731e+10            2022-02-07 19:37:07  1.000000e+00  1.000000e+00\n",
       "25%    3.030225e+10            2023-07-10 06:47:02  9.343510e+05  1.150397e+08\n",
       "50%    3.095659e+10            2023-08-07 21:55:36  1.959492e+06  3.342359e+08\n",
       "75%    3.139628e+10            2023-08-27 00:29:31  4.872971e+07  5.851590e+08\n",
       "max    3.215458e+10            2023-09-27 20:13:13  5.366886e+07  6.974606e+08\n",
       "std    8.201160e+08                            NaN  2.233892e+07  2.361204e+08"
      ]
     },
     "execution_count": 55,
     "metadata": {},
     "output_type": "execute_result"
    }
   ],
   "source": [
    "#WHAT IS THE NATURE OF THE DATA?\n",
    "df_event_stream.describe()"
   ]
  },
  {
   "cell_type": "markdown",
   "metadata": {},
   "source": [
    "### Head of dataframe"
   ]
  },
  {
   "cell_type": "code",
   "execution_count": 56,
   "metadata": {},
   "outputs": [
    {
     "data": {
      "text/html": [
       "<div>\n",
       "<style scoped>\n",
       "    .dataframe tbody tr th:only-of-type {\n",
       "        vertical-align: middle;\n",
       "    }\n",
       "\n",
       "    .dataframe tbody tr th {\n",
       "        vertical-align: top;\n",
       "    }\n",
       "\n",
       "    .dataframe thead th {\n",
       "        text-align: right;\n",
       "    }\n",
       "</style>\n",
       "<table border=\"1\" class=\"dataframe\">\n",
       "  <thead>\n",
       "    <tr style=\"text-align: right;\">\n",
       "      <th></th>\n",
       "      <th>cntrb_id</th>\n",
       "      <th>event_id</th>\n",
       "      <th>created_at</th>\n",
       "      <th>repo_id</th>\n",
       "      <th>repo_git</th>\n",
       "      <th>repo_name</th>\n",
       "      <th>gh_repo_id</th>\n",
       "      <th>event_type</th>\n",
       "    </tr>\n",
       "  </thead>\n",
       "  <tbody>\n",
       "    <tr>\n",
       "      <th>0</th>\n",
       "      <td>01000ab1-4000-0000-0000-000000000000</td>\n",
       "      <td>31904121647</td>\n",
       "      <td>2023-09-18 09:49:57</td>\n",
       "      <td>48860218</td>\n",
       "      <td>https://api.github.com/repos/oxidecomputer/hubris</td>\n",
       "      <td>oxidecomputer/hubris</td>\n",
       "      <td>252314296</td>\n",
       "      <td>WatchEvent</td>\n",
       "    </tr>\n",
       "    <tr>\n",
       "      <th>1</th>\n",
       "      <td>01009668-df00-0000-0000-000000000000</td>\n",
       "      <td>31180979155</td>\n",
       "      <td>2023-08-17 10:35:15</td>\n",
       "      <td>34198358</td>\n",
       "      <td>https://api.github.com/repos/IAMSUPERMONKEY/fl...</td>\n",
       "      <td>IAMSUPERMONKEY/flutter_easyrefresh_v2_flutter3</td>\n",
       "      <td>500325907</td>\n",
       "      <td>WatchEvent</td>\n",
       "    </tr>\n",
       "    <tr>\n",
       "      <th>2</th>\n",
       "      <td>01004c0d-e400-0000-0000-000000000000</td>\n",
       "      <td>32146216302</td>\n",
       "      <td>2023-09-27 14:41:13</td>\n",
       "      <td>49521902</td>\n",
       "      <td>https://api.github.com/repos/WebAssembly/profiles</td>\n",
       "      <td>WebAssembly/profiles</td>\n",
       "      <td>413775155</td>\n",
       "      <td>IssueCommentEvent</td>\n",
       "    </tr>\n",
       "    <tr>\n",
       "      <th>3</th>\n",
       "      <td>01004c0d-e400-0000-0000-000000000000</td>\n",
       "      <td>32146168254</td>\n",
       "      <td>2023-09-27 14:39:44</td>\n",
       "      <td>49521903</td>\n",
       "      <td>https://api.github.com/repos/WebAssembly/relax...</td>\n",
       "      <td>WebAssembly/relaxed-simd</td>\n",
       "      <td>348477492</td>\n",
       "      <td>IssueCommentEvent</td>\n",
       "    </tr>\n",
       "    <tr>\n",
       "      <th>4</th>\n",
       "      <td>01009668-df00-0000-0000-000000000000</td>\n",
       "      <td>31180261079</td>\n",
       "      <td>2023-08-17 10:07:09</td>\n",
       "      <td>34198359</td>\n",
       "      <td>https://api.github.com/repos/Fitem/flutter_uti...</td>\n",
       "      <td>Fitem/flutter_util_code</td>\n",
       "      <td>647552683</td>\n",
       "      <td>WatchEvent</td>\n",
       "    </tr>\n",
       "  </tbody>\n",
       "</table>\n",
       "</div>"
      ],
      "text/plain": [
       "                               cntrb_id     event_id          created_at  \\\n",
       "0  01000ab1-4000-0000-0000-000000000000  31904121647 2023-09-18 09:49:57   \n",
       "1  01009668-df00-0000-0000-000000000000  31180979155 2023-08-17 10:35:15   \n",
       "2  01004c0d-e400-0000-0000-000000000000  32146216302 2023-09-27 14:41:13   \n",
       "3  01004c0d-e400-0000-0000-000000000000  32146168254 2023-09-27 14:39:44   \n",
       "4  01009668-df00-0000-0000-000000000000  31180261079 2023-08-17 10:07:09   \n",
       "\n",
       "    repo_id                                           repo_git  \\\n",
       "0  48860218  https://api.github.com/repos/oxidecomputer/hubris   \n",
       "1  34198358  https://api.github.com/repos/IAMSUPERMONKEY/fl...   \n",
       "2  49521902  https://api.github.com/repos/WebAssembly/profiles   \n",
       "3  49521903  https://api.github.com/repos/WebAssembly/relax...   \n",
       "4  34198359  https://api.github.com/repos/Fitem/flutter_uti...   \n",
       "\n",
       "                                        repo_name  gh_repo_id  \\\n",
       "0                            oxidecomputer/hubris   252314296   \n",
       "1  IAMSUPERMONKEY/flutter_easyrefresh_v2_flutter3   500325907   \n",
       "2                            WebAssembly/profiles   413775155   \n",
       "3                        WebAssembly/relaxed-simd   348477492   \n",
       "4                         Fitem/flutter_util_code   647552683   \n",
       "\n",
       "          event_type  \n",
       "0         WatchEvent  \n",
       "1         WatchEvent  \n",
       "2  IssueCommentEvent  \n",
       "3  IssueCommentEvent  \n",
       "4         WatchEvent  "
      ]
     },
     "execution_count": 56,
     "metadata": {},
     "output_type": "execute_result"
    }
   ],
   "source": [
    "df_event_stream.head()"
   ]
  },
  {
   "cell_type": "markdown",
   "metadata": {},
   "source": [
    "### Most common types of events"
   ]
  },
  {
   "cell_type": "code",
   "execution_count": 57,
   "metadata": {},
   "outputs": [
    {
     "data": {
      "text/plain": [
       "event_type\n",
       "PushEvent                        1336715\n",
       "IssueCommentEvent                 518100\n",
       "PullRequestEvent                  372087\n",
       "PullRequestReviewEvent            326435\n",
       "CreateEvent                       285811\n",
       "PullRequestReviewCommentEvent     250293\n",
       "WatchEvent                        218398\n",
       "DeleteEvent                       172076\n",
       "IssuesEvent                       161604\n",
       "ForkEvent                          37986\n",
       "ReleaseEvent                       19684\n",
       "CommitCommentEvent                 12083\n",
       "GollumEvent                         6629\n",
       "MemberEvent                         4106\n",
       "PublicEvent                         3190\n",
       "Name: count, dtype: int64"
      ]
     },
     "execution_count": 57,
     "metadata": {},
     "output_type": "execute_result"
    }
   ],
   "source": [
    "event_counts = df_event_stream.event_type.value_counts()\n",
    "event_counts"
   ]
  },
  {
   "cell_type": "code",
   "execution_count": 58,
   "metadata": {},
   "outputs": [
    {
     "data": {
      "application/vnd.plotly.v1+json": {
       "config": {
        "plotlyServerURL": "https://plot.ly"
       },
       "data": [
        {
         "alignmentgroup": "True",
         "hovertemplate": "event_type=%{x}<br>value=%{y}<extra></extra>",
         "legendgroup": "PushEvent",
         "marker": {
          "color": "#636efa",
          "pattern": {
           "shape": ""
          }
         },
         "name": "PushEvent",
         "offsetgroup": "PushEvent",
         "orientation": "v",
         "showlegend": true,
         "textposition": "auto",
         "type": "bar",
         "x": [
          "PushEvent"
         ],
         "xaxis": "x",
         "y": [
          1336715
         ],
         "yaxis": "y"
        },
        {
         "alignmentgroup": "True",
         "hovertemplate": "event_type=%{x}<br>value=%{y}<extra></extra>",
         "legendgroup": "IssueCommentEvent",
         "marker": {
          "color": "#EF553B",
          "pattern": {
           "shape": ""
          }
         },
         "name": "IssueCommentEvent",
         "offsetgroup": "IssueCommentEvent",
         "orientation": "v",
         "showlegend": true,
         "textposition": "auto",
         "type": "bar",
         "x": [
          "IssueCommentEvent"
         ],
         "xaxis": "x",
         "y": [
          518100
         ],
         "yaxis": "y"
        },
        {
         "alignmentgroup": "True",
         "hovertemplate": "event_type=%{x}<br>value=%{y}<extra></extra>",
         "legendgroup": "PullRequestEvent",
         "marker": {
          "color": "#00cc96",
          "pattern": {
           "shape": ""
          }
         },
         "name": "PullRequestEvent",
         "offsetgroup": "PullRequestEvent",
         "orientation": "v",
         "showlegend": true,
         "textposition": "auto",
         "type": "bar",
         "x": [
          "PullRequestEvent"
         ],
         "xaxis": "x",
         "y": [
          372087
         ],
         "yaxis": "y"
        },
        {
         "alignmentgroup": "True",
         "hovertemplate": "event_type=%{x}<br>value=%{y}<extra></extra>",
         "legendgroup": "PullRequestReviewEvent",
         "marker": {
          "color": "#ab63fa",
          "pattern": {
           "shape": ""
          }
         },
         "name": "PullRequestReviewEvent",
         "offsetgroup": "PullRequestReviewEvent",
         "orientation": "v",
         "showlegend": true,
         "textposition": "auto",
         "type": "bar",
         "x": [
          "PullRequestReviewEvent"
         ],
         "xaxis": "x",
         "y": [
          326435
         ],
         "yaxis": "y"
        },
        {
         "alignmentgroup": "True",
         "hovertemplate": "event_type=%{x}<br>value=%{y}<extra></extra>",
         "legendgroup": "CreateEvent",
         "marker": {
          "color": "#FFA15A",
          "pattern": {
           "shape": ""
          }
         },
         "name": "CreateEvent",
         "offsetgroup": "CreateEvent",
         "orientation": "v",
         "showlegend": true,
         "textposition": "auto",
         "type": "bar",
         "x": [
          "CreateEvent"
         ],
         "xaxis": "x",
         "y": [
          285811
         ],
         "yaxis": "y"
        },
        {
         "alignmentgroup": "True",
         "hovertemplate": "event_type=%{x}<br>value=%{y}<extra></extra>",
         "legendgroup": "PullRequestReviewCommentEvent",
         "marker": {
          "color": "#19d3f3",
          "pattern": {
           "shape": ""
          }
         },
         "name": "PullRequestReviewCommentEvent",
         "offsetgroup": "PullRequestReviewCommentEvent",
         "orientation": "v",
         "showlegend": true,
         "textposition": "auto",
         "type": "bar",
         "x": [
          "PullRequestReviewCommentEvent"
         ],
         "xaxis": "x",
         "y": [
          250293
         ],
         "yaxis": "y"
        },
        {
         "alignmentgroup": "True",
         "hovertemplate": "event_type=%{x}<br>value=%{y}<extra></extra>",
         "legendgroup": "WatchEvent",
         "marker": {
          "color": "#FF6692",
          "pattern": {
           "shape": ""
          }
         },
         "name": "WatchEvent",
         "offsetgroup": "WatchEvent",
         "orientation": "v",
         "showlegend": true,
         "textposition": "auto",
         "type": "bar",
         "x": [
          "WatchEvent"
         ],
         "xaxis": "x",
         "y": [
          218398
         ],
         "yaxis": "y"
        },
        {
         "alignmentgroup": "True",
         "hovertemplate": "event_type=%{x}<br>value=%{y}<extra></extra>",
         "legendgroup": "DeleteEvent",
         "marker": {
          "color": "#B6E880",
          "pattern": {
           "shape": ""
          }
         },
         "name": "DeleteEvent",
         "offsetgroup": "DeleteEvent",
         "orientation": "v",
         "showlegend": true,
         "textposition": "auto",
         "type": "bar",
         "x": [
          "DeleteEvent"
         ],
         "xaxis": "x",
         "y": [
          172076
         ],
         "yaxis": "y"
        },
        {
         "alignmentgroup": "True",
         "hovertemplate": "event_type=%{x}<br>value=%{y}<extra></extra>",
         "legendgroup": "IssuesEvent",
         "marker": {
          "color": "#FF97FF",
          "pattern": {
           "shape": ""
          }
         },
         "name": "IssuesEvent",
         "offsetgroup": "IssuesEvent",
         "orientation": "v",
         "showlegend": true,
         "textposition": "auto",
         "type": "bar",
         "x": [
          "IssuesEvent"
         ],
         "xaxis": "x",
         "y": [
          161604
         ],
         "yaxis": "y"
        },
        {
         "alignmentgroup": "True",
         "hovertemplate": "event_type=%{x}<br>value=%{y}<extra></extra>",
         "legendgroup": "ForkEvent",
         "marker": {
          "color": "#FECB52",
          "pattern": {
           "shape": ""
          }
         },
         "name": "ForkEvent",
         "offsetgroup": "ForkEvent",
         "orientation": "v",
         "showlegend": true,
         "textposition": "auto",
         "type": "bar",
         "x": [
          "ForkEvent"
         ],
         "xaxis": "x",
         "y": [
          37986
         ],
         "yaxis": "y"
        },
        {
         "alignmentgroup": "True",
         "hovertemplate": "event_type=%{x}<br>value=%{y}<extra></extra>",
         "legendgroup": "ReleaseEvent",
         "marker": {
          "color": "#636efa",
          "pattern": {
           "shape": ""
          }
         },
         "name": "ReleaseEvent",
         "offsetgroup": "ReleaseEvent",
         "orientation": "v",
         "showlegend": true,
         "textposition": "auto",
         "type": "bar",
         "x": [
          "ReleaseEvent"
         ],
         "xaxis": "x",
         "y": [
          19684
         ],
         "yaxis": "y"
        },
        {
         "alignmentgroup": "True",
         "hovertemplate": "event_type=%{x}<br>value=%{y}<extra></extra>",
         "legendgroup": "CommitCommentEvent",
         "marker": {
          "color": "#EF553B",
          "pattern": {
           "shape": ""
          }
         },
         "name": "CommitCommentEvent",
         "offsetgroup": "CommitCommentEvent",
         "orientation": "v",
         "showlegend": true,
         "textposition": "auto",
         "type": "bar",
         "x": [
          "CommitCommentEvent"
         ],
         "xaxis": "x",
         "y": [
          12083
         ],
         "yaxis": "y"
        },
        {
         "alignmentgroup": "True",
         "hovertemplate": "event_type=%{x}<br>value=%{y}<extra></extra>",
         "legendgroup": "GollumEvent",
         "marker": {
          "color": "#00cc96",
          "pattern": {
           "shape": ""
          }
         },
         "name": "GollumEvent",
         "offsetgroup": "GollumEvent",
         "orientation": "v",
         "showlegend": true,
         "textposition": "auto",
         "type": "bar",
         "x": [
          "GollumEvent"
         ],
         "xaxis": "x",
         "y": [
          6629
         ],
         "yaxis": "y"
        },
        {
         "alignmentgroup": "True",
         "hovertemplate": "event_type=%{x}<br>value=%{y}<extra></extra>",
         "legendgroup": "MemberEvent",
         "marker": {
          "color": "#ab63fa",
          "pattern": {
           "shape": ""
          }
         },
         "name": "MemberEvent",
         "offsetgroup": "MemberEvent",
         "orientation": "v",
         "showlegend": true,
         "textposition": "auto",
         "type": "bar",
         "x": [
          "MemberEvent"
         ],
         "xaxis": "x",
         "y": [
          4106
         ],
         "yaxis": "y"
        },
        {
         "alignmentgroup": "True",
         "hovertemplate": "event_type=%{x}<br>value=%{y}<extra></extra>",
         "legendgroup": "PublicEvent",
         "marker": {
          "color": "#FFA15A",
          "pattern": {
           "shape": ""
          }
         },
         "name": "PublicEvent",
         "offsetgroup": "PublicEvent",
         "orientation": "v",
         "showlegend": true,
         "textposition": "auto",
         "type": "bar",
         "x": [
          "PublicEvent"
         ],
         "xaxis": "x",
         "y": [
          3190
         ],
         "yaxis": "y"
        }
       ],
       "layout": {
        "barmode": "relative",
        "legend": {
         "title": {
          "text": "event_type"
         },
         "tracegroupgap": 0
        },
        "margin": {
         "t": 60
        },
        "template": {
         "data": {
          "bar": [
           {
            "error_x": {
             "color": "#2a3f5f"
            },
            "error_y": {
             "color": "#2a3f5f"
            },
            "marker": {
             "line": {
              "color": "#E5ECF6",
              "width": 0.5
             },
             "pattern": {
              "fillmode": "overlay",
              "size": 10,
              "solidity": 0.2
             }
            },
            "type": "bar"
           }
          ],
          "barpolar": [
           {
            "marker": {
             "line": {
              "color": "#E5ECF6",
              "width": 0.5
             },
             "pattern": {
              "fillmode": "overlay",
              "size": 10,
              "solidity": 0.2
             }
            },
            "type": "barpolar"
           }
          ],
          "carpet": [
           {
            "aaxis": {
             "endlinecolor": "#2a3f5f",
             "gridcolor": "white",
             "linecolor": "white",
             "minorgridcolor": "white",
             "startlinecolor": "#2a3f5f"
            },
            "baxis": {
             "endlinecolor": "#2a3f5f",
             "gridcolor": "white",
             "linecolor": "white",
             "minorgridcolor": "white",
             "startlinecolor": "#2a3f5f"
            },
            "type": "carpet"
           }
          ],
          "choropleth": [
           {
            "colorbar": {
             "outlinewidth": 0,
             "ticks": ""
            },
            "type": "choropleth"
           }
          ],
          "contour": [
           {
            "colorbar": {
             "outlinewidth": 0,
             "ticks": ""
            },
            "colorscale": [
             [
              0,
              "#0d0887"
             ],
             [
              0.1111111111111111,
              "#46039f"
             ],
             [
              0.2222222222222222,
              "#7201a8"
             ],
             [
              0.3333333333333333,
              "#9c179e"
             ],
             [
              0.4444444444444444,
              "#bd3786"
             ],
             [
              0.5555555555555556,
              "#d8576b"
             ],
             [
              0.6666666666666666,
              "#ed7953"
             ],
             [
              0.7777777777777778,
              "#fb9f3a"
             ],
             [
              0.8888888888888888,
              "#fdca26"
             ],
             [
              1,
              "#f0f921"
             ]
            ],
            "type": "contour"
           }
          ],
          "contourcarpet": [
           {
            "colorbar": {
             "outlinewidth": 0,
             "ticks": ""
            },
            "type": "contourcarpet"
           }
          ],
          "heatmap": [
           {
            "colorbar": {
             "outlinewidth": 0,
             "ticks": ""
            },
            "colorscale": [
             [
              0,
              "#0d0887"
             ],
             [
              0.1111111111111111,
              "#46039f"
             ],
             [
              0.2222222222222222,
              "#7201a8"
             ],
             [
              0.3333333333333333,
              "#9c179e"
             ],
             [
              0.4444444444444444,
              "#bd3786"
             ],
             [
              0.5555555555555556,
              "#d8576b"
             ],
             [
              0.6666666666666666,
              "#ed7953"
             ],
             [
              0.7777777777777778,
              "#fb9f3a"
             ],
             [
              0.8888888888888888,
              "#fdca26"
             ],
             [
              1,
              "#f0f921"
             ]
            ],
            "type": "heatmap"
           }
          ],
          "heatmapgl": [
           {
            "colorbar": {
             "outlinewidth": 0,
             "ticks": ""
            },
            "colorscale": [
             [
              0,
              "#0d0887"
             ],
             [
              0.1111111111111111,
              "#46039f"
             ],
             [
              0.2222222222222222,
              "#7201a8"
             ],
             [
              0.3333333333333333,
              "#9c179e"
             ],
             [
              0.4444444444444444,
              "#bd3786"
             ],
             [
              0.5555555555555556,
              "#d8576b"
             ],
             [
              0.6666666666666666,
              "#ed7953"
             ],
             [
              0.7777777777777778,
              "#fb9f3a"
             ],
             [
              0.8888888888888888,
              "#fdca26"
             ],
             [
              1,
              "#f0f921"
             ]
            ],
            "type": "heatmapgl"
           }
          ],
          "histogram": [
           {
            "marker": {
             "pattern": {
              "fillmode": "overlay",
              "size": 10,
              "solidity": 0.2
             }
            },
            "type": "histogram"
           }
          ],
          "histogram2d": [
           {
            "colorbar": {
             "outlinewidth": 0,
             "ticks": ""
            },
            "colorscale": [
             [
              0,
              "#0d0887"
             ],
             [
              0.1111111111111111,
              "#46039f"
             ],
             [
              0.2222222222222222,
              "#7201a8"
             ],
             [
              0.3333333333333333,
              "#9c179e"
             ],
             [
              0.4444444444444444,
              "#bd3786"
             ],
             [
              0.5555555555555556,
              "#d8576b"
             ],
             [
              0.6666666666666666,
              "#ed7953"
             ],
             [
              0.7777777777777778,
              "#fb9f3a"
             ],
             [
              0.8888888888888888,
              "#fdca26"
             ],
             [
              1,
              "#f0f921"
             ]
            ],
            "type": "histogram2d"
           }
          ],
          "histogram2dcontour": [
           {
            "colorbar": {
             "outlinewidth": 0,
             "ticks": ""
            },
            "colorscale": [
             [
              0,
              "#0d0887"
             ],
             [
              0.1111111111111111,
              "#46039f"
             ],
             [
              0.2222222222222222,
              "#7201a8"
             ],
             [
              0.3333333333333333,
              "#9c179e"
             ],
             [
              0.4444444444444444,
              "#bd3786"
             ],
             [
              0.5555555555555556,
              "#d8576b"
             ],
             [
              0.6666666666666666,
              "#ed7953"
             ],
             [
              0.7777777777777778,
              "#fb9f3a"
             ],
             [
              0.8888888888888888,
              "#fdca26"
             ],
             [
              1,
              "#f0f921"
             ]
            ],
            "type": "histogram2dcontour"
           }
          ],
          "mesh3d": [
           {
            "colorbar": {
             "outlinewidth": 0,
             "ticks": ""
            },
            "type": "mesh3d"
           }
          ],
          "parcoords": [
           {
            "line": {
             "colorbar": {
              "outlinewidth": 0,
              "ticks": ""
             }
            },
            "type": "parcoords"
           }
          ],
          "pie": [
           {
            "automargin": true,
            "type": "pie"
           }
          ],
          "scatter": [
           {
            "fillpattern": {
             "fillmode": "overlay",
             "size": 10,
             "solidity": 0.2
            },
            "type": "scatter"
           }
          ],
          "scatter3d": [
           {
            "line": {
             "colorbar": {
              "outlinewidth": 0,
              "ticks": ""
             }
            },
            "marker": {
             "colorbar": {
              "outlinewidth": 0,
              "ticks": ""
             }
            },
            "type": "scatter3d"
           }
          ],
          "scattercarpet": [
           {
            "marker": {
             "colorbar": {
              "outlinewidth": 0,
              "ticks": ""
             }
            },
            "type": "scattercarpet"
           }
          ],
          "scattergeo": [
           {
            "marker": {
             "colorbar": {
              "outlinewidth": 0,
              "ticks": ""
             }
            },
            "type": "scattergeo"
           }
          ],
          "scattergl": [
           {
            "marker": {
             "colorbar": {
              "outlinewidth": 0,
              "ticks": ""
             }
            },
            "type": "scattergl"
           }
          ],
          "scattermapbox": [
           {
            "marker": {
             "colorbar": {
              "outlinewidth": 0,
              "ticks": ""
             }
            },
            "type": "scattermapbox"
           }
          ],
          "scatterpolar": [
           {
            "marker": {
             "colorbar": {
              "outlinewidth": 0,
              "ticks": ""
             }
            },
            "type": "scatterpolar"
           }
          ],
          "scatterpolargl": [
           {
            "marker": {
             "colorbar": {
              "outlinewidth": 0,
              "ticks": ""
             }
            },
            "type": "scatterpolargl"
           }
          ],
          "scatterternary": [
           {
            "marker": {
             "colorbar": {
              "outlinewidth": 0,
              "ticks": ""
             }
            },
            "type": "scatterternary"
           }
          ],
          "surface": [
           {
            "colorbar": {
             "outlinewidth": 0,
             "ticks": ""
            },
            "colorscale": [
             [
              0,
              "#0d0887"
             ],
             [
              0.1111111111111111,
              "#46039f"
             ],
             [
              0.2222222222222222,
              "#7201a8"
             ],
             [
              0.3333333333333333,
              "#9c179e"
             ],
             [
              0.4444444444444444,
              "#bd3786"
             ],
             [
              0.5555555555555556,
              "#d8576b"
             ],
             [
              0.6666666666666666,
              "#ed7953"
             ],
             [
              0.7777777777777778,
              "#fb9f3a"
             ],
             [
              0.8888888888888888,
              "#fdca26"
             ],
             [
              1,
              "#f0f921"
             ]
            ],
            "type": "surface"
           }
          ],
          "table": [
           {
            "cells": {
             "fill": {
              "color": "#EBF0F8"
             },
             "line": {
              "color": "white"
             }
            },
            "header": {
             "fill": {
              "color": "#C8D4E3"
             },
             "line": {
              "color": "white"
             }
            },
            "type": "table"
           }
          ]
         },
         "layout": {
          "annotationdefaults": {
           "arrowcolor": "#2a3f5f",
           "arrowhead": 0,
           "arrowwidth": 1
          },
          "autotypenumbers": "strict",
          "coloraxis": {
           "colorbar": {
            "outlinewidth": 0,
            "ticks": ""
           }
          },
          "colorscale": {
           "diverging": [
            [
             0,
             "#8e0152"
            ],
            [
             0.1,
             "#c51b7d"
            ],
            [
             0.2,
             "#de77ae"
            ],
            [
             0.3,
             "#f1b6da"
            ],
            [
             0.4,
             "#fde0ef"
            ],
            [
             0.5,
             "#f7f7f7"
            ],
            [
             0.6,
             "#e6f5d0"
            ],
            [
             0.7,
             "#b8e186"
            ],
            [
             0.8,
             "#7fbc41"
            ],
            [
             0.9,
             "#4d9221"
            ],
            [
             1,
             "#276419"
            ]
           ],
           "sequential": [
            [
             0,
             "#0d0887"
            ],
            [
             0.1111111111111111,
             "#46039f"
            ],
            [
             0.2222222222222222,
             "#7201a8"
            ],
            [
             0.3333333333333333,
             "#9c179e"
            ],
            [
             0.4444444444444444,
             "#bd3786"
            ],
            [
             0.5555555555555556,
             "#d8576b"
            ],
            [
             0.6666666666666666,
             "#ed7953"
            ],
            [
             0.7777777777777778,
             "#fb9f3a"
            ],
            [
             0.8888888888888888,
             "#fdca26"
            ],
            [
             1,
             "#f0f921"
            ]
           ],
           "sequentialminus": [
            [
             0,
             "#0d0887"
            ],
            [
             0.1111111111111111,
             "#46039f"
            ],
            [
             0.2222222222222222,
             "#7201a8"
            ],
            [
             0.3333333333333333,
             "#9c179e"
            ],
            [
             0.4444444444444444,
             "#bd3786"
            ],
            [
             0.5555555555555556,
             "#d8576b"
            ],
            [
             0.6666666666666666,
             "#ed7953"
            ],
            [
             0.7777777777777778,
             "#fb9f3a"
            ],
            [
             0.8888888888888888,
             "#fdca26"
            ],
            [
             1,
             "#f0f921"
            ]
           ]
          },
          "colorway": [
           "#636efa",
           "#EF553B",
           "#00cc96",
           "#ab63fa",
           "#FFA15A",
           "#19d3f3",
           "#FF6692",
           "#B6E880",
           "#FF97FF",
           "#FECB52"
          ],
          "font": {
           "color": "#2a3f5f"
          },
          "geo": {
           "bgcolor": "white",
           "lakecolor": "white",
           "landcolor": "#E5ECF6",
           "showlakes": true,
           "showland": true,
           "subunitcolor": "white"
          },
          "hoverlabel": {
           "align": "left"
          },
          "hovermode": "closest",
          "mapbox": {
           "style": "light"
          },
          "paper_bgcolor": "white",
          "plot_bgcolor": "#E5ECF6",
          "polar": {
           "angularaxis": {
            "gridcolor": "white",
            "linecolor": "white",
            "ticks": ""
           },
           "bgcolor": "#E5ECF6",
           "radialaxis": {
            "gridcolor": "white",
            "linecolor": "white",
            "ticks": ""
           }
          },
          "scene": {
           "xaxis": {
            "backgroundcolor": "#E5ECF6",
            "gridcolor": "white",
            "gridwidth": 2,
            "linecolor": "white",
            "showbackground": true,
            "ticks": "",
            "zerolinecolor": "white"
           },
           "yaxis": {
            "backgroundcolor": "#E5ECF6",
            "gridcolor": "white",
            "gridwidth": 2,
            "linecolor": "white",
            "showbackground": true,
            "ticks": "",
            "zerolinecolor": "white"
           },
           "zaxis": {
            "backgroundcolor": "#E5ECF6",
            "gridcolor": "white",
            "gridwidth": 2,
            "linecolor": "white",
            "showbackground": true,
            "ticks": "",
            "zerolinecolor": "white"
           }
          },
          "shapedefaults": {
           "line": {
            "color": "#2a3f5f"
           }
          },
          "ternary": {
           "aaxis": {
            "gridcolor": "white",
            "linecolor": "white",
            "ticks": ""
           },
           "baxis": {
            "gridcolor": "white",
            "linecolor": "white",
            "ticks": ""
           },
           "bgcolor": "#E5ECF6",
           "caxis": {
            "gridcolor": "white",
            "linecolor": "white",
            "ticks": ""
           }
          },
          "title": {
           "x": 0.05
          },
          "xaxis": {
           "automargin": true,
           "gridcolor": "white",
           "linecolor": "white",
           "ticks": "",
           "title": {
            "standoff": 15
           },
           "zerolinecolor": "white",
           "zerolinewidth": 2
          },
          "yaxis": {
           "automargin": true,
           "gridcolor": "white",
           "linecolor": "white",
           "ticks": "",
           "title": {
            "standoff": 15
           },
           "zerolinecolor": "white",
           "zerolinewidth": 2
          }
         }
        },
        "xaxis": {
         "anchor": "y",
         "categoryarray": [
          "PushEvent",
          "IssueCommentEvent",
          "PullRequestEvent",
          "PullRequestReviewEvent",
          "CreateEvent",
          "PullRequestReviewCommentEvent",
          "WatchEvent",
          "DeleteEvent",
          "IssuesEvent",
          "ForkEvent",
          "ReleaseEvent",
          "CommitCommentEvent",
          "GollumEvent",
          "MemberEvent",
          "PublicEvent"
         ],
         "categoryorder": "array",
         "domain": [
          0,
          1
         ],
         "title": {
          "text": "event_type"
         }
        },
        "yaxis": {
         "anchor": "x",
         "domain": [
          0,
          1
         ],
         "title": {
          "text": "value"
         }
        }
       }
      }
     },
     "metadata": {},
     "output_type": "display_data"
    }
   ],
   "source": [
    "fig_ec = px.bar(\n",
    "    data_frame=event_counts.to_frame(),\n",
    "    color=event_counts.to_frame().index,\n",
    ")\n",
    "fig_ec"
   ]
  },
  {
   "cell_type": "markdown",
   "metadata": {},
   "source": [
    "### Repositories with the most events "
   ]
  },
  {
   "cell_type": "code",
   "execution_count": 59,
   "metadata": {},
   "outputs": [
    {
     "data": {
      "text/plain": [
       "repo_git\n",
       "https://api.github.com/repos/llvm/llvm-project                                                               42759\n",
       "https://api.github.com/repos/pytorch/pytorch                                                                 12366\n",
       "https://api.github.com/repos/rust-lang/rust                                                                  12228\n",
       "https://api.github.com/repos/dotnet/runtime                                                                  11978\n",
       "https://api.github.com/repos/intel/llvm                                                                      10008\n",
       "                                                                                                             ...  \n",
       "https://api.github.com/repos/graue/esofiles                                                                      1\n",
       "https://api.github.com/repos/OvermindDL1/gt6-new-workspace                                                       1\n",
       "https://api.github.com/repos/expln/metamath-lamp                                                                 1\n",
       "https://api.github.com/repos/TeXitoi/structopt                                                                   1\n",
       "https://api.github.com/repos/ShiyuNee/Awesome-Conversation-Clarifying-Questions-for-Information-Retrieval        1\n",
       "Name: count, Length: 286025, dtype: int64"
      ]
     },
     "execution_count": 59,
     "metadata": {},
     "output_type": "execute_result"
    }
   ],
   "source": [
    "repo_event_counts = df_event_stream.repo_git.value_counts()\n",
    "repo_event_counts"
   ]
  },
  {
   "cell_type": "code",
   "execution_count": 60,
   "metadata": {},
   "outputs": [
    {
     "data": {
      "application/vnd.plotly.v1+json": {
       "config": {
        "plotlyServerURL": "https://plot.ly"
       },
       "data": [
        {
         "alignmentgroup": "True",
         "hovertemplate": "repo_git=%{x}<br>value=%{y}<extra></extra>",
         "legendgroup": "https://api.github.com/repos/llvm/llvm-project",
         "marker": {
          "color": "#636efa",
          "pattern": {
           "shape": ""
          }
         },
         "name": "https://api.github.com/repos/llvm/llvm-project",
         "offsetgroup": "https://api.github.com/repos/llvm/llvm-project",
         "orientation": "v",
         "showlegend": true,
         "textposition": "auto",
         "type": "bar",
         "x": [
          "https://api.github.com/repos/llvm/llvm-project"
         ],
         "xaxis": "x",
         "y": [
          42759
         ],
         "yaxis": "y"
        },
        {
         "alignmentgroup": "True",
         "hovertemplate": "repo_git=%{x}<br>value=%{y}<extra></extra>",
         "legendgroup": "https://api.github.com/repos/pytorch/pytorch",
         "marker": {
          "color": "#EF553B",
          "pattern": {
           "shape": ""
          }
         },
         "name": "https://api.github.com/repos/pytorch/pytorch",
         "offsetgroup": "https://api.github.com/repos/pytorch/pytorch",
         "orientation": "v",
         "showlegend": true,
         "textposition": "auto",
         "type": "bar",
         "x": [
          "https://api.github.com/repos/pytorch/pytorch"
         ],
         "xaxis": "x",
         "y": [
          12366
         ],
         "yaxis": "y"
        },
        {
         "alignmentgroup": "True",
         "hovertemplate": "repo_git=%{x}<br>value=%{y}<extra></extra>",
         "legendgroup": "https://api.github.com/repos/rust-lang/rust",
         "marker": {
          "color": "#00cc96",
          "pattern": {
           "shape": ""
          }
         },
         "name": "https://api.github.com/repos/rust-lang/rust",
         "offsetgroup": "https://api.github.com/repos/rust-lang/rust",
         "orientation": "v",
         "showlegend": true,
         "textposition": "auto",
         "type": "bar",
         "x": [
          "https://api.github.com/repos/rust-lang/rust"
         ],
         "xaxis": "x",
         "y": [
          12228
         ],
         "yaxis": "y"
        },
        {
         "alignmentgroup": "True",
         "hovertemplate": "repo_git=%{x}<br>value=%{y}<extra></extra>",
         "legendgroup": "https://api.github.com/repos/dotnet/runtime",
         "marker": {
          "color": "#ab63fa",
          "pattern": {
           "shape": ""
          }
         },
         "name": "https://api.github.com/repos/dotnet/runtime",
         "offsetgroup": "https://api.github.com/repos/dotnet/runtime",
         "orientation": "v",
         "showlegend": true,
         "textposition": "auto",
         "type": "bar",
         "x": [
          "https://api.github.com/repos/dotnet/runtime"
         ],
         "xaxis": "x",
         "y": [
          11978
         ],
         "yaxis": "y"
        },
        {
         "alignmentgroup": "True",
         "hovertemplate": "repo_git=%{x}<br>value=%{y}<extra></extra>",
         "legendgroup": "https://api.github.com/repos/intel/llvm",
         "marker": {
          "color": "#FFA15A",
          "pattern": {
           "shape": ""
          }
         },
         "name": "https://api.github.com/repos/intel/llvm",
         "offsetgroup": "https://api.github.com/repos/intel/llvm",
         "orientation": "v",
         "showlegend": true,
         "textposition": "auto",
         "type": "bar",
         "x": [
          "https://api.github.com/repos/intel/llvm"
         ],
         "xaxis": "x",
         "y": [
          10008
         ],
         "yaxis": "y"
        },
        {
         "alignmentgroup": "True",
         "hovertemplate": "repo_git=%{x}<br>value=%{y}<extra></extra>",
         "legendgroup": "https://api.github.com/repos/apple/swift",
         "marker": {
          "color": "#19d3f3",
          "pattern": {
           "shape": ""
          }
         },
         "name": "https://api.github.com/repos/apple/swift",
         "offsetgroup": "https://api.github.com/repos/apple/swift",
         "orientation": "v",
         "showlegend": true,
         "textposition": "auto",
         "type": "bar",
         "x": [
          "https://api.github.com/repos/apple/swift"
         ],
         "xaxis": "x",
         "y": [
          9570
         ],
         "yaxis": "y"
        },
        {
         "alignmentgroup": "True",
         "hovertemplate": "repo_git=%{x}<br>value=%{y}<extra></extra>",
         "legendgroup": "https://api.github.com/repos/JetBrains/MPS",
         "marker": {
          "color": "#FF6692",
          "pattern": {
           "shape": ""
          }
         },
         "name": "https://api.github.com/repos/JetBrains/MPS",
         "offsetgroup": "https://api.github.com/repos/JetBrains/MPS",
         "orientation": "v",
         "showlegend": true,
         "textposition": "auto",
         "type": "bar",
         "x": [
          "https://api.github.com/repos/JetBrains/MPS"
         ],
         "xaxis": "x",
         "y": [
          8447
         ],
         "yaxis": "y"
        },
        {
         "alignmentgroup": "True",
         "hovertemplate": "repo_git=%{x}<br>value=%{y}<extra></extra>",
         "legendgroup": "https://api.github.com/repos/NixOS/nixpkgs",
         "marker": {
          "color": "#B6E880",
          "pattern": {
           "shape": ""
          }
         },
         "name": "https://api.github.com/repos/NixOS/nixpkgs",
         "offsetgroup": "https://api.github.com/repos/NixOS/nixpkgs",
         "orientation": "v",
         "showlegend": true,
         "textposition": "auto",
         "type": "bar",
         "x": [
          "https://api.github.com/repos/NixOS/nixpkgs"
         ],
         "xaxis": "x",
         "y": [
          8153
         ],
         "yaxis": "y"
        },
        {
         "alignmentgroup": "True",
         "hovertemplate": "repo_git=%{x}<br>value=%{y}<extra></extra>",
         "legendgroup": "https://api.github.com/repos/openxla/iree",
         "marker": {
          "color": "#FF97FF",
          "pattern": {
           "shape": ""
          }
         },
         "name": "https://api.github.com/repos/openxla/iree",
         "offsetgroup": "https://api.github.com/repos/openxla/iree",
         "orientation": "v",
         "showlegend": true,
         "textposition": "auto",
         "type": "bar",
         "x": [
          "https://api.github.com/repos/openxla/iree"
         ],
         "xaxis": "x",
         "y": [
          7863
         ],
         "yaxis": "y"
        },
        {
         "alignmentgroup": "True",
         "hovertemplate": "repo_git=%{x}<br>value=%{y}<extra></extra>",
         "legendgroup": "https://api.github.com/repos/GoogleChrome/developer.chrome.com",
         "marker": {
          "color": "#FECB52",
          "pattern": {
           "shape": ""
          }
         },
         "name": "https://api.github.com/repos/GoogleChrome/developer.chrome.com",
         "offsetgroup": "https://api.github.com/repos/GoogleChrome/developer.chrome.com",
         "orientation": "v",
         "showlegend": true,
         "textposition": "auto",
         "type": "bar",
         "x": [
          "https://api.github.com/repos/GoogleChrome/developer.chrome.com"
         ],
         "xaxis": "x",
         "y": [
          7641
         ],
         "yaxis": "y"
        },
        {
         "alignmentgroup": "True",
         "hovertemplate": "repo_git=%{x}<br>value=%{y}<extra></extra>",
         "legendgroup": "https://api.github.com/repos/llvm/circt",
         "marker": {
          "color": "#636efa",
          "pattern": {
           "shape": ""
          }
         },
         "name": "https://api.github.com/repos/llvm/circt",
         "offsetgroup": "https://api.github.com/repos/llvm/circt",
         "orientation": "v",
         "showlegend": true,
         "textposition": "auto",
         "type": "bar",
         "x": [
          "https://api.github.com/repos/llvm/circt"
         ],
         "xaxis": "x",
         "y": [
          6458
         ],
         "yaxis": "y"
        },
        {
         "alignmentgroup": "True",
         "hovertemplate": "repo_git=%{x}<br>value=%{y}<extra></extra>",
         "legendgroup": "https://api.github.com/repos/ClickHouse/ClickHouse",
         "marker": {
          "color": "#EF553B",
          "pattern": {
           "shape": ""
          }
         },
         "name": "https://api.github.com/repos/ClickHouse/ClickHouse",
         "offsetgroup": "https://api.github.com/repos/ClickHouse/ClickHouse",
         "orientation": "v",
         "showlegend": true,
         "textposition": "auto",
         "type": "bar",
         "x": [
          "https://api.github.com/repos/ClickHouse/ClickHouse"
         ],
         "xaxis": "x",
         "y": [
          6434
         ],
         "yaxis": "y"
        },
        {
         "alignmentgroup": "True",
         "hovertemplate": "repo_git=%{x}<br>value=%{y}<extra></extra>",
         "legendgroup": "https://api.github.com/repos/apple/llvm-project",
         "marker": {
          "color": "#00cc96",
          "pattern": {
           "shape": ""
          }
         },
         "name": "https://api.github.com/repos/apple/llvm-project",
         "offsetgroup": "https://api.github.com/repos/apple/llvm-project",
         "orientation": "v",
         "showlegend": true,
         "textposition": "auto",
         "type": "bar",
         "x": [
          "https://api.github.com/repos/apple/llvm-project"
         ],
         "xaxis": "x",
         "y": [
          6216
         ],
         "yaxis": "y"
        },
        {
         "alignmentgroup": "True",
         "hovertemplate": "repo_git=%{x}<br>value=%{y}<extra></extra>",
         "legendgroup": "https://api.github.com/repos/AvaloniaUI/Avalonia",
         "marker": {
          "color": "#ab63fa",
          "pattern": {
           "shape": ""
          }
         },
         "name": "https://api.github.com/repos/AvaloniaUI/Avalonia",
         "offsetgroup": "https://api.github.com/repos/AvaloniaUI/Avalonia",
         "orientation": "v",
         "showlegend": true,
         "textposition": "auto",
         "type": "bar",
         "x": [
          "https://api.github.com/repos/AvaloniaUI/Avalonia"
         ],
         "xaxis": "x",
         "y": [
          6160
         ],
         "yaxis": "y"
        },
        {
         "alignmentgroup": "True",
         "hovertemplate": "repo_git=%{x}<br>value=%{y}<extra></extra>",
         "legendgroup": "https://api.github.com/repos/unoplatform/uno",
         "marker": {
          "color": "#FFA15A",
          "pattern": {
           "shape": ""
          }
         },
         "name": "https://api.github.com/repos/unoplatform/uno",
         "offsetgroup": "https://api.github.com/repos/unoplatform/uno",
         "orientation": "v",
         "showlegend": true,
         "textposition": "auto",
         "type": "bar",
         "x": [
          "https://api.github.com/repos/unoplatform/uno"
         ],
         "xaxis": "x",
         "y": [
          6056
         ],
         "yaxis": "y"
        },
        {
         "alignmentgroup": "True",
         "hovertemplate": "repo_git=%{x}<br>value=%{y}<extra></extra>",
         "legendgroup": "https://api.github.com/repos/milahu/opensubtitles-scraper-new-subs",
         "marker": {
          "color": "#19d3f3",
          "pattern": {
           "shape": ""
          }
         },
         "name": "https://api.github.com/repos/milahu/opensubtitles-scraper-new-subs",
         "offsetgroup": "https://api.github.com/repos/milahu/opensubtitles-scraper-new-subs",
         "orientation": "v",
         "showlegend": true,
         "textposition": "auto",
         "type": "bar",
         "x": [
          "https://api.github.com/repos/milahu/opensubtitles-scraper-new-subs"
         ],
         "xaxis": "x",
         "y": [
          5782
         ],
         "yaxis": "y"
        },
        {
         "alignmentgroup": "True",
         "hovertemplate": "repo_git=%{x}<br>value=%{y}<extra></extra>",
         "legendgroup": "https://api.github.com/repos/apache/tvm",
         "marker": {
          "color": "#FF6692",
          "pattern": {
           "shape": ""
          }
         },
         "name": "https://api.github.com/repos/apache/tvm",
         "offsetgroup": "https://api.github.com/repos/apache/tvm",
         "orientation": "v",
         "showlegend": true,
         "textposition": "auto",
         "type": "bar",
         "x": [
          "https://api.github.com/repos/apache/tvm"
         ],
         "xaxis": "x",
         "y": [
          5600
         ],
         "yaxis": "y"
        },
        {
         "alignmentgroup": "True",
         "hovertemplate": "repo_git=%{x}<br>value=%{y}<extra></extra>",
         "legendgroup": "https://api.github.com/repos/rust-lang/crates.io-index",
         "marker": {
          "color": "#B6E880",
          "pattern": {
           "shape": ""
          }
         },
         "name": "https://api.github.com/repos/rust-lang/crates.io-index",
         "offsetgroup": "https://api.github.com/repos/rust-lang/crates.io-index",
         "orientation": "v",
         "showlegend": true,
         "textposition": "auto",
         "type": "bar",
         "x": [
          "https://api.github.com/repos/rust-lang/crates.io-index"
         ],
         "xaxis": "x",
         "y": [
          4995
         ],
         "yaxis": "y"
        },
        {
         "alignmentgroup": "True",
         "hovertemplate": "repo_git=%{x}<br>value=%{y}<extra></extra>",
         "legendgroup": "https://api.github.com/repos/nodejs/node",
         "marker": {
          "color": "#FF97FF",
          "pattern": {
           "shape": ""
          }
         },
         "name": "https://api.github.com/repos/nodejs/node",
         "offsetgroup": "https://api.github.com/repos/nodejs/node",
         "orientation": "v",
         "showlegend": true,
         "textposition": "auto",
         "type": "bar",
         "x": [
          "https://api.github.com/repos/nodejs/node"
         ],
         "xaxis": "x",
         "y": [
          4946
         ],
         "yaxis": "y"
        },
        {
         "alignmentgroup": "True",
         "hovertemplate": "repo_git=%{x}<br>value=%{y}<extra></extra>",
         "legendgroup": "https://api.github.com/repos/llvm-premerge-tests/llvm-project",
         "marker": {
          "color": "#FECB52",
          "pattern": {
           "shape": ""
          }
         },
         "name": "https://api.github.com/repos/llvm-premerge-tests/llvm-project",
         "offsetgroup": "https://api.github.com/repos/llvm-premerge-tests/llvm-project",
         "orientation": "v",
         "showlegend": true,
         "textposition": "auto",
         "type": "bar",
         "x": [
          "https://api.github.com/repos/llvm-premerge-tests/llvm-project"
         ],
         "xaxis": "x",
         "y": [
          4574
         ],
         "yaxis": "y"
        },
        {
         "alignmentgroup": "True",
         "hovertemplate": "repo_git=%{x}<br>value=%{y}<extra></extra>",
         "legendgroup": "https://api.github.com/repos/astral-sh/ruff",
         "marker": {
          "color": "#636efa",
          "pattern": {
           "shape": ""
          }
         },
         "name": "https://api.github.com/repos/astral-sh/ruff",
         "offsetgroup": "https://api.github.com/repos/astral-sh/ruff",
         "orientation": "v",
         "showlegend": true,
         "textposition": "auto",
         "type": "bar",
         "x": [
          "https://api.github.com/repos/astral-sh/ruff"
         ],
         "xaxis": "x",
         "y": [
          4546
         ],
         "yaxis": "y"
        },
        {
         "alignmentgroup": "True",
         "hovertemplate": "repo_git=%{x}<br>value=%{y}<extra></extra>",
         "legendgroup": "https://api.github.com/repos/emscripten-core/emscripten",
         "marker": {
          "color": "#EF553B",
          "pattern": {
           "shape": ""
          }
         },
         "name": "https://api.github.com/repos/emscripten-core/emscripten",
         "offsetgroup": "https://api.github.com/repos/emscripten-core/emscripten",
         "orientation": "v",
         "showlegend": true,
         "textposition": "auto",
         "type": "bar",
         "x": [
          "https://api.github.com/repos/emscripten-core/emscripten"
         ],
         "xaxis": "x",
         "y": [
          4478
         ],
         "yaxis": "y"
        },
        {
         "alignmentgroup": "True",
         "hovertemplate": "repo_git=%{x}<br>value=%{y}<extra></extra>",
         "legendgroup": "https://api.github.com/repos/microsoft/vscode",
         "marker": {
          "color": "#00cc96",
          "pattern": {
           "shape": ""
          }
         },
         "name": "https://api.github.com/repos/microsoft/vscode",
         "offsetgroup": "https://api.github.com/repos/microsoft/vscode",
         "orientation": "v",
         "showlegend": true,
         "textposition": "auto",
         "type": "bar",
         "x": [
          "https://api.github.com/repos/microsoft/vscode"
         ],
         "xaxis": "x",
         "y": [
          4433
         ],
         "yaxis": "y"
        },
        {
         "alignmentgroup": "True",
         "hovertemplate": "repo_git=%{x}<br>value=%{y}<extra></extra>",
         "legendgroup": "https://api.github.com/repos/microsoft/onnxruntime",
         "marker": {
          "color": "#ab63fa",
          "pattern": {
           "shape": ""
          }
         },
         "name": "https://api.github.com/repos/microsoft/onnxruntime",
         "offsetgroup": "https://api.github.com/repos/microsoft/onnxruntime",
         "orientation": "v",
         "showlegend": true,
         "textposition": "auto",
         "type": "bar",
         "x": [
          "https://api.github.com/repos/microsoft/onnxruntime"
         ],
         "xaxis": "x",
         "y": [
          4136
         ],
         "yaxis": "y"
        },
        {
         "alignmentgroup": "True",
         "hovertemplate": "repo_git=%{x}<br>value=%{y}<extra></extra>",
         "legendgroup": "https://api.github.com/repos/zkSNACKs/WalletWasabi",
         "marker": {
          "color": "#FFA15A",
          "pattern": {
           "shape": ""
          }
         },
         "name": "https://api.github.com/repos/zkSNACKs/WalletWasabi",
         "offsetgroup": "https://api.github.com/repos/zkSNACKs/WalletWasabi",
         "orientation": "v",
         "showlegend": true,
         "textposition": "auto",
         "type": "bar",
         "x": [
          "https://api.github.com/repos/zkSNACKs/WalletWasabi"
         ],
         "xaxis": "x",
         "y": [
          3991
         ],
         "yaxis": "y"
        },
        {
         "alignmentgroup": "True",
         "hovertemplate": "repo_git=%{x}<br>value=%{y}<extra></extra>",
         "legendgroup": "https://api.github.com/repos/paritytech/substrate",
         "marker": {
          "color": "#19d3f3",
          "pattern": {
           "shape": ""
          }
         },
         "name": "https://api.github.com/repos/paritytech/substrate",
         "offsetgroup": "https://api.github.com/repos/paritytech/substrate",
         "orientation": "v",
         "showlegend": true,
         "textposition": "auto",
         "type": "bar",
         "x": [
          "https://api.github.com/repos/paritytech/substrate"
         ],
         "xaxis": "x",
         "y": [
          3888
         ],
         "yaxis": "y"
        },
        {
         "alignmentgroup": "True",
         "hovertemplate": "repo_git=%{x}<br>value=%{y}<extra></extra>",
         "legendgroup": "https://api.github.com/repos/golang/go",
         "marker": {
          "color": "#FF6692",
          "pattern": {
           "shape": ""
          }
         },
         "name": "https://api.github.com/repos/golang/go",
         "offsetgroup": "https://api.github.com/repos/golang/go",
         "orientation": "v",
         "showlegend": true,
         "textposition": "auto",
         "type": "bar",
         "x": [
          "https://api.github.com/repos/golang/go"
         ],
         "xaxis": "x",
         "y": [
          3810
         ],
         "yaxis": "y"
        },
        {
         "alignmentgroup": "True",
         "hovertemplate": "repo_git=%{x}<br>value=%{y}<extra></extra>",
         "legendgroup": "https://api.github.com/repos/JuliaLang/julia",
         "marker": {
          "color": "#B6E880",
          "pattern": {
           "shape": ""
          }
         },
         "name": "https://api.github.com/repos/JuliaLang/julia",
         "offsetgroup": "https://api.github.com/repos/JuliaLang/julia",
         "orientation": "v",
         "showlegend": true,
         "textposition": "auto",
         "type": "bar",
         "x": [
          "https://api.github.com/repos/JuliaLang/julia"
         ],
         "xaxis": "x",
         "y": [
          3806
         ],
         "yaxis": "y"
        },
        {
         "alignmentgroup": "True",
         "hovertemplate": "repo_git=%{x}<br>value=%{y}<extra></extra>",
         "legendgroup": "https://api.github.com/repos/gear-tech/gear",
         "marker": {
          "color": "#FF97FF",
          "pattern": {
           "shape": ""
          }
         },
         "name": "https://api.github.com/repos/gear-tech/gear",
         "offsetgroup": "https://api.github.com/repos/gear-tech/gear",
         "orientation": "v",
         "showlegend": true,
         "textposition": "auto",
         "type": "bar",
         "x": [
          "https://api.github.com/repos/gear-tech/gear"
         ],
         "xaxis": "x",
         "y": [
          3705
         ],
         "yaxis": "y"
        },
        {
         "alignmentgroup": "True",
         "hovertemplate": "repo_git=%{x}<br>value=%{y}<extra></extra>",
         "legendgroup": "https://api.github.com/repos/paritytech/polkadot-sdk",
         "marker": {
          "color": "#FECB52",
          "pattern": {
           "shape": ""
          }
         },
         "name": "https://api.github.com/repos/paritytech/polkadot-sdk",
         "offsetgroup": "https://api.github.com/repos/paritytech/polkadot-sdk",
         "orientation": "v",
         "showlegend": true,
         "textposition": "auto",
         "type": "bar",
         "x": [
          "https://api.github.com/repos/paritytech/polkadot-sdk"
         ],
         "xaxis": "x",
         "y": [
          3630
         ],
         "yaxis": "y"
        },
        {
         "alignmentgroup": "True",
         "hovertemplate": "repo_git=%{x}<br>value=%{y}<extra></extra>",
         "legendgroup": "https://api.github.com/repos/microsoft/winget-pkgs",
         "marker": {
          "color": "#636efa",
          "pattern": {
           "shape": ""
          }
         },
         "name": "https://api.github.com/repos/microsoft/winget-pkgs",
         "offsetgroup": "https://api.github.com/repos/microsoft/winget-pkgs",
         "orientation": "v",
         "showlegend": true,
         "textposition": "auto",
         "type": "bar",
         "x": [
          "https://api.github.com/repos/microsoft/winget-pkgs"
         ],
         "xaxis": "x",
         "y": [
          3531
         ],
         "yaxis": "y"
        },
        {
         "alignmentgroup": "True",
         "hovertemplate": "repo_git=%{x}<br>value=%{y}<extra></extra>",
         "legendgroup": "https://api.github.com/repos/python/cpython",
         "marker": {
          "color": "#EF553B",
          "pattern": {
           "shape": ""
          }
         },
         "name": "https://api.github.com/repos/python/cpython",
         "offsetgroup": "https://api.github.com/repos/python/cpython",
         "orientation": "v",
         "showlegend": true,
         "textposition": "auto",
         "type": "bar",
         "x": [
          "https://api.github.com/repos/python/cpython"
         ],
         "xaxis": "x",
         "y": [
          3419
         ],
         "yaxis": "y"
        },
        {
         "alignmentgroup": "True",
         "hovertemplate": "repo_git=%{x}<br>value=%{y}<extra></extra>",
         "legendgroup": "https://api.github.com/repos/tensorflow/tensorflow",
         "marker": {
          "color": "#00cc96",
          "pattern": {
           "shape": ""
          }
         },
         "name": "https://api.github.com/repos/tensorflow/tensorflow",
         "offsetgroup": "https://api.github.com/repos/tensorflow/tensorflow",
         "orientation": "v",
         "showlegend": true,
         "textposition": "auto",
         "type": "bar",
         "x": [
          "https://api.github.com/repos/tensorflow/tensorflow"
         ],
         "xaxis": "x",
         "y": [
          3381
         ],
         "yaxis": "y"
        },
        {
         "alignmentgroup": "True",
         "hovertemplate": "repo_git=%{x}<br>value=%{y}<extra></extra>",
         "legendgroup": "https://api.github.com/repos/ziglang/zig",
         "marker": {
          "color": "#ab63fa",
          "pattern": {
           "shape": ""
          }
         },
         "name": "https://api.github.com/repos/ziglang/zig",
         "offsetgroup": "https://api.github.com/repos/ziglang/zig",
         "orientation": "v",
         "showlegend": true,
         "textposition": "auto",
         "type": "bar",
         "x": [
          "https://api.github.com/repos/ziglang/zig"
         ],
         "xaxis": "x",
         "y": [
          3248
         ],
         "yaxis": "y"
        },
        {
         "alignmentgroup": "True",
         "hovertemplate": "repo_git=%{x}<br>value=%{y}<extra></extra>",
         "legendgroup": "https://api.github.com/repos/flutter/flutter",
         "marker": {
          "color": "#FFA15A",
          "pattern": {
           "shape": ""
          }
         },
         "name": "https://api.github.com/repos/flutter/flutter",
         "offsetgroup": "https://api.github.com/repos/flutter/flutter",
         "orientation": "v",
         "showlegend": true,
         "textposition": "auto",
         "type": "bar",
         "x": [
          "https://api.github.com/repos/flutter/flutter"
         ],
         "xaxis": "x",
         "y": [
          3191
         ],
         "yaxis": "y"
        },
        {
         "alignmentgroup": "True",
         "hovertemplate": "repo_git=%{x}<br>value=%{y}<extra></extra>",
         "legendgroup": "https://api.github.com/repos/godotengine/godot",
         "marker": {
          "color": "#19d3f3",
          "pattern": {
           "shape": ""
          }
         },
         "name": "https://api.github.com/repos/godotengine/godot",
         "offsetgroup": "https://api.github.com/repos/godotengine/godot",
         "orientation": "v",
         "showlegend": true,
         "textposition": "auto",
         "type": "bar",
         "x": [
          "https://api.github.com/repos/godotengine/godot"
         ],
         "xaxis": "x",
         "y": [
          3180
         ],
         "yaxis": "y"
        },
        {
         "alignmentgroup": "True",
         "hovertemplate": "repo_git=%{x}<br>value=%{y}<extra></extra>",
         "legendgroup": "https://api.github.com/repos/leanprover-community/mathlib4",
         "marker": {
          "color": "#FF6692",
          "pattern": {
           "shape": ""
          }
         },
         "name": "https://api.github.com/repos/leanprover-community/mathlib4",
         "offsetgroup": "https://api.github.com/repos/leanprover-community/mathlib4",
         "orientation": "v",
         "showlegend": true,
         "textposition": "auto",
         "type": "bar",
         "x": [
          "https://api.github.com/repos/leanprover-community/mathlib4"
         ],
         "xaxis": "x",
         "y": [
          3168
         ],
         "yaxis": "y"
        },
        {
         "alignmentgroup": "True",
         "hovertemplate": "repo_git=%{x}<br>value=%{y}<extra></extra>",
         "legendgroup": "https://api.github.com/repos/Homebrew/homebrew-core",
         "marker": {
          "color": "#B6E880",
          "pattern": {
           "shape": ""
          }
         },
         "name": "https://api.github.com/repos/Homebrew/homebrew-core",
         "offsetgroup": "https://api.github.com/repos/Homebrew/homebrew-core",
         "orientation": "v",
         "showlegend": true,
         "textposition": "auto",
         "type": "bar",
         "x": [
          "https://api.github.com/repos/Homebrew/homebrew-core"
         ],
         "xaxis": "x",
         "y": [
          3165
         ],
         "yaxis": "y"
        },
        {
         "alignmentgroup": "True",
         "hovertemplate": "repo_git=%{x}<br>value=%{y}<extra></extra>",
         "legendgroup": "https://api.github.com/repos/ethereum/go-ethereum",
         "marker": {
          "color": "#FF97FF",
          "pattern": {
           "shape": ""
          }
         },
         "name": "https://api.github.com/repos/ethereum/go-ethereum",
         "offsetgroup": "https://api.github.com/repos/ethereum/go-ethereum",
         "orientation": "v",
         "showlegend": true,
         "textposition": "auto",
         "type": "bar",
         "x": [
          "https://api.github.com/repos/ethereum/go-ethereum"
         ],
         "xaxis": "x",
         "y": [
          3134
         ],
         "yaxis": "y"
        },
        {
         "alignmentgroup": "True",
         "hovertemplate": "repo_git=%{x}<br>value=%{y}<extra></extra>",
         "legendgroup": "https://api.github.com/repos/bytecodealliance/wasmtime",
         "marker": {
          "color": "#FECB52",
          "pattern": {
           "shape": ""
          }
         },
         "name": "https://api.github.com/repos/bytecodealliance/wasmtime",
         "offsetgroup": "https://api.github.com/repos/bytecodealliance/wasmtime",
         "orientation": "v",
         "showlegend": true,
         "textposition": "auto",
         "type": "bar",
         "x": [
          "https://api.github.com/repos/bytecodealliance/wasmtime"
         ],
         "xaxis": "x",
         "y": [
          3097
         ],
         "yaxis": "y"
        },
        {
         "alignmentgroup": "True",
         "hovertemplate": "repo_git=%{x}<br>value=%{y}<extra></extra>",
         "legendgroup": "https://api.github.com/repos/ethereum-optimism/optimism",
         "marker": {
          "color": "#636efa",
          "pattern": {
           "shape": ""
          }
         },
         "name": "https://api.github.com/repos/ethereum-optimism/optimism",
         "offsetgroup": "https://api.github.com/repos/ethereum-optimism/optimism",
         "orientation": "v",
         "showlegend": true,
         "textposition": "auto",
         "type": "bar",
         "x": [
          "https://api.github.com/repos/ethereum-optimism/optimism"
         ],
         "xaxis": "x",
         "y": [
          3069
         ],
         "yaxis": "y"
        },
        {
         "alignmentgroup": "True",
         "hovertemplate": "repo_git=%{x}<br>value=%{y}<extra></extra>",
         "legendgroup": "https://api.github.com/repos/web-platform-tests/wpt",
         "marker": {
          "color": "#EF553B",
          "pattern": {
           "shape": ""
          }
         },
         "name": "https://api.github.com/repos/web-platform-tests/wpt",
         "offsetgroup": "https://api.github.com/repos/web-platform-tests/wpt",
         "orientation": "v",
         "showlegend": true,
         "textposition": "auto",
         "type": "bar",
         "x": [
          "https://api.github.com/repos/web-platform-tests/wpt"
         ],
         "xaxis": "x",
         "y": [
          2947
         ],
         "yaxis": "y"
        },
        {
         "alignmentgroup": "True",
         "hovertemplate": "repo_git=%{x}<br>value=%{y}<extra></extra>",
         "legendgroup": "https://api.github.com/repos/scylladb/scylladb",
         "marker": {
          "color": "#00cc96",
          "pattern": {
           "shape": ""
          }
         },
         "name": "https://api.github.com/repos/scylladb/scylladb",
         "offsetgroup": "https://api.github.com/repos/scylladb/scylladb",
         "orientation": "v",
         "showlegend": true,
         "textposition": "auto",
         "type": "bar",
         "x": [
          "https://api.github.com/repos/scylladb/scylladb"
         ],
         "xaxis": "x",
         "y": [
          2937
         ],
         "yaxis": "y"
        },
        {
         "alignmentgroup": "True",
         "hovertemplate": "repo_git=%{x}<br>value=%{y}<extra></extra>",
         "legendgroup": "https://api.github.com/repos/redpanda-data/redpanda",
         "marker": {
          "color": "#ab63fa",
          "pattern": {
           "shape": ""
          }
         },
         "name": "https://api.github.com/repos/redpanda-data/redpanda",
         "offsetgroup": "https://api.github.com/repos/redpanda-data/redpanda",
         "orientation": "v",
         "showlegend": true,
         "textposition": "auto",
         "type": "bar",
         "x": [
          "https://api.github.com/repos/redpanda-data/redpanda"
         ],
         "xaxis": "x",
         "y": [
          2928
         ],
         "yaxis": "y"
        },
        {
         "alignmentgroup": "True",
         "hovertemplate": "repo_git=%{x}<br>value=%{y}<extra></extra>",
         "legendgroup": "https://api.github.com/repos/noir-lang/noir",
         "marker": {
          "color": "#FFA15A",
          "pattern": {
           "shape": ""
          }
         },
         "name": "https://api.github.com/repos/noir-lang/noir",
         "offsetgroup": "https://api.github.com/repos/noir-lang/noir",
         "orientation": "v",
         "showlegend": true,
         "textposition": "auto",
         "type": "bar",
         "x": [
          "https://api.github.com/repos/noir-lang/noir"
         ],
         "xaxis": "x",
         "y": [
          2786
         ],
         "yaxis": "y"
        },
        {
         "alignmentgroup": "True",
         "hovertemplate": "repo_git=%{x}<br>value=%{y}<extra></extra>",
         "legendgroup": "https://api.github.com/repos/WasmEdge/WasmEdge",
         "marker": {
          "color": "#19d3f3",
          "pattern": {
           "shape": ""
          }
         },
         "name": "https://api.github.com/repos/WasmEdge/WasmEdge",
         "offsetgroup": "https://api.github.com/repos/WasmEdge/WasmEdge",
         "orientation": "v",
         "showlegend": true,
         "textposition": "auto",
         "type": "bar",
         "x": [
          "https://api.github.com/repos/WasmEdge/WasmEdge"
         ],
         "xaxis": "x",
         "y": [
          2763
         ],
         "yaxis": "y"
        },
        {
         "alignmentgroup": "True",
         "hovertemplate": "repo_git=%{x}<br>value=%{y}<extra></extra>",
         "legendgroup": "https://api.github.com/repos/cloudflare/workerd",
         "marker": {
          "color": "#FF6692",
          "pattern": {
           "shape": ""
          }
         },
         "name": "https://api.github.com/repos/cloudflare/workerd",
         "offsetgroup": "https://api.github.com/repos/cloudflare/workerd",
         "orientation": "v",
         "showlegend": true,
         "textposition": "auto",
         "type": "bar",
         "x": [
          "https://api.github.com/repos/cloudflare/workerd"
         ],
         "xaxis": "x",
         "y": [
          2689
         ],
         "yaxis": "y"
        },
        {
         "alignmentgroup": "True",
         "hovertemplate": "repo_git=%{x}<br>value=%{y}<extra></extra>",
         "legendgroup": "https://api.github.com/repos/chromium/chromium",
         "marker": {
          "color": "#B6E880",
          "pattern": {
           "shape": ""
          }
         },
         "name": "https://api.github.com/repos/chromium/chromium",
         "offsetgroup": "https://api.github.com/repos/chromium/chromium",
         "orientation": "v",
         "showlegend": true,
         "textposition": "auto",
         "type": "bar",
         "x": [
          "https://api.github.com/repos/chromium/chromium"
         ],
         "xaxis": "x",
         "y": [
          2578
         ],
         "yaxis": "y"
        },
        {
         "alignmentgroup": "True",
         "hovertemplate": "repo_git=%{x}<br>value=%{y}<extra></extra>",
         "legendgroup": "https://api.github.com/repos/zephyrproject-rtos/zephyr",
         "marker": {
          "color": "#FF97FF",
          "pattern": {
           "shape": ""
          }
         },
         "name": "https://api.github.com/repos/zephyrproject-rtos/zephyr",
         "offsetgroup": "https://api.github.com/repos/zephyrproject-rtos/zephyr",
         "orientation": "v",
         "showlegend": true,
         "textposition": "auto",
         "type": "bar",
         "x": [
          "https://api.github.com/repos/zephyrproject-rtos/zephyr"
         ],
         "xaxis": "x",
         "y": [
          2558
         ],
         "yaxis": "y"
        },
        {
         "alignmentgroup": "True",
         "hovertemplate": "repo_git=%{x}<br>value=%{y}<extra></extra>",
         "legendgroup": "https://api.github.com/repos/paritytech/polkadot",
         "marker": {
          "color": "#FECB52",
          "pattern": {
           "shape": ""
          }
         },
         "name": "https://api.github.com/repos/paritytech/polkadot",
         "offsetgroup": "https://api.github.com/repos/paritytech/polkadot",
         "orientation": "v",
         "showlegend": true,
         "textposition": "auto",
         "type": "bar",
         "x": [
          "https://api.github.com/repos/paritytech/polkadot"
         ],
         "xaxis": "x",
         "y": [
          2551
         ],
         "yaxis": "y"
        }
       ],
       "layout": {
        "barmode": "relative",
        "legend": {
         "title": {
          "text": "repo_git"
         },
         "tracegroupgap": 0
        },
        "margin": {
         "t": 60
        },
        "template": {
         "data": {
          "bar": [
           {
            "error_x": {
             "color": "#2a3f5f"
            },
            "error_y": {
             "color": "#2a3f5f"
            },
            "marker": {
             "line": {
              "color": "#E5ECF6",
              "width": 0.5
             },
             "pattern": {
              "fillmode": "overlay",
              "size": 10,
              "solidity": 0.2
             }
            },
            "type": "bar"
           }
          ],
          "barpolar": [
           {
            "marker": {
             "line": {
              "color": "#E5ECF6",
              "width": 0.5
             },
             "pattern": {
              "fillmode": "overlay",
              "size": 10,
              "solidity": 0.2
             }
            },
            "type": "barpolar"
           }
          ],
          "carpet": [
           {
            "aaxis": {
             "endlinecolor": "#2a3f5f",
             "gridcolor": "white",
             "linecolor": "white",
             "minorgridcolor": "white",
             "startlinecolor": "#2a3f5f"
            },
            "baxis": {
             "endlinecolor": "#2a3f5f",
             "gridcolor": "white",
             "linecolor": "white",
             "minorgridcolor": "white",
             "startlinecolor": "#2a3f5f"
            },
            "type": "carpet"
           }
          ],
          "choropleth": [
           {
            "colorbar": {
             "outlinewidth": 0,
             "ticks": ""
            },
            "type": "choropleth"
           }
          ],
          "contour": [
           {
            "colorbar": {
             "outlinewidth": 0,
             "ticks": ""
            },
            "colorscale": [
             [
              0,
              "#0d0887"
             ],
             [
              0.1111111111111111,
              "#46039f"
             ],
             [
              0.2222222222222222,
              "#7201a8"
             ],
             [
              0.3333333333333333,
              "#9c179e"
             ],
             [
              0.4444444444444444,
              "#bd3786"
             ],
             [
              0.5555555555555556,
              "#d8576b"
             ],
             [
              0.6666666666666666,
              "#ed7953"
             ],
             [
              0.7777777777777778,
              "#fb9f3a"
             ],
             [
              0.8888888888888888,
              "#fdca26"
             ],
             [
              1,
              "#f0f921"
             ]
            ],
            "type": "contour"
           }
          ],
          "contourcarpet": [
           {
            "colorbar": {
             "outlinewidth": 0,
             "ticks": ""
            },
            "type": "contourcarpet"
           }
          ],
          "heatmap": [
           {
            "colorbar": {
             "outlinewidth": 0,
             "ticks": ""
            },
            "colorscale": [
             [
              0,
              "#0d0887"
             ],
             [
              0.1111111111111111,
              "#46039f"
             ],
             [
              0.2222222222222222,
              "#7201a8"
             ],
             [
              0.3333333333333333,
              "#9c179e"
             ],
             [
              0.4444444444444444,
              "#bd3786"
             ],
             [
              0.5555555555555556,
              "#d8576b"
             ],
             [
              0.6666666666666666,
              "#ed7953"
             ],
             [
              0.7777777777777778,
              "#fb9f3a"
             ],
             [
              0.8888888888888888,
              "#fdca26"
             ],
             [
              1,
              "#f0f921"
             ]
            ],
            "type": "heatmap"
           }
          ],
          "heatmapgl": [
           {
            "colorbar": {
             "outlinewidth": 0,
             "ticks": ""
            },
            "colorscale": [
             [
              0,
              "#0d0887"
             ],
             [
              0.1111111111111111,
              "#46039f"
             ],
             [
              0.2222222222222222,
              "#7201a8"
             ],
             [
              0.3333333333333333,
              "#9c179e"
             ],
             [
              0.4444444444444444,
              "#bd3786"
             ],
             [
              0.5555555555555556,
              "#d8576b"
             ],
             [
              0.6666666666666666,
              "#ed7953"
             ],
             [
              0.7777777777777778,
              "#fb9f3a"
             ],
             [
              0.8888888888888888,
              "#fdca26"
             ],
             [
              1,
              "#f0f921"
             ]
            ],
            "type": "heatmapgl"
           }
          ],
          "histogram": [
           {
            "marker": {
             "pattern": {
              "fillmode": "overlay",
              "size": 10,
              "solidity": 0.2
             }
            },
            "type": "histogram"
           }
          ],
          "histogram2d": [
           {
            "colorbar": {
             "outlinewidth": 0,
             "ticks": ""
            },
            "colorscale": [
             [
              0,
              "#0d0887"
             ],
             [
              0.1111111111111111,
              "#46039f"
             ],
             [
              0.2222222222222222,
              "#7201a8"
             ],
             [
              0.3333333333333333,
              "#9c179e"
             ],
             [
              0.4444444444444444,
              "#bd3786"
             ],
             [
              0.5555555555555556,
              "#d8576b"
             ],
             [
              0.6666666666666666,
              "#ed7953"
             ],
             [
              0.7777777777777778,
              "#fb9f3a"
             ],
             [
              0.8888888888888888,
              "#fdca26"
             ],
             [
              1,
              "#f0f921"
             ]
            ],
            "type": "histogram2d"
           }
          ],
          "histogram2dcontour": [
           {
            "colorbar": {
             "outlinewidth": 0,
             "ticks": ""
            },
            "colorscale": [
             [
              0,
              "#0d0887"
             ],
             [
              0.1111111111111111,
              "#46039f"
             ],
             [
              0.2222222222222222,
              "#7201a8"
             ],
             [
              0.3333333333333333,
              "#9c179e"
             ],
             [
              0.4444444444444444,
              "#bd3786"
             ],
             [
              0.5555555555555556,
              "#d8576b"
             ],
             [
              0.6666666666666666,
              "#ed7953"
             ],
             [
              0.7777777777777778,
              "#fb9f3a"
             ],
             [
              0.8888888888888888,
              "#fdca26"
             ],
             [
              1,
              "#f0f921"
             ]
            ],
            "type": "histogram2dcontour"
           }
          ],
          "mesh3d": [
           {
            "colorbar": {
             "outlinewidth": 0,
             "ticks": ""
            },
            "type": "mesh3d"
           }
          ],
          "parcoords": [
           {
            "line": {
             "colorbar": {
              "outlinewidth": 0,
              "ticks": ""
             }
            },
            "type": "parcoords"
           }
          ],
          "pie": [
           {
            "automargin": true,
            "type": "pie"
           }
          ],
          "scatter": [
           {
            "fillpattern": {
             "fillmode": "overlay",
             "size": 10,
             "solidity": 0.2
            },
            "type": "scatter"
           }
          ],
          "scatter3d": [
           {
            "line": {
             "colorbar": {
              "outlinewidth": 0,
              "ticks": ""
             }
            },
            "marker": {
             "colorbar": {
              "outlinewidth": 0,
              "ticks": ""
             }
            },
            "type": "scatter3d"
           }
          ],
          "scattercarpet": [
           {
            "marker": {
             "colorbar": {
              "outlinewidth": 0,
              "ticks": ""
             }
            },
            "type": "scattercarpet"
           }
          ],
          "scattergeo": [
           {
            "marker": {
             "colorbar": {
              "outlinewidth": 0,
              "ticks": ""
             }
            },
            "type": "scattergeo"
           }
          ],
          "scattergl": [
           {
            "marker": {
             "colorbar": {
              "outlinewidth": 0,
              "ticks": ""
             }
            },
            "type": "scattergl"
           }
          ],
          "scattermapbox": [
           {
            "marker": {
             "colorbar": {
              "outlinewidth": 0,
              "ticks": ""
             }
            },
            "type": "scattermapbox"
           }
          ],
          "scatterpolar": [
           {
            "marker": {
             "colorbar": {
              "outlinewidth": 0,
              "ticks": ""
             }
            },
            "type": "scatterpolar"
           }
          ],
          "scatterpolargl": [
           {
            "marker": {
             "colorbar": {
              "outlinewidth": 0,
              "ticks": ""
             }
            },
            "type": "scatterpolargl"
           }
          ],
          "scatterternary": [
           {
            "marker": {
             "colorbar": {
              "outlinewidth": 0,
              "ticks": ""
             }
            },
            "type": "scatterternary"
           }
          ],
          "surface": [
           {
            "colorbar": {
             "outlinewidth": 0,
             "ticks": ""
            },
            "colorscale": [
             [
              0,
              "#0d0887"
             ],
             [
              0.1111111111111111,
              "#46039f"
             ],
             [
              0.2222222222222222,
              "#7201a8"
             ],
             [
              0.3333333333333333,
              "#9c179e"
             ],
             [
              0.4444444444444444,
              "#bd3786"
             ],
             [
              0.5555555555555556,
              "#d8576b"
             ],
             [
              0.6666666666666666,
              "#ed7953"
             ],
             [
              0.7777777777777778,
              "#fb9f3a"
             ],
             [
              0.8888888888888888,
              "#fdca26"
             ],
             [
              1,
              "#f0f921"
             ]
            ],
            "type": "surface"
           }
          ],
          "table": [
           {
            "cells": {
             "fill": {
              "color": "#EBF0F8"
             },
             "line": {
              "color": "white"
             }
            },
            "header": {
             "fill": {
              "color": "#C8D4E3"
             },
             "line": {
              "color": "white"
             }
            },
            "type": "table"
           }
          ]
         },
         "layout": {
          "annotationdefaults": {
           "arrowcolor": "#2a3f5f",
           "arrowhead": 0,
           "arrowwidth": 1
          },
          "autotypenumbers": "strict",
          "coloraxis": {
           "colorbar": {
            "outlinewidth": 0,
            "ticks": ""
           }
          },
          "colorscale": {
           "diverging": [
            [
             0,
             "#8e0152"
            ],
            [
             0.1,
             "#c51b7d"
            ],
            [
             0.2,
             "#de77ae"
            ],
            [
             0.3,
             "#f1b6da"
            ],
            [
             0.4,
             "#fde0ef"
            ],
            [
             0.5,
             "#f7f7f7"
            ],
            [
             0.6,
             "#e6f5d0"
            ],
            [
             0.7,
             "#b8e186"
            ],
            [
             0.8,
             "#7fbc41"
            ],
            [
             0.9,
             "#4d9221"
            ],
            [
             1,
             "#276419"
            ]
           ],
           "sequential": [
            [
             0,
             "#0d0887"
            ],
            [
             0.1111111111111111,
             "#46039f"
            ],
            [
             0.2222222222222222,
             "#7201a8"
            ],
            [
             0.3333333333333333,
             "#9c179e"
            ],
            [
             0.4444444444444444,
             "#bd3786"
            ],
            [
             0.5555555555555556,
             "#d8576b"
            ],
            [
             0.6666666666666666,
             "#ed7953"
            ],
            [
             0.7777777777777778,
             "#fb9f3a"
            ],
            [
             0.8888888888888888,
             "#fdca26"
            ],
            [
             1,
             "#f0f921"
            ]
           ],
           "sequentialminus": [
            [
             0,
             "#0d0887"
            ],
            [
             0.1111111111111111,
             "#46039f"
            ],
            [
             0.2222222222222222,
             "#7201a8"
            ],
            [
             0.3333333333333333,
             "#9c179e"
            ],
            [
             0.4444444444444444,
             "#bd3786"
            ],
            [
             0.5555555555555556,
             "#d8576b"
            ],
            [
             0.6666666666666666,
             "#ed7953"
            ],
            [
             0.7777777777777778,
             "#fb9f3a"
            ],
            [
             0.8888888888888888,
             "#fdca26"
            ],
            [
             1,
             "#f0f921"
            ]
           ]
          },
          "colorway": [
           "#636efa",
           "#EF553B",
           "#00cc96",
           "#ab63fa",
           "#FFA15A",
           "#19d3f3",
           "#FF6692",
           "#B6E880",
           "#FF97FF",
           "#FECB52"
          ],
          "font": {
           "color": "#2a3f5f"
          },
          "geo": {
           "bgcolor": "white",
           "lakecolor": "white",
           "landcolor": "#E5ECF6",
           "showlakes": true,
           "showland": true,
           "subunitcolor": "white"
          },
          "hoverlabel": {
           "align": "left"
          },
          "hovermode": "closest",
          "mapbox": {
           "style": "light"
          },
          "paper_bgcolor": "white",
          "plot_bgcolor": "#E5ECF6",
          "polar": {
           "angularaxis": {
            "gridcolor": "white",
            "linecolor": "white",
            "ticks": ""
           },
           "bgcolor": "#E5ECF6",
           "radialaxis": {
            "gridcolor": "white",
            "linecolor": "white",
            "ticks": ""
           }
          },
          "scene": {
           "xaxis": {
            "backgroundcolor": "#E5ECF6",
            "gridcolor": "white",
            "gridwidth": 2,
            "linecolor": "white",
            "showbackground": true,
            "ticks": "",
            "zerolinecolor": "white"
           },
           "yaxis": {
            "backgroundcolor": "#E5ECF6",
            "gridcolor": "white",
            "gridwidth": 2,
            "linecolor": "white",
            "showbackground": true,
            "ticks": "",
            "zerolinecolor": "white"
           },
           "zaxis": {
            "backgroundcolor": "#E5ECF6",
            "gridcolor": "white",
            "gridwidth": 2,
            "linecolor": "white",
            "showbackground": true,
            "ticks": "",
            "zerolinecolor": "white"
           }
          },
          "shapedefaults": {
           "line": {
            "color": "#2a3f5f"
           }
          },
          "ternary": {
           "aaxis": {
            "gridcolor": "white",
            "linecolor": "white",
            "ticks": ""
           },
           "baxis": {
            "gridcolor": "white",
            "linecolor": "white",
            "ticks": ""
           },
           "bgcolor": "#E5ECF6",
           "caxis": {
            "gridcolor": "white",
            "linecolor": "white",
            "ticks": ""
           }
          },
          "title": {
           "x": 0.05
          },
          "xaxis": {
           "automargin": true,
           "gridcolor": "white",
           "linecolor": "white",
           "ticks": "",
           "title": {
            "standoff": 15
           },
           "zerolinecolor": "white",
           "zerolinewidth": 2
          },
          "yaxis": {
           "automargin": true,
           "gridcolor": "white",
           "linecolor": "white",
           "ticks": "",
           "title": {
            "standoff": 15
           },
           "zerolinecolor": "white",
           "zerolinewidth": 2
          }
         }
        },
        "xaxis": {
         "anchor": "y",
         "categoryarray": [
          "https://api.github.com/repos/llvm/llvm-project",
          "https://api.github.com/repos/pytorch/pytorch",
          "https://api.github.com/repos/rust-lang/rust",
          "https://api.github.com/repos/dotnet/runtime",
          "https://api.github.com/repos/intel/llvm",
          "https://api.github.com/repos/apple/swift",
          "https://api.github.com/repos/JetBrains/MPS",
          "https://api.github.com/repos/NixOS/nixpkgs",
          "https://api.github.com/repos/openxla/iree",
          "https://api.github.com/repos/GoogleChrome/developer.chrome.com",
          "https://api.github.com/repos/llvm/circt",
          "https://api.github.com/repos/ClickHouse/ClickHouse",
          "https://api.github.com/repos/apple/llvm-project",
          "https://api.github.com/repos/AvaloniaUI/Avalonia",
          "https://api.github.com/repos/unoplatform/uno",
          "https://api.github.com/repos/milahu/opensubtitles-scraper-new-subs",
          "https://api.github.com/repos/apache/tvm",
          "https://api.github.com/repos/rust-lang/crates.io-index",
          "https://api.github.com/repos/nodejs/node",
          "https://api.github.com/repos/llvm-premerge-tests/llvm-project",
          "https://api.github.com/repos/astral-sh/ruff",
          "https://api.github.com/repos/emscripten-core/emscripten",
          "https://api.github.com/repos/microsoft/vscode",
          "https://api.github.com/repos/microsoft/onnxruntime",
          "https://api.github.com/repos/zkSNACKs/WalletWasabi",
          "https://api.github.com/repos/paritytech/substrate",
          "https://api.github.com/repos/golang/go",
          "https://api.github.com/repos/JuliaLang/julia",
          "https://api.github.com/repos/gear-tech/gear",
          "https://api.github.com/repos/paritytech/polkadot-sdk",
          "https://api.github.com/repos/microsoft/winget-pkgs",
          "https://api.github.com/repos/python/cpython",
          "https://api.github.com/repos/tensorflow/tensorflow",
          "https://api.github.com/repos/ziglang/zig",
          "https://api.github.com/repos/flutter/flutter",
          "https://api.github.com/repos/godotengine/godot",
          "https://api.github.com/repos/leanprover-community/mathlib4",
          "https://api.github.com/repos/Homebrew/homebrew-core",
          "https://api.github.com/repos/ethereum/go-ethereum",
          "https://api.github.com/repos/bytecodealliance/wasmtime",
          "https://api.github.com/repos/ethereum-optimism/optimism",
          "https://api.github.com/repos/web-platform-tests/wpt",
          "https://api.github.com/repos/scylladb/scylladb",
          "https://api.github.com/repos/redpanda-data/redpanda",
          "https://api.github.com/repos/noir-lang/noir",
          "https://api.github.com/repos/WasmEdge/WasmEdge",
          "https://api.github.com/repos/cloudflare/workerd",
          "https://api.github.com/repos/chromium/chromium",
          "https://api.github.com/repos/zephyrproject-rtos/zephyr",
          "https://api.github.com/repos/paritytech/polkadot"
         ],
         "categoryorder": "array",
         "domain": [
          0,
          1
         ],
         "title": {
          "text": "repo_git"
         }
        },
        "yaxis": {
         "anchor": "x",
         "domain": [
          0,
          1
         ],
         "title": {
          "text": "value"
         }
        }
       }
      }
     },
     "metadata": {},
     "output_type": "display_data"
    }
   ],
   "source": [
    "df_fig_rec = repo_event_counts.to_frame() \n",
    "df_fig_rec = df_fig_rec[df_fig_rec[\"count\"] > 2500]\n",
    "\n",
    "fig_rec = px.bar(\n",
    "    data_frame=df_fig_rec,\n",
    "    color=df_fig_rec.index\n",
    ")\n",
    "fig_rec"
   ]
  },
  {
   "cell_type": "markdown",
   "metadata": {},
   "source": [
    "## Contribution event stream re: Known contributors\n",
    "\n",
    "We'd like to know which projects our group of contributors are the most active in. \n",
    "\n",
    "We'll cross-reference our event stream with the list of contributor IDs we have from our previous analysis."
   ]
  },
  {
   "cell_type": "code",
   "execution_count": 61,
   "metadata": {},
   "outputs": [
    {
     "data": {
      "text/plain": [
       "['010002df-6100-0000-0000-000000000000',\n",
       " '010000fd-e400-0000-0000-000000000000',\n",
       " '01002a5e-b400-0000-0000-000000000000',\n",
       " '0100034c-5400-0000-0000-000000000000',\n",
       " '01003291-1b00-0000-0000-000000000000',\n",
       " '01019668-3400-0000-0000-000000000000',\n",
       " '01000e6f-b800-0000-0000-000000000000',\n",
       " '01000123-4b00-0000-0000-000000000000',\n",
       " '0100580b-d200-0000-0000-000000000000',\n",
       " '010003d7-c900-0000-0000-000000000000',\n",
       " '010044b7-6b00-0000-0000-000000000000',\n",
       " '01000844-b800-0000-0000-000000000000',\n",
       " '01000d33-f800-0000-0000-000000000000',\n",
       " '01027f51-2a00-0000-0000-000000000000',\n",
       " '010005fd-cc00-0000-0000-000000000000',\n",
       " '01005d27-9500-0000-0000-000000000000',\n",
       " '010001cf-5a00-0000-0000-000000000000',\n",
       " '010109e8-ab00-0000-0000-000000000000',\n",
       " '01000058-b400-0000-0000-000000000000',\n",
       " '01002912-dc00-0000-0000-000000000000',\n",
       " '010001ad-c700-0000-0000-000000000000',\n",
       " '010004fe-4500-0000-0000-000000000000',\n",
       " '0100319a-6800-0000-0000-000000000000',\n",
       " '010014b5-5700-0000-0000-000000000000',\n",
       " '0102f65a-0500-0000-0000-000000000000',\n",
       " '0103aef2-f500-0000-0000-000000000000',\n",
       " '01001201-7300-0000-0000-000000000000',\n",
       " '010007c6-e200-0000-0000-000000000000',\n",
       " '010031ea-2100-0000-0000-000000000000',\n",
       " '01001730-8300-0000-0000-000000000000',\n",
       " '01010932-ef00-0000-0000-000000000000',\n",
       " '01000ce2-cd00-0000-0000-000000000000',\n",
       " '010003af-d500-0000-0000-000000000000',\n",
       " '0102baa2-2100-0000-0000-000000000000',\n",
       " '0101a90d-a900-0000-0000-000000000000',\n",
       " '01070dcb-e200-0000-0000-000000000000',\n",
       " '0100002a-3600-0000-0000-000000000000',\n",
       " '01004820-6900-0000-0000-000000000000',\n",
       " '0100a4d7-a700-0000-0000-000000000000',\n",
       " '0100c12f-0f00-0000-0000-000000000000',\n",
       " '010015b8-f100-0000-0000-000000000000',\n",
       " '01007e51-5400-0000-0000-000000000000',\n",
       " '0103ebaf-3a00-0000-0000-000000000000',\n",
       " '010000dc-2700-0000-0000-000000000000',\n",
       " '0100173e-d200-0000-0000-000000000000',\n",
       " '0105c15a-8e00-0000-0000-000000000000',\n",
       " '01010e41-b100-0000-0000-000000000000',\n",
       " '010057c3-8200-0000-0000-000000000000',\n",
       " '0102b4c8-1700-0000-0000-000000000000',\n",
       " '0100b863-3000-0000-0000-000000000000',\n",
       " '010359c8-c300-0000-0000-000000000000',\n",
       " '01006c29-c300-0000-0000-000000000000',\n",
       " '01003f62-c900-0000-0000-000000000000',\n",
       " '010027b8-0300-0000-0000-000000000000',\n",
       " '01038fb6-3500-0000-0000-000000000000',\n",
       " '0100042e-7900-0000-0000-000000000000',\n",
       " '01014fc3-1f00-0000-0000-000000000000',\n",
       " '01001ac1-2c00-0000-0000-000000000000',\n",
       " '010021a8-9500-0000-0000-000000000000',\n",
       " '01002c7a-7a00-0000-0000-000000000000',\n",
       " '0100043f-ed00-0000-0000-000000000000',\n",
       " '0100f997-4300-0000-0000-000000000000',\n",
       " '01012c10-f300-0000-0000-000000000000',\n",
       " '010089e9-6500-0000-0000-000000000000',\n",
       " '01021373-c500-0000-0000-000000000000',\n",
       " '0101de87-2b00-0000-0000-000000000000',\n",
       " '0101563f-ff00-0000-0000-000000000000',\n",
       " '0101cb24-bb00-0000-0000-000000000000',\n",
       " '01019296-d200-0000-0000-000000000000',\n",
       " '0100006c-f500-0000-0000-000000000000',\n",
       " '010056d2-0800-0000-0000-000000000000',\n",
       " '010000d5-f300-0000-0000-000000000000',\n",
       " '0106e8d2-7300-0000-0000-000000000000',\n",
       " '0102a285-8900-0000-0000-000000000000',\n",
       " '0100466e-6e00-0000-0000-000000000000',\n",
       " '0100b98b-7900-0000-0000-000000000000',\n",
       " '01001658-6000-0000-0000-000000000000',\n",
       " '0100c480-5100-0000-0000-000000000000',\n",
       " '01004cae-0900-0000-0000-000000000000',\n",
       " '0100ca52-8800-0000-0000-000000000000',\n",
       " '01034700-fd00-0000-0000-000000000000',\n",
       " '010001e7-c800-0000-0000-000000000000',\n",
       " '01059e69-db00-0000-0000-000000000000',\n",
       " '0100000c-a200-0000-0000-000000000000',\n",
       " '01005d97-7000-0000-0000-000000000000',\n",
       " '010002e7-5900-0000-0000-000000000000',\n",
       " '010006dd-f100-0000-0000-000000000000',\n",
       " '0101059e-5200-0000-0000-000000000000',\n",
       " '010012f8-1100-0000-0000-000000000000',\n",
       " '01001405-0600-0000-0000-000000000000',\n",
       " '010168e8-1d00-0000-0000-000000000000',\n",
       " '01017ab5-c700-0000-0000-000000000000',\n",
       " '01007106-f100-0000-0000-000000000000',\n",
       " '0101c6d3-1700-0000-0000-000000000000',\n",
       " '010014d3-0b00-0000-0000-000000000000',\n",
       " '0100c95f-3700-0000-0000-000000000000',\n",
       " '010037e4-5200-0000-0000-000000000000',\n",
       " '01028907-0d00-0000-0000-000000000000',\n",
       " '0100bd06-3100-0000-0000-000000000000',\n",
       " '01001ff1-c400-0000-0000-000000000000',\n",
       " '01003afc-8000-0000-0000-000000000000',\n",
       " '0100025d-0a00-0000-0000-000000000000',\n",
       " '01008964-1a00-0000-0000-000000000000',\n",
       " '0101a9c7-e800-0000-0000-000000000000',\n",
       " '0100027b-b100-0000-0000-000000000000',\n",
       " '01026358-fe00-0000-0000-000000000000',\n",
       " '01019010-5400-0000-0000-000000000000',\n",
       " '0101a14a-1400-0000-0000-000000000000',\n",
       " '01000384-f600-0000-0000-000000000000',\n",
       " '01000376-f100-0000-0000-000000000000',\n",
       " '0100c487-1e00-0000-0000-000000000000',\n",
       " '01000687-3100-0000-0000-000000000000',\n",
       " '0100029c-d700-0000-0000-000000000000',\n",
       " '0100b6d3-9200-0000-0000-000000000000',\n",
       " '0102919f-e300-0000-0000-000000000000',\n",
       " '0100583e-6800-0000-0000-000000000000',\n",
       " '01001be1-2900-0000-0000-000000000000',\n",
       " '0101668e-0800-0000-0000-000000000000',\n",
       " '010091a4-5e00-0000-0000-000000000000',\n",
       " '0102cb5e-4800-0000-0000-000000000000',\n",
       " '01005320-9300-0000-0000-000000000000',\n",
       " '010005c2-5b00-0000-0000-000000000000',\n",
       " '01000877-1000-0000-0000-000000000000',\n",
       " '010023ea-7900-0000-0000-000000000000',\n",
       " '0100114d-3a00-0000-0000-000000000000',\n",
       " '01040775-8e00-0000-0000-000000000000',\n",
       " '0106cc99-fd00-0000-0000-000000000000',\n",
       " '0100586a-c900-0000-0000-000000000000',\n",
       " '0100b795-a300-0000-0000-000000000000',\n",
       " '01006bd0-ba00-0000-0000-000000000000',\n",
       " '010003c3-2e00-0000-0000-000000000000',\n",
       " '0102bbdb-2f00-0000-0000-000000000000',\n",
       " '01003fb4-0000-0000-0000-000000000000',\n",
       " '01001af2-f000-0000-0000-000000000000',\n",
       " '01006afa-3800-0000-0000-000000000000',\n",
       " '010001d2-0000-0000-0000-000000000000',\n",
       " '010062cc-dc00-0000-0000-000000000000',\n",
       " '01004580-4f00-0000-0000-000000000000',\n",
       " '010027ae-4a00-0000-0000-000000000000',\n",
       " '01001386-4c00-0000-0000-000000000000',\n",
       " '0101f8fb-b200-0000-0000-000000000000',\n",
       " '0101d21d-3000-0000-0000-000000000000',\n",
       " '01019736-ff00-0000-0000-000000000000',\n",
       " '01001206-b200-0000-0000-000000000000',\n",
       " '01000466-3000-0000-0000-000000000000',\n",
       " '01001344-6400-0000-0000-000000000000',\n",
       " '01015bbd-6d00-0000-0000-000000000000',\n",
       " '0100aa10-7f00-0000-0000-000000000000',\n",
       " '010130b7-7600-0000-0000-000000000000',\n",
       " '0101c5b2-1200-0000-0000-000000000000',\n",
       " '010040ce-3b00-0000-0000-000000000000',\n",
       " '01042581-bd00-0000-0000-000000000000',\n",
       " '010045f3-9400-0000-0000-000000000000',\n",
       " '010041d6-6800-0000-0000-000000000000',\n",
       " '01028b21-3500-0000-0000-000000000000',\n",
       " '01003f27-bb00-0000-0000-000000000000',\n",
       " '01001626-6e00-0000-0000-000000000000',\n",
       " '01006cab-7b00-0000-0000-000000000000',\n",
       " '01006eaf-6700-0000-0000-000000000000',\n",
       " '010168b2-3b00-0000-0000-000000000000',\n",
       " '0100397d-3100-0000-0000-000000000000',\n",
       " '01004671-0400-0000-0000-000000000000',\n",
       " '010485c4-fd00-0000-0000-000000000000',\n",
       " '01003f80-6c00-0000-0000-000000000000',\n",
       " '010022e4-8600-0000-0000-000000000000',\n",
       " '01001159-8900-0000-0000-000000000000',\n",
       " '010276fb-8b00-0000-0000-000000000000',\n",
       " '0102b992-3300-0000-0000-000000000000',\n",
       " '0102806e-d500-0000-0000-000000000000',\n",
       " '01000454-ff00-0000-0000-000000000000',\n",
       " '01015973-c800-0000-0000-000000000000',\n",
       " '0100ce2a-2900-0000-0000-000000000000',\n",
       " '01004e43-f500-0000-0000-000000000000',\n",
       " '01001440-b500-0000-0000-000000000000',\n",
       " '0100cac6-e000-0000-0000-000000000000',\n",
       " '0100024e-3800-0000-0000-000000000000',\n",
       " '01003292-9f00-0000-0000-000000000000',\n",
       " '01001078-0600-0000-0000-000000000000',\n",
       " '0100d1c9-a100-0000-0000-000000000000',\n",
       " '0101b5f4-3100-0000-0000-000000000000',\n",
       " '010022bd-6e00-0000-0000-000000000000',\n",
       " '01000d48-ee00-0000-0000-000000000000',\n",
       " '01000ce4-4300-0000-0000-000000000000',\n",
       " '01022674-8900-0000-0000-000000000000',\n",
       " '010381ac-8e00-0000-0000-000000000000',\n",
       " '0100e78c-9e00-0000-0000-000000000000',\n",
       " '0100e1ac-f300-0000-0000-000000000000',\n",
       " '01030e60-2c00-0000-0000-000000000000',\n",
       " '0104f7a0-9200-0000-0000-000000000000',\n",
       " '01003870-2100-0000-0000-000000000000',\n",
       " '0100204d-3700-0000-0000-000000000000',\n",
       " '01009603-ae00-0000-0000-000000000000',\n",
       " '01002dea-ea00-0000-0000-000000000000',\n",
       " '0101d93f-8d00-0000-0000-000000000000',\n",
       " '01001d6b-7400-0000-0000-000000000000',\n",
       " '01036ea6-bc00-0000-0000-000000000000',\n",
       " '01012a68-0700-0000-0000-000000000000',\n",
       " '01001811-7700-0000-0000-000000000000',\n",
       " '010136a5-fb00-0000-0000-000000000000',\n",
       " '01022cea-6200-0000-0000-000000000000',\n",
       " '0102f3c1-9200-0000-0000-000000000000',\n",
       " '0100d92d-6800-0000-0000-000000000000',\n",
       " '01016a3f-0c00-0000-0000-000000000000',\n",
       " '01036274-4e00-0000-0000-000000000000',\n",
       " '0100d479-c100-0000-0000-000000000000',\n",
       " '010001e0-7000-0000-0000-000000000000',\n",
       " '01000624-1600-0000-0000-000000000000',\n",
       " '01002ee0-9500-0000-0000-000000000000',\n",
       " '0100144e-6c00-0000-0000-000000000000',\n",
       " '010006f1-6e00-0000-0000-000000000000',\n",
       " '01000acc-f300-0000-0000-000000000000',\n",
       " '01051a0c-d600-0000-0000-000000000000',\n",
       " '010001ff-7100-0000-0000-000000000000',\n",
       " '0100ac00-d400-0000-0000-000000000000',\n",
       " '0100450d-8500-0000-0000-000000000000',\n",
       " '0100050a-6600-0000-0000-000000000000',\n",
       " '0101085c-fb00-0000-0000-000000000000',\n",
       " '0105284d-bd00-0000-0000-000000000000',\n",
       " '01000242-4500-0000-0000-000000000000',\n",
       " '01009694-3700-0000-0000-000000000000',\n",
       " '0100426d-c800-0000-0000-000000000000',\n",
       " '01000f5a-7400-0000-0000-000000000000',\n",
       " '01021fc5-3400-0000-0000-000000000000',\n",
       " '0100ba84-fa00-0000-0000-000000000000',\n",
       " '01003191-cb00-0000-0000-000000000000',\n",
       " '01004c49-ea00-0000-0000-000000000000',\n",
       " '01046ae0-b000-0000-0000-000000000000',\n",
       " '0101de99-3e00-0000-0000-000000000000',\n",
       " '01005aeb-8500-0000-0000-000000000000',\n",
       " '0106309b-e200-0000-0000-000000000000',\n",
       " '0100c0ed-7900-0000-0000-000000000000',\n",
       " '0102f877-8d00-0000-0000-000000000000',\n",
       " '01007c55-a000-0000-0000-000000000000',\n",
       " '01000427-af00-0000-0000-000000000000',\n",
       " '010015d3-d700-0000-0000-000000000000',\n",
       " '010173ec-2100-0000-0000-000000000000',\n",
       " '01000e32-be00-0000-0000-000000000000',\n",
       " '01000698-df00-0000-0000-000000000000',\n",
       " '010002b9-9600-0000-0000-000000000000',\n",
       " '010063f6-3600-0000-0000-000000000000',\n",
       " '0105f8fe-b700-0000-0000-000000000000',\n",
       " '0100593f-cd00-0000-0000-000000000000',\n",
       " '0102430c-b500-0000-0000-000000000000',\n",
       " '0100104f-3500-0000-0000-000000000000',\n",
       " '010087dc-d000-0000-0000-000000000000',\n",
       " '010141f6-1500-0000-0000-000000000000',\n",
       " '0101e6dc-6800-0000-0000-000000000000',\n",
       " '0102d83b-1d00-0000-0000-000000000000',\n",
       " '0101eaf6-a100-0000-0000-000000000000',\n",
       " '01000e6a-5700-0000-0000-000000000000',\n",
       " '010400fe-2f00-0000-0000-000000000000',\n",
       " '0100b039-af00-0000-0000-000000000000',\n",
       " '010007e0-1600-0000-0000-000000000000',\n",
       " '01000008-c200-0000-0000-000000000000',\n",
       " '01001300-8300-0000-0000-000000000000',\n",
       " '010001d8-d000-0000-0000-000000000000',\n",
       " '01032876-0000-0000-0000-000000000000',\n",
       " '01031f79-0200-0000-0000-000000000000',\n",
       " '01002bb1-b200-0000-0000-000000000000',\n",
       " '01001a0d-f100-0000-0000-000000000000',\n",
       " '01006b88-d100-0000-0000-000000000000',\n",
       " '0100404c-8300-0000-0000-000000000000',\n",
       " '0101583e-5700-0000-0000-000000000000',\n",
       " '0104f782-9c00-0000-0000-000000000000',\n",
       " '01000d23-0400-0000-0000-000000000000',\n",
       " '0101b4dc-fc00-0000-0000-000000000000',\n",
       " '0100582a-1200-0000-0000-000000000000',\n",
       " '01025b97-d300-0000-0000-000000000000',\n",
       " '0100f9b5-ba00-0000-0000-000000000000',\n",
       " '01000321-d200-0000-0000-000000000000',\n",
       " '01009743-5800-0000-0000-000000000000',\n",
       " '0105759c-fe00-0000-0000-000000000000',\n",
       " '010036e0-f700-0000-0000-000000000000',\n",
       " '01000b13-5100-0000-0000-000000000000',\n",
       " '0100b7b9-ed00-0000-0000-000000000000',\n",
       " '01000006-8000-0000-0000-000000000000',\n",
       " '01012fcc-4700-0000-0000-000000000000',\n",
       " '01030022-b000-0000-0000-000000000000',\n",
       " '0105316e-f400-0000-0000-000000000000',\n",
       " '01000220-2f00-0000-0000-000000000000',\n",
       " '0100099b-ce00-0000-0000-000000000000',\n",
       " '01002721-5700-0000-0000-000000000000',\n",
       " '0101cf8f-6100-0000-0000-000000000000',\n",
       " '01001655-4600-0000-0000-000000000000',\n",
       " '010011ff-ae00-0000-0000-000000000000',\n",
       " '01000882-1600-0000-0000-000000000000',\n",
       " '01003d8f-be00-0000-0000-000000000000',\n",
       " '0101528e-5600-0000-0000-000000000000',\n",
       " '01036603-c800-0000-0000-000000000000',\n",
       " '01000363-3c00-0000-0000-000000000000',\n",
       " '010013dd-c700-0000-0000-000000000000',\n",
       " '01007b1d-5b00-0000-0000-000000000000',\n",
       " '01000010-2e00-0000-0000-000000000000',\n",
       " '010015fd-6600-0000-0000-000000000000',\n",
       " '01023b0a-3e00-0000-0000-000000000000',\n",
       " '01003894-4d00-0000-0000-000000000000',\n",
       " '010063e4-cb00-0000-0000-000000000000',\n",
       " '01000995-ac00-0000-0000-000000000000',\n",
       " '01018e15-f200-0000-0000-000000000000',\n",
       " '01042e6a-d200-0000-0000-000000000000',\n",
       " '01073d13-bb00-0000-0000-000000000000',\n",
       " '01000027-9900-0000-0000-000000000000',\n",
       " '0105996a-1000-0000-0000-000000000000',\n",
       " '01001911-db00-0000-0000-000000000000',\n",
       " '0101cd20-2200-0000-0000-000000000000',\n",
       " '010222d2-5500-0000-0000-000000000000',\n",
       " '010002a6-5d00-0000-0000-000000000000',\n",
       " '01005542-cb00-0000-0000-000000000000',\n",
       " '01018d10-a800-0000-0000-000000000000',\n",
       " '01001f9e-8b00-0000-0000-000000000000',\n",
       " '0101bf33-f900-0000-0000-000000000000',\n",
       " '0100a497-e300-0000-0000-000000000000',\n",
       " '01002137-4b00-0000-0000-000000000000',\n",
       " '0103971e-fa00-0000-0000-000000000000',\n",
       " '0101714f-6100-0000-0000-000000000000',\n",
       " '01004998-9600-0000-0000-000000000000',\n",
       " '01000727-5000-0000-0000-000000000000',\n",
       " '0100038f-0b00-0000-0000-000000000000',\n",
       " '01035087-f200-0000-0000-000000000000',\n",
       " '0105d4c5-4c00-0000-0000-000000000000',\n",
       " '01000f37-5e00-0000-0000-000000000000',\n",
       " '0102a537-cd00-0000-0000-000000000000',\n",
       " '0101428c-a800-0000-0000-000000000000',\n",
       " '01000647-3700-0000-0000-000000000000',\n",
       " '01004c19-9800-0000-0000-000000000000',\n",
       " '0101b46b-d400-0000-0000-000000000000',\n",
       " '01013234-c500-0000-0000-000000000000',\n",
       " '01006a12-2a00-0000-0000-000000000000',\n",
       " '0100441e-a700-0000-0000-000000000000',\n",
       " '0100690c-5800-0000-0000-000000000000',\n",
       " '01001e8c-bd00-0000-0000-000000000000',\n",
       " '01007e8f-fa00-0000-0000-000000000000',\n",
       " '01001363-a100-0000-0000-000000000000',\n",
       " '0100090d-f100-0000-0000-000000000000',\n",
       " '01000404-c500-0000-0000-000000000000',\n",
       " '01067b73-6e00-0000-0000-000000000000',\n",
       " '010004d8-1800-0000-0000-000000000000',\n",
       " '01000376-4500-0000-0000-000000000000',\n",
       " '01004729-6000-0000-0000-000000000000',\n",
       " '0100d989-2400-0000-0000-000000000000',\n",
       " '0100256d-5500-0000-0000-000000000000',\n",
       " '010057ff-c800-0000-0000-000000000000',\n",
       " '0104e006-7900-0000-0000-000000000000',\n",
       " '0102a183-4900-0000-0000-000000000000',\n",
       " '010001ff-f300-0000-0000-000000000000',\n",
       " '010031df-4e00-0000-0000-000000000000',\n",
       " '0100cc55-2700-0000-0000-000000000000',\n",
       " '01000106-ac00-0000-0000-000000000000',\n",
       " '010044b7-0300-0000-0000-000000000000',\n",
       " '0101656a-0100-0000-0000-000000000000',\n",
       " '01007d04-8300-0000-0000-000000000000',\n",
       " '010003a5-a400-0000-0000-000000000000',\n",
       " '010260b5-4c00-0000-0000-000000000000',\n",
       " '0100004f-7400-0000-0000-000000000000',\n",
       " '0103e842-b800-0000-0000-000000000000',\n",
       " '01001636-5100-0000-0000-000000000000',\n",
       " '01000f84-ac00-0000-0000-000000000000',\n",
       " '0101ff9c-f000-0000-0000-000000000000',\n",
       " '0100c81e-b400-0000-0000-000000000000',\n",
       " '01047792-b000-0000-0000-000000000000',\n",
       " '01048080-7400-0000-0000-000000000000',\n",
       " '0100e1df-b100-0000-0000-000000000000',\n",
       " '01001580-6100-0000-0000-000000000000',\n",
       " '010000b6-1700-0000-0000-000000000000',\n",
       " '010153ae-d100-0000-0000-000000000000',\n",
       " '010004e5-d000-0000-0000-000000000000',\n",
       " '01015fc5-c800-0000-0000-000000000000',\n",
       " '0105668c-8f00-0000-0000-000000000000',\n",
       " '01001619-6100-0000-0000-000000000000',\n",
       " '0100d319-a300-0000-0000-000000000000',\n",
       " '01000a83-5e00-0000-0000-000000000000',\n",
       " '01008868-a000-0000-0000-000000000000',\n",
       " '0100ee5d-a500-0000-0000-000000000000',\n",
       " '01038ecc-4400-0000-0000-000000000000',\n",
       " '0100578b-3900-0000-0000-000000000000',\n",
       " '01021f3e-7800-0000-0000-000000000000',\n",
       " '01004850-f400-0000-0000-000000000000',\n",
       " '010003c5-8f00-0000-0000-000000000000',\n",
       " '0102a259-2a00-0000-0000-000000000000',\n",
       " '0105d7d8-4800-0000-0000-000000000000',\n",
       " '0100a590-6200-0000-0000-000000000000',\n",
       " '01000221-5300-0000-0000-000000000000',\n",
       " '010236a8-c800-0000-0000-000000000000',\n",
       " '0100158c-9e00-0000-0000-000000000000',\n",
       " '01000637-6500-0000-0000-000000000000',\n",
       " '0100140a-3400-0000-0000-000000000000',\n",
       " '01001008-1c00-0000-0000-000000000000',\n",
       " '010003c6-4700-0000-0000-000000000000',\n",
       " '0100a82f-de00-0000-0000-000000000000',\n",
       " '010004bc-7900-0000-0000-000000000000',\n",
       " '0100b009-bc00-0000-0000-000000000000',\n",
       " '01008528-8300-0000-0000-000000000000',\n",
       " '010092da-cb00-0000-0000-000000000000',\n",
       " '0100eb42-f100-0000-0000-000000000000',\n",
       " '010061b0-3500-0000-0000-000000000000',\n",
       " '01044897-0600-0000-0000-000000000000',\n",
       " '01032d1c-9b00-0000-0000-000000000000',\n",
       " '0100b90a-7e00-0000-0000-000000000000',\n",
       " '010035ab-b400-0000-0000-000000000000',\n",
       " '010160d4-4900-0000-0000-000000000000',\n",
       " '010047f0-e700-0000-0000-000000000000',\n",
       " '0100fdb2-8400-0000-0000-000000000000',\n",
       " '01000e0e-d200-0000-0000-000000000000',\n",
       " '010000c6-4200-0000-0000-000000000000',\n",
       " '01038841-2a00-0000-0000-000000000000',\n",
       " '01000b4d-ba00-0000-0000-000000000000',\n",
       " '01038918-6a00-0000-0000-000000000000',\n",
       " '01001319-1900-0000-0000-000000000000',\n",
       " '01001278-e400-0000-0000-000000000000',\n",
       " '01002981-2900-0000-0000-000000000000',\n",
       " '010003bf-e600-0000-0000-000000000000',\n",
       " '010000cf-ac00-0000-0000-000000000000',\n",
       " '010016ff-0e00-0000-0000-000000000000',\n",
       " '010266cf-e900-0000-0000-000000000000',\n",
       " '01042b88-0700-0000-0000-000000000000',\n",
       " '0101c8b9-2700-0000-0000-000000000000',\n",
       " '010000d5-b800-0000-0000-000000000000',\n",
       " '0100b791-7c00-0000-0000-000000000000',\n",
       " '010011c4-0300-0000-0000-000000000000',\n",
       " '01027695-ca00-0000-0000-000000000000',\n",
       " '0101bc8c-8100-0000-0000-000000000000',\n",
       " '0102d5c7-7300-0000-0000-000000000000',\n",
       " '01015c3a-8a00-0000-0000-000000000000',\n",
       " '010470a8-c100-0000-0000-000000000000',\n",
       " '01008d97-1600-0000-0000-000000000000',\n",
       " '01008f32-fb00-0000-0000-000000000000',\n",
       " '010007f2-2300-0000-0000-000000000000',\n",
       " '01007729-9700-0000-0000-000000000000',\n",
       " '0102d905-b800-0000-0000-000000000000',\n",
       " '01006694-6f00-0000-0000-000000000000',\n",
       " '01001a04-7e00-0000-0000-000000000000',\n",
       " '0105403b-c900-0000-0000-000000000000',\n",
       " '01037433-cc00-0000-0000-000000000000',\n",
       " '010000e4-b300-0000-0000-000000000000',\n",
       " '010140e8-e200-0000-0000-000000000000',\n",
       " '01001a1d-b300-0000-0000-000000000000',\n",
       " '010004e9-4500-0000-0000-000000000000',\n",
       " '01004428-f900-0000-0000-000000000000',\n",
       " '010022fb-0900-0000-0000-000000000000',\n",
       " '01000325-1c00-0000-0000-000000000000',\n",
       " '0100048a-ce00-0000-0000-000000000000',\n",
       " '01000004-1a00-0000-0000-000000000000',\n",
       " '010153ba-0f00-0000-0000-000000000000',\n",
       " '01008890-9600-0000-0000-000000000000',\n",
       " '0100005d-db00-0000-0000-000000000000',\n",
       " '01034765-2700-0000-0000-000000000000',\n",
       " '01025d12-4100-0000-0000-000000000000',\n",
       " '01037470-1b00-0000-0000-000000000000',\n",
       " '01009367-a500-0000-0000-000000000000',\n",
       " '01002c07-1a00-0000-0000-000000000000',\n",
       " '01010e9b-0900-0000-0000-000000000000',\n",
       " '01049dee-d300-0000-0000-000000000000',\n",
       " '01000019-f200-0000-0000-000000000000',\n",
       " '01001340-5e00-0000-0000-000000000000',\n",
       " '01010a44-7d00-0000-0000-000000000000',\n",
       " '010019b3-bb00-0000-0000-000000000000',\n",
       " '0101c927-8400-0000-0000-000000000000',\n",
       " '01001951-e400-0000-0000-000000000000',\n",
       " '01002eff-ea00-0000-0000-000000000000',\n",
       " '01005a1c-e800-0000-0000-000000000000',\n",
       " '0100460d-7700-0000-0000-000000000000',\n",
       " '010185b3-e200-0000-0000-000000000000',\n",
       " '010037e2-2400-0000-0000-000000000000',\n",
       " '010016fd-9400-0000-0000-000000000000',\n",
       " '01004891-4900-0000-0000-000000000000',\n",
       " '01005743-fa00-0000-0000-000000000000',\n",
       " '01001348-d400-0000-0000-000000000000',\n",
       " '01001790-ad00-0000-0000-000000000000',\n",
       " '0100d637-2200-0000-0000-000000000000',\n",
       " '0100c837-3200-0000-0000-000000000000',\n",
       " '01013ba7-9f00-0000-0000-000000000000',\n",
       " '0100663b-7d00-0000-0000-000000000000',\n",
       " '01000d86-fb00-0000-0000-000000000000',\n",
       " '01002bf9-b800-0000-0000-000000000000',\n",
       " '01008447-ac00-0000-0000-000000000000',\n",
       " '01005312-3a00-0000-0000-000000000000',\n",
       " '010096d7-7600-0000-0000-000000000000',\n",
       " '010002c9-9e00-0000-0000-000000000000',\n",
       " '01028e25-ae00-0000-0000-000000000000',\n",
       " '01000e54-d700-0000-0000-000000000000',\n",
       " '01001a5a-b000-0000-0000-000000000000',\n",
       " '01000ce9-c300-0000-0000-000000000000',\n",
       " '01001999-6100-0000-0000-000000000000',\n",
       " '01000781-4800-0000-0000-000000000000',\n",
       " '010030d9-d100-0000-0000-000000000000',\n",
       " '01021bc4-7400-0000-0000-000000000000',\n",
       " '0101b676-6f00-0000-0000-000000000000',\n",
       " '0100f9bf-6b00-0000-0000-000000000000',\n",
       " '0102b916-bc00-0000-0000-000000000000',\n",
       " '0100112c-3700-0000-0000-000000000000',\n",
       " '01001c28-8100-0000-0000-000000000000',\n",
       " '01001349-f400-0000-0000-000000000000',\n",
       " '010004b6-aa00-0000-0000-000000000000',\n",
       " '01033b12-9900-0000-0000-000000000000',\n",
       " '0102e22a-9b00-0000-0000-000000000000',\n",
       " '0101e1ce-f000-0000-0000-000000000000',\n",
       " '0100331c-5400-0000-0000-000000000000',\n",
       " '01013eb5-7400-0000-0000-000000000000',\n",
       " '010017e1-d800-0000-0000-000000000000',\n",
       " '0100d948-6000-0000-0000-000000000000',\n",
       " '0102fe00-dc00-0000-0000-000000000000',\n",
       " '0101b751-3900-0000-0000-000000000000',\n",
       " '0102089a-4300-0000-0000-000000000000',\n",
       " '01038fec-9500-0000-0000-000000000000',\n",
       " '0105006d-2c00-0000-0000-000000000000',\n",
       " '010383df-8600-0000-0000-000000000000',\n",
       " '01021b09-8800-0000-0000-000000000000',\n",
       " '01011dd0-4700-0000-0000-000000000000',\n",
       " '0104e76a-9b00-0000-0000-000000000000',\n",
       " '0103d7bb-3f00-0000-0000-000000000000',\n",
       " '01000517-ef00-0000-0000-000000000000',\n",
       " '01004c0d-e400-0000-0000-000000000000',\n",
       " '010000b9-bd00-0000-0000-000000000000',\n",
       " '01017647-c700-0000-0000-000000000000',\n",
       " '01000173-2600-0000-0000-000000000000',\n",
       " '0102ebf9-7b00-0000-0000-000000000000',\n",
       " '01027f2c-da00-0000-0000-000000000000',\n",
       " '0102b738-b400-0000-0000-000000000000',\n",
       " '01001ba5-ea00-0000-0000-000000000000',\n",
       " '010546f7-5b00-0000-0000-000000000000',\n",
       " '010002ec-e700-0000-0000-000000000000',\n",
       " '010027b1-9b00-0000-0000-000000000000',\n",
       " '01000ae5-6900-0000-0000-000000000000',\n",
       " '0101527d-bf00-0000-0000-000000000000',\n",
       " '0105d7ed-4200-0000-0000-000000000000',\n",
       " '01002356-fc00-0000-0000-000000000000',\n",
       " '01000566-d900-0000-0000-000000000000',\n",
       " '0100a24f-f300-0000-0000-000000000000',\n",
       " '01008507-1d00-0000-0000-000000000000',\n",
       " '01001b27-a300-0000-0000-000000000000',\n",
       " '0100071a-dd00-0000-0000-000000000000',\n",
       " '01000c2d-3900-0000-0000-000000000000',\n",
       " '01001a8d-9400-0000-0000-000000000000',\n",
       " '01030c8c-2e00-0000-0000-000000000000',\n",
       " '0105e28a-7800-0000-0000-000000000000',\n",
       " '01027319-c700-0000-0000-000000000000',\n",
       " '01001563-0f00-0000-0000-000000000000',\n",
       " '010024b6-4000-0000-0000-000000000000',\n",
       " '01022317-9800-0000-0000-000000000000',\n",
       " '0100c3df-5500-0000-0000-000000000000',\n",
       " '01051835-cb00-0000-0000-000000000000',\n",
       " '01000350-c000-0000-0000-000000000000',\n",
       " '010000ad-a600-0000-0000-000000000000',\n",
       " '010043af-7600-0000-0000-000000000000',\n",
       " '01001a2d-e300-0000-0000-000000000000',\n",
       " '0100997c-b600-0000-0000-000000000000',\n",
       " '010060d6-ca00-0000-0000-000000000000',\n",
       " '010099f0-b400-0000-0000-000000000000',\n",
       " '010009c6-4b00-0000-0000-000000000000',\n",
       " '01019a46-1700-0000-0000-000000000000',\n",
       " '01032c7b-fa00-0000-0000-000000000000',\n",
       " '0100092e-2400-0000-0000-000000000000',\n",
       " '01000424-d800-0000-0000-000000000000',\n",
       " '010015b5-7e00-0000-0000-000000000000',\n",
       " '01000465-6f00-0000-0000-000000000000',\n",
       " '0100415f-dc00-0000-0000-000000000000',\n",
       " '010010e2-c500-0000-0000-000000000000',\n",
       " '01022df3-b800-0000-0000-000000000000',\n",
       " '010373ad-f600-0000-0000-000000000000',\n",
       " '01006ad2-8f00-0000-0000-000000000000',\n",
       " '01005247-5300-0000-0000-000000000000',\n",
       " '0100188d-3d00-0000-0000-000000000000',\n",
       " '0103857a-9b00-0000-0000-000000000000',\n",
       " '01058cc8-4600-0000-0000-000000000000',\n",
       " '01001977-8b00-0000-0000-000000000000',\n",
       " '010007b8-0a00-0000-0000-000000000000',\n",
       " '01037b78-3800-0000-0000-000000000000',\n",
       " '0104a6d6-a200-0000-0000-000000000000',\n",
       " '01023d86-0f00-0000-0000-000000000000',\n",
       " '0100545e-2c00-0000-0000-000000000000',\n",
       " '01001cfc-8600-0000-0000-000000000000',\n",
       " '01005a01-ca00-0000-0000-000000000000',\n",
       " '0100d2d5-af00-0000-0000-000000000000',\n",
       " '0100161d-2b00-0000-0000-000000000000',\n",
       " '01004186-5400-0000-0000-000000000000',\n",
       " '01080540-b900-0000-0000-000000000000',\n",
       " '01001d98-b300-0000-0000-000000000000',\n",
       " '01010f01-f900-0000-0000-000000000000',\n",
       " '0101c427-ee00-0000-0000-000000000000',\n",
       " '01004bb5-6500-0000-0000-000000000000',\n",
       " '01006e77-9700-0000-0000-000000000000',\n",
       " '01000111-ef00-0000-0000-000000000000',\n",
       " '010014c2-9b00-0000-0000-000000000000',\n",
       " '0100047e-1d00-0000-0000-000000000000',\n",
       " '0100c074-9600-0000-0000-000000000000',\n",
       " '01001d4c-cc00-0000-0000-000000000000',\n",
       " '01000138-e800-0000-0000-000000000000',\n",
       " '01050f13-3c00-0000-0000-000000000000',\n",
       " '01048384-2900-0000-0000-000000000000',\n",
       " '010009b0-a900-0000-0000-000000000000',\n",
       " '01001555-f700-0000-0000-000000000000',\n",
       " '010050ee-3500-0000-0000-000000000000',\n",
       " '0100134d-8300-0000-0000-000000000000',\n",
       " '01000048-1e00-0000-0000-000000000000',\n",
       " '01026f32-2f00-0000-0000-000000000000',\n",
       " '0100472c-da00-0000-0000-000000000000',\n",
       " '01000960-9400-0000-0000-000000000000',\n",
       " '01000b85-fd00-0000-0000-000000000000',\n",
       " '01017ae6-8300-0000-0000-000000000000',\n",
       " '010003c2-2d00-0000-0000-000000000000',\n",
       " '010088f0-9800-0000-0000-000000000000',\n",
       " '010002b3-3600-0000-0000-000000000000',\n",
       " '0100a485-e700-0000-0000-000000000000',\n",
       " '01005ca4-2a00-0000-0000-000000000000',\n",
       " '01003224-5f00-0000-0000-000000000000',\n",
       " '010000c1-ba00-0000-0000-000000000000',\n",
       " '010262e1-2b00-0000-0000-000000000000',\n",
       " '0100a51d-8500-0000-0000-000000000000',\n",
       " '0101d06c-ab00-0000-0000-000000000000',\n",
       " '01000091-b700-0000-0000-000000000000',\n",
       " '0101ea60-6100-0000-0000-000000000000',\n",
       " '0106626b-5a00-0000-0000-000000000000',\n",
       " '01000182-a600-0000-0000-000000000000',\n",
       " '0101620c-6b00-0000-0000-000000000000',\n",
       " '01010e26-7a00-0000-0000-000000000000',\n",
       " '01005048-8800-0000-0000-000000000000',\n",
       " '010130b1-5e00-0000-0000-000000000000',\n",
       " '010000e4-4200-0000-0000-000000000000',\n",
       " '0102f14f-5300-0000-0000-000000000000',\n",
       " '010001ed-7500-0000-0000-000000000000',\n",
       " '01005ad3-e100-0000-0000-000000000000',\n",
       " '01024309-8a00-0000-0000-000000000000',\n",
       " '010036be-f800-0000-0000-000000000000',\n",
       " '01013ba4-8900-0000-0000-000000000000',\n",
       " '0101cbcc-b900-0000-0000-000000000000',\n",
       " '01006f43-1800-0000-0000-000000000000',\n",
       " '01003083-bc00-0000-0000-000000000000',\n",
       " '010494c1-1300-0000-0000-000000000000',\n",
       " '01011c0e-7a00-0000-0000-000000000000',\n",
       " '01002d47-8200-0000-0000-000000000000',\n",
       " '01000506-2000-0000-0000-000000000000',\n",
       " '01002c7b-fd00-0000-0000-000000000000',\n",
       " '0103e405-0800-0000-0000-000000000000',\n",
       " '01000140-1300-0000-0000-000000000000',\n",
       " '0101cc6f-cd00-0000-0000-000000000000',\n",
       " '01000809-7a00-0000-0000-000000000000',\n",
       " '0101023e-db00-0000-0000-000000000000',\n",
       " '010011b3-de00-0000-0000-000000000000',\n",
       " '01003cd4-c300-0000-0000-000000000000',\n",
       " '0102d049-1800-0000-0000-000000000000',\n",
       " '01000a5c-d200-0000-0000-000000000000',\n",
       " '01020a2b-b900-0000-0000-000000000000',\n",
       " '0101274e-7c00-0000-0000-000000000000',\n",
       " '01003036-0000-0000-0000-000000000000',\n",
       " '01005818-7a00-0000-0000-000000000000',\n",
       " '01000514-a000-0000-0000-000000000000',\n",
       " '01006b45-8600-0000-0000-000000000000',\n",
       " '010021b6-7800-0000-0000-000000000000',\n",
       " '010007b2-7f00-0000-0000-000000000000',\n",
       " '0100081f-be00-0000-0000-000000000000',\n",
       " '0102a065-a200-0000-0000-000000000000',\n",
       " '01000138-a500-0000-0000-000000000000',\n",
       " '0101ae76-bd00-0000-0000-000000000000',\n",
       " '0100c9bc-0d00-0000-0000-000000000000',\n",
       " '010003ad-ff00-0000-0000-000000000000',\n",
       " '0100145f-5d00-0000-0000-000000000000',\n",
       " '01030f4d-2c00-0000-0000-000000000000',\n",
       " '010097da-2c00-0000-0000-000000000000',\n",
       " '01006b55-c400-0000-0000-000000000000',\n",
       " '0100c923-d300-0000-0000-000000000000',\n",
       " '01000c32-4f00-0000-0000-000000000000',\n",
       " '0100003f-3800-0000-0000-000000000000',\n",
       " '01000015-9000-0000-0000-000000000000',\n",
       " '0100614a-4400-0000-0000-000000000000',\n",
       " '01000a2b-6100-0000-0000-000000000000',\n",
       " '0100f9ab-8900-0000-0000-000000000000',\n",
       " '0100af4e-7600-0000-0000-000000000000',\n",
       " '01000023-d700-0000-0000-000000000000',\n",
       " '01000070-7300-0000-0000-000000000000',\n",
       " '01009c8d-d200-0000-0000-000000000000',\n",
       " '010101fc-ed00-0000-0000-000000000000',\n",
       " '01002a23-8a00-0000-0000-000000000000',\n",
       " '0104e981-5000-0000-0000-000000000000',\n",
       " '0100f76b-8b00-0000-0000-000000000000',\n",
       " '0103b876-2d00-0000-0000-000000000000',\n",
       " '01001139-e700-0000-0000-000000000000',\n",
       " '0100e9fc-da00-0000-0000-000000000000',\n",
       " '01052848-e600-0000-0000-000000000000',\n",
       " '0103601d-8f00-0000-0000-000000000000',\n",
       " '010003a3-e800-0000-0000-000000000000',\n",
       " '010002b5-6f00-0000-0000-000000000000',\n",
       " '010062af-4b00-0000-0000-000000000000',\n",
       " '01023116-4900-0000-0000-000000000000',\n",
       " '01007c42-e500-0000-0000-000000000000',\n",
       " '01059296-3700-0000-0000-000000000000',\n",
       " '01000507-9a00-0000-0000-000000000000',\n",
       " '01000953-ed00-0000-0000-000000000000',\n",
       " '01011ab0-5000-0000-0000-000000000000',\n",
       " '01035ea4-6900-0000-0000-000000000000',\n",
       " '01046491-9b00-0000-0000-000000000000',\n",
       " '01005121-e700-0000-0000-000000000000',\n",
       " '0101adc0-4200-0000-0000-000000000000',\n",
       " '01005f65-6b00-0000-0000-000000000000',\n",
       " '0100cefc-7300-0000-0000-000000000000',\n",
       " '010684a3-f400-0000-0000-000000000000',\n",
       " '010182ab-ec00-0000-0000-000000000000',\n",
       " '01007b8c-4200-0000-0000-000000000000',\n",
       " '0101c6ab-a000-0000-0000-000000000000',\n",
       " '010002ac-0400-0000-0000-000000000000',\n",
       " '010001e5-0b00-0000-0000-000000000000',\n",
       " '01001f5d-d400-0000-0000-000000000000',\n",
       " '010008ed-0c00-0000-0000-000000000000',\n",
       " '0100123b-6700-0000-0000-000000000000',\n",
       " '01003b59-b100-0000-0000-000000000000',\n",
       " '0102bde0-5b00-0000-0000-000000000000',\n",
       " '010001e0-d700-0000-0000-000000000000',\n",
       " '01032763-b900-0000-0000-000000000000',\n",
       " '01006f2e-b600-0000-0000-000000000000',\n",
       " '01000626-5000-0000-0000-000000000000',\n",
       " '01008729-7800-0000-0000-000000000000',\n",
       " '01012773-a500-0000-0000-000000000000',\n",
       " '01007215-df00-0000-0000-000000000000',\n",
       " '01029ac5-2600-0000-0000-000000000000',\n",
       " '0101594f-5400-0000-0000-000000000000',\n",
       " '0100564a-f200-0000-0000-000000000000',\n",
       " '01017773-b800-0000-0000-000000000000',\n",
       " '010253ee-fd00-0000-0000-000000000000',\n",
       " '01013ba9-f200-0000-0000-000000000000',\n",
       " '010000ad-3900-0000-0000-000000000000',\n",
       " '010132ab-4400-0000-0000-000000000000',\n",
       " '0100f46f-3000-0000-0000-000000000000',\n",
       " '01009a0f-2900-0000-0000-000000000000',\n",
       " '01012f23-6e00-0000-0000-000000000000',\n",
       " '0100771d-9f00-0000-0000-000000000000',\n",
       " '010426d2-6c00-0000-0000-000000000000',\n",
       " '0100db01-bb00-0000-0000-000000000000',\n",
       " '01002748-de00-0000-0000-000000000000',\n",
       " '010163c4-ec00-0000-0000-000000000000',\n",
       " '01000cde-0300-0000-0000-000000000000',\n",
       " '0101efb0-7700-0000-0000-000000000000',\n",
       " '01038bfe-f700-0000-0000-000000000000',\n",
       " '010020ea-e500-0000-0000-000000000000',\n",
       " '010068be-c800-0000-0000-000000000000',\n",
       " '01004022-df00-0000-0000-000000000000',\n",
       " '0104e9c4-9c00-0000-0000-000000000000',\n",
       " '0101f48b-ed00-0000-0000-000000000000',\n",
       " '0100129f-aa00-0000-0000-000000000000',\n",
       " '01009841-3900-0000-0000-000000000000',\n",
       " '01036942-d700-0000-0000-000000000000',\n",
       " '01032af5-9400-0000-0000-000000000000',\n",
       " '01003ce9-6100-0000-0000-000000000000',\n",
       " '01000edd-f300-0000-0000-000000000000',\n",
       " '0100697b-5b00-0000-0000-000000000000',\n",
       " '01000290-4600-0000-0000-000000000000',\n",
       " '0102f774-4300-0000-0000-000000000000',\n",
       " '0102fe5d-8900-0000-0000-000000000000',\n",
       " '01008a8d-2900-0000-0000-000000000000',\n",
       " '0100009b-ec00-0000-0000-000000000000',\n",
       " '01000020-9000-0000-0000-000000000000',\n",
       " '01001396-1400-0000-0000-000000000000',\n",
       " '01027949-ec00-0000-0000-000000000000',\n",
       " '01042e73-7c00-0000-0000-000000000000',\n",
       " '010038a3-c600-0000-0000-000000000000',\n",
       " '0100025a-da00-0000-0000-000000000000',\n",
       " '010016fa-ee00-0000-0000-000000000000',\n",
       " '010018cd-9c00-0000-0000-000000000000',\n",
       " '010003bb-ca00-0000-0000-000000000000',\n",
       " '010006c6-a700-0000-0000-000000000000',\n",
       " '01000150-3100-0000-0000-000000000000',\n",
       " '01022087-2a00-0000-0000-000000000000',\n",
       " '01004363-ca00-0000-0000-000000000000',\n",
       " '0102ba5c-3400-0000-0000-000000000000',\n",
       " '01000000-0400-0000-0000-000000000000',\n",
       " '010215d4-fc00-0000-0000-000000000000',\n",
       " '01022f27-7700-0000-0000-000000000000',\n",
       " '0100999d-4900-0000-0000-000000000000',\n",
       " '010002bd-dd00-0000-0000-000000000000',\n",
       " '01022d82-2500-0000-0000-000000000000',\n",
       " '01010919-4500-0000-0000-000000000000',\n",
       " '0106e5f6-9e00-0000-0000-000000000000',\n",
       " '01000ed0-6e00-0000-0000-000000000000',\n",
       " '01000a9a-6d00-0000-0000-000000000000',\n",
       " '01002b1b-f400-0000-0000-000000000000',\n",
       " '0100b63d-d700-0000-0000-000000000000',\n",
       " '0100016f-f400-0000-0000-000000000000',\n",
       " '010009be-4800-0000-0000-000000000000',\n",
       " '0102bb9f-8c00-0000-0000-000000000000',\n",
       " '01010200-0800-0000-0000-000000000000',\n",
       " '01015856-aa00-0000-0000-000000000000',\n",
       " '01000b51-af00-0000-0000-000000000000',\n",
       " '0101f71f-8100-0000-0000-000000000000',\n",
       " '01006b3c-1900-0000-0000-000000000000',\n",
       " '0100604f-7700-0000-0000-000000000000',\n",
       " '0100032d-d400-0000-0000-000000000000',\n",
       " '01003bb5-e100-0000-0000-000000000000',\n",
       " '01003716-8d00-0000-0000-000000000000',\n",
       " '0102cca1-1900-0000-0000-000000000000',\n",
       " '01002f64-0200-0000-0000-000000000000',\n",
       " '01006f91-ee00-0000-0000-000000000000',\n",
       " '0100007e-2b00-0000-0000-000000000000',\n",
       " '01008fdd-6d00-0000-0000-000000000000',\n",
       " '01000b2d-7800-0000-0000-000000000000',\n",
       " '0100be4b-5200-0000-0000-000000000000',\n",
       " '0100b3e8-f300-0000-0000-000000000000',\n",
       " '01000096-8400-0000-0000-000000000000',\n",
       " '010002d3-e400-0000-0000-000000000000',\n",
       " '0100e98e-4500-0000-0000-000000000000',\n",
       " '01025616-8e00-0000-0000-000000000000',\n",
       " '010008bf-c400-0000-0000-000000000000',\n",
       " '01004fe7-4400-0000-0000-000000000000',\n",
       " '010002b8-c800-0000-0000-000000000000',\n",
       " '01000b10-c600-0000-0000-000000000000',\n",
       " '01026292-b900-0000-0000-000000000000',\n",
       " '0100157c-9a00-0000-0000-000000000000',\n",
       " '01015084-1e00-0000-0000-000000000000',\n",
       " '01000d34-e600-0000-0000-000000000000',\n",
       " '01005d9a-8600-0000-0000-000000000000',\n",
       " '01000a08-d100-0000-0000-000000000000',\n",
       " '0101e02c-db00-0000-0000-000000000000',\n",
       " '01001ab7-0b00-0000-0000-000000000000',\n",
       " '01009058-b300-0000-0000-000000000000',\n",
       " '01013ff6-2d00-0000-0000-000000000000',\n",
       " '010082b8-7f00-0000-0000-000000000000',\n",
       " '01000176-d500-0000-0000-000000000000',\n",
       " '01007544-0d00-0000-0000-000000000000',\n",
       " '01000dae-4f00-0000-0000-000000000000',\n",
       " '01000fd8-bf00-0000-0000-000000000000',\n",
       " '01001617-ad00-0000-0000-000000000000',\n",
       " '01003375-3600-0000-0000-000000000000',\n",
       " '01000997-0800-0000-0000-000000000000',\n",
       " '010572a7-4e00-0000-0000-000000000000',\n",
       " '01000cc1-5100-0000-0000-000000000000',\n",
       " '0100bccb-5500-0000-0000-000000000000',\n",
       " '01020dbe-f900-0000-0000-000000000000',\n",
       " '010073be-4900-0000-0000-000000000000',\n",
       " '0100add4-cf00-0000-0000-000000000000',\n",
       " '01000930-9c00-0000-0000-000000000000',\n",
       " '010001dd-af00-0000-0000-000000000000',\n",
       " '0100c687-e100-0000-0000-000000000000',\n",
       " '010070e0-fe00-0000-0000-000000000000',\n",
       " '01000756-2600-0000-0000-000000000000',\n",
       " '01010500-8a00-0000-0000-000000000000',\n",
       " '01000d72-6500-0000-0000-000000000000',\n",
       " '01001b21-bb00-0000-0000-000000000000',\n",
       " '01012ea2-0100-0000-0000-000000000000',\n",
       " '01001441-1200-0000-0000-000000000000',\n",
       " '01006e32-0800-0000-0000-000000000000',\n",
       " '0101ef46-f500-0000-0000-000000000000',\n",
       " '01002c54-1600-0000-0000-000000000000',\n",
       " '0100a684-9500-0000-0000-000000000000',\n",
       " '0100f7f7-4000-0000-0000-000000000000',\n",
       " '01024f9e-d600-0000-0000-000000000000',\n",
       " '0101c0fd-7e00-0000-0000-000000000000',\n",
       " '01000e94-cc00-0000-0000-000000000000',\n",
       " '0100466e-d100-0000-0000-000000000000',\n",
       " '0101f262-b200-0000-0000-000000000000',\n",
       " '010129b6-1c00-0000-0000-000000000000',\n",
       " '0102542f-d800-0000-0000-000000000000',\n",
       " '01000859-5f00-0000-0000-000000000000',\n",
       " '01037e64-bb00-0000-0000-000000000000',\n",
       " '01077e04-f900-0000-0000-000000000000',\n",
       " '01003701-a500-0000-0000-000000000000',\n",
       " '0100bc47-f400-0000-0000-000000000000',\n",
       " '01033e02-2800-0000-0000-000000000000',\n",
       " '0100018a-8700-0000-0000-000000000000',\n",
       " '01000381-f900-0000-0000-000000000000',\n",
       " '010296ef-bf00-0000-0000-000000000000',\n",
       " '010198ca-9d00-0000-0000-000000000000',\n",
       " '0105e1ae-4100-0000-0000-000000000000',\n",
       " '01001ec7-c000-0000-0000-000000000000',\n",
       " '01049f7e-6600-0000-0000-000000000000',\n",
       " '010315f1-4a00-0000-0000-000000000000',\n",
       " '01038130-1400-0000-0000-000000000000',\n",
       " '01040292-7400-0000-0000-000000000000',\n",
       " '010022db-1500-0000-0000-000000000000',\n",
       " '01036eff-2a00-0000-0000-000000000000',\n",
       " '0100019b-f800-0000-0000-000000000000',\n",
       " '01021bf3-eb00-0000-0000-000000000000',\n",
       " '010068b4-f300-0000-0000-000000000000',\n",
       " '0100aa30-ab00-0000-0000-000000000000',\n",
       " '0105cf26-5800-0000-0000-000000000000',\n",
       " '01009b2f-f200-0000-0000-000000000000',\n",
       " '01000568-0800-0000-0000-000000000000',\n",
       " '01004408-8e00-0000-0000-000000000000',\n",
       " '01017900-2d00-0000-0000-000000000000',\n",
       " '0102e6f4-2400-0000-0000-000000000000',\n",
       " '01000ed4-3b00-0000-0000-000000000000',\n",
       " '01000591-6700-0000-0000-000000000000',\n",
       " '01017264-3800-0000-0000-000000000000',\n",
       " '0100254a-6800-0000-0000-000000000000',\n",
       " '0104b53d-ab00-0000-0000-000000000000',\n",
       " '010086fb-9b00-0000-0000-000000000000',\n",
       " '0100e8a7-4300-0000-0000-000000000000',\n",
       " '0102a7ed-9b00-0000-0000-000000000000',\n",
       " '0101011f-6900-0000-0000-000000000000',\n",
       " '01013d18-5500-0000-0000-000000000000',\n",
       " '0100754c-3f00-0000-0000-000000000000',\n",
       " '01029254-c600-0000-0000-000000000000',\n",
       " '01039b6c-b000-0000-0000-000000000000',\n",
       " '0100c127-9d00-0000-0000-000000000000',\n",
       " '01005096-d300-0000-0000-000000000000',\n",
       " '0100006b-2100-0000-0000-000000000000',\n",
       " '01023be4-0000-0000-0000-000000000000',\n",
       " '010023ce-d300-0000-0000-000000000000',\n",
       " '01000f17-7200-0000-0000-000000000000',\n",
       " '01043a5a-f100-0000-0000-000000000000',\n",
       " '010000d4-9200-0000-0000-000000000000',\n",
       " '01007346-5900-0000-0000-000000000000',\n",
       " '0102dd60-e900-0000-0000-000000000000',\n",
       " '01004b17-c900-0000-0000-000000000000',\n",
       " '010006ee-1f00-0000-0000-000000000000',\n",
       " '01009828-0600-0000-0000-000000000000',\n",
       " '01002aab-b200-0000-0000-000000000000',\n",
       " '01000058-c800-0000-0000-000000000000',\n",
       " '010000b0-c100-0000-0000-000000000000',\n",
       " '01007d7d-0f00-0000-0000-000000000000',\n",
       " '01000875-6800-0000-0000-000000000000',\n",
       " '01000cdc-de00-0000-0000-000000000000',\n",
       " '010010ce-3200-0000-0000-000000000000',\n",
       " '01006e81-de00-0000-0000-000000000000',\n",
       " '01001d9b-3e00-0000-0000-000000000000',\n",
       " '010065dd-2f00-0000-0000-000000000000',\n",
       " '01001367-e600-0000-0000-000000000000',\n",
       " '0100162d-2000-0000-0000-000000000000',\n",
       " '0100e51a-ec00-0000-0000-000000000000',\n",
       " '01000ac1-0000-0000-0000-000000000000',\n",
       " '0100a14a-4500-0000-0000-000000000000',\n",
       " '0100640e-4200-0000-0000-000000000000',\n",
       " '010006d7-1200-0000-0000-000000000000',\n",
       " '0100072d-b500-0000-0000-000000000000',\n",
       " '0100f2dc-5b00-0000-0000-000000000000',\n",
       " '0100e57f-cf00-0000-0000-000000000000',\n",
       " '0100f8a1-ce00-0000-0000-000000000000',\n",
       " '010416ad-4700-0000-0000-000000000000',\n",
       " '01008933-9700-0000-0000-000000000000',\n",
       " '010005b4-fc00-0000-0000-000000000000',\n",
       " '010173f5-d700-0000-0000-000000000000',\n",
       " '010002de-8100-0000-0000-000000000000',\n",
       " '01000477-6700-0000-0000-000000000000',\n",
       " '0100026f-3a00-0000-0000-000000000000',\n",
       " '0100032a-4800-0000-0000-000000000000',\n",
       " '0100c82a-a200-0000-0000-000000000000',\n",
       " '01017e2f-e300-0000-0000-000000000000',\n",
       " '0100b45b-a000-0000-0000-000000000000',\n",
       " '01000d8f-8e00-0000-0000-000000000000',\n",
       " '01008062-6800-0000-0000-000000000000',\n",
       " '010587fe-7900-0000-0000-000000000000',\n",
       " '01001b15-4600-0000-0000-000000000000',\n",
       " '0101dbec-6100-0000-0000-000000000000',\n",
       " '0101f3fb-b500-0000-0000-000000000000',\n",
       " '01006db5-1800-0000-0000-000000000000',\n",
       " '0100aed9-d400-0000-0000-000000000000',\n",
       " '0100d5c8-b200-0000-0000-000000000000',\n",
       " '0100012d-b600-0000-0000-000000000000',\n",
       " '01000186-0100-0000-0000-000000000000',\n",
       " '0100021b-2100-0000-0000-000000000000',\n",
       " '0100065b-3f00-0000-0000-000000000000',\n",
       " '010008bf-1f00-0000-0000-000000000000',\n",
       " '01000955-2000-0000-0000-000000000000',\n",
       " '01000ffd-3300-0000-0000-000000000000',\n",
       " '01002323-e300-0000-0000-000000000000',\n",
       " '01002db8-5d00-0000-0000-000000000000',\n",
       " '010044e3-5e00-0000-0000-000000000000',\n",
       " '0100477e-7a00-0000-0000-000000000000',\n",
       " '01005860-5500-0000-0000-000000000000',\n",
       " '010065b9-3300-0000-0000-000000000000',\n",
       " '01007110-8700-0000-0000-000000000000',\n",
       " '0100a221-5700-0000-0000-000000000000',\n",
       " '0100da31-3900-0000-0000-000000000000',\n",
       " '0100f289-bb00-0000-0000-000000000000',\n",
       " '0100f627-4d00-0000-0000-000000000000',\n",
       " '010126b8-5a00-0000-0000-000000000000',\n",
       " '01013504-1500-0000-0000-000000000000',\n",
       " '01013c9f-cb00-0000-0000-000000000000',\n",
       " '01015bf7-f100-0000-0000-000000000000',\n",
       " '010185a8-ff00-0000-0000-000000000000',\n",
       " '0102d16d-1000-0000-0000-000000000000',\n",
       " '0105fb7f-6f00-0000-0000-000000000000',\n",
       " '01063298-6a00-0000-0000-000000000000',\n",
       " '0100171c-6c00-0000-0000-000000000000',\n",
       " '0101aef0-2b00-0000-0000-000000000000',\n",
       " '0100071a-6f00-0000-0000-000000000000',\n",
       " '01001d49-3e00-0000-0000-000000000000',\n",
       " '0100309f-5600-0000-0000-000000000000',\n",
       " '01007281-1900-0000-0000-000000000000',\n",
       " '01009c8d-8400-0000-0000-000000000000',\n",
       " '0100afea-9700-0000-0000-000000000000',\n",
       " '0100e854-2e00-0000-0000-000000000000',\n",
       " '0100f270-d600-0000-0000-000000000000',\n",
       " '010125c6-3b00-0000-0000-000000000000',\n",
       " '0102d2a3-df00-0000-0000-000000000000',\n",
       " '01012f8f-0900-0000-0000-000000000000',\n",
       " '01057e5c-6900-0000-0000-000000000000',\n",
       " '010003bd-8b00-0000-0000-000000000000',\n",
       " '010150d7-d000-0000-0000-000000000000',\n",
       " '01000177-c800-0000-0000-000000000000',\n",
       " '0100484c-ce00-0000-0000-000000000000',\n",
       " '010287cb-2600-0000-0000-000000000000',\n",
       " '01000cbb-2600-0000-0000-000000000000',\n",
       " '01024eb8-1100-0000-0000-000000000000',\n",
       " '0100c7f0-3d00-0000-0000-000000000000',\n",
       " '01006b94-3500-0000-0000-000000000000',\n",
       " '01001325-7f00-0000-0000-000000000000',\n",
       " '01000787-9d00-0000-0000-000000000000',\n",
       " '0100e6ab-5b00-0000-0000-000000000000',\n",
       " '01002d1e-1900-0000-0000-000000000000',\n",
       " '0102ca6d-e800-0000-0000-000000000000',\n",
       " '010263bb-a000-0000-0000-000000000000',\n",
       " '0102c772-3100-0000-0000-000000000000',\n",
       " '0100558d-9c00-0000-0000-000000000000',\n",
       " ...]"
      ]
     },
     "execution_count": 61,
     "metadata": {},
     "output_type": "execute_result"
    }
   ],
   "source": [
    "UUID_known = df_known_contribs.cntrb_id.to_list()\n",
    "UUID_known"
   ]
  },
  {
   "cell_type": "code",
   "execution_count": 62,
   "metadata": {},
   "outputs": [],
   "source": [
    "# only consider events from known contributors.\n",
    "df_known_event_stream = df_event_stream[df_event_stream.cntrb_id.isin(UUID_known)]"
   ]
  },
  {
   "cell_type": "markdown",
   "metadata": {},
   "source": [
    "### Difference in size:\n",
    "\n",
    "Whereas we initially considered 3.7 million events, for those contributors we've identified, we only consider 370k events, an order of magnitude reduction."
   ]
  },
  {
   "cell_type": "code",
   "execution_count": 63,
   "metadata": {},
   "outputs": [
    {
     "name": "stdout",
     "output_type": "stream",
     "text": [
      "Diff in size: (3725197, 8) compared to (370440, 8)\n"
     ]
    }
   ],
   "source": [
    "print(f\"Diff in size: {df_event_stream.shape} compared to {df_known_event_stream.shape}\")"
   ]
  },
  {
   "cell_type": "markdown",
   "metadata": {},
   "source": [
    "## Most common events among known contributors"
   ]
  },
  {
   "cell_type": "code",
   "execution_count": 64,
   "metadata": {},
   "outputs": [
    {
     "data": {
      "application/vnd.plotly.v1+json": {
       "config": {
        "plotlyServerURL": "https://plot.ly"
       },
       "data": [
        {
         "alignmentgroup": "True",
         "hovertemplate": "event_type=%{x}<br>value=%{y}<extra></extra>",
         "legendgroup": "PushEvent",
         "marker": {
          "color": "#636efa",
          "pattern": {
           "shape": ""
          }
         },
         "name": "PushEvent",
         "offsetgroup": "PushEvent",
         "orientation": "v",
         "showlegend": true,
         "textposition": "auto",
         "type": "bar",
         "x": [
          "PushEvent"
         ],
         "xaxis": "x",
         "y": [
          119704
         ],
         "yaxis": "y"
        },
        {
         "alignmentgroup": "True",
         "hovertemplate": "event_type=%{x}<br>value=%{y}<extra></extra>",
         "legendgroup": "IssueCommentEvent",
         "marker": {
          "color": "#EF553B",
          "pattern": {
           "shape": ""
          }
         },
         "name": "IssueCommentEvent",
         "offsetgroup": "IssueCommentEvent",
         "orientation": "v",
         "showlegend": true,
         "textposition": "auto",
         "type": "bar",
         "x": [
          "IssueCommentEvent"
         ],
         "xaxis": "x",
         "y": [
          64455
         ],
         "yaxis": "y"
        },
        {
         "alignmentgroup": "True",
         "hovertemplate": "event_type=%{x}<br>value=%{y}<extra></extra>",
         "legendgroup": "PullRequestEvent",
         "marker": {
          "color": "#00cc96",
          "pattern": {
           "shape": ""
          }
         },
         "name": "PullRequestEvent",
         "offsetgroup": "PullRequestEvent",
         "orientation": "v",
         "showlegend": true,
         "textposition": "auto",
         "type": "bar",
         "x": [
          "PullRequestEvent"
         ],
         "xaxis": "x",
         "y": [
          38464
         ],
         "yaxis": "y"
        },
        {
         "alignmentgroup": "True",
         "hovertemplate": "event_type=%{x}<br>value=%{y}<extra></extra>",
         "legendgroup": "PullRequestReviewEvent",
         "marker": {
          "color": "#ab63fa",
          "pattern": {
           "shape": ""
          }
         },
         "name": "PullRequestReviewEvent",
         "offsetgroup": "PullRequestReviewEvent",
         "orientation": "v",
         "showlegend": true,
         "textposition": "auto",
         "type": "bar",
         "x": [
          "PullRequestReviewEvent"
         ],
         "xaxis": "x",
         "y": [
          32550
         ],
         "yaxis": "y"
        },
        {
         "alignmentgroup": "True",
         "hovertemplate": "event_type=%{x}<br>value=%{y}<extra></extra>",
         "legendgroup": "CreateEvent",
         "marker": {
          "color": "#FFA15A",
          "pattern": {
           "shape": ""
          }
         },
         "name": "CreateEvent",
         "offsetgroup": "CreateEvent",
         "orientation": "v",
         "showlegend": true,
         "textposition": "auto",
         "type": "bar",
         "x": [
          "CreateEvent"
         ],
         "xaxis": "x",
         "y": [
          31818
         ],
         "yaxis": "y"
        },
        {
         "alignmentgroup": "True",
         "hovertemplate": "event_type=%{x}<br>value=%{y}<extra></extra>",
         "legendgroup": "PullRequestReviewCommentEvent",
         "marker": {
          "color": "#19d3f3",
          "pattern": {
           "shape": ""
          }
         },
         "name": "PullRequestReviewCommentEvent",
         "offsetgroup": "PullRequestReviewCommentEvent",
         "orientation": "v",
         "showlegend": true,
         "textposition": "auto",
         "type": "bar",
         "x": [
          "PullRequestReviewCommentEvent"
         ],
         "xaxis": "x",
         "y": [
          24787
         ],
         "yaxis": "y"
        },
        {
         "alignmentgroup": "True",
         "hovertemplate": "event_type=%{x}<br>value=%{y}<extra></extra>",
         "legendgroup": "DeleteEvent",
         "marker": {
          "color": "#FF6692",
          "pattern": {
           "shape": ""
          }
         },
         "name": "DeleteEvent",
         "offsetgroup": "DeleteEvent",
         "orientation": "v",
         "showlegend": true,
         "textposition": "auto",
         "type": "bar",
         "x": [
          "DeleteEvent"
         ],
         "xaxis": "x",
         "y": [
          19943
         ],
         "yaxis": "y"
        },
        {
         "alignmentgroup": "True",
         "hovertemplate": "event_type=%{x}<br>value=%{y}<extra></extra>",
         "legendgroup": "WatchEvent",
         "marker": {
          "color": "#B6E880",
          "pattern": {
           "shape": ""
          }
         },
         "name": "WatchEvent",
         "offsetgroup": "WatchEvent",
         "orientation": "v",
         "showlegend": true,
         "textposition": "auto",
         "type": "bar",
         "x": [
          "WatchEvent"
         ],
         "xaxis": "x",
         "y": [
          19825
         ],
         "yaxis": "y"
        },
        {
         "alignmentgroup": "True",
         "hovertemplate": "event_type=%{x}<br>value=%{y}<extra></extra>",
         "legendgroup": "IssuesEvent",
         "marker": {
          "color": "#FF97FF",
          "pattern": {
           "shape": ""
          }
         },
         "name": "IssuesEvent",
         "offsetgroup": "IssuesEvent",
         "orientation": "v",
         "showlegend": true,
         "textposition": "auto",
         "type": "bar",
         "x": [
          "IssuesEvent"
         ],
         "xaxis": "x",
         "y": [
          13644
         ],
         "yaxis": "y"
        },
        {
         "alignmentgroup": "True",
         "hovertemplate": "event_type=%{x}<br>value=%{y}<extra></extra>",
         "legendgroup": "ForkEvent",
         "marker": {
          "color": "#FECB52",
          "pattern": {
           "shape": ""
          }
         },
         "name": "ForkEvent",
         "offsetgroup": "ForkEvent",
         "orientation": "v",
         "showlegend": true,
         "textposition": "auto",
         "type": "bar",
         "x": [
          "ForkEvent"
         ],
         "xaxis": "x",
         "y": [
          2561
         ],
         "yaxis": "y"
        },
        {
         "alignmentgroup": "True",
         "hovertemplate": "event_type=%{x}<br>value=%{y}<extra></extra>",
         "legendgroup": "ReleaseEvent",
         "marker": {
          "color": "#636efa",
          "pattern": {
           "shape": ""
          }
         },
         "name": "ReleaseEvent",
         "offsetgroup": "ReleaseEvent",
         "orientation": "v",
         "showlegend": true,
         "textposition": "auto",
         "type": "bar",
         "x": [
          "ReleaseEvent"
         ],
         "xaxis": "x",
         "y": [
          1685
         ],
         "yaxis": "y"
        },
        {
         "alignmentgroup": "True",
         "hovertemplate": "event_type=%{x}<br>value=%{y}<extra></extra>",
         "legendgroup": "GollumEvent",
         "marker": {
          "color": "#EF553B",
          "pattern": {
           "shape": ""
          }
         },
         "name": "GollumEvent",
         "offsetgroup": "GollumEvent",
         "orientation": "v",
         "showlegend": true,
         "textposition": "auto",
         "type": "bar",
         "x": [
          "GollumEvent"
         ],
         "xaxis": "x",
         "y": [
          355
         ],
         "yaxis": "y"
        },
        {
         "alignmentgroup": "True",
         "hovertemplate": "event_type=%{x}<br>value=%{y}<extra></extra>",
         "legendgroup": "MemberEvent",
         "marker": {
          "color": "#00cc96",
          "pattern": {
           "shape": ""
          }
         },
         "name": "MemberEvent",
         "offsetgroup": "MemberEvent",
         "orientation": "v",
         "showlegend": true,
         "textposition": "auto",
         "type": "bar",
         "x": [
          "MemberEvent"
         ],
         "xaxis": "x",
         "y": [
          256
         ],
         "yaxis": "y"
        },
        {
         "alignmentgroup": "True",
         "hovertemplate": "event_type=%{x}<br>value=%{y}<extra></extra>",
         "legendgroup": "CommitCommentEvent",
         "marker": {
          "color": "#ab63fa",
          "pattern": {
           "shape": ""
          }
         },
         "name": "CommitCommentEvent",
         "offsetgroup": "CommitCommentEvent",
         "orientation": "v",
         "showlegend": true,
         "textposition": "auto",
         "type": "bar",
         "x": [
          "CommitCommentEvent"
         ],
         "xaxis": "x",
         "y": [
          229
         ],
         "yaxis": "y"
        },
        {
         "alignmentgroup": "True",
         "hovertemplate": "event_type=%{x}<br>value=%{y}<extra></extra>",
         "legendgroup": "PublicEvent",
         "marker": {
          "color": "#FFA15A",
          "pattern": {
           "shape": ""
          }
         },
         "name": "PublicEvent",
         "offsetgroup": "PublicEvent",
         "orientation": "v",
         "showlegend": true,
         "textposition": "auto",
         "type": "bar",
         "x": [
          "PublicEvent"
         ],
         "xaxis": "x",
         "y": [
          164
         ],
         "yaxis": "y"
        }
       ],
       "layout": {
        "barmode": "relative",
        "legend": {
         "title": {
          "text": "event_type"
         },
         "tracegroupgap": 0
        },
        "margin": {
         "t": 60
        },
        "template": {
         "data": {
          "bar": [
           {
            "error_x": {
             "color": "#2a3f5f"
            },
            "error_y": {
             "color": "#2a3f5f"
            },
            "marker": {
             "line": {
              "color": "#E5ECF6",
              "width": 0.5
             },
             "pattern": {
              "fillmode": "overlay",
              "size": 10,
              "solidity": 0.2
             }
            },
            "type": "bar"
           }
          ],
          "barpolar": [
           {
            "marker": {
             "line": {
              "color": "#E5ECF6",
              "width": 0.5
             },
             "pattern": {
              "fillmode": "overlay",
              "size": 10,
              "solidity": 0.2
             }
            },
            "type": "barpolar"
           }
          ],
          "carpet": [
           {
            "aaxis": {
             "endlinecolor": "#2a3f5f",
             "gridcolor": "white",
             "linecolor": "white",
             "minorgridcolor": "white",
             "startlinecolor": "#2a3f5f"
            },
            "baxis": {
             "endlinecolor": "#2a3f5f",
             "gridcolor": "white",
             "linecolor": "white",
             "minorgridcolor": "white",
             "startlinecolor": "#2a3f5f"
            },
            "type": "carpet"
           }
          ],
          "choropleth": [
           {
            "colorbar": {
             "outlinewidth": 0,
             "ticks": ""
            },
            "type": "choropleth"
           }
          ],
          "contour": [
           {
            "colorbar": {
             "outlinewidth": 0,
             "ticks": ""
            },
            "colorscale": [
             [
              0,
              "#0d0887"
             ],
             [
              0.1111111111111111,
              "#46039f"
             ],
             [
              0.2222222222222222,
              "#7201a8"
             ],
             [
              0.3333333333333333,
              "#9c179e"
             ],
             [
              0.4444444444444444,
              "#bd3786"
             ],
             [
              0.5555555555555556,
              "#d8576b"
             ],
             [
              0.6666666666666666,
              "#ed7953"
             ],
             [
              0.7777777777777778,
              "#fb9f3a"
             ],
             [
              0.8888888888888888,
              "#fdca26"
             ],
             [
              1,
              "#f0f921"
             ]
            ],
            "type": "contour"
           }
          ],
          "contourcarpet": [
           {
            "colorbar": {
             "outlinewidth": 0,
             "ticks": ""
            },
            "type": "contourcarpet"
           }
          ],
          "heatmap": [
           {
            "colorbar": {
             "outlinewidth": 0,
             "ticks": ""
            },
            "colorscale": [
             [
              0,
              "#0d0887"
             ],
             [
              0.1111111111111111,
              "#46039f"
             ],
             [
              0.2222222222222222,
              "#7201a8"
             ],
             [
              0.3333333333333333,
              "#9c179e"
             ],
             [
              0.4444444444444444,
              "#bd3786"
             ],
             [
              0.5555555555555556,
              "#d8576b"
             ],
             [
              0.6666666666666666,
              "#ed7953"
             ],
             [
              0.7777777777777778,
              "#fb9f3a"
             ],
             [
              0.8888888888888888,
              "#fdca26"
             ],
             [
              1,
              "#f0f921"
             ]
            ],
            "type": "heatmap"
           }
          ],
          "heatmapgl": [
           {
            "colorbar": {
             "outlinewidth": 0,
             "ticks": ""
            },
            "colorscale": [
             [
              0,
              "#0d0887"
             ],
             [
              0.1111111111111111,
              "#46039f"
             ],
             [
              0.2222222222222222,
              "#7201a8"
             ],
             [
              0.3333333333333333,
              "#9c179e"
             ],
             [
              0.4444444444444444,
              "#bd3786"
             ],
             [
              0.5555555555555556,
              "#d8576b"
             ],
             [
              0.6666666666666666,
              "#ed7953"
             ],
             [
              0.7777777777777778,
              "#fb9f3a"
             ],
             [
              0.8888888888888888,
              "#fdca26"
             ],
             [
              1,
              "#f0f921"
             ]
            ],
            "type": "heatmapgl"
           }
          ],
          "histogram": [
           {
            "marker": {
             "pattern": {
              "fillmode": "overlay",
              "size": 10,
              "solidity": 0.2
             }
            },
            "type": "histogram"
           }
          ],
          "histogram2d": [
           {
            "colorbar": {
             "outlinewidth": 0,
             "ticks": ""
            },
            "colorscale": [
             [
              0,
              "#0d0887"
             ],
             [
              0.1111111111111111,
              "#46039f"
             ],
             [
              0.2222222222222222,
              "#7201a8"
             ],
             [
              0.3333333333333333,
              "#9c179e"
             ],
             [
              0.4444444444444444,
              "#bd3786"
             ],
             [
              0.5555555555555556,
              "#d8576b"
             ],
             [
              0.6666666666666666,
              "#ed7953"
             ],
             [
              0.7777777777777778,
              "#fb9f3a"
             ],
             [
              0.8888888888888888,
              "#fdca26"
             ],
             [
              1,
              "#f0f921"
             ]
            ],
            "type": "histogram2d"
           }
          ],
          "histogram2dcontour": [
           {
            "colorbar": {
             "outlinewidth": 0,
             "ticks": ""
            },
            "colorscale": [
             [
              0,
              "#0d0887"
             ],
             [
              0.1111111111111111,
              "#46039f"
             ],
             [
              0.2222222222222222,
              "#7201a8"
             ],
             [
              0.3333333333333333,
              "#9c179e"
             ],
             [
              0.4444444444444444,
              "#bd3786"
             ],
             [
              0.5555555555555556,
              "#d8576b"
             ],
             [
              0.6666666666666666,
              "#ed7953"
             ],
             [
              0.7777777777777778,
              "#fb9f3a"
             ],
             [
              0.8888888888888888,
              "#fdca26"
             ],
             [
              1,
              "#f0f921"
             ]
            ],
            "type": "histogram2dcontour"
           }
          ],
          "mesh3d": [
           {
            "colorbar": {
             "outlinewidth": 0,
             "ticks": ""
            },
            "type": "mesh3d"
           }
          ],
          "parcoords": [
           {
            "line": {
             "colorbar": {
              "outlinewidth": 0,
              "ticks": ""
             }
            },
            "type": "parcoords"
           }
          ],
          "pie": [
           {
            "automargin": true,
            "type": "pie"
           }
          ],
          "scatter": [
           {
            "fillpattern": {
             "fillmode": "overlay",
             "size": 10,
             "solidity": 0.2
            },
            "type": "scatter"
           }
          ],
          "scatter3d": [
           {
            "line": {
             "colorbar": {
              "outlinewidth": 0,
              "ticks": ""
             }
            },
            "marker": {
             "colorbar": {
              "outlinewidth": 0,
              "ticks": ""
             }
            },
            "type": "scatter3d"
           }
          ],
          "scattercarpet": [
           {
            "marker": {
             "colorbar": {
              "outlinewidth": 0,
              "ticks": ""
             }
            },
            "type": "scattercarpet"
           }
          ],
          "scattergeo": [
           {
            "marker": {
             "colorbar": {
              "outlinewidth": 0,
              "ticks": ""
             }
            },
            "type": "scattergeo"
           }
          ],
          "scattergl": [
           {
            "marker": {
             "colorbar": {
              "outlinewidth": 0,
              "ticks": ""
             }
            },
            "type": "scattergl"
           }
          ],
          "scattermapbox": [
           {
            "marker": {
             "colorbar": {
              "outlinewidth": 0,
              "ticks": ""
             }
            },
            "type": "scattermapbox"
           }
          ],
          "scatterpolar": [
           {
            "marker": {
             "colorbar": {
              "outlinewidth": 0,
              "ticks": ""
             }
            },
            "type": "scatterpolar"
           }
          ],
          "scatterpolargl": [
           {
            "marker": {
             "colorbar": {
              "outlinewidth": 0,
              "ticks": ""
             }
            },
            "type": "scatterpolargl"
           }
          ],
          "scatterternary": [
           {
            "marker": {
             "colorbar": {
              "outlinewidth": 0,
              "ticks": ""
             }
            },
            "type": "scatterternary"
           }
          ],
          "surface": [
           {
            "colorbar": {
             "outlinewidth": 0,
             "ticks": ""
            },
            "colorscale": [
             [
              0,
              "#0d0887"
             ],
             [
              0.1111111111111111,
              "#46039f"
             ],
             [
              0.2222222222222222,
              "#7201a8"
             ],
             [
              0.3333333333333333,
              "#9c179e"
             ],
             [
              0.4444444444444444,
              "#bd3786"
             ],
             [
              0.5555555555555556,
              "#d8576b"
             ],
             [
              0.6666666666666666,
              "#ed7953"
             ],
             [
              0.7777777777777778,
              "#fb9f3a"
             ],
             [
              0.8888888888888888,
              "#fdca26"
             ],
             [
              1,
              "#f0f921"
             ]
            ],
            "type": "surface"
           }
          ],
          "table": [
           {
            "cells": {
             "fill": {
              "color": "#EBF0F8"
             },
             "line": {
              "color": "white"
             }
            },
            "header": {
             "fill": {
              "color": "#C8D4E3"
             },
             "line": {
              "color": "white"
             }
            },
            "type": "table"
           }
          ]
         },
         "layout": {
          "annotationdefaults": {
           "arrowcolor": "#2a3f5f",
           "arrowhead": 0,
           "arrowwidth": 1
          },
          "autotypenumbers": "strict",
          "coloraxis": {
           "colorbar": {
            "outlinewidth": 0,
            "ticks": ""
           }
          },
          "colorscale": {
           "diverging": [
            [
             0,
             "#8e0152"
            ],
            [
             0.1,
             "#c51b7d"
            ],
            [
             0.2,
             "#de77ae"
            ],
            [
             0.3,
             "#f1b6da"
            ],
            [
             0.4,
             "#fde0ef"
            ],
            [
             0.5,
             "#f7f7f7"
            ],
            [
             0.6,
             "#e6f5d0"
            ],
            [
             0.7,
             "#b8e186"
            ],
            [
             0.8,
             "#7fbc41"
            ],
            [
             0.9,
             "#4d9221"
            ],
            [
             1,
             "#276419"
            ]
           ],
           "sequential": [
            [
             0,
             "#0d0887"
            ],
            [
             0.1111111111111111,
             "#46039f"
            ],
            [
             0.2222222222222222,
             "#7201a8"
            ],
            [
             0.3333333333333333,
             "#9c179e"
            ],
            [
             0.4444444444444444,
             "#bd3786"
            ],
            [
             0.5555555555555556,
             "#d8576b"
            ],
            [
             0.6666666666666666,
             "#ed7953"
            ],
            [
             0.7777777777777778,
             "#fb9f3a"
            ],
            [
             0.8888888888888888,
             "#fdca26"
            ],
            [
             1,
             "#f0f921"
            ]
           ],
           "sequentialminus": [
            [
             0,
             "#0d0887"
            ],
            [
             0.1111111111111111,
             "#46039f"
            ],
            [
             0.2222222222222222,
             "#7201a8"
            ],
            [
             0.3333333333333333,
             "#9c179e"
            ],
            [
             0.4444444444444444,
             "#bd3786"
            ],
            [
             0.5555555555555556,
             "#d8576b"
            ],
            [
             0.6666666666666666,
             "#ed7953"
            ],
            [
             0.7777777777777778,
             "#fb9f3a"
            ],
            [
             0.8888888888888888,
             "#fdca26"
            ],
            [
             1,
             "#f0f921"
            ]
           ]
          },
          "colorway": [
           "#636efa",
           "#EF553B",
           "#00cc96",
           "#ab63fa",
           "#FFA15A",
           "#19d3f3",
           "#FF6692",
           "#B6E880",
           "#FF97FF",
           "#FECB52"
          ],
          "font": {
           "color": "#2a3f5f"
          },
          "geo": {
           "bgcolor": "white",
           "lakecolor": "white",
           "landcolor": "#E5ECF6",
           "showlakes": true,
           "showland": true,
           "subunitcolor": "white"
          },
          "hoverlabel": {
           "align": "left"
          },
          "hovermode": "closest",
          "mapbox": {
           "style": "light"
          },
          "paper_bgcolor": "white",
          "plot_bgcolor": "#E5ECF6",
          "polar": {
           "angularaxis": {
            "gridcolor": "white",
            "linecolor": "white",
            "ticks": ""
           },
           "bgcolor": "#E5ECF6",
           "radialaxis": {
            "gridcolor": "white",
            "linecolor": "white",
            "ticks": ""
           }
          },
          "scene": {
           "xaxis": {
            "backgroundcolor": "#E5ECF6",
            "gridcolor": "white",
            "gridwidth": 2,
            "linecolor": "white",
            "showbackground": true,
            "ticks": "",
            "zerolinecolor": "white"
           },
           "yaxis": {
            "backgroundcolor": "#E5ECF6",
            "gridcolor": "white",
            "gridwidth": 2,
            "linecolor": "white",
            "showbackground": true,
            "ticks": "",
            "zerolinecolor": "white"
           },
           "zaxis": {
            "backgroundcolor": "#E5ECF6",
            "gridcolor": "white",
            "gridwidth": 2,
            "linecolor": "white",
            "showbackground": true,
            "ticks": "",
            "zerolinecolor": "white"
           }
          },
          "shapedefaults": {
           "line": {
            "color": "#2a3f5f"
           }
          },
          "ternary": {
           "aaxis": {
            "gridcolor": "white",
            "linecolor": "white",
            "ticks": ""
           },
           "baxis": {
            "gridcolor": "white",
            "linecolor": "white",
            "ticks": ""
           },
           "bgcolor": "#E5ECF6",
           "caxis": {
            "gridcolor": "white",
            "linecolor": "white",
            "ticks": ""
           }
          },
          "title": {
           "x": 0.05
          },
          "xaxis": {
           "automargin": true,
           "gridcolor": "white",
           "linecolor": "white",
           "ticks": "",
           "title": {
            "standoff": 15
           },
           "zerolinecolor": "white",
           "zerolinewidth": 2
          },
          "yaxis": {
           "automargin": true,
           "gridcolor": "white",
           "linecolor": "white",
           "ticks": "",
           "title": {
            "standoff": 15
           },
           "zerolinecolor": "white",
           "zerolinewidth": 2
          }
         }
        },
        "xaxis": {
         "anchor": "y",
         "categoryarray": [
          "PushEvent",
          "IssueCommentEvent",
          "PullRequestEvent",
          "PullRequestReviewEvent",
          "CreateEvent",
          "PullRequestReviewCommentEvent",
          "DeleteEvent",
          "WatchEvent",
          "IssuesEvent",
          "ForkEvent",
          "ReleaseEvent",
          "GollumEvent",
          "MemberEvent",
          "CommitCommentEvent",
          "PublicEvent"
         ],
         "categoryorder": "array",
         "domain": [
          0,
          1
         ],
         "title": {
          "text": "event_type"
         }
        },
        "yaxis": {
         "anchor": "x",
         "domain": [
          0,
          1
         ],
         "title": {
          "text": "value"
         }
        }
       }
      }
     },
     "metadata": {},
     "output_type": "display_data"
    }
   ],
   "source": [
    "kc_event_counts = df_known_event_stream.event_type.value_counts()\n",
    "fig_kec = px.bar(\n",
    "    data_frame=kc_event_counts.to_frame(),\n",
    "    color=kc_event_counts.to_frame().index,\n",
    ")\n",
    "fig_kec"
   ]
  },
  {
   "cell_type": "markdown",
   "metadata": {},
   "source": [
    "## Most common repositories among known contributors"
   ]
  },
  {
   "cell_type": "code",
   "execution_count": 66,
   "metadata": {},
   "outputs": [
    {
     "data": {
      "application/vnd.plotly.v1+json": {
       "config": {
        "plotlyServerURL": "https://plot.ly"
       },
       "data": [
        {
         "alignmentgroup": "True",
         "hovertemplate": "color=https://api.github.com/repos/rust-lang/rust<br>repo_git=%{x}<br>value=%{y}<extra></extra>",
         "legendgroup": "https://api.github.com/repos/rust-lang/rust",
         "marker": {
          "color": "#636efa",
          "pattern": {
           "shape": ""
          }
         },
         "name": "https://api.github.com/repos/rust-lang/rust",
         "offsetgroup": "https://api.github.com/repos/rust-lang/rust",
         "orientation": "v",
         "showlegend": true,
         "textposition": "auto",
         "type": "bar",
         "x": [
          "https://api.github.com/repos/rust-lang/rust"
         ],
         "xaxis": "x",
         "y": [
          4070
         ],
         "yaxis": "y"
        },
        {
         "alignmentgroup": "True",
         "hovertemplate": "color=https://api.github.com/repos/bytecodealliance/wasmtime<br>repo_git=%{x}<br>value=%{y}<extra></extra>",
         "legendgroup": "https://api.github.com/repos/bytecodealliance/wasmtime",
         "marker": {
          "color": "#EF553B",
          "pattern": {
           "shape": ""
          }
         },
         "name": "https://api.github.com/repos/bytecodealliance/wasmtime",
         "offsetgroup": "https://api.github.com/repos/bytecodealliance/wasmtime",
         "orientation": "v",
         "showlegend": true,
         "textposition": "auto",
         "type": "bar",
         "x": [
          "https://api.github.com/repos/bytecodealliance/wasmtime"
         ],
         "xaxis": "x",
         "y": [
          2714
         ],
         "yaxis": "y"
        },
        {
         "alignmentgroup": "True",
         "hovertemplate": "color=https://api.github.com/repos/WasmEdge/WasmEdge<br>repo_git=%{x}<br>value=%{y}<extra></extra>",
         "legendgroup": "https://api.github.com/repos/WasmEdge/WasmEdge",
         "marker": {
          "color": "#00cc96",
          "pattern": {
           "shape": ""
          }
         },
         "name": "https://api.github.com/repos/WasmEdge/WasmEdge",
         "offsetgroup": "https://api.github.com/repos/WasmEdge/WasmEdge",
         "orientation": "v",
         "showlegend": true,
         "textposition": "auto",
         "type": "bar",
         "x": [
          "https://api.github.com/repos/WasmEdge/WasmEdge"
         ],
         "xaxis": "x",
         "y": [
          2614
         ],
         "yaxis": "y"
        },
        {
         "alignmentgroup": "True",
         "hovertemplate": "color=https://api.github.com/repos/wasmerio/wasmer<br>repo_git=%{x}<br>value=%{y}<extra></extra>",
         "legendgroup": "https://api.github.com/repos/wasmerio/wasmer",
         "marker": {
          "color": "#ab63fa",
          "pattern": {
           "shape": ""
          }
         },
         "name": "https://api.github.com/repos/wasmerio/wasmer",
         "offsetgroup": "https://api.github.com/repos/wasmerio/wasmer",
         "orientation": "v",
         "showlegend": true,
         "textposition": "auto",
         "type": "bar",
         "x": [
          "https://api.github.com/repos/wasmerio/wasmer"
         ],
         "xaxis": "x",
         "y": [
          2007
         ],
         "yaxis": "y"
        },
        {
         "alignmentgroup": "True",
         "hovertemplate": "color=https://api.github.com/repos/risingwavelabs/risingwave<br>repo_git=%{x}<br>value=%{y}<extra></extra>",
         "legendgroup": "https://api.github.com/repos/risingwavelabs/risingwave",
         "marker": {
          "color": "#FFA15A",
          "pattern": {
           "shape": ""
          }
         },
         "name": "https://api.github.com/repos/risingwavelabs/risingwave",
         "offsetgroup": "https://api.github.com/repos/risingwavelabs/risingwave",
         "orientation": "v",
         "showlegend": true,
         "textposition": "auto",
         "type": "bar",
         "x": [
          "https://api.github.com/repos/risingwavelabs/risingwave"
         ],
         "xaxis": "x",
         "y": [
          1954
         ],
         "yaxis": "y"
        },
        {
         "alignmentgroup": "True",
         "hovertemplate": "color=https://api.github.com/repos/noir-lang/noir<br>repo_git=%{x}<br>value=%{y}<extra></extra>",
         "legendgroup": "https://api.github.com/repos/noir-lang/noir",
         "marker": {
          "color": "#19d3f3",
          "pattern": {
           "shape": ""
          }
         },
         "name": "https://api.github.com/repos/noir-lang/noir",
         "offsetgroup": "https://api.github.com/repos/noir-lang/noir",
         "orientation": "v",
         "showlegend": true,
         "textposition": "auto",
         "type": "bar",
         "x": [
          "https://api.github.com/repos/noir-lang/noir"
         ],
         "xaxis": "x",
         "y": [
          1771
         ],
         "yaxis": "y"
        },
        {
         "alignmentgroup": "True",
         "hovertemplate": "color=https://api.github.com/repos/microsoft/winget-pkgs<br>repo_git=%{x}<br>value=%{y}<extra></extra>",
         "legendgroup": "https://api.github.com/repos/microsoft/winget-pkgs",
         "marker": {
          "color": "#FF6692",
          "pattern": {
           "shape": ""
          }
         },
         "name": "https://api.github.com/repos/microsoft/winget-pkgs",
         "offsetgroup": "https://api.github.com/repos/microsoft/winget-pkgs",
         "orientation": "v",
         "showlegend": true,
         "textposition": "auto",
         "type": "bar",
         "x": [
          "https://api.github.com/repos/microsoft/winget-pkgs"
         ],
         "xaxis": "x",
         "y": [
          1678
         ],
         "yaxis": "y"
        },
        {
         "alignmentgroup": "True",
         "hovertemplate": "color=https://api.github.com/repos/NixOS/nixpkgs<br>repo_git=%{x}<br>value=%{y}<extra></extra>",
         "legendgroup": "https://api.github.com/repos/NixOS/nixpkgs",
         "marker": {
          "color": "#B6E880",
          "pattern": {
           "shape": ""
          }
         },
         "name": "https://api.github.com/repos/NixOS/nixpkgs",
         "offsetgroup": "https://api.github.com/repos/NixOS/nixpkgs",
         "orientation": "v",
         "showlegend": true,
         "textposition": "auto",
         "type": "bar",
         "x": [
          "https://api.github.com/repos/NixOS/nixpkgs"
         ],
         "xaxis": "x",
         "y": [
          1639
         ],
         "yaxis": "y"
        },
        {
         "alignmentgroup": "True",
         "hovertemplate": "color=https://api.github.com/repos/Homebrew/homebrew-core<br>repo_git=%{x}<br>value=%{y}<extra></extra>",
         "legendgroup": "https://api.github.com/repos/Homebrew/homebrew-core",
         "marker": {
          "color": "#FF97FF",
          "pattern": {
           "shape": ""
          }
         },
         "name": "https://api.github.com/repos/Homebrew/homebrew-core",
         "offsetgroup": "https://api.github.com/repos/Homebrew/homebrew-core",
         "orientation": "v",
         "showlegend": true,
         "textposition": "auto",
         "type": "bar",
         "x": [
          "https://api.github.com/repos/Homebrew/homebrew-core"
         ],
         "xaxis": "x",
         "y": [
          1602
         ],
         "yaxis": "y"
        },
        {
         "alignmentgroup": "True",
         "hovertemplate": "color=https://api.github.com/repos/leanprover-community/mathlib4<br>repo_git=%{x}<br>value=%{y}<extra></extra>",
         "legendgroup": "https://api.github.com/repos/leanprover-community/mathlib4",
         "marker": {
          "color": "#FECB52",
          "pattern": {
           "shape": ""
          }
         },
         "name": "https://api.github.com/repos/leanprover-community/mathlib4",
         "offsetgroup": "https://api.github.com/repos/leanprover-community/mathlib4",
         "orientation": "v",
         "showlegend": true,
         "textposition": "auto",
         "type": "bar",
         "x": [
          "https://api.github.com/repos/leanprover-community/mathlib4"
         ],
         "xaxis": "x",
         "y": [
          1560
         ],
         "yaxis": "y"
        },
        {
         "alignmentgroup": "True",
         "hovertemplate": "color=https://api.github.com/repos/dotnet/runtime<br>repo_git=%{x}<br>value=%{y}<extra></extra>",
         "legendgroup": "https://api.github.com/repos/dotnet/runtime",
         "marker": {
          "color": "#636efa",
          "pattern": {
           "shape": ""
          }
         },
         "name": "https://api.github.com/repos/dotnet/runtime",
         "offsetgroup": "https://api.github.com/repos/dotnet/runtime",
         "orientation": "v",
         "showlegend": true,
         "textposition": "auto",
         "type": "bar",
         "x": [
          "https://api.github.com/repos/dotnet/runtime"
         ],
         "xaxis": "x",
         "y": [
          1319
         ],
         "yaxis": "y"
        },
        {
         "alignmentgroup": "True",
         "hovertemplate": "color=https://api.github.com/repos/gear-tech/gear<br>repo_git=%{x}<br>value=%{y}<extra></extra>",
         "legendgroup": "https://api.github.com/repos/gear-tech/gear",
         "marker": {
          "color": "#EF553B",
          "pattern": {
           "shape": ""
          }
         },
         "name": "https://api.github.com/repos/gear-tech/gear",
         "offsetgroup": "https://api.github.com/repos/gear-tech/gear",
         "orientation": "v",
         "showlegend": true,
         "textposition": "auto",
         "type": "bar",
         "x": [
          "https://api.github.com/repos/gear-tech/gear"
         ],
         "xaxis": "x",
         "y": [
          1317
         ],
         "yaxis": "y"
        },
        {
         "alignmentgroup": "True",
         "hovertemplate": "color=https://api.github.com/repos/bbigras/nix-config<br>repo_git=%{x}<br>value=%{y}<extra></extra>",
         "legendgroup": "https://api.github.com/repos/bbigras/nix-config",
         "marker": {
          "color": "#00cc96",
          "pattern": {
           "shape": ""
          }
         },
         "name": "https://api.github.com/repos/bbigras/nix-config",
         "offsetgroup": "https://api.github.com/repos/bbigras/nix-config",
         "orientation": "v",
         "showlegend": true,
         "textposition": "auto",
         "type": "bar",
         "x": [
          "https://api.github.com/repos/bbigras/nix-config"
         ],
         "xaxis": "x",
         "y": [
          1310
         ],
         "yaxis": "y"
        },
        {
         "alignmentgroup": "True",
         "hovertemplate": "color=https://api.github.com/repos/golang/go<br>repo_git=%{x}<br>value=%{y}<extra></extra>",
         "legendgroup": "https://api.github.com/repos/golang/go",
         "marker": {
          "color": "#ab63fa",
          "pattern": {
           "shape": ""
          }
         },
         "name": "https://api.github.com/repos/golang/go",
         "offsetgroup": "https://api.github.com/repos/golang/go",
         "orientation": "v",
         "showlegend": true,
         "textposition": "auto",
         "type": "bar",
         "x": [
          "https://api.github.com/repos/golang/go"
         ],
         "xaxis": "x",
         "y": [
          1274
         ],
         "yaxis": "y"
        },
        {
         "alignmentgroup": "True",
         "hovertemplate": "color=https://api.github.com/repos/WebAssembly/binaryen<br>repo_git=%{x}<br>value=%{y}<extra></extra>",
         "legendgroup": "https://api.github.com/repos/WebAssembly/binaryen",
         "marker": {
          "color": "#FFA15A",
          "pattern": {
           "shape": ""
          }
         },
         "name": "https://api.github.com/repos/WebAssembly/binaryen",
         "offsetgroup": "https://api.github.com/repos/WebAssembly/binaryen",
         "orientation": "v",
         "showlegend": true,
         "textposition": "auto",
         "type": "bar",
         "x": [
          "https://api.github.com/repos/WebAssembly/binaryen"
         ],
         "xaxis": "x",
         "y": [
          1148
         ],
         "yaxis": "y"
        },
        {
         "alignmentgroup": "True",
         "hovertemplate": "color=https://api.github.com/repos/matrix-org/matrix-rust-sdk<br>repo_git=%{x}<br>value=%{y}<extra></extra>",
         "legendgroup": "https://api.github.com/repos/matrix-org/matrix-rust-sdk",
         "marker": {
          "color": "#19d3f3",
          "pattern": {
           "shape": ""
          }
         },
         "name": "https://api.github.com/repos/matrix-org/matrix-rust-sdk",
         "offsetgroup": "https://api.github.com/repos/matrix-org/matrix-rust-sdk",
         "orientation": "v",
         "showlegend": true,
         "textposition": "auto",
         "type": "bar",
         "x": [
          "https://api.github.com/repos/matrix-org/matrix-rust-sdk"
         ],
         "xaxis": "x",
         "y": [
          1140
         ],
         "yaxis": "y"
        },
        {
         "alignmentgroup": "True",
         "hovertemplate": "color=https://api.github.com/repos/containerd/runwasi<br>repo_git=%{x}<br>value=%{y}<extra></extra>",
         "legendgroup": "https://api.github.com/repos/containerd/runwasi",
         "marker": {
          "color": "#FF6692",
          "pattern": {
           "shape": ""
          }
         },
         "name": "https://api.github.com/repos/containerd/runwasi",
         "offsetgroup": "https://api.github.com/repos/containerd/runwasi",
         "orientation": "v",
         "showlegend": true,
         "textposition": "auto",
         "type": "bar",
         "x": [
          "https://api.github.com/repos/containerd/runwasi"
         ],
         "xaxis": "x",
         "y": [
          1027
         ],
         "yaxis": "y"
        },
        {
         "alignmentgroup": "True",
         "hovertemplate": "color=https://api.github.com/repos/wasmCloud/wasmCloud<br>repo_git=%{x}<br>value=%{y}<extra></extra>",
         "legendgroup": "https://api.github.com/repos/wasmCloud/wasmCloud",
         "marker": {
          "color": "#B6E880",
          "pattern": {
           "shape": ""
          }
         },
         "name": "https://api.github.com/repos/wasmCloud/wasmCloud",
         "offsetgroup": "https://api.github.com/repos/wasmCloud/wasmCloud",
         "orientation": "v",
         "showlegend": true,
         "textposition": "auto",
         "type": "bar",
         "x": [
          "https://api.github.com/repos/wasmCloud/wasmCloud"
         ],
         "xaxis": "x",
         "y": [
          987
         ],
         "yaxis": "y"
        },
        {
         "alignmentgroup": "True",
         "hovertemplate": "color=https://api.github.com/repos/dependabot/dependabot-core<br>repo_git=%{x}<br>value=%{y}<extra></extra>",
         "legendgroup": "https://api.github.com/repos/dependabot/dependabot-core",
         "marker": {
          "color": "#FF97FF",
          "pattern": {
           "shape": ""
          }
         },
         "name": "https://api.github.com/repos/dependabot/dependabot-core",
         "offsetgroup": "https://api.github.com/repos/dependabot/dependabot-core",
         "orientation": "v",
         "showlegend": true,
         "textposition": "auto",
         "type": "bar",
         "x": [
          "https://api.github.com/repos/dependabot/dependabot-core"
         ],
         "xaxis": "x",
         "y": [
          986
         ],
         "yaxis": "y"
        },
        {
         "alignmentgroup": "True",
         "hovertemplate": "color=https://api.github.com/repos/CosmWasm/cosmwasm<br>repo_git=%{x}<br>value=%{y}<extra></extra>",
         "legendgroup": "https://api.github.com/repos/CosmWasm/cosmwasm",
         "marker": {
          "color": "#FECB52",
          "pattern": {
           "shape": ""
          }
         },
         "name": "https://api.github.com/repos/CosmWasm/cosmwasm",
         "offsetgroup": "https://api.github.com/repos/CosmWasm/cosmwasm",
         "orientation": "v",
         "showlegend": true,
         "textposition": "auto",
         "type": "bar",
         "x": [
          "https://api.github.com/repos/CosmWasm/cosmwasm"
         ],
         "xaxis": "x",
         "y": [
          974
         ],
         "yaxis": "y"
        },
        {
         "alignmentgroup": "True",
         "hovertemplate": "color=https://api.github.com/repos/apollographql/router<br>repo_git=%{x}<br>value=%{y}<extra></extra>",
         "legendgroup": "https://api.github.com/repos/apollographql/router",
         "marker": {
          "color": "#636efa",
          "pattern": {
           "shape": ""
          }
         },
         "name": "https://api.github.com/repos/apollographql/router",
         "offsetgroup": "https://api.github.com/repos/apollographql/router",
         "orientation": "v",
         "showlegend": true,
         "textposition": "auto",
         "type": "bar",
         "x": [
          "https://api.github.com/repos/apollographql/router"
         ],
         "xaxis": "x",
         "y": [
          941
         ],
         "yaxis": "y"
        },
        {
         "alignmentgroup": "True",
         "hovertemplate": "color=https://api.github.com/repos/onflow/flow-go<br>repo_git=%{x}<br>value=%{y}<extra></extra>",
         "legendgroup": "https://api.github.com/repos/onflow/flow-go",
         "marker": {
          "color": "#EF553B",
          "pattern": {
           "shape": ""
          }
         },
         "name": "https://api.github.com/repos/onflow/flow-go",
         "offsetgroup": "https://api.github.com/repos/onflow/flow-go",
         "orientation": "v",
         "showlegend": true,
         "textposition": "auto",
         "type": "bar",
         "x": [
          "https://api.github.com/repos/onflow/flow-go"
         ],
         "xaxis": "x",
         "y": [
          923
         ],
         "yaxis": "y"
        },
        {
         "alignmentgroup": "True",
         "hovertemplate": "color=https://api.github.com/repos/astral-sh/ruff<br>repo_git=%{x}<br>value=%{y}<extra></extra>",
         "legendgroup": "https://api.github.com/repos/astral-sh/ruff",
         "marker": {
          "color": "#00cc96",
          "pattern": {
           "shape": ""
          }
         },
         "name": "https://api.github.com/repos/astral-sh/ruff",
         "offsetgroup": "https://api.github.com/repos/astral-sh/ruff",
         "orientation": "v",
         "showlegend": true,
         "textposition": "auto",
         "type": "bar",
         "x": [
          "https://api.github.com/repos/astral-sh/ruff"
         ],
         "xaxis": "x",
         "y": [
          920
         ],
         "yaxis": "y"
        },
        {
         "alignmentgroup": "True",
         "hovertemplate": "color=https://api.github.com/repos/FuelLabs/fuel-indexer<br>repo_git=%{x}<br>value=%{y}<extra></extra>",
         "legendgroup": "https://api.github.com/repos/FuelLabs/fuel-indexer",
         "marker": {
          "color": "#ab63fa",
          "pattern": {
           "shape": ""
          }
         },
         "name": "https://api.github.com/repos/FuelLabs/fuel-indexer",
         "offsetgroup": "https://api.github.com/repos/FuelLabs/fuel-indexer",
         "orientation": "v",
         "showlegend": true,
         "textposition": "auto",
         "type": "bar",
         "x": [
          "https://api.github.com/repos/FuelLabs/fuel-indexer"
         ],
         "xaxis": "x",
         "y": [
          916
         ],
         "yaxis": "y"
        },
        {
         "alignmentgroup": "True",
         "hovertemplate": "color=https://api.github.com/repos/ni/nimble<br>repo_git=%{x}<br>value=%{y}<extra></extra>",
         "legendgroup": "https://api.github.com/repos/ni/nimble",
         "marker": {
          "color": "#FFA15A",
          "pattern": {
           "shape": ""
          }
         },
         "name": "https://api.github.com/repos/ni/nimble",
         "offsetgroup": "https://api.github.com/repos/ni/nimble",
         "orientation": "v",
         "showlegend": true,
         "textposition": "auto",
         "type": "bar",
         "x": [
          "https://api.github.com/repos/ni/nimble"
         ],
         "xaxis": "x",
         "y": [
          901
         ],
         "yaxis": "y"
        },
        {
         "alignmentgroup": "True",
         "hovertemplate": "color=https://api.github.com/repos/massalabs/massa<br>repo_git=%{x}<br>value=%{y}<extra></extra>",
         "legendgroup": "https://api.github.com/repos/massalabs/massa",
         "marker": {
          "color": "#19d3f3",
          "pattern": {
           "shape": ""
          }
         },
         "name": "https://api.github.com/repos/massalabs/massa",
         "offsetgroup": "https://api.github.com/repos/massalabs/massa",
         "orientation": "v",
         "showlegend": true,
         "textposition": "auto",
         "type": "bar",
         "x": [
          "https://api.github.com/repos/massalabs/massa"
         ],
         "xaxis": "x",
         "y": [
          889
         ],
         "yaxis": "y"
        },
        {
         "alignmentgroup": "True",
         "hovertemplate": "color=https://api.github.com/repos/vercel/next.js<br>repo_git=%{x}<br>value=%{y}<extra></extra>",
         "legendgroup": "https://api.github.com/repos/vercel/next.js",
         "marker": {
          "color": "#FF6692",
          "pattern": {
           "shape": ""
          }
         },
         "name": "https://api.github.com/repos/vercel/next.js",
         "offsetgroup": "https://api.github.com/repos/vercel/next.js",
         "orientation": "v",
         "showlegend": true,
         "textposition": "auto",
         "type": "bar",
         "x": [
          "https://api.github.com/repos/vercel/next.js"
         ],
         "xaxis": "x",
         "y": [
          872
         ],
         "yaxis": "y"
        },
        {
         "alignmentgroup": "True",
         "hovertemplate": "color=https://api.github.com/repos/paritytech/substrate<br>repo_git=%{x}<br>value=%{y}<extra></extra>",
         "legendgroup": "https://api.github.com/repos/paritytech/substrate",
         "marker": {
          "color": "#B6E880",
          "pattern": {
           "shape": ""
          }
         },
         "name": "https://api.github.com/repos/paritytech/substrate",
         "offsetgroup": "https://api.github.com/repos/paritytech/substrate",
         "orientation": "v",
         "showlegend": true,
         "textposition": "auto",
         "type": "bar",
         "x": [
          "https://api.github.com/repos/paritytech/substrate"
         ],
         "xaxis": "x",
         "y": [
          850
         ],
         "yaxis": "y"
        },
        {
         "alignmentgroup": "True",
         "hovertemplate": "color=https://api.github.com/repos/tigerbeetle/tigerbeetle<br>repo_git=%{x}<br>value=%{y}<extra></extra>",
         "legendgroup": "https://api.github.com/repos/tigerbeetle/tigerbeetle",
         "marker": {
          "color": "#FF97FF",
          "pattern": {
           "shape": ""
          }
         },
         "name": "https://api.github.com/repos/tigerbeetle/tigerbeetle",
         "offsetgroup": "https://api.github.com/repos/tigerbeetle/tigerbeetle",
         "orientation": "v",
         "showlegend": true,
         "textposition": "auto",
         "type": "bar",
         "x": [
          "https://api.github.com/repos/tigerbeetle/tigerbeetle"
         ],
         "xaxis": "x",
         "y": [
          792
         ],
         "yaxis": "y"
        },
        {
         "alignmentgroup": "True",
         "hovertemplate": "color=https://api.github.com/repos/fermyon/developer<br>repo_git=%{x}<br>value=%{y}<extra></extra>",
         "legendgroup": "https://api.github.com/repos/fermyon/developer",
         "marker": {
          "color": "#FECB52",
          "pattern": {
           "shape": ""
          }
         },
         "name": "https://api.github.com/repos/fermyon/developer",
         "offsetgroup": "https://api.github.com/repos/fermyon/developer",
         "orientation": "v",
         "showlegend": true,
         "textposition": "auto",
         "type": "bar",
         "x": [
          "https://api.github.com/repos/fermyon/developer"
         ],
         "xaxis": "x",
         "y": [
          776
         ],
         "yaxis": "y"
        },
        {
         "alignmentgroup": "True",
         "hovertemplate": "color=https://api.github.com/repos/emscripten-core/emscripten<br>repo_git=%{x}<br>value=%{y}<extra></extra>",
         "legendgroup": "https://api.github.com/repos/emscripten-core/emscripten",
         "marker": {
          "color": "#636efa",
          "pattern": {
           "shape": ""
          }
         },
         "name": "https://api.github.com/repos/emscripten-core/emscripten",
         "offsetgroup": "https://api.github.com/repos/emscripten-core/emscripten",
         "orientation": "v",
         "showlegend": true,
         "textposition": "auto",
         "type": "bar",
         "x": [
          "https://api.github.com/repos/emscripten-core/emscripten"
         ],
         "xaxis": "x",
         "y": [
          767
         ],
         "yaxis": "y"
        },
        {
         "alignmentgroup": "True",
         "hovertemplate": "color=https://api.github.com/repos/anoma/namada<br>repo_git=%{x}<br>value=%{y}<extra></extra>",
         "legendgroup": "https://api.github.com/repos/anoma/namada",
         "marker": {
          "color": "#EF553B",
          "pattern": {
           "shape": ""
          }
         },
         "name": "https://api.github.com/repos/anoma/namada",
         "offsetgroup": "https://api.github.com/repos/anoma/namada",
         "orientation": "v",
         "showlegend": true,
         "textposition": "auto",
         "type": "bar",
         "x": [
          "https://api.github.com/repos/anoma/namada"
         ],
         "xaxis": "x",
         "y": [
          754
         ],
         "yaxis": "y"
        },
        {
         "alignmentgroup": "True",
         "hovertemplate": "color=https://api.github.com/repos/cargo-bins/cargo-binstall<br>repo_git=%{x}<br>value=%{y}<extra></extra>",
         "legendgroup": "https://api.github.com/repos/cargo-bins/cargo-binstall",
         "marker": {
          "color": "#00cc96",
          "pattern": {
           "shape": ""
          }
         },
         "name": "https://api.github.com/repos/cargo-bins/cargo-binstall",
         "offsetgroup": "https://api.github.com/repos/cargo-bins/cargo-binstall",
         "orientation": "v",
         "showlegend": true,
         "textposition": "auto",
         "type": "bar",
         "x": [
          "https://api.github.com/repos/cargo-bins/cargo-binstall"
         ],
         "xaxis": "x",
         "y": [
          735
         ],
         "yaxis": "y"
        },
        {
         "alignmentgroup": "True",
         "hovertemplate": "color=https://api.github.com/repos/andrewdavidmackenzie/flow<br>repo_git=%{x}<br>value=%{y}<extra></extra>",
         "legendgroup": "https://api.github.com/repos/andrewdavidmackenzie/flow",
         "marker": {
          "color": "#ab63fa",
          "pattern": {
           "shape": ""
          }
         },
         "name": "https://api.github.com/repos/andrewdavidmackenzie/flow",
         "offsetgroup": "https://api.github.com/repos/andrewdavidmackenzie/flow",
         "orientation": "v",
         "showlegend": true,
         "textposition": "auto",
         "type": "bar",
         "x": [
          "https://api.github.com/repos/andrewdavidmackenzie/flow"
         ],
         "xaxis": "x",
         "y": [
          726
         ],
         "yaxis": "y"
        },
        {
         "alignmentgroup": "True",
         "hovertemplate": "color=https://api.github.com/repos/fermyon/spin<br>repo_git=%{x}<br>value=%{y}<extra></extra>",
         "legendgroup": "https://api.github.com/repos/fermyon/spin",
         "marker": {
          "color": "#FFA15A",
          "pattern": {
           "shape": ""
          }
         },
         "name": "https://api.github.com/repos/fermyon/spin",
         "offsetgroup": "https://api.github.com/repos/fermyon/spin",
         "orientation": "v",
         "showlegend": true,
         "textposition": "auto",
         "type": "bar",
         "x": [
          "https://api.github.com/repos/fermyon/spin"
         ],
         "xaxis": "x",
         "y": [
          720
         ],
         "yaxis": "y"
        },
        {
         "alignmentgroup": "True",
         "hovertemplate": "color=https://api.github.com/repos/web-infra-dev/rspack<br>repo_git=%{x}<br>value=%{y}<extra></extra>",
         "legendgroup": "https://api.github.com/repos/web-infra-dev/rspack",
         "marker": {
          "color": "#19d3f3",
          "pattern": {
           "shape": ""
          }
         },
         "name": "https://api.github.com/repos/web-infra-dev/rspack",
         "offsetgroup": "https://api.github.com/repos/web-infra-dev/rspack",
         "orientation": "v",
         "showlegend": true,
         "textposition": "auto",
         "type": "bar",
         "x": [
          "https://api.github.com/repos/web-infra-dev/rspack"
         ],
         "xaxis": "x",
         "y": [
          715
         ],
         "yaxis": "y"
        },
        {
         "alignmentgroup": "True",
         "hovertemplate": "color=https://api.github.com/repos/AmbientRun/Ambient<br>repo_git=%{x}<br>value=%{y}<extra></extra>",
         "legendgroup": "https://api.github.com/repos/AmbientRun/Ambient",
         "marker": {
          "color": "#FF6692",
          "pattern": {
           "shape": ""
          }
         },
         "name": "https://api.github.com/repos/AmbientRun/Ambient",
         "offsetgroup": "https://api.github.com/repos/AmbientRun/Ambient",
         "orientation": "v",
         "showlegend": true,
         "textposition": "auto",
         "type": "bar",
         "x": [
          "https://api.github.com/repos/AmbientRun/Ambient"
         ],
         "xaxis": "x",
         "y": [
          712
         ],
         "yaxis": "y"
        },
        {
         "alignmentgroup": "True",
         "hovertemplate": "color=https://api.github.com/repos/ChainSafe/forest<br>repo_git=%{x}<br>value=%{y}<extra></extra>",
         "legendgroup": "https://api.github.com/repos/ChainSafe/forest",
         "marker": {
          "color": "#B6E880",
          "pattern": {
           "shape": ""
          }
         },
         "name": "https://api.github.com/repos/ChainSafe/forest",
         "offsetgroup": "https://api.github.com/repos/ChainSafe/forest",
         "orientation": "v",
         "showlegend": true,
         "textposition": "auto",
         "type": "bar",
         "x": [
          "https://api.github.com/repos/ChainSafe/forest"
         ],
         "xaxis": "x",
         "y": [
          699
         ],
         "yaxis": "y"
        },
        {
         "alignmentgroup": "True",
         "hovertemplate": "color=https://api.github.com/repos/llvm/llvm-project<br>repo_git=%{x}<br>value=%{y}<extra></extra>",
         "legendgroup": "https://api.github.com/repos/llvm/llvm-project",
         "marker": {
          "color": "#FF97FF",
          "pattern": {
           "shape": ""
          }
         },
         "name": "https://api.github.com/repos/llvm/llvm-project",
         "offsetgroup": "https://api.github.com/repos/llvm/llvm-project",
         "orientation": "v",
         "showlegend": true,
         "textposition": "auto",
         "type": "bar",
         "x": [
          "https://api.github.com/repos/llvm/llvm-project"
         ],
         "xaxis": "x",
         "y": [
          696
         ],
         "yaxis": "y"
        },
        {
         "alignmentgroup": "True",
         "hovertemplate": "color=https://api.github.com/repos/dotnet/aspnetcore<br>repo_git=%{x}<br>value=%{y}<extra></extra>",
         "legendgroup": "https://api.github.com/repos/dotnet/aspnetcore",
         "marker": {
          "color": "#FECB52",
          "pattern": {
           "shape": ""
          }
         },
         "name": "https://api.github.com/repos/dotnet/aspnetcore",
         "offsetgroup": "https://api.github.com/repos/dotnet/aspnetcore",
         "orientation": "v",
         "showlegend": true,
         "textposition": "auto",
         "type": "bar",
         "x": [
          "https://api.github.com/repos/dotnet/aspnetcore"
         ],
         "xaxis": "x",
         "y": [
          694
         ],
         "yaxis": "y"
        },
        {
         "alignmentgroup": "True",
         "hovertemplate": "color=https://api.github.com/repos/osmosis-labs/mesh-security<br>repo_git=%{x}<br>value=%{y}<extra></extra>",
         "legendgroup": "https://api.github.com/repos/osmosis-labs/mesh-security",
         "marker": {
          "color": "#636efa",
          "pattern": {
           "shape": ""
          }
         },
         "name": "https://api.github.com/repos/osmosis-labs/mesh-security",
         "offsetgroup": "https://api.github.com/repos/osmosis-labs/mesh-security",
         "orientation": "v",
         "showlegend": true,
         "textposition": "auto",
         "type": "bar",
         "x": [
          "https://api.github.com/repos/osmosis-labs/mesh-security"
         ],
         "xaxis": "x",
         "y": [
          689
         ],
         "yaxis": "y"
        },
        {
         "alignmentgroup": "True",
         "hovertemplate": "color=https://api.github.com/repos/paradigmxyz/reth<br>repo_git=%{x}<br>value=%{y}<extra></extra>",
         "legendgroup": "https://api.github.com/repos/paradigmxyz/reth",
         "marker": {
          "color": "#EF553B",
          "pattern": {
           "shape": ""
          }
         },
         "name": "https://api.github.com/repos/paradigmxyz/reth",
         "offsetgroup": "https://api.github.com/repos/paradigmxyz/reth",
         "orientation": "v",
         "showlegend": true,
         "textposition": "auto",
         "type": "bar",
         "x": [
          "https://api.github.com/repos/paradigmxyz/reth"
         ],
         "xaxis": "x",
         "y": [
          689
         ],
         "yaxis": "y"
        },
        {
         "alignmentgroup": "True",
         "hovertemplate": "color=https://api.github.com/repos/leptos-rs/leptos<br>repo_git=%{x}<br>value=%{y}<extra></extra>",
         "legendgroup": "https://api.github.com/repos/leptos-rs/leptos",
         "marker": {
          "color": "#00cc96",
          "pattern": {
           "shape": ""
          }
         },
         "name": "https://api.github.com/repos/leptos-rs/leptos",
         "offsetgroup": "https://api.github.com/repos/leptos-rs/leptos",
         "orientation": "v",
         "showlegend": true,
         "textposition": "auto",
         "type": "bar",
         "x": [
          "https://api.github.com/repos/leptos-rs/leptos"
         ],
         "xaxis": "x",
         "y": [
          685
         ],
         "yaxis": "y"
        },
        {
         "alignmentgroup": "True",
         "hovertemplate": "color=https://api.github.com/repos/moondance-labs/tanssi<br>repo_git=%{x}<br>value=%{y}<extra></extra>",
         "legendgroup": "https://api.github.com/repos/moondance-labs/tanssi",
         "marker": {
          "color": "#ab63fa",
          "pattern": {
           "shape": ""
          }
         },
         "name": "https://api.github.com/repos/moondance-labs/tanssi",
         "offsetgroup": "https://api.github.com/repos/moondance-labs/tanssi",
         "orientation": "v",
         "showlegend": true,
         "textposition": "auto",
         "type": "bar",
         "x": [
          "https://api.github.com/repos/moondance-labs/tanssi"
         ],
         "xaxis": "x",
         "y": [
          683
         ],
         "yaxis": "y"
        },
        {
         "alignmentgroup": "True",
         "hovertemplate": "color=https://api.github.com/repos/Kong/ngx_wasm_module<br>repo_git=%{x}<br>value=%{y}<extra></extra>",
         "legendgroup": "https://api.github.com/repos/Kong/ngx_wasm_module",
         "marker": {
          "color": "#FFA15A",
          "pattern": {
           "shape": ""
          }
         },
         "name": "https://api.github.com/repos/Kong/ngx_wasm_module",
         "offsetgroup": "https://api.github.com/repos/Kong/ngx_wasm_module",
         "orientation": "v",
         "showlegend": true,
         "textposition": "auto",
         "type": "bar",
         "x": [
          "https://api.github.com/repos/Kong/ngx_wasm_module"
         ],
         "xaxis": "x",
         "y": [
          670
         ],
         "yaxis": "y"
        },
        {
         "alignmentgroup": "True",
         "hovertemplate": "color=https://api.github.com/repos/OffchainLabs/nitro<br>repo_git=%{x}<br>value=%{y}<extra></extra>",
         "legendgroup": "https://api.github.com/repos/OffchainLabs/nitro",
         "marker": {
          "color": "#19d3f3",
          "pattern": {
           "shape": ""
          }
         },
         "name": "https://api.github.com/repos/OffchainLabs/nitro",
         "offsetgroup": "https://api.github.com/repos/OffchainLabs/nitro",
         "orientation": "v",
         "showlegend": true,
         "textposition": "auto",
         "type": "bar",
         "x": [
          "https://api.github.com/repos/OffchainLabs/nitro"
         ],
         "xaxis": "x",
         "y": [
          651
         ],
         "yaxis": "y"
        },
        {
         "alignmentgroup": "True",
         "hovertemplate": "color=https://api.github.com/repos/Azure/moby-packaging<br>repo_git=%{x}<br>value=%{y}<extra></extra>",
         "legendgroup": "https://api.github.com/repos/Azure/moby-packaging",
         "marker": {
          "color": "#FF6692",
          "pattern": {
           "shape": ""
          }
         },
         "name": "https://api.github.com/repos/Azure/moby-packaging",
         "offsetgroup": "https://api.github.com/repos/Azure/moby-packaging",
         "orientation": "v",
         "showlegend": true,
         "textposition": "auto",
         "type": "bar",
         "x": [
          "https://api.github.com/repos/Azure/moby-packaging"
         ],
         "xaxis": "x",
         "y": [
          645
         ],
         "yaxis": "y"
        },
        {
         "alignmentgroup": "True",
         "hovertemplate": "color=https://api.github.com/repos/hrydgard/ppsspp<br>repo_git=%{x}<br>value=%{y}<extra></extra>",
         "legendgroup": "https://api.github.com/repos/hrydgard/ppsspp",
         "marker": {
          "color": "#B6E880",
          "pattern": {
           "shape": ""
          }
         },
         "name": "https://api.github.com/repos/hrydgard/ppsspp",
         "offsetgroup": "https://api.github.com/repos/hrydgard/ppsspp",
         "orientation": "v",
         "showlegend": true,
         "textposition": "auto",
         "type": "bar",
         "x": [
          "https://api.github.com/repos/hrydgard/ppsspp"
         ],
         "xaxis": "x",
         "y": [
          633
         ],
         "yaxis": "y"
        },
        {
         "alignmentgroup": "True",
         "hovertemplate": "color=https://api.github.com/repos/paritytech/polkadot-sdk<br>repo_git=%{x}<br>value=%{y}<extra></extra>",
         "legendgroup": "https://api.github.com/repos/paritytech/polkadot-sdk",
         "marker": {
          "color": "#FF97FF",
          "pattern": {
           "shape": ""
          }
         },
         "name": "https://api.github.com/repos/paritytech/polkadot-sdk",
         "offsetgroup": "https://api.github.com/repos/paritytech/polkadot-sdk",
         "orientation": "v",
         "showlegend": true,
         "textposition": "auto",
         "type": "bar",
         "x": [
          "https://api.github.com/repos/paritytech/polkadot-sdk"
         ],
         "xaxis": "x",
         "y": [
          616
         ],
         "yaxis": "y"
        },
        {
         "alignmentgroup": "True",
         "hovertemplate": "color=https://api.github.com/repos/getredash/redash<br>repo_git=%{x}<br>value=%{y}<extra></extra>",
         "legendgroup": "https://api.github.com/repos/getredash/redash",
         "marker": {
          "color": "#FECB52",
          "pattern": {
           "shape": ""
          }
         },
         "name": "https://api.github.com/repos/getredash/redash",
         "offsetgroup": "https://api.github.com/repos/getredash/redash",
         "orientation": "v",
         "showlegend": true,
         "textposition": "auto",
         "type": "bar",
         "x": [
          "https://api.github.com/repos/getredash/redash"
         ],
         "xaxis": "x",
         "y": [
          611
         ],
         "yaxis": "y"
        }
       ],
       "layout": {
        "barmode": "relative",
        "legend": {
         "title": {
          "text": "color"
         },
         "tracegroupgap": 0
        },
        "margin": {
         "t": 60
        },
        "template": {
         "data": {
          "bar": [
           {
            "error_x": {
             "color": "#2a3f5f"
            },
            "error_y": {
             "color": "#2a3f5f"
            },
            "marker": {
             "line": {
              "color": "#E5ECF6",
              "width": 0.5
             },
             "pattern": {
              "fillmode": "overlay",
              "size": 10,
              "solidity": 0.2
             }
            },
            "type": "bar"
           }
          ],
          "barpolar": [
           {
            "marker": {
             "line": {
              "color": "#E5ECF6",
              "width": 0.5
             },
             "pattern": {
              "fillmode": "overlay",
              "size": 10,
              "solidity": 0.2
             }
            },
            "type": "barpolar"
           }
          ],
          "carpet": [
           {
            "aaxis": {
             "endlinecolor": "#2a3f5f",
             "gridcolor": "white",
             "linecolor": "white",
             "minorgridcolor": "white",
             "startlinecolor": "#2a3f5f"
            },
            "baxis": {
             "endlinecolor": "#2a3f5f",
             "gridcolor": "white",
             "linecolor": "white",
             "minorgridcolor": "white",
             "startlinecolor": "#2a3f5f"
            },
            "type": "carpet"
           }
          ],
          "choropleth": [
           {
            "colorbar": {
             "outlinewidth": 0,
             "ticks": ""
            },
            "type": "choropleth"
           }
          ],
          "contour": [
           {
            "colorbar": {
             "outlinewidth": 0,
             "ticks": ""
            },
            "colorscale": [
             [
              0,
              "#0d0887"
             ],
             [
              0.1111111111111111,
              "#46039f"
             ],
             [
              0.2222222222222222,
              "#7201a8"
             ],
             [
              0.3333333333333333,
              "#9c179e"
             ],
             [
              0.4444444444444444,
              "#bd3786"
             ],
             [
              0.5555555555555556,
              "#d8576b"
             ],
             [
              0.6666666666666666,
              "#ed7953"
             ],
             [
              0.7777777777777778,
              "#fb9f3a"
             ],
             [
              0.8888888888888888,
              "#fdca26"
             ],
             [
              1,
              "#f0f921"
             ]
            ],
            "type": "contour"
           }
          ],
          "contourcarpet": [
           {
            "colorbar": {
             "outlinewidth": 0,
             "ticks": ""
            },
            "type": "contourcarpet"
           }
          ],
          "heatmap": [
           {
            "colorbar": {
             "outlinewidth": 0,
             "ticks": ""
            },
            "colorscale": [
             [
              0,
              "#0d0887"
             ],
             [
              0.1111111111111111,
              "#46039f"
             ],
             [
              0.2222222222222222,
              "#7201a8"
             ],
             [
              0.3333333333333333,
              "#9c179e"
             ],
             [
              0.4444444444444444,
              "#bd3786"
             ],
             [
              0.5555555555555556,
              "#d8576b"
             ],
             [
              0.6666666666666666,
              "#ed7953"
             ],
             [
              0.7777777777777778,
              "#fb9f3a"
             ],
             [
              0.8888888888888888,
              "#fdca26"
             ],
             [
              1,
              "#f0f921"
             ]
            ],
            "type": "heatmap"
           }
          ],
          "heatmapgl": [
           {
            "colorbar": {
             "outlinewidth": 0,
             "ticks": ""
            },
            "colorscale": [
             [
              0,
              "#0d0887"
             ],
             [
              0.1111111111111111,
              "#46039f"
             ],
             [
              0.2222222222222222,
              "#7201a8"
             ],
             [
              0.3333333333333333,
              "#9c179e"
             ],
             [
              0.4444444444444444,
              "#bd3786"
             ],
             [
              0.5555555555555556,
              "#d8576b"
             ],
             [
              0.6666666666666666,
              "#ed7953"
             ],
             [
              0.7777777777777778,
              "#fb9f3a"
             ],
             [
              0.8888888888888888,
              "#fdca26"
             ],
             [
              1,
              "#f0f921"
             ]
            ],
            "type": "heatmapgl"
           }
          ],
          "histogram": [
           {
            "marker": {
             "pattern": {
              "fillmode": "overlay",
              "size": 10,
              "solidity": 0.2
             }
            },
            "type": "histogram"
           }
          ],
          "histogram2d": [
           {
            "colorbar": {
             "outlinewidth": 0,
             "ticks": ""
            },
            "colorscale": [
             [
              0,
              "#0d0887"
             ],
             [
              0.1111111111111111,
              "#46039f"
             ],
             [
              0.2222222222222222,
              "#7201a8"
             ],
             [
              0.3333333333333333,
              "#9c179e"
             ],
             [
              0.4444444444444444,
              "#bd3786"
             ],
             [
              0.5555555555555556,
              "#d8576b"
             ],
             [
              0.6666666666666666,
              "#ed7953"
             ],
             [
              0.7777777777777778,
              "#fb9f3a"
             ],
             [
              0.8888888888888888,
              "#fdca26"
             ],
             [
              1,
              "#f0f921"
             ]
            ],
            "type": "histogram2d"
           }
          ],
          "histogram2dcontour": [
           {
            "colorbar": {
             "outlinewidth": 0,
             "ticks": ""
            },
            "colorscale": [
             [
              0,
              "#0d0887"
             ],
             [
              0.1111111111111111,
              "#46039f"
             ],
             [
              0.2222222222222222,
              "#7201a8"
             ],
             [
              0.3333333333333333,
              "#9c179e"
             ],
             [
              0.4444444444444444,
              "#bd3786"
             ],
             [
              0.5555555555555556,
              "#d8576b"
             ],
             [
              0.6666666666666666,
              "#ed7953"
             ],
             [
              0.7777777777777778,
              "#fb9f3a"
             ],
             [
              0.8888888888888888,
              "#fdca26"
             ],
             [
              1,
              "#f0f921"
             ]
            ],
            "type": "histogram2dcontour"
           }
          ],
          "mesh3d": [
           {
            "colorbar": {
             "outlinewidth": 0,
             "ticks": ""
            },
            "type": "mesh3d"
           }
          ],
          "parcoords": [
           {
            "line": {
             "colorbar": {
              "outlinewidth": 0,
              "ticks": ""
             }
            },
            "type": "parcoords"
           }
          ],
          "pie": [
           {
            "automargin": true,
            "type": "pie"
           }
          ],
          "scatter": [
           {
            "fillpattern": {
             "fillmode": "overlay",
             "size": 10,
             "solidity": 0.2
            },
            "type": "scatter"
           }
          ],
          "scatter3d": [
           {
            "line": {
             "colorbar": {
              "outlinewidth": 0,
              "ticks": ""
             }
            },
            "marker": {
             "colorbar": {
              "outlinewidth": 0,
              "ticks": ""
             }
            },
            "type": "scatter3d"
           }
          ],
          "scattercarpet": [
           {
            "marker": {
             "colorbar": {
              "outlinewidth": 0,
              "ticks": ""
             }
            },
            "type": "scattercarpet"
           }
          ],
          "scattergeo": [
           {
            "marker": {
             "colorbar": {
              "outlinewidth": 0,
              "ticks": ""
             }
            },
            "type": "scattergeo"
           }
          ],
          "scattergl": [
           {
            "marker": {
             "colorbar": {
              "outlinewidth": 0,
              "ticks": ""
             }
            },
            "type": "scattergl"
           }
          ],
          "scattermapbox": [
           {
            "marker": {
             "colorbar": {
              "outlinewidth": 0,
              "ticks": ""
             }
            },
            "type": "scattermapbox"
           }
          ],
          "scatterpolar": [
           {
            "marker": {
             "colorbar": {
              "outlinewidth": 0,
              "ticks": ""
             }
            },
            "type": "scatterpolar"
           }
          ],
          "scatterpolargl": [
           {
            "marker": {
             "colorbar": {
              "outlinewidth": 0,
              "ticks": ""
             }
            },
            "type": "scatterpolargl"
           }
          ],
          "scatterternary": [
           {
            "marker": {
             "colorbar": {
              "outlinewidth": 0,
              "ticks": ""
             }
            },
            "type": "scatterternary"
           }
          ],
          "surface": [
           {
            "colorbar": {
             "outlinewidth": 0,
             "ticks": ""
            },
            "colorscale": [
             [
              0,
              "#0d0887"
             ],
             [
              0.1111111111111111,
              "#46039f"
             ],
             [
              0.2222222222222222,
              "#7201a8"
             ],
             [
              0.3333333333333333,
              "#9c179e"
             ],
             [
              0.4444444444444444,
              "#bd3786"
             ],
             [
              0.5555555555555556,
              "#d8576b"
             ],
             [
              0.6666666666666666,
              "#ed7953"
             ],
             [
              0.7777777777777778,
              "#fb9f3a"
             ],
             [
              0.8888888888888888,
              "#fdca26"
             ],
             [
              1,
              "#f0f921"
             ]
            ],
            "type": "surface"
           }
          ],
          "table": [
           {
            "cells": {
             "fill": {
              "color": "#EBF0F8"
             },
             "line": {
              "color": "white"
             }
            },
            "header": {
             "fill": {
              "color": "#C8D4E3"
             },
             "line": {
              "color": "white"
             }
            },
            "type": "table"
           }
          ]
         },
         "layout": {
          "annotationdefaults": {
           "arrowcolor": "#2a3f5f",
           "arrowhead": 0,
           "arrowwidth": 1
          },
          "autotypenumbers": "strict",
          "coloraxis": {
           "colorbar": {
            "outlinewidth": 0,
            "ticks": ""
           }
          },
          "colorscale": {
           "diverging": [
            [
             0,
             "#8e0152"
            ],
            [
             0.1,
             "#c51b7d"
            ],
            [
             0.2,
             "#de77ae"
            ],
            [
             0.3,
             "#f1b6da"
            ],
            [
             0.4,
             "#fde0ef"
            ],
            [
             0.5,
             "#f7f7f7"
            ],
            [
             0.6,
             "#e6f5d0"
            ],
            [
             0.7,
             "#b8e186"
            ],
            [
             0.8,
             "#7fbc41"
            ],
            [
             0.9,
             "#4d9221"
            ],
            [
             1,
             "#276419"
            ]
           ],
           "sequential": [
            [
             0,
             "#0d0887"
            ],
            [
             0.1111111111111111,
             "#46039f"
            ],
            [
             0.2222222222222222,
             "#7201a8"
            ],
            [
             0.3333333333333333,
             "#9c179e"
            ],
            [
             0.4444444444444444,
             "#bd3786"
            ],
            [
             0.5555555555555556,
             "#d8576b"
            ],
            [
             0.6666666666666666,
             "#ed7953"
            ],
            [
             0.7777777777777778,
             "#fb9f3a"
            ],
            [
             0.8888888888888888,
             "#fdca26"
            ],
            [
             1,
             "#f0f921"
            ]
           ],
           "sequentialminus": [
            [
             0,
             "#0d0887"
            ],
            [
             0.1111111111111111,
             "#46039f"
            ],
            [
             0.2222222222222222,
             "#7201a8"
            ],
            [
             0.3333333333333333,
             "#9c179e"
            ],
            [
             0.4444444444444444,
             "#bd3786"
            ],
            [
             0.5555555555555556,
             "#d8576b"
            ],
            [
             0.6666666666666666,
             "#ed7953"
            ],
            [
             0.7777777777777778,
             "#fb9f3a"
            ],
            [
             0.8888888888888888,
             "#fdca26"
            ],
            [
             1,
             "#f0f921"
            ]
           ]
          },
          "colorway": [
           "#636efa",
           "#EF553B",
           "#00cc96",
           "#ab63fa",
           "#FFA15A",
           "#19d3f3",
           "#FF6692",
           "#B6E880",
           "#FF97FF",
           "#FECB52"
          ],
          "font": {
           "color": "#2a3f5f"
          },
          "geo": {
           "bgcolor": "white",
           "lakecolor": "white",
           "landcolor": "#E5ECF6",
           "showlakes": true,
           "showland": true,
           "subunitcolor": "white"
          },
          "hoverlabel": {
           "align": "left"
          },
          "hovermode": "closest",
          "mapbox": {
           "style": "light"
          },
          "paper_bgcolor": "white",
          "plot_bgcolor": "#E5ECF6",
          "polar": {
           "angularaxis": {
            "gridcolor": "white",
            "linecolor": "white",
            "ticks": ""
           },
           "bgcolor": "#E5ECF6",
           "radialaxis": {
            "gridcolor": "white",
            "linecolor": "white",
            "ticks": ""
           }
          },
          "scene": {
           "xaxis": {
            "backgroundcolor": "#E5ECF6",
            "gridcolor": "white",
            "gridwidth": 2,
            "linecolor": "white",
            "showbackground": true,
            "ticks": "",
            "zerolinecolor": "white"
           },
           "yaxis": {
            "backgroundcolor": "#E5ECF6",
            "gridcolor": "white",
            "gridwidth": 2,
            "linecolor": "white",
            "showbackground": true,
            "ticks": "",
            "zerolinecolor": "white"
           },
           "zaxis": {
            "backgroundcolor": "#E5ECF6",
            "gridcolor": "white",
            "gridwidth": 2,
            "linecolor": "white",
            "showbackground": true,
            "ticks": "",
            "zerolinecolor": "white"
           }
          },
          "shapedefaults": {
           "line": {
            "color": "#2a3f5f"
           }
          },
          "ternary": {
           "aaxis": {
            "gridcolor": "white",
            "linecolor": "white",
            "ticks": ""
           },
           "baxis": {
            "gridcolor": "white",
            "linecolor": "white",
            "ticks": ""
           },
           "bgcolor": "#E5ECF6",
           "caxis": {
            "gridcolor": "white",
            "linecolor": "white",
            "ticks": ""
           }
          },
          "title": {
           "x": 0.05
          },
          "xaxis": {
           "automargin": true,
           "gridcolor": "white",
           "linecolor": "white",
           "ticks": "",
           "title": {
            "standoff": 15
           },
           "zerolinecolor": "white",
           "zerolinewidth": 2
          },
          "yaxis": {
           "automargin": true,
           "gridcolor": "white",
           "linecolor": "white",
           "ticks": "",
           "title": {
            "standoff": 15
           },
           "zerolinecolor": "white",
           "zerolinewidth": 2
          }
         }
        },
        "xaxis": {
         "anchor": "y",
         "domain": [
          0,
          1
         ],
         "title": {
          "text": "repo_git"
         }
        },
        "yaxis": {
         "anchor": "x",
         "domain": [
          0,
          1
         ],
         "title": {
          "text": "value"
         }
        }
       }
      }
     },
     "metadata": {},
     "output_type": "display_data"
    }
   ],
   "source": [
    "kc_repo_event_counts = df_known_event_stream.repo_git.value_counts()\n",
    "df_fig_rec_kc = kc_repo_event_counts.to_frame() \n",
    "\n",
    "fig_rec_kc = px.bar(\n",
    "    data_frame=df_fig_rec_kc[:50],\n",
    "    color=df_fig_rec_kc[:50].index\n",
    ")\n",
    "fig_rec_kc"
   ]
  },
  {
   "cell_type": "markdown",
   "metadata": {},
   "source": [
    "## Interpretaion\n",
    "\n",
    "We find here that some obvious WASM-specific repositories are contributed to most frequently by the contributors we already knew about.\n",
    "\n",
    "However, as one might expect, repos that are popular among the general public like 'risingwavelabs/risingwave', (which is 5th in this list and 74th among the general population, despite being a distributed streaming DB (not about WASM))\n",
    "are also popular among this slice of the general population.\n",
    "\n",
    "Our challenge now is to find those repos that are *especially* popular among this population as compared to the popularity among the general public."
   ]
  },
  {
   "cell_type": "markdown",
   "metadata": {},
   "source": [
    "# Identify disproportionately popular repos"
   ]
  },
  {
   "cell_type": "markdown",
   "metadata": {},
   "source": [
    "## Unknown contributors\n",
    "\n",
    "We want to consider the popularity of repos among people who aren't in our initial set.\n",
    "\n",
    "If our 'known' group of contributors is the subpopulation \"p\" and the general population is \"P\",\n",
    "then the group of people who are in the general population but aren't in our sub-population is \"P - p\" or \" P^ \", pronounced P-hat."
   ]
  },
  {
   "cell_type": "code",
   "execution_count": 67,
   "metadata": {},
   "outputs": [
    {
     "data": {
      "text/plain": [
       "(3354757, 8)"
      ]
     },
     "execution_count": 67,
     "metadata": {},
     "output_type": "execute_result"
    }
   ],
   "source": [
    "# Get events made by those in P^\n",
    "\n",
    "df_general_event_stream = df_event_stream[~df_event_stream.cntrb_id.isin(UUID_known)]\n",
    "df_general_event_stream.shape"
   ]
  },
  {
   "cell_type": "code",
   "execution_count": 68,
   "metadata": {},
   "outputs": [
    {
     "data": {
      "text/html": [
       "<div>\n",
       "<style scoped>\n",
       "    .dataframe tbody tr th:only-of-type {\n",
       "        vertical-align: middle;\n",
       "    }\n",
       "\n",
       "    .dataframe tbody tr th {\n",
       "        vertical-align: top;\n",
       "    }\n",
       "\n",
       "    .dataframe thead th {\n",
       "        text-align: right;\n",
       "    }\n",
       "</style>\n",
       "<table border=\"1\" class=\"dataframe\">\n",
       "  <thead>\n",
       "    <tr style=\"text-align: right;\">\n",
       "      <th></th>\n",
       "      <th>count</th>\n",
       "    </tr>\n",
       "    <tr>\n",
       "      <th>repo_git</th>\n",
       "      <th></th>\n",
       "    </tr>\n",
       "  </thead>\n",
       "  <tbody>\n",
       "    <tr>\n",
       "      <th>https://api.github.com/repos/llvm/llvm-project</th>\n",
       "      <td>42063</td>\n",
       "    </tr>\n",
       "    <tr>\n",
       "      <th>https://api.github.com/repos/pytorch/pytorch</th>\n",
       "      <td>12357</td>\n",
       "    </tr>\n",
       "    <tr>\n",
       "      <th>https://api.github.com/repos/dotnet/runtime</th>\n",
       "      <td>10659</td>\n",
       "    </tr>\n",
       "    <tr>\n",
       "      <th>https://api.github.com/repos/intel/llvm</th>\n",
       "      <td>10008</td>\n",
       "    </tr>\n",
       "    <tr>\n",
       "      <th>https://api.github.com/repos/apple/swift</th>\n",
       "      <td>9441</td>\n",
       "    </tr>\n",
       "    <tr>\n",
       "      <th>...</th>\n",
       "      <td>...</td>\n",
       "    </tr>\n",
       "    <tr>\n",
       "      <th>https://api.github.com/repos/colyseus/colyseus-sdk7</th>\n",
       "      <td>1</td>\n",
       "    </tr>\n",
       "    <tr>\n",
       "      <th>https://api.github.com/repos/decentraland-scenes/colyseus-sdk7</th>\n",
       "      <td>1</td>\n",
       "    </tr>\n",
       "    <tr>\n",
       "      <th>https://api.github.com/repos/devSquad-study/2023-CS-Study</th>\n",
       "      <td>1</td>\n",
       "    </tr>\n",
       "    <tr>\n",
       "      <th>https://api.github.com/repos/josef-reither-museum/josef-reither-museum.github.io</th>\n",
       "      <td>1</td>\n",
       "    </tr>\n",
       "    <tr>\n",
       "      <th>https://api.github.com/repos/ShiyuNee/Awesome-Conversation-Clarifying-Questions-for-Information-Retrieval</th>\n",
       "      <td>1</td>\n",
       "    </tr>\n",
       "  </tbody>\n",
       "</table>\n",
       "<p>255833 rows × 1 columns</p>\n",
       "</div>"
      ],
      "text/plain": [
       "                                                    count\n",
       "repo_git                                                 \n",
       "https://api.github.com/repos/llvm/llvm-project      42063\n",
       "https://api.github.com/repos/pytorch/pytorch        12357\n",
       "https://api.github.com/repos/dotnet/runtime         10659\n",
       "https://api.github.com/repos/intel/llvm             10008\n",
       "https://api.github.com/repos/apple/swift             9441\n",
       "...                                                   ...\n",
       "https://api.github.com/repos/colyseus/colyseus-...      1\n",
       "https://api.github.com/repos/decentraland-scene...      1\n",
       "https://api.github.com/repos/devSquad-study/202...      1\n",
       "https://api.github.com/repos/josef-reither-muse...      1\n",
       "https://api.github.com/repos/ShiyuNee/Awesome-C...      1\n",
       "\n",
       "[255833 rows x 1 columns]"
      ]
     },
     "execution_count": 68,
     "metadata": {},
     "output_type": "execute_result"
    }
   ],
   "source": [
    "# Count the events-per-repo of P^\n",
    "\n",
    "g_repo_event_counts = df_general_event_stream.repo_git.value_counts().to_frame()\n",
    "g_repo_event_counts"
   ]
  },
  {
   "cell_type": "code",
   "execution_count": 69,
   "metadata": {},
   "outputs": [
    {
     "data": {
      "text/html": [
       "<div>\n",
       "<style scoped>\n",
       "    .dataframe tbody tr th:only-of-type {\n",
       "        vertical-align: middle;\n",
       "    }\n",
       "\n",
       "    .dataframe tbody tr th {\n",
       "        vertical-align: top;\n",
       "    }\n",
       "\n",
       "    .dataframe thead th {\n",
       "        text-align: right;\n",
       "    }\n",
       "</style>\n",
       "<table border=\"1\" class=\"dataframe\">\n",
       "  <thead>\n",
       "    <tr style=\"text-align: right;\">\n",
       "      <th></th>\n",
       "      <th>count_general</th>\n",
       "      <th>count_known</th>\n",
       "    </tr>\n",
       "    <tr>\n",
       "      <th>repo_git</th>\n",
       "      <th></th>\n",
       "      <th></th>\n",
       "    </tr>\n",
       "  </thead>\n",
       "  <tbody>\n",
       "    <tr>\n",
       "      <th>https://api.github.com/repos/llvm/llvm-project</th>\n",
       "      <td>42063</td>\n",
       "      <td>696.0</td>\n",
       "    </tr>\n",
       "    <tr>\n",
       "      <th>https://api.github.com/repos/pytorch/pytorch</th>\n",
       "      <td>12357</td>\n",
       "      <td>9.0</td>\n",
       "    </tr>\n",
       "    <tr>\n",
       "      <th>https://api.github.com/repos/dotnet/runtime</th>\n",
       "      <td>10659</td>\n",
       "      <td>1319.0</td>\n",
       "    </tr>\n",
       "    <tr>\n",
       "      <th>https://api.github.com/repos/apple/swift</th>\n",
       "      <td>9441</td>\n",
       "      <td>129.0</td>\n",
       "    </tr>\n",
       "    <tr>\n",
       "      <th>https://api.github.com/repos/rust-lang/rust</th>\n",
       "      <td>8158</td>\n",
       "      <td>4070.0</td>\n",
       "    </tr>\n",
       "    <tr>\n",
       "      <th>...</th>\n",
       "      <td>...</td>\n",
       "      <td>...</td>\n",
       "    </tr>\n",
       "    <tr>\n",
       "      <th>https://api.github.com/repos/erleans/pgo</th>\n",
       "      <td>1</td>\n",
       "      <td>1.0</td>\n",
       "    </tr>\n",
       "    <tr>\n",
       "      <th>https://api.github.com/repos/epi2me-labs/wf-metagenomics</th>\n",
       "      <td>1</td>\n",
       "      <td>1.0</td>\n",
       "    </tr>\n",
       "    <tr>\n",
       "      <th>https://api.github.com/repos/madebr/setup-sdl</th>\n",
       "      <td>1</td>\n",
       "      <td>3.0</td>\n",
       "    </tr>\n",
       "    <tr>\n",
       "      <th>https://api.github.com/repos/railsgirls/guides.railsgirls.com</th>\n",
       "      <td>1</td>\n",
       "      <td>7.0</td>\n",
       "    </tr>\n",
       "    <tr>\n",
       "      <th>https://api.github.com/repos/fails-components/webtransport</th>\n",
       "      <td>1</td>\n",
       "      <td>11.0</td>\n",
       "    </tr>\n",
       "  </tbody>\n",
       "</table>\n",
       "<p>14944 rows × 2 columns</p>\n",
       "</div>"
      ],
      "text/plain": [
       "                                                    count_general  count_known\n",
       "repo_git                                                                      \n",
       "https://api.github.com/repos/llvm/llvm-project              42063        696.0\n",
       "https://api.github.com/repos/pytorch/pytorch                12357          9.0\n",
       "https://api.github.com/repos/dotnet/runtime                 10659       1319.0\n",
       "https://api.github.com/repos/apple/swift                     9441        129.0\n",
       "https://api.github.com/repos/rust-lang/rust                  8158       4070.0\n",
       "...                                                           ...          ...\n",
       "https://api.github.com/repos/erleans/pgo                        1          1.0\n",
       "https://api.github.com/repos/epi2me-labs/wf-met...              1          1.0\n",
       "https://api.github.com/repos/madebr/setup-sdl                   1          3.0\n",
       "https://api.github.com/repos/railsgirls/guides....              1          7.0\n",
       "https://api.github.com/repos/fails-components/w...              1         11.0\n",
       "\n",
       "[14944 rows x 2 columns]"
      ]
     },
     "execution_count": 69,
     "metadata": {},
     "output_type": "execute_result"
    }
   ],
   "source": [
    "# Join the counts of P^ with those of p\n",
    "\n",
    "joined_counts = g_repo_event_counts.join(\n",
    "    other=kc_repo_event_counts.to_frame(),\n",
    "    on=\"repo_git\",\n",
    "    how=\"left\",\n",
    "    lsuffix=\"_general\",\n",
    "    rsuffix=\"_known\",\n",
    ")\n",
    "\n",
    "joined_counts = joined_counts.dropna()\n",
    "joined_counts"
   ]
  },
  {
   "cell_type": "markdown",
   "metadata": {},
   "source": [
    "## Simple approach\n",
    "\n",
    "In this figure we visualize the count of contributions from those in 'p' and 'P^' stacked on top of one another. \n",
    "\n",
    "Most of the most-contributed-to projects of those in 'p' are also most-contributed-to by members of 'p' (they are not also largely contributed to by those in 'P^').\n",
    "\n",
    "Some notable visual exceptions are 'NixOS/nixpkgs,' 'dotnet/runtime,' 'astral-sh/ruff,' 'paritytech/substrate,' and 'llvm/llvm-project.'"
   ]
  },
  {
   "cell_type": "code",
   "execution_count": 70,
   "metadata": {},
   "outputs": [
    {
     "data": {
      "application/vnd.plotly.v1+json": {
       "config": {
        "plotlyServerURL": "https://plot.ly"
       },
       "data": [
        {
         "alignmentgroup": "True",
         "hovertemplate": "variable=count_general<br>repo_git=%{x}<br>value=%{y}<extra></extra>",
         "legendgroup": "count_general",
         "marker": {
          "color": "#636efa",
          "pattern": {
           "shape": ""
          }
         },
         "name": "count_general",
         "offsetgroup": "count_general",
         "orientation": "v",
         "showlegend": true,
         "textposition": "auto",
         "type": "bar",
         "x": [
          "https://api.github.com/repos/rust-lang/rust",
          "https://api.github.com/repos/bytecodealliance/wasmtime",
          "https://api.github.com/repos/WasmEdge/WasmEdge",
          "https://api.github.com/repos/wasmerio/wasmer",
          "https://api.github.com/repos/risingwavelabs/risingwave",
          "https://api.github.com/repos/noir-lang/noir",
          "https://api.github.com/repos/microsoft/winget-pkgs",
          "https://api.github.com/repos/NixOS/nixpkgs",
          "https://api.github.com/repos/Homebrew/homebrew-core",
          "https://api.github.com/repos/leanprover-community/mathlib4",
          "https://api.github.com/repos/dotnet/runtime",
          "https://api.github.com/repos/gear-tech/gear",
          "https://api.github.com/repos/golang/go",
          "https://api.github.com/repos/WebAssembly/binaryen",
          "https://api.github.com/repos/matrix-org/matrix-rust-sdk",
          "https://api.github.com/repos/containerd/runwasi",
          "https://api.github.com/repos/wasmCloud/wasmCloud",
          "https://api.github.com/repos/dependabot/dependabot-core",
          "https://api.github.com/repos/CosmWasm/cosmwasm",
          "https://api.github.com/repos/apollographql/router",
          "https://api.github.com/repos/onflow/flow-go",
          "https://api.github.com/repos/astral-sh/ruff",
          "https://api.github.com/repos/FuelLabs/fuel-indexer",
          "https://api.github.com/repos/ni/nimble",
          "https://api.github.com/repos/massalabs/massa",
          "https://api.github.com/repos/vercel/next.js",
          "https://api.github.com/repos/paritytech/substrate",
          "https://api.github.com/repos/tigerbeetle/tigerbeetle",
          "https://api.github.com/repos/fermyon/developer",
          "https://api.github.com/repos/emscripten-core/emscripten",
          "https://api.github.com/repos/anoma/namada",
          "https://api.github.com/repos/cargo-bins/cargo-binstall",
          "https://api.github.com/repos/fermyon/spin",
          "https://api.github.com/repos/web-infra-dev/rspack",
          "https://api.github.com/repos/AmbientRun/Ambient",
          "https://api.github.com/repos/ChainSafe/forest",
          "https://api.github.com/repos/llvm/llvm-project",
          "https://api.github.com/repos/dotnet/aspnetcore",
          "https://api.github.com/repos/paradigmxyz/reth",
          "https://api.github.com/repos/osmosis-labs/mesh-security",
          "https://api.github.com/repos/leptos-rs/leptos",
          "https://api.github.com/repos/moondance-labs/tanssi",
          "https://api.github.com/repos/Kong/ngx_wasm_module",
          "https://api.github.com/repos/OffchainLabs/nitro",
          "https://api.github.com/repos/hrydgard/ppsspp",
          "https://api.github.com/repos/paritytech/polkadot-sdk",
          "https://api.github.com/repos/getredash/redash",
          "https://api.github.com/repos/swc-project/swc",
          "https://api.github.com/repos/filecoin-project/lotus",
          "https://api.github.com/repos/stealthrocket/timecraft"
         ],
         "xaxis": "x",
         "y": [
          8158,
          383,
          149,
          95,
          19,
          1015,
          1853,
          6514,
          1563,
          1608,
          10659,
          2388,
          2536,
          663,
          310,
          130,
          743,
          20,
          16,
          1118,
          558,
          3626,
          25,
          714,
          177,
          1392,
          3038,
          26,
          1107,
          3711,
          618,
          96,
          1176,
          42,
          42,
          1307,
          42063,
          1285,
          153,
          43,
          206,
          1,
          137,
          49,
          38,
          3014,
          6,
          133,
          61,
          275
         ],
         "yaxis": "y"
        },
        {
         "alignmentgroup": "True",
         "hovertemplate": "variable=count_known<br>repo_git=%{x}<br>value=%{y}<extra></extra>",
         "legendgroup": "count_known",
         "marker": {
          "color": "#EF553B",
          "pattern": {
           "shape": ""
          }
         },
         "name": "count_known",
         "offsetgroup": "count_known",
         "orientation": "v",
         "showlegend": true,
         "textposition": "auto",
         "type": "bar",
         "x": [
          "https://api.github.com/repos/rust-lang/rust",
          "https://api.github.com/repos/bytecodealliance/wasmtime",
          "https://api.github.com/repos/WasmEdge/WasmEdge",
          "https://api.github.com/repos/wasmerio/wasmer",
          "https://api.github.com/repos/risingwavelabs/risingwave",
          "https://api.github.com/repos/noir-lang/noir",
          "https://api.github.com/repos/microsoft/winget-pkgs",
          "https://api.github.com/repos/NixOS/nixpkgs",
          "https://api.github.com/repos/Homebrew/homebrew-core",
          "https://api.github.com/repos/leanprover-community/mathlib4",
          "https://api.github.com/repos/dotnet/runtime",
          "https://api.github.com/repos/gear-tech/gear",
          "https://api.github.com/repos/golang/go",
          "https://api.github.com/repos/WebAssembly/binaryen",
          "https://api.github.com/repos/matrix-org/matrix-rust-sdk",
          "https://api.github.com/repos/containerd/runwasi",
          "https://api.github.com/repos/wasmCloud/wasmCloud",
          "https://api.github.com/repos/dependabot/dependabot-core",
          "https://api.github.com/repos/CosmWasm/cosmwasm",
          "https://api.github.com/repos/apollographql/router",
          "https://api.github.com/repos/onflow/flow-go",
          "https://api.github.com/repos/astral-sh/ruff",
          "https://api.github.com/repos/FuelLabs/fuel-indexer",
          "https://api.github.com/repos/ni/nimble",
          "https://api.github.com/repos/massalabs/massa",
          "https://api.github.com/repos/vercel/next.js",
          "https://api.github.com/repos/paritytech/substrate",
          "https://api.github.com/repos/tigerbeetle/tigerbeetle",
          "https://api.github.com/repos/fermyon/developer",
          "https://api.github.com/repos/emscripten-core/emscripten",
          "https://api.github.com/repos/anoma/namada",
          "https://api.github.com/repos/cargo-bins/cargo-binstall",
          "https://api.github.com/repos/fermyon/spin",
          "https://api.github.com/repos/web-infra-dev/rspack",
          "https://api.github.com/repos/AmbientRun/Ambient",
          "https://api.github.com/repos/ChainSafe/forest",
          "https://api.github.com/repos/llvm/llvm-project",
          "https://api.github.com/repos/dotnet/aspnetcore",
          "https://api.github.com/repos/paradigmxyz/reth",
          "https://api.github.com/repos/osmosis-labs/mesh-security",
          "https://api.github.com/repos/leptos-rs/leptos",
          "https://api.github.com/repos/moondance-labs/tanssi",
          "https://api.github.com/repos/Kong/ngx_wasm_module",
          "https://api.github.com/repos/OffchainLabs/nitro",
          "https://api.github.com/repos/hrydgard/ppsspp",
          "https://api.github.com/repos/paritytech/polkadot-sdk",
          "https://api.github.com/repos/getredash/redash",
          "https://api.github.com/repos/swc-project/swc",
          "https://api.github.com/repos/filecoin-project/lotus",
          "https://api.github.com/repos/stealthrocket/timecraft"
         ],
         "xaxis": "x",
         "y": [
          4070,
          2714,
          2614,
          2007,
          1954,
          1771,
          1678,
          1639,
          1602,
          1560,
          1319,
          1317,
          1274,
          1148,
          1140,
          1027,
          987,
          986,
          974,
          941,
          923,
          920,
          916,
          901,
          889,
          872,
          850,
          792,
          776,
          767,
          754,
          735,
          720,
          715,
          712,
          699,
          696,
          694,
          689,
          689,
          685,
          683,
          670,
          651,
          633,
          616,
          611,
          599,
          588,
          588
         ],
         "yaxis": "y"
        }
       ],
       "layout": {
        "barmode": "relative",
        "legend": {
         "title": {
          "text": "variable"
         },
         "tracegroupgap": 0
        },
        "margin": {
         "t": 60
        },
        "template": {
         "data": {
          "bar": [
           {
            "error_x": {
             "color": "#2a3f5f"
            },
            "error_y": {
             "color": "#2a3f5f"
            },
            "marker": {
             "line": {
              "color": "#E5ECF6",
              "width": 0.5
             },
             "pattern": {
              "fillmode": "overlay",
              "size": 10,
              "solidity": 0.2
             }
            },
            "type": "bar"
           }
          ],
          "barpolar": [
           {
            "marker": {
             "line": {
              "color": "#E5ECF6",
              "width": 0.5
             },
             "pattern": {
              "fillmode": "overlay",
              "size": 10,
              "solidity": 0.2
             }
            },
            "type": "barpolar"
           }
          ],
          "carpet": [
           {
            "aaxis": {
             "endlinecolor": "#2a3f5f",
             "gridcolor": "white",
             "linecolor": "white",
             "minorgridcolor": "white",
             "startlinecolor": "#2a3f5f"
            },
            "baxis": {
             "endlinecolor": "#2a3f5f",
             "gridcolor": "white",
             "linecolor": "white",
             "minorgridcolor": "white",
             "startlinecolor": "#2a3f5f"
            },
            "type": "carpet"
           }
          ],
          "choropleth": [
           {
            "colorbar": {
             "outlinewidth": 0,
             "ticks": ""
            },
            "type": "choropleth"
           }
          ],
          "contour": [
           {
            "colorbar": {
             "outlinewidth": 0,
             "ticks": ""
            },
            "colorscale": [
             [
              0,
              "#0d0887"
             ],
             [
              0.1111111111111111,
              "#46039f"
             ],
             [
              0.2222222222222222,
              "#7201a8"
             ],
             [
              0.3333333333333333,
              "#9c179e"
             ],
             [
              0.4444444444444444,
              "#bd3786"
             ],
             [
              0.5555555555555556,
              "#d8576b"
             ],
             [
              0.6666666666666666,
              "#ed7953"
             ],
             [
              0.7777777777777778,
              "#fb9f3a"
             ],
             [
              0.8888888888888888,
              "#fdca26"
             ],
             [
              1,
              "#f0f921"
             ]
            ],
            "type": "contour"
           }
          ],
          "contourcarpet": [
           {
            "colorbar": {
             "outlinewidth": 0,
             "ticks": ""
            },
            "type": "contourcarpet"
           }
          ],
          "heatmap": [
           {
            "colorbar": {
             "outlinewidth": 0,
             "ticks": ""
            },
            "colorscale": [
             [
              0,
              "#0d0887"
             ],
             [
              0.1111111111111111,
              "#46039f"
             ],
             [
              0.2222222222222222,
              "#7201a8"
             ],
             [
              0.3333333333333333,
              "#9c179e"
             ],
             [
              0.4444444444444444,
              "#bd3786"
             ],
             [
              0.5555555555555556,
              "#d8576b"
             ],
             [
              0.6666666666666666,
              "#ed7953"
             ],
             [
              0.7777777777777778,
              "#fb9f3a"
             ],
             [
              0.8888888888888888,
              "#fdca26"
             ],
             [
              1,
              "#f0f921"
             ]
            ],
            "type": "heatmap"
           }
          ],
          "heatmapgl": [
           {
            "colorbar": {
             "outlinewidth": 0,
             "ticks": ""
            },
            "colorscale": [
             [
              0,
              "#0d0887"
             ],
             [
              0.1111111111111111,
              "#46039f"
             ],
             [
              0.2222222222222222,
              "#7201a8"
             ],
             [
              0.3333333333333333,
              "#9c179e"
             ],
             [
              0.4444444444444444,
              "#bd3786"
             ],
             [
              0.5555555555555556,
              "#d8576b"
             ],
             [
              0.6666666666666666,
              "#ed7953"
             ],
             [
              0.7777777777777778,
              "#fb9f3a"
             ],
             [
              0.8888888888888888,
              "#fdca26"
             ],
             [
              1,
              "#f0f921"
             ]
            ],
            "type": "heatmapgl"
           }
          ],
          "histogram": [
           {
            "marker": {
             "pattern": {
              "fillmode": "overlay",
              "size": 10,
              "solidity": 0.2
             }
            },
            "type": "histogram"
           }
          ],
          "histogram2d": [
           {
            "colorbar": {
             "outlinewidth": 0,
             "ticks": ""
            },
            "colorscale": [
             [
              0,
              "#0d0887"
             ],
             [
              0.1111111111111111,
              "#46039f"
             ],
             [
              0.2222222222222222,
              "#7201a8"
             ],
             [
              0.3333333333333333,
              "#9c179e"
             ],
             [
              0.4444444444444444,
              "#bd3786"
             ],
             [
              0.5555555555555556,
              "#d8576b"
             ],
             [
              0.6666666666666666,
              "#ed7953"
             ],
             [
              0.7777777777777778,
              "#fb9f3a"
             ],
             [
              0.8888888888888888,
              "#fdca26"
             ],
             [
              1,
              "#f0f921"
             ]
            ],
            "type": "histogram2d"
           }
          ],
          "histogram2dcontour": [
           {
            "colorbar": {
             "outlinewidth": 0,
             "ticks": ""
            },
            "colorscale": [
             [
              0,
              "#0d0887"
             ],
             [
              0.1111111111111111,
              "#46039f"
             ],
             [
              0.2222222222222222,
              "#7201a8"
             ],
             [
              0.3333333333333333,
              "#9c179e"
             ],
             [
              0.4444444444444444,
              "#bd3786"
             ],
             [
              0.5555555555555556,
              "#d8576b"
             ],
             [
              0.6666666666666666,
              "#ed7953"
             ],
             [
              0.7777777777777778,
              "#fb9f3a"
             ],
             [
              0.8888888888888888,
              "#fdca26"
             ],
             [
              1,
              "#f0f921"
             ]
            ],
            "type": "histogram2dcontour"
           }
          ],
          "mesh3d": [
           {
            "colorbar": {
             "outlinewidth": 0,
             "ticks": ""
            },
            "type": "mesh3d"
           }
          ],
          "parcoords": [
           {
            "line": {
             "colorbar": {
              "outlinewidth": 0,
              "ticks": ""
             }
            },
            "type": "parcoords"
           }
          ],
          "pie": [
           {
            "automargin": true,
            "type": "pie"
           }
          ],
          "scatter": [
           {
            "fillpattern": {
             "fillmode": "overlay",
             "size": 10,
             "solidity": 0.2
            },
            "type": "scatter"
           }
          ],
          "scatter3d": [
           {
            "line": {
             "colorbar": {
              "outlinewidth": 0,
              "ticks": ""
             }
            },
            "marker": {
             "colorbar": {
              "outlinewidth": 0,
              "ticks": ""
             }
            },
            "type": "scatter3d"
           }
          ],
          "scattercarpet": [
           {
            "marker": {
             "colorbar": {
              "outlinewidth": 0,
              "ticks": ""
             }
            },
            "type": "scattercarpet"
           }
          ],
          "scattergeo": [
           {
            "marker": {
             "colorbar": {
              "outlinewidth": 0,
              "ticks": ""
             }
            },
            "type": "scattergeo"
           }
          ],
          "scattergl": [
           {
            "marker": {
             "colorbar": {
              "outlinewidth": 0,
              "ticks": ""
             }
            },
            "type": "scattergl"
           }
          ],
          "scattermapbox": [
           {
            "marker": {
             "colorbar": {
              "outlinewidth": 0,
              "ticks": ""
             }
            },
            "type": "scattermapbox"
           }
          ],
          "scatterpolar": [
           {
            "marker": {
             "colorbar": {
              "outlinewidth": 0,
              "ticks": ""
             }
            },
            "type": "scatterpolar"
           }
          ],
          "scatterpolargl": [
           {
            "marker": {
             "colorbar": {
              "outlinewidth": 0,
              "ticks": ""
             }
            },
            "type": "scatterpolargl"
           }
          ],
          "scatterternary": [
           {
            "marker": {
             "colorbar": {
              "outlinewidth": 0,
              "ticks": ""
             }
            },
            "type": "scatterternary"
           }
          ],
          "surface": [
           {
            "colorbar": {
             "outlinewidth": 0,
             "ticks": ""
            },
            "colorscale": [
             [
              0,
              "#0d0887"
             ],
             [
              0.1111111111111111,
              "#46039f"
             ],
             [
              0.2222222222222222,
              "#7201a8"
             ],
             [
              0.3333333333333333,
              "#9c179e"
             ],
             [
              0.4444444444444444,
              "#bd3786"
             ],
             [
              0.5555555555555556,
              "#d8576b"
             ],
             [
              0.6666666666666666,
              "#ed7953"
             ],
             [
              0.7777777777777778,
              "#fb9f3a"
             ],
             [
              0.8888888888888888,
              "#fdca26"
             ],
             [
              1,
              "#f0f921"
             ]
            ],
            "type": "surface"
           }
          ],
          "table": [
           {
            "cells": {
             "fill": {
              "color": "#EBF0F8"
             },
             "line": {
              "color": "white"
             }
            },
            "header": {
             "fill": {
              "color": "#C8D4E3"
             },
             "line": {
              "color": "white"
             }
            },
            "type": "table"
           }
          ]
         },
         "layout": {
          "annotationdefaults": {
           "arrowcolor": "#2a3f5f",
           "arrowhead": 0,
           "arrowwidth": 1
          },
          "autotypenumbers": "strict",
          "coloraxis": {
           "colorbar": {
            "outlinewidth": 0,
            "ticks": ""
           }
          },
          "colorscale": {
           "diverging": [
            [
             0,
             "#8e0152"
            ],
            [
             0.1,
             "#c51b7d"
            ],
            [
             0.2,
             "#de77ae"
            ],
            [
             0.3,
             "#f1b6da"
            ],
            [
             0.4,
             "#fde0ef"
            ],
            [
             0.5,
             "#f7f7f7"
            ],
            [
             0.6,
             "#e6f5d0"
            ],
            [
             0.7,
             "#b8e186"
            ],
            [
             0.8,
             "#7fbc41"
            ],
            [
             0.9,
             "#4d9221"
            ],
            [
             1,
             "#276419"
            ]
           ],
           "sequential": [
            [
             0,
             "#0d0887"
            ],
            [
             0.1111111111111111,
             "#46039f"
            ],
            [
             0.2222222222222222,
             "#7201a8"
            ],
            [
             0.3333333333333333,
             "#9c179e"
            ],
            [
             0.4444444444444444,
             "#bd3786"
            ],
            [
             0.5555555555555556,
             "#d8576b"
            ],
            [
             0.6666666666666666,
             "#ed7953"
            ],
            [
             0.7777777777777778,
             "#fb9f3a"
            ],
            [
             0.8888888888888888,
             "#fdca26"
            ],
            [
             1,
             "#f0f921"
            ]
           ],
           "sequentialminus": [
            [
             0,
             "#0d0887"
            ],
            [
             0.1111111111111111,
             "#46039f"
            ],
            [
             0.2222222222222222,
             "#7201a8"
            ],
            [
             0.3333333333333333,
             "#9c179e"
            ],
            [
             0.4444444444444444,
             "#bd3786"
            ],
            [
             0.5555555555555556,
             "#d8576b"
            ],
            [
             0.6666666666666666,
             "#ed7953"
            ],
            [
             0.7777777777777778,
             "#fb9f3a"
            ],
            [
             0.8888888888888888,
             "#fdca26"
            ],
            [
             1,
             "#f0f921"
            ]
           ]
          },
          "colorway": [
           "#636efa",
           "#EF553B",
           "#00cc96",
           "#ab63fa",
           "#FFA15A",
           "#19d3f3",
           "#FF6692",
           "#B6E880",
           "#FF97FF",
           "#FECB52"
          ],
          "font": {
           "color": "#2a3f5f"
          },
          "geo": {
           "bgcolor": "white",
           "lakecolor": "white",
           "landcolor": "#E5ECF6",
           "showlakes": true,
           "showland": true,
           "subunitcolor": "white"
          },
          "hoverlabel": {
           "align": "left"
          },
          "hovermode": "closest",
          "mapbox": {
           "style": "light"
          },
          "paper_bgcolor": "white",
          "plot_bgcolor": "#E5ECF6",
          "polar": {
           "angularaxis": {
            "gridcolor": "white",
            "linecolor": "white",
            "ticks": ""
           },
           "bgcolor": "#E5ECF6",
           "radialaxis": {
            "gridcolor": "white",
            "linecolor": "white",
            "ticks": ""
           }
          },
          "scene": {
           "xaxis": {
            "backgroundcolor": "#E5ECF6",
            "gridcolor": "white",
            "gridwidth": 2,
            "linecolor": "white",
            "showbackground": true,
            "ticks": "",
            "zerolinecolor": "white"
           },
           "yaxis": {
            "backgroundcolor": "#E5ECF6",
            "gridcolor": "white",
            "gridwidth": 2,
            "linecolor": "white",
            "showbackground": true,
            "ticks": "",
            "zerolinecolor": "white"
           },
           "zaxis": {
            "backgroundcolor": "#E5ECF6",
            "gridcolor": "white",
            "gridwidth": 2,
            "linecolor": "white",
            "showbackground": true,
            "ticks": "",
            "zerolinecolor": "white"
           }
          },
          "shapedefaults": {
           "line": {
            "color": "#2a3f5f"
           }
          },
          "ternary": {
           "aaxis": {
            "gridcolor": "white",
            "linecolor": "white",
            "ticks": ""
           },
           "baxis": {
            "gridcolor": "white",
            "linecolor": "white",
            "ticks": ""
           },
           "bgcolor": "#E5ECF6",
           "caxis": {
            "gridcolor": "white",
            "linecolor": "white",
            "ticks": ""
           }
          },
          "title": {
           "x": 0.05
          },
          "xaxis": {
           "automargin": true,
           "gridcolor": "white",
           "linecolor": "white",
           "ticks": "",
           "title": {
            "standoff": 15
           },
           "zerolinecolor": "white",
           "zerolinewidth": 2
          },
          "yaxis": {
           "automargin": true,
           "gridcolor": "white",
           "linecolor": "white",
           "ticks": "",
           "title": {
            "standoff": 15
           },
           "zerolinecolor": "white",
           "zerolinewidth": 2
          }
         }
        },
        "xaxis": {
         "anchor": "y",
         "domain": [
          0,
          1
         ],
         "title": {
          "text": "repo_git"
         }
        },
        "yaxis": {
         "anchor": "x",
         "domain": [
          0,
          1
         ],
         "title": {
          "text": "value"
         }
        }
       }
      }
     },
     "metadata": {},
     "output_type": "display_data"
    }
   ],
   "source": [
    "fig_joined_counts = px.bar(\n",
    "    data_frame=joined_counts\n",
    "    .sort_values(by=\"count_known\", ascending=False) # sort the joined_counts df by the number of contributions made by those in p\n",
    "    [:50], # only take the first 50\n",
    "    y=[\"count_general\", \"count_known\"]\n",
    ")\n",
    "fig_joined_counts"
   ]
  },
  {
   "cell_type": "markdown",
   "metadata": {},
   "source": [
    "## Most sophisticated approach\n",
    "\n",
    "Consider those contributors who are the most central in the kernel of projects we consider at the outset.\n",
    "\n",
    "We could reasonably assume that if they're very central in the kernel of projects, then they're very interested in the ecosystem we're considering."
   ]
  },
  {
   "cell_type": "code",
   "execution_count": null,
   "metadata": {},
   "outputs": [],
   "source": []
  }
 ],
 "metadata": {
  "kernelspec": {
   "display_name": "Python 3",
   "language": "python",
   "name": "python3"
  },
  "language_info": {
   "codemirror_mode": {
    "name": "ipython",
    "version": 3
   },
   "file_extension": ".py",
   "mimetype": "text/x-python",
   "name": "python",
   "nbconvert_exporter": "python",
   "pygments_lexer": "ipython3",
   "version": "3.11.5"
  },
  "orig_nbformat": 4
 },
 "nbformat": 4,
 "nbformat_minor": 2
}
