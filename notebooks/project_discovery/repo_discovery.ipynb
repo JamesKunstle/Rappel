{
 "cells": [
  {
   "cell_type": "markdown",
   "metadata": {},
   "source": [
    "# Repository Discovery\n",
    "\n",
    "It is difficult, without specialized knowledge or dedicated inspection, to determine how repos on Github are related to one another.\n",
    "\n",
    "Which projects (repos) are trying to solve the same problem? Which are in the same ecosystem? Which pre-date which others?\n",
    "\n",
    "We've begun to study this problem using the abstract model of networks. Our approach is summarized by the neuroscience Hebbian mneumonic approximation: \"fire together, wire together.\"\n",
    "Said with greater context, groups of projects that share features (contributors, in this first exploration) are more likely than others to do similar things.\n",
    "\n",
    "We expect projects in the container orchestration space to, pairwise, share more contributors together than with projects outside of that context, on average.\n",
    "\n",
    "## This notebook's contribution\n",
    "\n",
    "In this notebook, we attempt to solve a challenging problem:\n",
    "\n",
    "**Given the contributors in a known kernel of projects within the same domain, identify relevant, previously censored, repos that those contributors have also taken part in.**\n",
    "\n",
    "Similarly,\n",
    "\n",
    "**Given a list of newly discovered potential ecosystem member repositories, identify those that are the most preeminent, filtering out those that are natural 'noise,' irrelevant to the studied ecosystem.**"
   ]
  },
  {
   "cell_type": "markdown",
   "metadata": {},
   "source": [
    "# Setup\n",
    "\n",
    "Import Python packages, load database access credentials, define connection to DB."
   ]
  },
  {
   "cell_type": "code",
   "execution_count": 1,
   "metadata": {},
   "outputs": [],
   "source": [
    "#IMPORTS\n",
    "import pandas as pd\n",
    "import sqlalchemy as salc\n",
    "import plotly.express as px\n",
    "import pyarrow\n",
    "import json\n",
    "import uuid\n",
    "from IPython.display import Image"
   ]
  },
  {
   "cell_type": "code",
   "execution_count": 2,
   "metadata": {},
   "outputs": [],
   "source": [
    "#DATABASE ACCESS\n",
    "\n",
    "with open(\"wasm_creds.json\") as config_file:\n",
    "    config = json.load(config_file)\n",
    "\n",
    "database_connection_string = f\"postgresql+psycopg2://{config['user']}:{config['password']}@{config['host']}:{config['port']}/{config['database']}\"\n",
    "\n",
    "engine = salc.create_engine(\n",
    "    database_connection_string,\n",
    "    connect_args={'options': f\"-csearch_path={'augur_data'}\"})"
   ]
  },
  {
   "cell_type": "code",
   "execution_count": 3,
   "metadata": {},
   "outputs": [],
   "source": [
    "# SWITCHES\n",
    "\n",
    "LOCAL_DATA = True "
   ]
  },
  {
   "cell_type": "markdown",
   "metadata": {},
   "source": [
    "# Known contributors\n",
    "\n",
    "At the outset, we identified a kernel of projects that we are highly confident exist within our ecosystem of interest.\n",
    "\n",
    "**NOTE:** We refer to 'kernel' here as an abstract mathematical centerpoint of our analysis. We aren't referring to the software artifact at the center of an operating system.\n",
    "\n",
    "From this kernel of projects, we identified all of the contributors and ranked them based on how they interacted with one another.\n",
    "\n",
    "Those who interact with many others in a valuable way are more highly ranked than those who never interact whatsover, and soforth.\n",
    "\n",
    "The data below is the artifact from that analysis, where each row is: {contributor_id, contributor_importance_ranking}\n",
    "\n",
    "---\n",
    "\n",
    "For reference, this work is at the following absolute path in this repository:\n",
    "\n",
    "`Rappel/notebooks/8knot/collab_network/wasm/collabs.ipynb`"
   ]
  },
  {
   "cell_type": "code",
   "execution_count": 4,
   "metadata": {},
   "outputs": [
    {
     "data": {
      "text/html": [
       "<div>\n",
       "<style scoped>\n",
       "    .dataframe tbody tr th:only-of-type {\n",
       "        vertical-align: middle;\n",
       "    }\n",
       "\n",
       "    .dataframe tbody tr th {\n",
       "        vertical-align: top;\n",
       "    }\n",
       "\n",
       "    .dataframe thead th {\n",
       "        text-align: right;\n",
       "    }\n",
       "</style>\n",
       "<table border=\"1\" class=\"dataframe\">\n",
       "  <thead>\n",
       "    <tr style=\"text-align: right;\">\n",
       "      <th></th>\n",
       "      <th>cntrb_id</th>\n",
       "      <th>normalized_pagerank_score</th>\n",
       "    </tr>\n",
       "  </thead>\n",
       "  <tbody>\n",
       "    <tr>\n",
       "      <th>0</th>\n",
       "      <td>010002df-6100-0000-0000-000000000000</td>\n",
       "      <td>20.000000</td>\n",
       "    </tr>\n",
       "    <tr>\n",
       "      <th>1</th>\n",
       "      <td>010000fd-e400-0000-0000-000000000000</td>\n",
       "      <td>19.052353</td>\n",
       "    </tr>\n",
       "    <tr>\n",
       "      <th>2</th>\n",
       "      <td>01002a5e-b400-0000-0000-000000000000</td>\n",
       "      <td>17.138503</td>\n",
       "    </tr>\n",
       "    <tr>\n",
       "      <th>3</th>\n",
       "      <td>0100034c-5400-0000-0000-000000000000</td>\n",
       "      <td>16.901099</td>\n",
       "    </tr>\n",
       "    <tr>\n",
       "      <th>4</th>\n",
       "      <td>01003291-1b00-0000-0000-000000000000</td>\n",
       "      <td>16.831682</td>\n",
       "    </tr>\n",
       "  </tbody>\n",
       "</table>\n",
       "</div>"
      ],
      "text/plain": [
       "                               cntrb_id  normalized_pagerank_score\n",
       "0  010002df-6100-0000-0000-000000000000                  20.000000\n",
       "1  010000fd-e400-0000-0000-000000000000                  19.052353\n",
       "2  01002a5e-b400-0000-0000-000000000000                  17.138503\n",
       "3  0100034c-5400-0000-0000-000000000000                  16.901099\n",
       "4  01003291-1b00-0000-0000-000000000000                  16.831682"
      ]
     },
     "execution_count": 4,
     "metadata": {},
     "output_type": "execute_result"
    }
   ],
   "source": [
    "df_known_contribs = pd.read_csv('contrib_pagerank_scores.csv')\n",
    "df_known_contribs = df_known_contribs.rename(columns={\"contrib_id\": \"cntrb_id\"})\n",
    "df_known_contribs.head()"
   ]
  },
  {
   "cell_type": "markdown",
   "metadata": {},
   "source": [
    "# Contribution event stream\n",
    "\n",
    "Github provides an API endpoint from which one can query every event that occurs. For instance, if a contributor creates an issue on some repo, that event will be logged in the stream. A downside of this API is that it only serves the most recent two months of data. \n",
    "\n",
    "We want to use this stream to identify the set of repositories that our Known Contributors are also working in that weren't in the initial ecosystem kernel.\n",
    "\n",
    "The database that we use collects this event stream so we can query it from there rather than from Github. This is much faster than relying on the public Github API, and we will continue to collect the data that the API makes available, so over time the analysis that we can do will become richer and more complete. In the Augur database, the table with this information is the 'contributor_repo' table."
   ]
  },
  {
   "cell_type": "code",
   "execution_count": 5,
   "metadata": {},
   "outputs": [],
   "source": [
    "event_stream_query = salc.sql.text(\n",
    "    f\"\"\"\n",
    "        SET SCHEMA 'augur_data';\n",
    "        SELECT \n",
    "            c.cntrb_id,\n",
    "            c.event_id,\n",
    "            c.created_at,\n",
    "            c.cntrb_repo_id as repo_id,\n",
    "            c.repo_git,\n",
    "            c.repo_name,\n",
    "            c.gh_repo_id,\n",
    "            c.cntrb_category as event_type\n",
    "        FROM\n",
    "        contributor_repo c\n",
    "    \"\"\")\n",
    "\n",
    "\n",
    "if not LOCAL_DATA:\n",
    "    with engine.connect() as conn:\n",
    "        df_event_stream = pd.read_sql_query(event_stream_query, conn)\n",
    "        \n",
    "    with open(\"df_event_stream.parquet\", \"wb+\") as f:\n",
    "        df_event_stream.cntrb_id = df_event_stream.cntrb_id.astype(str)\n",
    "        df_event_stream.to_parquet(f)\n",
    "else:\n",
    "    with open(\"df_event_stream.parquet\", \"rb+\") as f:\n",
    "        df_event_stream = pd.read_parquet(f)"
   ]
  },
  {
   "cell_type": "markdown",
   "metadata": {},
   "source": [
    "## Event stream data\n",
    "\n",
    "Below we see a summary of the data we have:\n",
    "\n",
    "- 4.2 million events,"
   ]
  },
  {
   "cell_type": "code",
   "execution_count": 6,
   "metadata": {},
   "outputs": [
    {
     "data": {
      "text/html": [
       "<div>\n",
       "<style scoped>\n",
       "    .dataframe tbody tr th:only-of-type {\n",
       "        vertical-align: middle;\n",
       "    }\n",
       "\n",
       "    .dataframe tbody tr th {\n",
       "        vertical-align: top;\n",
       "    }\n",
       "\n",
       "    .dataframe thead th {\n",
       "        text-align: right;\n",
       "    }\n",
       "</style>\n",
       "<table border=\"1\" class=\"dataframe\">\n",
       "  <thead>\n",
       "    <tr style=\"text-align: right;\">\n",
       "      <th></th>\n",
       "      <th>event_id</th>\n",
       "      <th>created_at</th>\n",
       "      <th>repo_id</th>\n",
       "      <th>gh_repo_id</th>\n",
       "    </tr>\n",
       "  </thead>\n",
       "  <tbody>\n",
       "    <tr>\n",
       "      <th>count</th>\n",
       "      <td>3.725197e+06</td>\n",
       "      <td>3725197</td>\n",
       "      <td>3.725197e+06</td>\n",
       "      <td>3.725197e+06</td>\n",
       "    </tr>\n",
       "    <tr>\n",
       "      <th>mean</th>\n",
       "      <td>3.083393e+10</td>\n",
       "      <td>2023-08-01 19:24:19.586107904</td>\n",
       "      <td>1.938252e+07</td>\n",
       "      <td>3.429606e+08</td>\n",
       "    </tr>\n",
       "    <tr>\n",
       "      <th>min</th>\n",
       "      <td>2.888731e+10</td>\n",
       "      <td>2022-02-07 19:37:07</td>\n",
       "      <td>1.000000e+00</td>\n",
       "      <td>1.000000e+00</td>\n",
       "    </tr>\n",
       "    <tr>\n",
       "      <th>25%</th>\n",
       "      <td>3.030225e+10</td>\n",
       "      <td>2023-07-10 06:47:02</td>\n",
       "      <td>9.343510e+05</td>\n",
       "      <td>1.150397e+08</td>\n",
       "    </tr>\n",
       "    <tr>\n",
       "      <th>50%</th>\n",
       "      <td>3.095659e+10</td>\n",
       "      <td>2023-08-07 21:55:36</td>\n",
       "      <td>1.959492e+06</td>\n",
       "      <td>3.342359e+08</td>\n",
       "    </tr>\n",
       "    <tr>\n",
       "      <th>75%</th>\n",
       "      <td>3.139628e+10</td>\n",
       "      <td>2023-08-27 00:29:31</td>\n",
       "      <td>4.872971e+07</td>\n",
       "      <td>5.851590e+08</td>\n",
       "    </tr>\n",
       "    <tr>\n",
       "      <th>max</th>\n",
       "      <td>3.215458e+10</td>\n",
       "      <td>2023-09-27 20:13:13</td>\n",
       "      <td>5.366886e+07</td>\n",
       "      <td>6.974606e+08</td>\n",
       "    </tr>\n",
       "    <tr>\n",
       "      <th>std</th>\n",
       "      <td>8.201160e+08</td>\n",
       "      <td>NaN</td>\n",
       "      <td>2.233892e+07</td>\n",
       "      <td>2.361204e+08</td>\n",
       "    </tr>\n",
       "  </tbody>\n",
       "</table>\n",
       "</div>"
      ],
      "text/plain": [
       "           event_id                     created_at       repo_id    gh_repo_id\n",
       "count  3.725197e+06                        3725197  3.725197e+06  3.725197e+06\n",
       "mean   3.083393e+10  2023-08-01 19:24:19.586107904  1.938252e+07  3.429606e+08\n",
       "min    2.888731e+10            2022-02-07 19:37:07  1.000000e+00  1.000000e+00\n",
       "25%    3.030225e+10            2023-07-10 06:47:02  9.343510e+05  1.150397e+08\n",
       "50%    3.095659e+10            2023-08-07 21:55:36  1.959492e+06  3.342359e+08\n",
       "75%    3.139628e+10            2023-08-27 00:29:31  4.872971e+07  5.851590e+08\n",
       "max    3.215458e+10            2023-09-27 20:13:13  5.366886e+07  6.974606e+08\n",
       "std    8.201160e+08                            NaN  2.233892e+07  2.361204e+08"
      ]
     },
     "execution_count": 6,
     "metadata": {},
     "output_type": "execute_result"
    }
   ],
   "source": [
    "df_event_stream.describe()"
   ]
  },
  {
   "cell_type": "markdown",
   "metadata": {},
   "source": [
    "### Head of dataframe"
   ]
  },
  {
   "cell_type": "code",
   "execution_count": 7,
   "metadata": {},
   "outputs": [
    {
     "data": {
      "text/html": [
       "<div>\n",
       "<style scoped>\n",
       "    .dataframe tbody tr th:only-of-type {\n",
       "        vertical-align: middle;\n",
       "    }\n",
       "\n",
       "    .dataframe tbody tr th {\n",
       "        vertical-align: top;\n",
       "    }\n",
       "\n",
       "    .dataframe thead th {\n",
       "        text-align: right;\n",
       "    }\n",
       "</style>\n",
       "<table border=\"1\" class=\"dataframe\">\n",
       "  <thead>\n",
       "    <tr style=\"text-align: right;\">\n",
       "      <th></th>\n",
       "      <th>cntrb_id</th>\n",
       "      <th>event_id</th>\n",
       "      <th>created_at</th>\n",
       "      <th>repo_id</th>\n",
       "      <th>repo_git</th>\n",
       "      <th>repo_name</th>\n",
       "      <th>gh_repo_id</th>\n",
       "      <th>event_type</th>\n",
       "    </tr>\n",
       "  </thead>\n",
       "  <tbody>\n",
       "    <tr>\n",
       "      <th>0</th>\n",
       "      <td>01000ab1-4000-0000-0000-000000000000</td>\n",
       "      <td>31904121647</td>\n",
       "      <td>2023-09-18 09:49:57</td>\n",
       "      <td>48860218</td>\n",
       "      <td>https://api.github.com/repos/oxidecomputer/hubris</td>\n",
       "      <td>oxidecomputer/hubris</td>\n",
       "      <td>252314296</td>\n",
       "      <td>WatchEvent</td>\n",
       "    </tr>\n",
       "    <tr>\n",
       "      <th>1</th>\n",
       "      <td>01009668-df00-0000-0000-000000000000</td>\n",
       "      <td>31180979155</td>\n",
       "      <td>2023-08-17 10:35:15</td>\n",
       "      <td>34198358</td>\n",
       "      <td>https://api.github.com/repos/IAMSUPERMONKEY/fl...</td>\n",
       "      <td>IAMSUPERMONKEY/flutter_easyrefresh_v2_flutter3</td>\n",
       "      <td>500325907</td>\n",
       "      <td>WatchEvent</td>\n",
       "    </tr>\n",
       "    <tr>\n",
       "      <th>2</th>\n",
       "      <td>01004c0d-e400-0000-0000-000000000000</td>\n",
       "      <td>32146216302</td>\n",
       "      <td>2023-09-27 14:41:13</td>\n",
       "      <td>49521902</td>\n",
       "      <td>https://api.github.com/repos/WebAssembly/profiles</td>\n",
       "      <td>WebAssembly/profiles</td>\n",
       "      <td>413775155</td>\n",
       "      <td>IssueCommentEvent</td>\n",
       "    </tr>\n",
       "    <tr>\n",
       "      <th>3</th>\n",
       "      <td>01004c0d-e400-0000-0000-000000000000</td>\n",
       "      <td>32146168254</td>\n",
       "      <td>2023-09-27 14:39:44</td>\n",
       "      <td>49521903</td>\n",
       "      <td>https://api.github.com/repos/WebAssembly/relax...</td>\n",
       "      <td>WebAssembly/relaxed-simd</td>\n",
       "      <td>348477492</td>\n",
       "      <td>IssueCommentEvent</td>\n",
       "    </tr>\n",
       "    <tr>\n",
       "      <th>4</th>\n",
       "      <td>01009668-df00-0000-0000-000000000000</td>\n",
       "      <td>31180261079</td>\n",
       "      <td>2023-08-17 10:07:09</td>\n",
       "      <td>34198359</td>\n",
       "      <td>https://api.github.com/repos/Fitem/flutter_uti...</td>\n",
       "      <td>Fitem/flutter_util_code</td>\n",
       "      <td>647552683</td>\n",
       "      <td>WatchEvent</td>\n",
       "    </tr>\n",
       "  </tbody>\n",
       "</table>\n",
       "</div>"
      ],
      "text/plain": [
       "                               cntrb_id     event_id          created_at  \\\n",
       "0  01000ab1-4000-0000-0000-000000000000  31904121647 2023-09-18 09:49:57   \n",
       "1  01009668-df00-0000-0000-000000000000  31180979155 2023-08-17 10:35:15   \n",
       "2  01004c0d-e400-0000-0000-000000000000  32146216302 2023-09-27 14:41:13   \n",
       "3  01004c0d-e400-0000-0000-000000000000  32146168254 2023-09-27 14:39:44   \n",
       "4  01009668-df00-0000-0000-000000000000  31180261079 2023-08-17 10:07:09   \n",
       "\n",
       "    repo_id                                           repo_git  \\\n",
       "0  48860218  https://api.github.com/repos/oxidecomputer/hubris   \n",
       "1  34198358  https://api.github.com/repos/IAMSUPERMONKEY/fl...   \n",
       "2  49521902  https://api.github.com/repos/WebAssembly/profiles   \n",
       "3  49521903  https://api.github.com/repos/WebAssembly/relax...   \n",
       "4  34198359  https://api.github.com/repos/Fitem/flutter_uti...   \n",
       "\n",
       "                                        repo_name  gh_repo_id  \\\n",
       "0                            oxidecomputer/hubris   252314296   \n",
       "1  IAMSUPERMONKEY/flutter_easyrefresh_v2_flutter3   500325907   \n",
       "2                            WebAssembly/profiles   413775155   \n",
       "3                        WebAssembly/relaxed-simd   348477492   \n",
       "4                         Fitem/flutter_util_code   647552683   \n",
       "\n",
       "          event_type  \n",
       "0         WatchEvent  \n",
       "1         WatchEvent  \n",
       "2  IssueCommentEvent  \n",
       "3  IssueCommentEvent  \n",
       "4         WatchEvent  "
      ]
     },
     "execution_count": 7,
     "metadata": {},
     "output_type": "execute_result"
    }
   ],
   "source": [
    "df_event_stream.head()"
   ]
  },
  {
   "cell_type": "markdown",
   "metadata": {},
   "source": [
    "### Most common types of events"
   ]
  },
  {
   "cell_type": "code",
   "execution_count": 8,
   "metadata": {},
   "outputs": [
    {
     "data": {
      "text/plain": [
       "event_type\n",
       "PushEvent                        1336715\n",
       "IssueCommentEvent                 518100\n",
       "PullRequestEvent                  372087\n",
       "PullRequestReviewEvent            326435\n",
       "CreateEvent                       285811\n",
       "PullRequestReviewCommentEvent     250293\n",
       "WatchEvent                        218398\n",
       "DeleteEvent                       172076\n",
       "IssuesEvent                       161604\n",
       "ForkEvent                          37986\n",
       "ReleaseEvent                       19684\n",
       "CommitCommentEvent                 12083\n",
       "GollumEvent                         6629\n",
       "MemberEvent                         4106\n",
       "PublicEvent                         3190\n",
       "Name: count, dtype: int64"
      ]
     },
     "execution_count": 8,
     "metadata": {},
     "output_type": "execute_result"
    }
   ],
   "source": [
    "event_counts = df_event_stream.event_type.value_counts()\n",
    "event_counts"
   ]
  },
  {
   "cell_type": "code",
   "execution_count": 30,
   "metadata": {},
   "outputs": [
    {
     "data": {
      "application/vnd.plotly.v1+json": {
       "config": {
        "plotlyServerURL": "https://plot.ly"
       },
       "data": [
        {
         "alignmentgroup": "True",
         "hovertemplate": "Kind of Event=%{x}<br># Events=%{y}<extra></extra>",
         "legendgroup": "PushEvent",
         "marker": {
          "color": "#636efa",
          "pattern": {
           "shape": ""
          }
         },
         "name": "PushEvent",
         "offsetgroup": "PushEvent",
         "orientation": "v",
         "showlegend": true,
         "textposition": "auto",
         "type": "bar",
         "x": [
          "PushEvent"
         ],
         "xaxis": "x",
         "y": [
          1336715
         ],
         "yaxis": "y"
        },
        {
         "alignmentgroup": "True",
         "hovertemplate": "Kind of Event=%{x}<br># Events=%{y}<extra></extra>",
         "legendgroup": "IssueCommentEvent",
         "marker": {
          "color": "#EF553B",
          "pattern": {
           "shape": ""
          }
         },
         "name": "IssueCommentEvent",
         "offsetgroup": "IssueCommentEvent",
         "orientation": "v",
         "showlegend": true,
         "textposition": "auto",
         "type": "bar",
         "x": [
          "IssueCommentEvent"
         ],
         "xaxis": "x",
         "y": [
          518100
         ],
         "yaxis": "y"
        },
        {
         "alignmentgroup": "True",
         "hovertemplate": "Kind of Event=%{x}<br># Events=%{y}<extra></extra>",
         "legendgroup": "PullRequestEvent",
         "marker": {
          "color": "#00cc96",
          "pattern": {
           "shape": ""
          }
         },
         "name": "PullRequestEvent",
         "offsetgroup": "PullRequestEvent",
         "orientation": "v",
         "showlegend": true,
         "textposition": "auto",
         "type": "bar",
         "x": [
          "PullRequestEvent"
         ],
         "xaxis": "x",
         "y": [
          372087
         ],
         "yaxis": "y"
        },
        {
         "alignmentgroup": "True",
         "hovertemplate": "Kind of Event=%{x}<br># Events=%{y}<extra></extra>",
         "legendgroup": "PullRequestReviewEvent",
         "marker": {
          "color": "#ab63fa",
          "pattern": {
           "shape": ""
          }
         },
         "name": "PullRequestReviewEvent",
         "offsetgroup": "PullRequestReviewEvent",
         "orientation": "v",
         "showlegend": true,
         "textposition": "auto",
         "type": "bar",
         "x": [
          "PullRequestReviewEvent"
         ],
         "xaxis": "x",
         "y": [
          326435
         ],
         "yaxis": "y"
        },
        {
         "alignmentgroup": "True",
         "hovertemplate": "Kind of Event=%{x}<br># Events=%{y}<extra></extra>",
         "legendgroup": "CreateEvent",
         "marker": {
          "color": "#FFA15A",
          "pattern": {
           "shape": ""
          }
         },
         "name": "CreateEvent",
         "offsetgroup": "CreateEvent",
         "orientation": "v",
         "showlegend": true,
         "textposition": "auto",
         "type": "bar",
         "x": [
          "CreateEvent"
         ],
         "xaxis": "x",
         "y": [
          285811
         ],
         "yaxis": "y"
        },
        {
         "alignmentgroup": "True",
         "hovertemplate": "Kind of Event=%{x}<br># Events=%{y}<extra></extra>",
         "legendgroup": "PullRequestReviewCommentEvent",
         "marker": {
          "color": "#19d3f3",
          "pattern": {
           "shape": ""
          }
         },
         "name": "PullRequestReviewCommentEvent",
         "offsetgroup": "PullRequestReviewCommentEvent",
         "orientation": "v",
         "showlegend": true,
         "textposition": "auto",
         "type": "bar",
         "x": [
          "PullRequestReviewCommentEvent"
         ],
         "xaxis": "x",
         "y": [
          250293
         ],
         "yaxis": "y"
        },
        {
         "alignmentgroup": "True",
         "hovertemplate": "Kind of Event=%{x}<br># Events=%{y}<extra></extra>",
         "legendgroup": "WatchEvent",
         "marker": {
          "color": "#FF6692",
          "pattern": {
           "shape": ""
          }
         },
         "name": "WatchEvent",
         "offsetgroup": "WatchEvent",
         "orientation": "v",
         "showlegend": true,
         "textposition": "auto",
         "type": "bar",
         "x": [
          "WatchEvent"
         ],
         "xaxis": "x",
         "y": [
          218398
         ],
         "yaxis": "y"
        },
        {
         "alignmentgroup": "True",
         "hovertemplate": "Kind of Event=%{x}<br># Events=%{y}<extra></extra>",
         "legendgroup": "DeleteEvent",
         "marker": {
          "color": "#B6E880",
          "pattern": {
           "shape": ""
          }
         },
         "name": "DeleteEvent",
         "offsetgroup": "DeleteEvent",
         "orientation": "v",
         "showlegend": true,
         "textposition": "auto",
         "type": "bar",
         "x": [
          "DeleteEvent"
         ],
         "xaxis": "x",
         "y": [
          172076
         ],
         "yaxis": "y"
        },
        {
         "alignmentgroup": "True",
         "hovertemplate": "Kind of Event=%{x}<br># Events=%{y}<extra></extra>",
         "legendgroup": "IssuesEvent",
         "marker": {
          "color": "#FF97FF",
          "pattern": {
           "shape": ""
          }
         },
         "name": "IssuesEvent",
         "offsetgroup": "IssuesEvent",
         "orientation": "v",
         "showlegend": true,
         "textposition": "auto",
         "type": "bar",
         "x": [
          "IssuesEvent"
         ],
         "xaxis": "x",
         "y": [
          161604
         ],
         "yaxis": "y"
        },
        {
         "alignmentgroup": "True",
         "hovertemplate": "Kind of Event=%{x}<br># Events=%{y}<extra></extra>",
         "legendgroup": "ForkEvent",
         "marker": {
          "color": "#FECB52",
          "pattern": {
           "shape": ""
          }
         },
         "name": "ForkEvent",
         "offsetgroup": "ForkEvent",
         "orientation": "v",
         "showlegend": true,
         "textposition": "auto",
         "type": "bar",
         "x": [
          "ForkEvent"
         ],
         "xaxis": "x",
         "y": [
          37986
         ],
         "yaxis": "y"
        },
        {
         "alignmentgroup": "True",
         "hovertemplate": "Kind of Event=%{x}<br># Events=%{y}<extra></extra>",
         "legendgroup": "ReleaseEvent",
         "marker": {
          "color": "#636efa",
          "pattern": {
           "shape": ""
          }
         },
         "name": "ReleaseEvent",
         "offsetgroup": "ReleaseEvent",
         "orientation": "v",
         "showlegend": true,
         "textposition": "auto",
         "type": "bar",
         "x": [
          "ReleaseEvent"
         ],
         "xaxis": "x",
         "y": [
          19684
         ],
         "yaxis": "y"
        },
        {
         "alignmentgroup": "True",
         "hovertemplate": "Kind of Event=%{x}<br># Events=%{y}<extra></extra>",
         "legendgroup": "CommitCommentEvent",
         "marker": {
          "color": "#EF553B",
          "pattern": {
           "shape": ""
          }
         },
         "name": "CommitCommentEvent",
         "offsetgroup": "CommitCommentEvent",
         "orientation": "v",
         "showlegend": true,
         "textposition": "auto",
         "type": "bar",
         "x": [
          "CommitCommentEvent"
         ],
         "xaxis": "x",
         "y": [
          12083
         ],
         "yaxis": "y"
        },
        {
         "alignmentgroup": "True",
         "hovertemplate": "Kind of Event=%{x}<br># Events=%{y}<extra></extra>",
         "legendgroup": "GollumEvent",
         "marker": {
          "color": "#00cc96",
          "pattern": {
           "shape": ""
          }
         },
         "name": "GollumEvent",
         "offsetgroup": "GollumEvent",
         "orientation": "v",
         "showlegend": true,
         "textposition": "auto",
         "type": "bar",
         "x": [
          "GollumEvent"
         ],
         "xaxis": "x",
         "y": [
          6629
         ],
         "yaxis": "y"
        },
        {
         "alignmentgroup": "True",
         "hovertemplate": "Kind of Event=%{x}<br># Events=%{y}<extra></extra>",
         "legendgroup": "MemberEvent",
         "marker": {
          "color": "#ab63fa",
          "pattern": {
           "shape": ""
          }
         },
         "name": "MemberEvent",
         "offsetgroup": "MemberEvent",
         "orientation": "v",
         "showlegend": true,
         "textposition": "auto",
         "type": "bar",
         "x": [
          "MemberEvent"
         ],
         "xaxis": "x",
         "y": [
          4106
         ],
         "yaxis": "y"
        },
        {
         "alignmentgroup": "True",
         "hovertemplate": "Kind of Event=%{x}<br># Events=%{y}<extra></extra>",
         "legendgroup": "PublicEvent",
         "marker": {
          "color": "#FFA15A",
          "pattern": {
           "shape": ""
          }
         },
         "name": "PublicEvent",
         "offsetgroup": "PublicEvent",
         "orientation": "v",
         "showlegend": true,
         "textposition": "auto",
         "type": "bar",
         "x": [
          "PublicEvent"
         ],
         "xaxis": "x",
         "y": [
          3190
         ],
         "yaxis": "y"
        }
       ],
       "layout": {
        "barmode": "relative",
        "legend": {
         "title": {
          "text": "Kind of Event"
         },
         "tracegroupgap": 0
        },
        "margin": {
         "t": 60
        },
        "showlegend": false,
        "template": {
         "data": {
          "bar": [
           {
            "error_x": {
             "color": "#2a3f5f"
            },
            "error_y": {
             "color": "#2a3f5f"
            },
            "marker": {
             "line": {
              "color": "#E5ECF6",
              "width": 0.5
             },
             "pattern": {
              "fillmode": "overlay",
              "size": 10,
              "solidity": 0.2
             }
            },
            "type": "bar"
           }
          ],
          "barpolar": [
           {
            "marker": {
             "line": {
              "color": "#E5ECF6",
              "width": 0.5
             },
             "pattern": {
              "fillmode": "overlay",
              "size": 10,
              "solidity": 0.2
             }
            },
            "type": "barpolar"
           }
          ],
          "carpet": [
           {
            "aaxis": {
             "endlinecolor": "#2a3f5f",
             "gridcolor": "white",
             "linecolor": "white",
             "minorgridcolor": "white",
             "startlinecolor": "#2a3f5f"
            },
            "baxis": {
             "endlinecolor": "#2a3f5f",
             "gridcolor": "white",
             "linecolor": "white",
             "minorgridcolor": "white",
             "startlinecolor": "#2a3f5f"
            },
            "type": "carpet"
           }
          ],
          "choropleth": [
           {
            "colorbar": {
             "outlinewidth": 0,
             "ticks": ""
            },
            "type": "choropleth"
           }
          ],
          "contour": [
           {
            "colorbar": {
             "outlinewidth": 0,
             "ticks": ""
            },
            "colorscale": [
             [
              0,
              "#0d0887"
             ],
             [
              0.1111111111111111,
              "#46039f"
             ],
             [
              0.2222222222222222,
              "#7201a8"
             ],
             [
              0.3333333333333333,
              "#9c179e"
             ],
             [
              0.4444444444444444,
              "#bd3786"
             ],
             [
              0.5555555555555556,
              "#d8576b"
             ],
             [
              0.6666666666666666,
              "#ed7953"
             ],
             [
              0.7777777777777778,
              "#fb9f3a"
             ],
             [
              0.8888888888888888,
              "#fdca26"
             ],
             [
              1,
              "#f0f921"
             ]
            ],
            "type": "contour"
           }
          ],
          "contourcarpet": [
           {
            "colorbar": {
             "outlinewidth": 0,
             "ticks": ""
            },
            "type": "contourcarpet"
           }
          ],
          "heatmap": [
           {
            "colorbar": {
             "outlinewidth": 0,
             "ticks": ""
            },
            "colorscale": [
             [
              0,
              "#0d0887"
             ],
             [
              0.1111111111111111,
              "#46039f"
             ],
             [
              0.2222222222222222,
              "#7201a8"
             ],
             [
              0.3333333333333333,
              "#9c179e"
             ],
             [
              0.4444444444444444,
              "#bd3786"
             ],
             [
              0.5555555555555556,
              "#d8576b"
             ],
             [
              0.6666666666666666,
              "#ed7953"
             ],
             [
              0.7777777777777778,
              "#fb9f3a"
             ],
             [
              0.8888888888888888,
              "#fdca26"
             ],
             [
              1,
              "#f0f921"
             ]
            ],
            "type": "heatmap"
           }
          ],
          "heatmapgl": [
           {
            "colorbar": {
             "outlinewidth": 0,
             "ticks": ""
            },
            "colorscale": [
             [
              0,
              "#0d0887"
             ],
             [
              0.1111111111111111,
              "#46039f"
             ],
             [
              0.2222222222222222,
              "#7201a8"
             ],
             [
              0.3333333333333333,
              "#9c179e"
             ],
             [
              0.4444444444444444,
              "#bd3786"
             ],
             [
              0.5555555555555556,
              "#d8576b"
             ],
             [
              0.6666666666666666,
              "#ed7953"
             ],
             [
              0.7777777777777778,
              "#fb9f3a"
             ],
             [
              0.8888888888888888,
              "#fdca26"
             ],
             [
              1,
              "#f0f921"
             ]
            ],
            "type": "heatmapgl"
           }
          ],
          "histogram": [
           {
            "marker": {
             "pattern": {
              "fillmode": "overlay",
              "size": 10,
              "solidity": 0.2
             }
            },
            "type": "histogram"
           }
          ],
          "histogram2d": [
           {
            "colorbar": {
             "outlinewidth": 0,
             "ticks": ""
            },
            "colorscale": [
             [
              0,
              "#0d0887"
             ],
             [
              0.1111111111111111,
              "#46039f"
             ],
             [
              0.2222222222222222,
              "#7201a8"
             ],
             [
              0.3333333333333333,
              "#9c179e"
             ],
             [
              0.4444444444444444,
              "#bd3786"
             ],
             [
              0.5555555555555556,
              "#d8576b"
             ],
             [
              0.6666666666666666,
              "#ed7953"
             ],
             [
              0.7777777777777778,
              "#fb9f3a"
             ],
             [
              0.8888888888888888,
              "#fdca26"
             ],
             [
              1,
              "#f0f921"
             ]
            ],
            "type": "histogram2d"
           }
          ],
          "histogram2dcontour": [
           {
            "colorbar": {
             "outlinewidth": 0,
             "ticks": ""
            },
            "colorscale": [
             [
              0,
              "#0d0887"
             ],
             [
              0.1111111111111111,
              "#46039f"
             ],
             [
              0.2222222222222222,
              "#7201a8"
             ],
             [
              0.3333333333333333,
              "#9c179e"
             ],
             [
              0.4444444444444444,
              "#bd3786"
             ],
             [
              0.5555555555555556,
              "#d8576b"
             ],
             [
              0.6666666666666666,
              "#ed7953"
             ],
             [
              0.7777777777777778,
              "#fb9f3a"
             ],
             [
              0.8888888888888888,
              "#fdca26"
             ],
             [
              1,
              "#f0f921"
             ]
            ],
            "type": "histogram2dcontour"
           }
          ],
          "mesh3d": [
           {
            "colorbar": {
             "outlinewidth": 0,
             "ticks": ""
            },
            "type": "mesh3d"
           }
          ],
          "parcoords": [
           {
            "line": {
             "colorbar": {
              "outlinewidth": 0,
              "ticks": ""
             }
            },
            "type": "parcoords"
           }
          ],
          "pie": [
           {
            "automargin": true,
            "type": "pie"
           }
          ],
          "scatter": [
           {
            "fillpattern": {
             "fillmode": "overlay",
             "size": 10,
             "solidity": 0.2
            },
            "type": "scatter"
           }
          ],
          "scatter3d": [
           {
            "line": {
             "colorbar": {
              "outlinewidth": 0,
              "ticks": ""
             }
            },
            "marker": {
             "colorbar": {
              "outlinewidth": 0,
              "ticks": ""
             }
            },
            "type": "scatter3d"
           }
          ],
          "scattercarpet": [
           {
            "marker": {
             "colorbar": {
              "outlinewidth": 0,
              "ticks": ""
             }
            },
            "type": "scattercarpet"
           }
          ],
          "scattergeo": [
           {
            "marker": {
             "colorbar": {
              "outlinewidth": 0,
              "ticks": ""
             }
            },
            "type": "scattergeo"
           }
          ],
          "scattergl": [
           {
            "marker": {
             "colorbar": {
              "outlinewidth": 0,
              "ticks": ""
             }
            },
            "type": "scattergl"
           }
          ],
          "scattermapbox": [
           {
            "marker": {
             "colorbar": {
              "outlinewidth": 0,
              "ticks": ""
             }
            },
            "type": "scattermapbox"
           }
          ],
          "scatterpolar": [
           {
            "marker": {
             "colorbar": {
              "outlinewidth": 0,
              "ticks": ""
             }
            },
            "type": "scatterpolar"
           }
          ],
          "scatterpolargl": [
           {
            "marker": {
             "colorbar": {
              "outlinewidth": 0,
              "ticks": ""
             }
            },
            "type": "scatterpolargl"
           }
          ],
          "scatterternary": [
           {
            "marker": {
             "colorbar": {
              "outlinewidth": 0,
              "ticks": ""
             }
            },
            "type": "scatterternary"
           }
          ],
          "surface": [
           {
            "colorbar": {
             "outlinewidth": 0,
             "ticks": ""
            },
            "colorscale": [
             [
              0,
              "#0d0887"
             ],
             [
              0.1111111111111111,
              "#46039f"
             ],
             [
              0.2222222222222222,
              "#7201a8"
             ],
             [
              0.3333333333333333,
              "#9c179e"
             ],
             [
              0.4444444444444444,
              "#bd3786"
             ],
             [
              0.5555555555555556,
              "#d8576b"
             ],
             [
              0.6666666666666666,
              "#ed7953"
             ],
             [
              0.7777777777777778,
              "#fb9f3a"
             ],
             [
              0.8888888888888888,
              "#fdca26"
             ],
             [
              1,
              "#f0f921"
             ]
            ],
            "type": "surface"
           }
          ],
          "table": [
           {
            "cells": {
             "fill": {
              "color": "#EBF0F8"
             },
             "line": {
              "color": "white"
             }
            },
            "header": {
             "fill": {
              "color": "#C8D4E3"
             },
             "line": {
              "color": "white"
             }
            },
            "type": "table"
           }
          ]
         },
         "layout": {
          "annotationdefaults": {
           "arrowcolor": "#2a3f5f",
           "arrowhead": 0,
           "arrowwidth": 1
          },
          "autotypenumbers": "strict",
          "coloraxis": {
           "colorbar": {
            "outlinewidth": 0,
            "ticks": ""
           }
          },
          "colorscale": {
           "diverging": [
            [
             0,
             "#8e0152"
            ],
            [
             0.1,
             "#c51b7d"
            ],
            [
             0.2,
             "#de77ae"
            ],
            [
             0.3,
             "#f1b6da"
            ],
            [
             0.4,
             "#fde0ef"
            ],
            [
             0.5,
             "#f7f7f7"
            ],
            [
             0.6,
             "#e6f5d0"
            ],
            [
             0.7,
             "#b8e186"
            ],
            [
             0.8,
             "#7fbc41"
            ],
            [
             0.9,
             "#4d9221"
            ],
            [
             1,
             "#276419"
            ]
           ],
           "sequential": [
            [
             0,
             "#0d0887"
            ],
            [
             0.1111111111111111,
             "#46039f"
            ],
            [
             0.2222222222222222,
             "#7201a8"
            ],
            [
             0.3333333333333333,
             "#9c179e"
            ],
            [
             0.4444444444444444,
             "#bd3786"
            ],
            [
             0.5555555555555556,
             "#d8576b"
            ],
            [
             0.6666666666666666,
             "#ed7953"
            ],
            [
             0.7777777777777778,
             "#fb9f3a"
            ],
            [
             0.8888888888888888,
             "#fdca26"
            ],
            [
             1,
             "#f0f921"
            ]
           ],
           "sequentialminus": [
            [
             0,
             "#0d0887"
            ],
            [
             0.1111111111111111,
             "#46039f"
            ],
            [
             0.2222222222222222,
             "#7201a8"
            ],
            [
             0.3333333333333333,
             "#9c179e"
            ],
            [
             0.4444444444444444,
             "#bd3786"
            ],
            [
             0.5555555555555556,
             "#d8576b"
            ],
            [
             0.6666666666666666,
             "#ed7953"
            ],
            [
             0.7777777777777778,
             "#fb9f3a"
            ],
            [
             0.8888888888888888,
             "#fdca26"
            ],
            [
             1,
             "#f0f921"
            ]
           ]
          },
          "colorway": [
           "#636efa",
           "#EF553B",
           "#00cc96",
           "#ab63fa",
           "#FFA15A",
           "#19d3f3",
           "#FF6692",
           "#B6E880",
           "#FF97FF",
           "#FECB52"
          ],
          "font": {
           "color": "#2a3f5f"
          },
          "geo": {
           "bgcolor": "white",
           "lakecolor": "white",
           "landcolor": "#E5ECF6",
           "showlakes": true,
           "showland": true,
           "subunitcolor": "white"
          },
          "hoverlabel": {
           "align": "left"
          },
          "hovermode": "closest",
          "mapbox": {
           "style": "light"
          },
          "paper_bgcolor": "white",
          "plot_bgcolor": "#E5ECF6",
          "polar": {
           "angularaxis": {
            "gridcolor": "white",
            "linecolor": "white",
            "ticks": ""
           },
           "bgcolor": "#E5ECF6",
           "radialaxis": {
            "gridcolor": "white",
            "linecolor": "white",
            "ticks": ""
           }
          },
          "scene": {
           "xaxis": {
            "backgroundcolor": "#E5ECF6",
            "gridcolor": "white",
            "gridwidth": 2,
            "linecolor": "white",
            "showbackground": true,
            "ticks": "",
            "zerolinecolor": "white"
           },
           "yaxis": {
            "backgroundcolor": "#E5ECF6",
            "gridcolor": "white",
            "gridwidth": 2,
            "linecolor": "white",
            "showbackground": true,
            "ticks": "",
            "zerolinecolor": "white"
           },
           "zaxis": {
            "backgroundcolor": "#E5ECF6",
            "gridcolor": "white",
            "gridwidth": 2,
            "linecolor": "white",
            "showbackground": true,
            "ticks": "",
            "zerolinecolor": "white"
           }
          },
          "shapedefaults": {
           "line": {
            "color": "#2a3f5f"
           }
          },
          "ternary": {
           "aaxis": {
            "gridcolor": "white",
            "linecolor": "white",
            "ticks": ""
           },
           "baxis": {
            "gridcolor": "white",
            "linecolor": "white",
            "ticks": ""
           },
           "bgcolor": "#E5ECF6",
           "caxis": {
            "gridcolor": "white",
            "linecolor": "white",
            "ticks": ""
           }
          },
          "title": {
           "x": 0.05
          },
          "xaxis": {
           "automargin": true,
           "gridcolor": "white",
           "linecolor": "white",
           "ticks": "",
           "title": {
            "standoff": 15
           },
           "zerolinecolor": "white",
           "zerolinewidth": 2
          },
          "yaxis": {
           "automargin": true,
           "gridcolor": "white",
           "linecolor": "white",
           "ticks": "",
           "title": {
            "standoff": 15
           },
           "zerolinecolor": "white",
           "zerolinewidth": 2
          }
         }
        },
        "xaxis": {
         "anchor": "y",
         "categoryarray": [
          "PushEvent",
          "IssueCommentEvent",
          "PullRequestEvent",
          "PullRequestReviewEvent",
          "CreateEvent",
          "PullRequestReviewCommentEvent",
          "WatchEvent",
          "DeleteEvent",
          "IssuesEvent",
          "ForkEvent",
          "ReleaseEvent",
          "CommitCommentEvent",
          "GollumEvent",
          "MemberEvent",
          "PublicEvent"
         ],
         "categoryorder": "array",
         "domain": [
          0,
          1
         ],
         "title": {
          "text": "Kind of Event"
         }
        },
        "yaxis": {
         "anchor": "x",
         "domain": [
          0,
          1
         ],
         "title": {
          "text": "# Events"
         }
        }
       }
      }
     },
     "metadata": {},
     "output_type": "display_data"
    }
   ],
   "source": [
    "fig_ec = px.bar(\n",
    "    data_frame=event_counts.to_frame(),\n",
    "    color=event_counts.to_frame().index,\n",
    "    labels={\n",
    "                     \"value\": \"# Events\",\n",
    "                     \"event_type\": \"Kind of Event\"\n",
    "                 },\n",
    ")\n",
    "fig_ec.update_layout(showlegend=False)\n",
    "\n",
    "fig_ec.write_image(\"general_eventcount.png\")\n",
    "fig_ec"
   ]
  },
  {
   "cell_type": "code",
   "execution_count": 29,
   "metadata": {},
   "outputs": [
    {
     "data": {
      "image/png": "[encoded data removed]",
      "text/plain": [
       "<IPython.core.display.Image object>"
      ]
     },
     "execution_count": 29,
     "metadata": {},
     "output_type": "execute_result"
    }
   ],
   "source": [
    "Image(\"general_eventcount.png\")"
   ]
  },
  {
   "cell_type": "markdown",
   "metadata": {},
   "source": [
    "### Repositories with the most events "
   ]
  },
  {
   "cell_type": "code",
   "execution_count": 11,
   "metadata": {},
   "outputs": [
    {
     "data": {
      "text/plain": [
       "repo_git\n",
       "https://api.github.com/repos/llvm/llvm-project                                                               42759\n",
       "https://api.github.com/repos/pytorch/pytorch                                                                 12366\n",
       "https://api.github.com/repos/rust-lang/rust                                                                  12228\n",
       "https://api.github.com/repos/dotnet/runtime                                                                  11978\n",
       "https://api.github.com/repos/intel/llvm                                                                      10008\n",
       "                                                                                                             ...  \n",
       "https://api.github.com/repos/graue/esofiles                                                                      1\n",
       "https://api.github.com/repos/OvermindDL1/gt6-new-workspace                                                       1\n",
       "https://api.github.com/repos/expln/metamath-lamp                                                                 1\n",
       "https://api.github.com/repos/TeXitoi/structopt                                                                   1\n",
       "https://api.github.com/repos/ShiyuNee/Awesome-Conversation-Clarifying-Questions-for-Information-Retrieval        1\n",
       "Name: count, Length: 286025, dtype: int64"
      ]
     },
     "execution_count": 11,
     "metadata": {},
     "output_type": "execute_result"
    }
   ],
   "source": [
    "repo_event_counts = df_event_stream.repo_git.value_counts()\n",
    "repo_event_counts"
   ]
  },
  {
   "cell_type": "code",
   "execution_count": 33,
   "metadata": {},
   "outputs": [
    {
     "name": "stdout",
     "output_type": "stream",
     "text": [
      "                                                    count\n",
      "repo_git                                                 \n",
      "https://api.github.com/repos/llvm/llvm-project      42759\n",
      "https://api.github.com/repos/pytorch/pytorch        12366\n",
      "https://api.github.com/repos/rust-lang/rust         12228\n",
      "https://api.github.com/repos/dotnet/runtime         11978\n",
      "https://api.github.com/repos/intel/llvm             10008\n",
      "...                                                   ...\n",
      "https://api.github.com/repos/graue/esofiles             1\n",
      "https://api.github.com/repos/OvermindDL1/gt6-ne...      1\n",
      "https://api.github.com/repos/expln/metamath-lamp        1\n",
      "https://api.github.com/repos/TeXitoi/structopt          1\n",
      "https://api.github.com/repos/ShiyuNee/Awesome-C...      1\n",
      "\n",
      "[286025 rows x 1 columns]\n"
     ]
    },
    {
     "data": {
      "application/vnd.plotly.v1+json": {
       "config": {
        "plotlyServerURL": "https://plot.ly"
       },
       "data": [
        {
         "alignmentgroup": "True",
         "hovertemplate": "Repository URL=%{x}<br># Contributor Events=%{y}<extra></extra>",
         "legendgroup": "https://api.github.com/repos/llvm/llvm-project",
         "marker": {
          "color": "#636efa",
          "pattern": {
           "shape": ""
          }
         },
         "name": "https://api.github.com/repos/llvm/llvm-project",
         "offsetgroup": "https://api.github.com/repos/llvm/llvm-project",
         "orientation": "v",
         "showlegend": true,
         "textposition": "auto",
         "type": "bar",
         "x": [
          "https://api.github.com/repos/llvm/llvm-project"
         ],
         "xaxis": "x",
         "y": [
          42759
         ],
         "yaxis": "y"
        },
        {
         "alignmentgroup": "True",
         "hovertemplate": "Repository URL=%{x}<br># Contributor Events=%{y}<extra></extra>",
         "legendgroup": "https://api.github.com/repos/pytorch/pytorch",
         "marker": {
          "color": "#EF553B",
          "pattern": {
           "shape": ""
          }
         },
         "name": "https://api.github.com/repos/pytorch/pytorch",
         "offsetgroup": "https://api.github.com/repos/pytorch/pytorch",
         "orientation": "v",
         "showlegend": true,
         "textposition": "auto",
         "type": "bar",
         "x": [
          "https://api.github.com/repos/pytorch/pytorch"
         ],
         "xaxis": "x",
         "y": [
          12366
         ],
         "yaxis": "y"
        },
        {
         "alignmentgroup": "True",
         "hovertemplate": "Repository URL=%{x}<br># Contributor Events=%{y}<extra></extra>",
         "legendgroup": "https://api.github.com/repos/rust-lang/rust",
         "marker": {
          "color": "#00cc96",
          "pattern": {
           "shape": ""
          }
         },
         "name": "https://api.github.com/repos/rust-lang/rust",
         "offsetgroup": "https://api.github.com/repos/rust-lang/rust",
         "orientation": "v",
         "showlegend": true,
         "textposition": "auto",
         "type": "bar",
         "x": [
          "https://api.github.com/repos/rust-lang/rust"
         ],
         "xaxis": "x",
         "y": [
          12228
         ],
         "yaxis": "y"
        },
        {
         "alignmentgroup": "True",
         "hovertemplate": "Repository URL=%{x}<br># Contributor Events=%{y}<extra></extra>",
         "legendgroup": "https://api.github.com/repos/dotnet/runtime",
         "marker": {
          "color": "#ab63fa",
          "pattern": {
           "shape": ""
          }
         },
         "name": "https://api.github.com/repos/dotnet/runtime",
         "offsetgroup": "https://api.github.com/repos/dotnet/runtime",
         "orientation": "v",
         "showlegend": true,
         "textposition": "auto",
         "type": "bar",
         "x": [
          "https://api.github.com/repos/dotnet/runtime"
         ],
         "xaxis": "x",
         "y": [
          11978
         ],
         "yaxis": "y"
        },
        {
         "alignmentgroup": "True",
         "hovertemplate": "Repository URL=%{x}<br># Contributor Events=%{y}<extra></extra>",
         "legendgroup": "https://api.github.com/repos/intel/llvm",
         "marker": {
          "color": "#FFA15A",
          "pattern": {
           "shape": ""
          }
         },
         "name": "https://api.github.com/repos/intel/llvm",
         "offsetgroup": "https://api.github.com/repos/intel/llvm",
         "orientation": "v",
         "showlegend": true,
         "textposition": "auto",
         "type": "bar",
         "x": [
          "https://api.github.com/repos/intel/llvm"
         ],
         "xaxis": "x",
         "y": [
          10008
         ],
         "yaxis": "y"
        },
        {
         "alignmentgroup": "True",
         "hovertemplate": "Repository URL=%{x}<br># Contributor Events=%{y}<extra></extra>",
         "legendgroup": "https://api.github.com/repos/apple/swift",
         "marker": {
          "color": "#19d3f3",
          "pattern": {
           "shape": ""
          }
         },
         "name": "https://api.github.com/repos/apple/swift",
         "offsetgroup": "https://api.github.com/repos/apple/swift",
         "orientation": "v",
         "showlegend": true,
         "textposition": "auto",
         "type": "bar",
         "x": [
          "https://api.github.com/repos/apple/swift"
         ],
         "xaxis": "x",
         "y": [
          9570
         ],
         "yaxis": "y"
        },
        {
         "alignmentgroup": "True",
         "hovertemplate": "Repository URL=%{x}<br># Contributor Events=%{y}<extra></extra>",
         "legendgroup": "https://api.github.com/repos/JetBrains/MPS",
         "marker": {
          "color": "#FF6692",
          "pattern": {
           "shape": ""
          }
         },
         "name": "https://api.github.com/repos/JetBrains/MPS",
         "offsetgroup": "https://api.github.com/repos/JetBrains/MPS",
         "orientation": "v",
         "showlegend": true,
         "textposition": "auto",
         "type": "bar",
         "x": [
          "https://api.github.com/repos/JetBrains/MPS"
         ],
         "xaxis": "x",
         "y": [
          8447
         ],
         "yaxis": "y"
        },
        {
         "alignmentgroup": "True",
         "hovertemplate": "Repository URL=%{x}<br># Contributor Events=%{y}<extra></extra>",
         "legendgroup": "https://api.github.com/repos/NixOS/nixpkgs",
         "marker": {
          "color": "#B6E880",
          "pattern": {
           "shape": ""
          }
         },
         "name": "https://api.github.com/repos/NixOS/nixpkgs",
         "offsetgroup": "https://api.github.com/repos/NixOS/nixpkgs",
         "orientation": "v",
         "showlegend": true,
         "textposition": "auto",
         "type": "bar",
         "x": [
          "https://api.github.com/repos/NixOS/nixpkgs"
         ],
         "xaxis": "x",
         "y": [
          8153
         ],
         "yaxis": "y"
        },
        {
         "alignmentgroup": "True",
         "hovertemplate": "Repository URL=%{x}<br># Contributor Events=%{y}<extra></extra>",
         "legendgroup": "https://api.github.com/repos/openxla/iree",
         "marker": {
          "color": "#FF97FF",
          "pattern": {
           "shape": ""
          }
         },
         "name": "https://api.github.com/repos/openxla/iree",
         "offsetgroup": "https://api.github.com/repos/openxla/iree",
         "orientation": "v",
         "showlegend": true,
         "textposition": "auto",
         "type": "bar",
         "x": [
          "https://api.github.com/repos/openxla/iree"
         ],
         "xaxis": "x",
         "y": [
          7863
         ],
         "yaxis": "y"
        },
        {
         "alignmentgroup": "True",
         "hovertemplate": "Repository URL=%{x}<br># Contributor Events=%{y}<extra></extra>",
         "legendgroup": "https://api.github.com/repos/GoogleChrome/developer.chrome.com",
         "marker": {
          "color": "#FECB52",
          "pattern": {
           "shape": ""
          }
         },
         "name": "https://api.github.com/repos/GoogleChrome/developer.chrome.com",
         "offsetgroup": "https://api.github.com/repos/GoogleChrome/developer.chrome.com",
         "orientation": "v",
         "showlegend": true,
         "textposition": "auto",
         "type": "bar",
         "x": [
          "https://api.github.com/repos/GoogleChrome/developer.chrome.com"
         ],
         "xaxis": "x",
         "y": [
          7641
         ],
         "yaxis": "y"
        },
        {
         "alignmentgroup": "True",
         "hovertemplate": "Repository URL=%{x}<br># Contributor Events=%{y}<extra></extra>",
         "legendgroup": "https://api.github.com/repos/llvm/circt",
         "marker": {
          "color": "#636efa",
          "pattern": {
           "shape": ""
          }
         },
         "name": "https://api.github.com/repos/llvm/circt",
         "offsetgroup": "https://api.github.com/repos/llvm/circt",
         "orientation": "v",
         "showlegend": true,
         "textposition": "auto",
         "type": "bar",
         "x": [
          "https://api.github.com/repos/llvm/circt"
         ],
         "xaxis": "x",
         "y": [
          6458
         ],
         "yaxis": "y"
        },
        {
         "alignmentgroup": "True",
         "hovertemplate": "Repository URL=%{x}<br># Contributor Events=%{y}<extra></extra>",
         "legendgroup": "https://api.github.com/repos/ClickHouse/ClickHouse",
         "marker": {
          "color": "#EF553B",
          "pattern": {
           "shape": ""
          }
         },
         "name": "https://api.github.com/repos/ClickHouse/ClickHouse",
         "offsetgroup": "https://api.github.com/repos/ClickHouse/ClickHouse",
         "orientation": "v",
         "showlegend": true,
         "textposition": "auto",
         "type": "bar",
         "x": [
          "https://api.github.com/repos/ClickHouse/ClickHouse"
         ],
         "xaxis": "x",
         "y": [
          6434
         ],
         "yaxis": "y"
        },
        {
         "alignmentgroup": "True",
         "hovertemplate": "Repository URL=%{x}<br># Contributor Events=%{y}<extra></extra>",
         "legendgroup": "https://api.github.com/repos/apple/llvm-project",
         "marker": {
          "color": "#00cc96",
          "pattern": {
           "shape": ""
          }
         },
         "name": "https://api.github.com/repos/apple/llvm-project",
         "offsetgroup": "https://api.github.com/repos/apple/llvm-project",
         "orientation": "v",
         "showlegend": true,
         "textposition": "auto",
         "type": "bar",
         "x": [
          "https://api.github.com/repos/apple/llvm-project"
         ],
         "xaxis": "x",
         "y": [
          6216
         ],
         "yaxis": "y"
        },
        {
         "alignmentgroup": "True",
         "hovertemplate": "Repository URL=%{x}<br># Contributor Events=%{y}<extra></extra>",
         "legendgroup": "https://api.github.com/repos/AvaloniaUI/Avalonia",
         "marker": {
          "color": "#ab63fa",
          "pattern": {
           "shape": ""
          }
         },
         "name": "https://api.github.com/repos/AvaloniaUI/Avalonia",
         "offsetgroup": "https://api.github.com/repos/AvaloniaUI/Avalonia",
         "orientation": "v",
         "showlegend": true,
         "textposition": "auto",
         "type": "bar",
         "x": [
          "https://api.github.com/repos/AvaloniaUI/Avalonia"
         ],
         "xaxis": "x",
         "y": [
          6160
         ],
         "yaxis": "y"
        },
        {
         "alignmentgroup": "True",
         "hovertemplate": "Repository URL=%{x}<br># Contributor Events=%{y}<extra></extra>",
         "legendgroup": "https://api.github.com/repos/unoplatform/uno",
         "marker": {
          "color": "#FFA15A",
          "pattern": {
           "shape": ""
          }
         },
         "name": "https://api.github.com/repos/unoplatform/uno",
         "offsetgroup": "https://api.github.com/repos/unoplatform/uno",
         "orientation": "v",
         "showlegend": true,
         "textposition": "auto",
         "type": "bar",
         "x": [
          "https://api.github.com/repos/unoplatform/uno"
         ],
         "xaxis": "x",
         "y": [
          6056
         ],
         "yaxis": "y"
        },
        {
         "alignmentgroup": "True",
         "hovertemplate": "Repository URL=%{x}<br># Contributor Events=%{y}<extra></extra>",
         "legendgroup": "https://api.github.com/repos/milahu/opensubtitles-scraper-new-subs",
         "marker": {
          "color": "#19d3f3",
          "pattern": {
           "shape": ""
          }
         },
         "name": "https://api.github.com/repos/milahu/opensubtitles-scraper-new-subs",
         "offsetgroup": "https://api.github.com/repos/milahu/opensubtitles-scraper-new-subs",
         "orientation": "v",
         "showlegend": true,
         "textposition": "auto",
         "type": "bar",
         "x": [
          "https://api.github.com/repos/milahu/opensubtitles-scraper-new-subs"
         ],
         "xaxis": "x",
         "y": [
          5782
         ],
         "yaxis": "y"
        },
        {
         "alignmentgroup": "True",
         "hovertemplate": "Repository URL=%{x}<br># Contributor Events=%{y}<extra></extra>",
         "legendgroup": "https://api.github.com/repos/apache/tvm",
         "marker": {
          "color": "#FF6692",
          "pattern": {
           "shape": ""
          }
         },
         "name": "https://api.github.com/repos/apache/tvm",
         "offsetgroup": "https://api.github.com/repos/apache/tvm",
         "orientation": "v",
         "showlegend": true,
         "textposition": "auto",
         "type": "bar",
         "x": [
          "https://api.github.com/repos/apache/tvm"
         ],
         "xaxis": "x",
         "y": [
          5600
         ],
         "yaxis": "y"
        },
        {
         "alignmentgroup": "True",
         "hovertemplate": "Repository URL=%{x}<br># Contributor Events=%{y}<extra></extra>",
         "legendgroup": "https://api.github.com/repos/rust-lang/crates.io-index",
         "marker": {
          "color": "#B6E880",
          "pattern": {
           "shape": ""
          }
         },
         "name": "https://api.github.com/repos/rust-lang/crates.io-index",
         "offsetgroup": "https://api.github.com/repos/rust-lang/crates.io-index",
         "orientation": "v",
         "showlegend": true,
         "textposition": "auto",
         "type": "bar",
         "x": [
          "https://api.github.com/repos/rust-lang/crates.io-index"
         ],
         "xaxis": "x",
         "y": [
          4995
         ],
         "yaxis": "y"
        },
        {
         "alignmentgroup": "True",
         "hovertemplate": "Repository URL=%{x}<br># Contributor Events=%{y}<extra></extra>",
         "legendgroup": "https://api.github.com/repos/nodejs/node",
         "marker": {
          "color": "#FF97FF",
          "pattern": {
           "shape": ""
          }
         },
         "name": "https://api.github.com/repos/nodejs/node",
         "offsetgroup": "https://api.github.com/repos/nodejs/node",
         "orientation": "v",
         "showlegend": true,
         "textposition": "auto",
         "type": "bar",
         "x": [
          "https://api.github.com/repos/nodejs/node"
         ],
         "xaxis": "x",
         "y": [
          4946
         ],
         "yaxis": "y"
        },
        {
         "alignmentgroup": "True",
         "hovertemplate": "Repository URL=%{x}<br># Contributor Events=%{y}<extra></extra>",
         "legendgroup": "https://api.github.com/repos/llvm-premerge-tests/llvm-project",
         "marker": {
          "color": "#FECB52",
          "pattern": {
           "shape": ""
          }
         },
         "name": "https://api.github.com/repos/llvm-premerge-tests/llvm-project",
         "offsetgroup": "https://api.github.com/repos/llvm-premerge-tests/llvm-project",
         "orientation": "v",
         "showlegend": true,
         "textposition": "auto",
         "type": "bar",
         "x": [
          "https://api.github.com/repos/llvm-premerge-tests/llvm-project"
         ],
         "xaxis": "x",
         "y": [
          4574
         ],
         "yaxis": "y"
        },
        {
         "alignmentgroup": "True",
         "hovertemplate": "Repository URL=%{x}<br># Contributor Events=%{y}<extra></extra>",
         "legendgroup": "https://api.github.com/repos/astral-sh/ruff",
         "marker": {
          "color": "#636efa",
          "pattern": {
           "shape": ""
          }
         },
         "name": "https://api.github.com/repos/astral-sh/ruff",
         "offsetgroup": "https://api.github.com/repos/astral-sh/ruff",
         "orientation": "v",
         "showlegend": true,
         "textposition": "auto",
         "type": "bar",
         "x": [
          "https://api.github.com/repos/astral-sh/ruff"
         ],
         "xaxis": "x",
         "y": [
          4546
         ],
         "yaxis": "y"
        },
        {
         "alignmentgroup": "True",
         "hovertemplate": "Repository URL=%{x}<br># Contributor Events=%{y}<extra></extra>",
         "legendgroup": "https://api.github.com/repos/emscripten-core/emscripten",
         "marker": {
          "color": "#EF553B",
          "pattern": {
           "shape": ""
          }
         },
         "name": "https://api.github.com/repos/emscripten-core/emscripten",
         "offsetgroup": "https://api.github.com/repos/emscripten-core/emscripten",
         "orientation": "v",
         "showlegend": true,
         "textposition": "auto",
         "type": "bar",
         "x": [
          "https://api.github.com/repos/emscripten-core/emscripten"
         ],
         "xaxis": "x",
         "y": [
          4478
         ],
         "yaxis": "y"
        },
        {
         "alignmentgroup": "True",
         "hovertemplate": "Repository URL=%{x}<br># Contributor Events=%{y}<extra></extra>",
         "legendgroup": "https://api.github.com/repos/microsoft/vscode",
         "marker": {
          "color": "#00cc96",
          "pattern": {
           "shape": ""
          }
         },
         "name": "https://api.github.com/repos/microsoft/vscode",
         "offsetgroup": "https://api.github.com/repos/microsoft/vscode",
         "orientation": "v",
         "showlegend": true,
         "textposition": "auto",
         "type": "bar",
         "x": [
          "https://api.github.com/repos/microsoft/vscode"
         ],
         "xaxis": "x",
         "y": [
          4433
         ],
         "yaxis": "y"
        },
        {
         "alignmentgroup": "True",
         "hovertemplate": "Repository URL=%{x}<br># Contributor Events=%{y}<extra></extra>",
         "legendgroup": "https://api.github.com/repos/microsoft/onnxruntime",
         "marker": {
          "color": "#ab63fa",
          "pattern": {
           "shape": ""
          }
         },
         "name": "https://api.github.com/repos/microsoft/onnxruntime",
         "offsetgroup": "https://api.github.com/repos/microsoft/onnxruntime",
         "orientation": "v",
         "showlegend": true,
         "textposition": "auto",
         "type": "bar",
         "x": [
          "https://api.github.com/repos/microsoft/onnxruntime"
         ],
         "xaxis": "x",
         "y": [
          4136
         ],
         "yaxis": "y"
        },
        {
         "alignmentgroup": "True",
         "hovertemplate": "Repository URL=%{x}<br># Contributor Events=%{y}<extra></extra>",
         "legendgroup": "https://api.github.com/repos/zkSNACKs/WalletWasabi",
         "marker": {
          "color": "#FFA15A",
          "pattern": {
           "shape": ""
          }
         },
         "name": "https://api.github.com/repos/zkSNACKs/WalletWasabi",
         "offsetgroup": "https://api.github.com/repos/zkSNACKs/WalletWasabi",
         "orientation": "v",
         "showlegend": true,
         "textposition": "auto",
         "type": "bar",
         "x": [
          "https://api.github.com/repos/zkSNACKs/WalletWasabi"
         ],
         "xaxis": "x",
         "y": [
          3991
         ],
         "yaxis": "y"
        },
        {
         "alignmentgroup": "True",
         "hovertemplate": "Repository URL=%{x}<br># Contributor Events=%{y}<extra></extra>",
         "legendgroup": "https://api.github.com/repos/paritytech/substrate",
         "marker": {
          "color": "#19d3f3",
          "pattern": {
           "shape": ""
          }
         },
         "name": "https://api.github.com/repos/paritytech/substrate",
         "offsetgroup": "https://api.github.com/repos/paritytech/substrate",
         "orientation": "v",
         "showlegend": true,
         "textposition": "auto",
         "type": "bar",
         "x": [
          "https://api.github.com/repos/paritytech/substrate"
         ],
         "xaxis": "x",
         "y": [
          3888
         ],
         "yaxis": "y"
        },
        {
         "alignmentgroup": "True",
         "hovertemplate": "Repository URL=%{x}<br># Contributor Events=%{y}<extra></extra>",
         "legendgroup": "https://api.github.com/repos/golang/go",
         "marker": {
          "color": "#FF6692",
          "pattern": {
           "shape": ""
          }
         },
         "name": "https://api.github.com/repos/golang/go",
         "offsetgroup": "https://api.github.com/repos/golang/go",
         "orientation": "v",
         "showlegend": true,
         "textposition": "auto",
         "type": "bar",
         "x": [
          "https://api.github.com/repos/golang/go"
         ],
         "xaxis": "x",
         "y": [
          3810
         ],
         "yaxis": "y"
        },
        {
         "alignmentgroup": "True",
         "hovertemplate": "Repository URL=%{x}<br># Contributor Events=%{y}<extra></extra>",
         "legendgroup": "https://api.github.com/repos/JuliaLang/julia",
         "marker": {
          "color": "#B6E880",
          "pattern": {
           "shape": ""
          }
         },
         "name": "https://api.github.com/repos/JuliaLang/julia",
         "offsetgroup": "https://api.github.com/repos/JuliaLang/julia",
         "orientation": "v",
         "showlegend": true,
         "textposition": "auto",
         "type": "bar",
         "x": [
          "https://api.github.com/repos/JuliaLang/julia"
         ],
         "xaxis": "x",
         "y": [
          3806
         ],
         "yaxis": "y"
        },
        {
         "alignmentgroup": "True",
         "hovertemplate": "Repository URL=%{x}<br># Contributor Events=%{y}<extra></extra>",
         "legendgroup": "https://api.github.com/repos/gear-tech/gear",
         "marker": {
          "color": "#FF97FF",
          "pattern": {
           "shape": ""
          }
         },
         "name": "https://api.github.com/repos/gear-tech/gear",
         "offsetgroup": "https://api.github.com/repos/gear-tech/gear",
         "orientation": "v",
         "showlegend": true,
         "textposition": "auto",
         "type": "bar",
         "x": [
          "https://api.github.com/repos/gear-tech/gear"
         ],
         "xaxis": "x",
         "y": [
          3705
         ],
         "yaxis": "y"
        },
        {
         "alignmentgroup": "True",
         "hovertemplate": "Repository URL=%{x}<br># Contributor Events=%{y}<extra></extra>",
         "legendgroup": "https://api.github.com/repos/paritytech/polkadot-sdk",
         "marker": {
          "color": "#FECB52",
          "pattern": {
           "shape": ""
          }
         },
         "name": "https://api.github.com/repos/paritytech/polkadot-sdk",
         "offsetgroup": "https://api.github.com/repos/paritytech/polkadot-sdk",
         "orientation": "v",
         "showlegend": true,
         "textposition": "auto",
         "type": "bar",
         "x": [
          "https://api.github.com/repos/paritytech/polkadot-sdk"
         ],
         "xaxis": "x",
         "y": [
          3630
         ],
         "yaxis": "y"
        },
        {
         "alignmentgroup": "True",
         "hovertemplate": "Repository URL=%{x}<br># Contributor Events=%{y}<extra></extra>",
         "legendgroup": "https://api.github.com/repos/microsoft/winget-pkgs",
         "marker": {
          "color": "#636efa",
          "pattern": {
           "shape": ""
          }
         },
         "name": "https://api.github.com/repos/microsoft/winget-pkgs",
         "offsetgroup": "https://api.github.com/repos/microsoft/winget-pkgs",
         "orientation": "v",
         "showlegend": true,
         "textposition": "auto",
         "type": "bar",
         "x": [
          "https://api.github.com/repos/microsoft/winget-pkgs"
         ],
         "xaxis": "x",
         "y": [
          3531
         ],
         "yaxis": "y"
        },
        {
         "alignmentgroup": "True",
         "hovertemplate": "Repository URL=%{x}<br># Contributor Events=%{y}<extra></extra>",
         "legendgroup": "https://api.github.com/repos/python/cpython",
         "marker": {
          "color": "#EF553B",
          "pattern": {
           "shape": ""
          }
         },
         "name": "https://api.github.com/repos/python/cpython",
         "offsetgroup": "https://api.github.com/repos/python/cpython",
         "orientation": "v",
         "showlegend": true,
         "textposition": "auto",
         "type": "bar",
         "x": [
          "https://api.github.com/repos/python/cpython"
         ],
         "xaxis": "x",
         "y": [
          3419
         ],
         "yaxis": "y"
        },
        {
         "alignmentgroup": "True",
         "hovertemplate": "Repository URL=%{x}<br># Contributor Events=%{y}<extra></extra>",
         "legendgroup": "https://api.github.com/repos/tensorflow/tensorflow",
         "marker": {
          "color": "#00cc96",
          "pattern": {
           "shape": ""
          }
         },
         "name": "https://api.github.com/repos/tensorflow/tensorflow",
         "offsetgroup": "https://api.github.com/repos/tensorflow/tensorflow",
         "orientation": "v",
         "showlegend": true,
         "textposition": "auto",
         "type": "bar",
         "x": [
          "https://api.github.com/repos/tensorflow/tensorflow"
         ],
         "xaxis": "x",
         "y": [
          3381
         ],
         "yaxis": "y"
        },
        {
         "alignmentgroup": "True",
         "hovertemplate": "Repository URL=%{x}<br># Contributor Events=%{y}<extra></extra>",
         "legendgroup": "https://api.github.com/repos/ziglang/zig",
         "marker": {
          "color": "#ab63fa",
          "pattern": {
           "shape": ""
          }
         },
         "name": "https://api.github.com/repos/ziglang/zig",
         "offsetgroup": "https://api.github.com/repos/ziglang/zig",
         "orientation": "v",
         "showlegend": true,
         "textposition": "auto",
         "type": "bar",
         "x": [
          "https://api.github.com/repos/ziglang/zig"
         ],
         "xaxis": "x",
         "y": [
          3248
         ],
         "yaxis": "y"
        },
        {
         "alignmentgroup": "True",
         "hovertemplate": "Repository URL=%{x}<br># Contributor Events=%{y}<extra></extra>",
         "legendgroup": "https://api.github.com/repos/flutter/flutter",
         "marker": {
          "color": "#FFA15A",
          "pattern": {
           "shape": ""
          }
         },
         "name": "https://api.github.com/repos/flutter/flutter",
         "offsetgroup": "https://api.github.com/repos/flutter/flutter",
         "orientation": "v",
         "showlegend": true,
         "textposition": "auto",
         "type": "bar",
         "x": [
          "https://api.github.com/repos/flutter/flutter"
         ],
         "xaxis": "x",
         "y": [
          3191
         ],
         "yaxis": "y"
        },
        {
         "alignmentgroup": "True",
         "hovertemplate": "Repository URL=%{x}<br># Contributor Events=%{y}<extra></extra>",
         "legendgroup": "https://api.github.com/repos/godotengine/godot",
         "marker": {
          "color": "#19d3f3",
          "pattern": {
           "shape": ""
          }
         },
         "name": "https://api.github.com/repos/godotengine/godot",
         "offsetgroup": "https://api.github.com/repos/godotengine/godot",
         "orientation": "v",
         "showlegend": true,
         "textposition": "auto",
         "type": "bar",
         "x": [
          "https://api.github.com/repos/godotengine/godot"
         ],
         "xaxis": "x",
         "y": [
          3180
         ],
         "yaxis": "y"
        },
        {
         "alignmentgroup": "True",
         "hovertemplate": "Repository URL=%{x}<br># Contributor Events=%{y}<extra></extra>",
         "legendgroup": "https://api.github.com/repos/leanprover-community/mathlib4",
         "marker": {
          "color": "#FF6692",
          "pattern": {
           "shape": ""
          }
         },
         "name": "https://api.github.com/repos/leanprover-community/mathlib4",
         "offsetgroup": "https://api.github.com/repos/leanprover-community/mathlib4",
         "orientation": "v",
         "showlegend": true,
         "textposition": "auto",
         "type": "bar",
         "x": [
          "https://api.github.com/repos/leanprover-community/mathlib4"
         ],
         "xaxis": "x",
         "y": [
          3168
         ],
         "yaxis": "y"
        },
        {
         "alignmentgroup": "True",
         "hovertemplate": "Repository URL=%{x}<br># Contributor Events=%{y}<extra></extra>",
         "legendgroup": "https://api.github.com/repos/Homebrew/homebrew-core",
         "marker": {
          "color": "#B6E880",
          "pattern": {
           "shape": ""
          }
         },
         "name": "https://api.github.com/repos/Homebrew/homebrew-core",
         "offsetgroup": "https://api.github.com/repos/Homebrew/homebrew-core",
         "orientation": "v",
         "showlegend": true,
         "textposition": "auto",
         "type": "bar",
         "x": [
          "https://api.github.com/repos/Homebrew/homebrew-core"
         ],
         "xaxis": "x",
         "y": [
          3165
         ],
         "yaxis": "y"
        },
        {
         "alignmentgroup": "True",
         "hovertemplate": "Repository URL=%{x}<br># Contributor Events=%{y}<extra></extra>",
         "legendgroup": "https://api.github.com/repos/ethereum/go-ethereum",
         "marker": {
          "color": "#FF97FF",
          "pattern": {
           "shape": ""
          }
         },
         "name": "https://api.github.com/repos/ethereum/go-ethereum",
         "offsetgroup": "https://api.github.com/repos/ethereum/go-ethereum",
         "orientation": "v",
         "showlegend": true,
         "textposition": "auto",
         "type": "bar",
         "x": [
          "https://api.github.com/repos/ethereum/go-ethereum"
         ],
         "xaxis": "x",
         "y": [
          3134
         ],
         "yaxis": "y"
        },
        {
         "alignmentgroup": "True",
         "hovertemplate": "Repository URL=%{x}<br># Contributor Events=%{y}<extra></extra>",
         "legendgroup": "https://api.github.com/repos/bytecodealliance/wasmtime",
         "marker": {
          "color": "#FECB52",
          "pattern": {
           "shape": ""
          }
         },
         "name": "https://api.github.com/repos/bytecodealliance/wasmtime",
         "offsetgroup": "https://api.github.com/repos/bytecodealliance/wasmtime",
         "orientation": "v",
         "showlegend": true,
         "textposition": "auto",
         "type": "bar",
         "x": [
          "https://api.github.com/repos/bytecodealliance/wasmtime"
         ],
         "xaxis": "x",
         "y": [
          3097
         ],
         "yaxis": "y"
        },
        {
         "alignmentgroup": "True",
         "hovertemplate": "Repository URL=%{x}<br># Contributor Events=%{y}<extra></extra>",
         "legendgroup": "https://api.github.com/repos/ethereum-optimism/optimism",
         "marker": {
          "color": "#636efa",
          "pattern": {
           "shape": ""
          }
         },
         "name": "https://api.github.com/repos/ethereum-optimism/optimism",
         "offsetgroup": "https://api.github.com/repos/ethereum-optimism/optimism",
         "orientation": "v",
         "showlegend": true,
         "textposition": "auto",
         "type": "bar",
         "x": [
          "https://api.github.com/repos/ethereum-optimism/optimism"
         ],
         "xaxis": "x",
         "y": [
          3069
         ],
         "yaxis": "y"
        },
        {
         "alignmentgroup": "True",
         "hovertemplate": "Repository URL=%{x}<br># Contributor Events=%{y}<extra></extra>",
         "legendgroup": "https://api.github.com/repos/web-platform-tests/wpt",
         "marker": {
          "color": "#EF553B",
          "pattern": {
           "shape": ""
          }
         },
         "name": "https://api.github.com/repos/web-platform-tests/wpt",
         "offsetgroup": "https://api.github.com/repos/web-platform-tests/wpt",
         "orientation": "v",
         "showlegend": true,
         "textposition": "auto",
         "type": "bar",
         "x": [
          "https://api.github.com/repos/web-platform-tests/wpt"
         ],
         "xaxis": "x",
         "y": [
          2947
         ],
         "yaxis": "y"
        },
        {
         "alignmentgroup": "True",
         "hovertemplate": "Repository URL=%{x}<br># Contributor Events=%{y}<extra></extra>",
         "legendgroup": "https://api.github.com/repos/scylladb/scylladb",
         "marker": {
          "color": "#00cc96",
          "pattern": {
           "shape": ""
          }
         },
         "name": "https://api.github.com/repos/scylladb/scylladb",
         "offsetgroup": "https://api.github.com/repos/scylladb/scylladb",
         "orientation": "v",
         "showlegend": true,
         "textposition": "auto",
         "type": "bar",
         "x": [
          "https://api.github.com/repos/scylladb/scylladb"
         ],
         "xaxis": "x",
         "y": [
          2937
         ],
         "yaxis": "y"
        },
        {
         "alignmentgroup": "True",
         "hovertemplate": "Repository URL=%{x}<br># Contributor Events=%{y}<extra></extra>",
         "legendgroup": "https://api.github.com/repos/redpanda-data/redpanda",
         "marker": {
          "color": "#ab63fa",
          "pattern": {
           "shape": ""
          }
         },
         "name": "https://api.github.com/repos/redpanda-data/redpanda",
         "offsetgroup": "https://api.github.com/repos/redpanda-data/redpanda",
         "orientation": "v",
         "showlegend": true,
         "textposition": "auto",
         "type": "bar",
         "x": [
          "https://api.github.com/repos/redpanda-data/redpanda"
         ],
         "xaxis": "x",
         "y": [
          2928
         ],
         "yaxis": "y"
        },
        {
         "alignmentgroup": "True",
         "hovertemplate": "Repository URL=%{x}<br># Contributor Events=%{y}<extra></extra>",
         "legendgroup": "https://api.github.com/repos/noir-lang/noir",
         "marker": {
          "color": "#FFA15A",
          "pattern": {
           "shape": ""
          }
         },
         "name": "https://api.github.com/repos/noir-lang/noir",
         "offsetgroup": "https://api.github.com/repos/noir-lang/noir",
         "orientation": "v",
         "showlegend": true,
         "textposition": "auto",
         "type": "bar",
         "x": [
          "https://api.github.com/repos/noir-lang/noir"
         ],
         "xaxis": "x",
         "y": [
          2786
         ],
         "yaxis": "y"
        },
        {
         "alignmentgroup": "True",
         "hovertemplate": "Repository URL=%{x}<br># Contributor Events=%{y}<extra></extra>",
         "legendgroup": "https://api.github.com/repos/WasmEdge/WasmEdge",
         "marker": {
          "color": "#19d3f3",
          "pattern": {
           "shape": ""
          }
         },
         "name": "https://api.github.com/repos/WasmEdge/WasmEdge",
         "offsetgroup": "https://api.github.com/repos/WasmEdge/WasmEdge",
         "orientation": "v",
         "showlegend": true,
         "textposition": "auto",
         "type": "bar",
         "x": [
          "https://api.github.com/repos/WasmEdge/WasmEdge"
         ],
         "xaxis": "x",
         "y": [
          2763
         ],
         "yaxis": "y"
        },
        {
         "alignmentgroup": "True",
         "hovertemplate": "Repository URL=%{x}<br># Contributor Events=%{y}<extra></extra>",
         "legendgroup": "https://api.github.com/repos/cloudflare/workerd",
         "marker": {
          "color": "#FF6692",
          "pattern": {
           "shape": ""
          }
         },
         "name": "https://api.github.com/repos/cloudflare/workerd",
         "offsetgroup": "https://api.github.com/repos/cloudflare/workerd",
         "orientation": "v",
         "showlegend": true,
         "textposition": "auto",
         "type": "bar",
         "x": [
          "https://api.github.com/repos/cloudflare/workerd"
         ],
         "xaxis": "x",
         "y": [
          2689
         ],
         "yaxis": "y"
        },
        {
         "alignmentgroup": "True",
         "hovertemplate": "Repository URL=%{x}<br># Contributor Events=%{y}<extra></extra>",
         "legendgroup": "https://api.github.com/repos/chromium/chromium",
         "marker": {
          "color": "#B6E880",
          "pattern": {
           "shape": ""
          }
         },
         "name": "https://api.github.com/repos/chromium/chromium",
         "offsetgroup": "https://api.github.com/repos/chromium/chromium",
         "orientation": "v",
         "showlegend": true,
         "textposition": "auto",
         "type": "bar",
         "x": [
          "https://api.github.com/repos/chromium/chromium"
         ],
         "xaxis": "x",
         "y": [
          2578
         ],
         "yaxis": "y"
        },
        {
         "alignmentgroup": "True",
         "hovertemplate": "Repository URL=%{x}<br># Contributor Events=%{y}<extra></extra>",
         "legendgroup": "https://api.github.com/repos/zephyrproject-rtos/zephyr",
         "marker": {
          "color": "#FF97FF",
          "pattern": {
           "shape": ""
          }
         },
         "name": "https://api.github.com/repos/zephyrproject-rtos/zephyr",
         "offsetgroup": "https://api.github.com/repos/zephyrproject-rtos/zephyr",
         "orientation": "v",
         "showlegend": true,
         "textposition": "auto",
         "type": "bar",
         "x": [
          "https://api.github.com/repos/zephyrproject-rtos/zephyr"
         ],
         "xaxis": "x",
         "y": [
          2558
         ],
         "yaxis": "y"
        },
        {
         "alignmentgroup": "True",
         "hovertemplate": "Repository URL=%{x}<br># Contributor Events=%{y}<extra></extra>",
         "legendgroup": "https://api.github.com/repos/paritytech/polkadot",
         "marker": {
          "color": "#FECB52",
          "pattern": {
           "shape": ""
          }
         },
         "name": "https://api.github.com/repos/paritytech/polkadot",
         "offsetgroup": "https://api.github.com/repos/paritytech/polkadot",
         "orientation": "v",
         "showlegend": true,
         "textposition": "auto",
         "type": "bar",
         "x": [
          "https://api.github.com/repos/paritytech/polkadot"
         ],
         "xaxis": "x",
         "y": [
          2551
         ],
         "yaxis": "y"
        }
       ],
       "layout": {
        "barmode": "relative",
        "legend": {
         "title": {
          "text": "Repository URL"
         },
         "tracegroupgap": 0
        },
        "margin": {
         "t": 60
        },
        "showlegend": false,
        "template": {
         "data": {
          "bar": [
           {
            "error_x": {
             "color": "#2a3f5f"
            },
            "error_y": {
             "color": "#2a3f5f"
            },
            "marker": {
             "line": {
              "color": "#E5ECF6",
              "width": 0.5
             },
             "pattern": {
              "fillmode": "overlay",
              "size": 10,
              "solidity": 0.2
             }
            },
            "type": "bar"
           }
          ],
          "barpolar": [
           {
            "marker": {
             "line": {
              "color": "#E5ECF6",
              "width": 0.5
             },
             "pattern": {
              "fillmode": "overlay",
              "size": 10,
              "solidity": 0.2
             }
            },
            "type": "barpolar"
           }
          ],
          "carpet": [
           {
            "aaxis": {
             "endlinecolor": "#2a3f5f",
             "gridcolor": "white",
             "linecolor": "white",
             "minorgridcolor": "white",
             "startlinecolor": "#2a3f5f"
            },
            "baxis": {
             "endlinecolor": "#2a3f5f",
             "gridcolor": "white",
             "linecolor": "white",
             "minorgridcolor": "white",
             "startlinecolor": "#2a3f5f"
            },
            "type": "carpet"
           }
          ],
          "choropleth": [
           {
            "colorbar": {
             "outlinewidth": 0,
             "ticks": ""
            },
            "type": "choropleth"
           }
          ],
          "contour": [
           {
            "colorbar": {
             "outlinewidth": 0,
             "ticks": ""
            },
            "colorscale": [
             [
              0,
              "#0d0887"
             ],
             [
              0.1111111111111111,
              "#46039f"
             ],
             [
              0.2222222222222222,
              "#7201a8"
             ],
             [
              0.3333333333333333,
              "#9c179e"
             ],
             [
              0.4444444444444444,
              "#bd3786"
             ],
             [
              0.5555555555555556,
              "#d8576b"
             ],
             [
              0.6666666666666666,
              "#ed7953"
             ],
             [
              0.7777777777777778,
              "#fb9f3a"
             ],
             [
              0.8888888888888888,
              "#fdca26"
             ],
             [
              1,
              "#f0f921"
             ]
            ],
            "type": "contour"
           }
          ],
          "contourcarpet": [
           {
            "colorbar": {
             "outlinewidth": 0,
             "ticks": ""
            },
            "type": "contourcarpet"
           }
          ],
          "heatmap": [
           {
            "colorbar": {
             "outlinewidth": 0,
             "ticks": ""
            },
            "colorscale": [
             [
              0,
              "#0d0887"
             ],
             [
              0.1111111111111111,
              "#46039f"
             ],
             [
              0.2222222222222222,
              "#7201a8"
             ],
             [
              0.3333333333333333,
              "#9c179e"
             ],
             [
              0.4444444444444444,
              "#bd3786"
             ],
             [
              0.5555555555555556,
              "#d8576b"
             ],
             [
              0.6666666666666666,
              "#ed7953"
             ],
             [
              0.7777777777777778,
              "#fb9f3a"
             ],
             [
              0.8888888888888888,
              "#fdca26"
             ],
             [
              1,
              "#f0f921"
             ]
            ],
            "type": "heatmap"
           }
          ],
          "heatmapgl": [
           {
            "colorbar": {
             "outlinewidth": 0,
             "ticks": ""
            },
            "colorscale": [
             [
              0,
              "#0d0887"
             ],
             [
              0.1111111111111111,
              "#46039f"
             ],
             [
              0.2222222222222222,
              "#7201a8"
             ],
             [
              0.3333333333333333,
              "#9c179e"
             ],
             [
              0.4444444444444444,
              "#bd3786"
             ],
             [
              0.5555555555555556,
              "#d8576b"
             ],
             [
              0.6666666666666666,
              "#ed7953"
             ],
             [
              0.7777777777777778,
              "#fb9f3a"
             ],
             [
              0.8888888888888888,
              "#fdca26"
             ],
             [
              1,
              "#f0f921"
             ]
            ],
            "type": "heatmapgl"
           }
          ],
          "histogram": [
           {
            "marker": {
             "pattern": {
              "fillmode": "overlay",
              "size": 10,
              "solidity": 0.2
             }
            },
            "type": "histogram"
           }
          ],
          "histogram2d": [
           {
            "colorbar": {
             "outlinewidth": 0,
             "ticks": ""
            },
            "colorscale": [
             [
              0,
              "#0d0887"
             ],
             [
              0.1111111111111111,
              "#46039f"
             ],
             [
              0.2222222222222222,
              "#7201a8"
             ],
             [
              0.3333333333333333,
              "#9c179e"
             ],
             [
              0.4444444444444444,
              "#bd3786"
             ],
             [
              0.5555555555555556,
              "#d8576b"
             ],
             [
              0.6666666666666666,
              "#ed7953"
             ],
             [
              0.7777777777777778,
              "#fb9f3a"
             ],
             [
              0.8888888888888888,
              "#fdca26"
             ],
             [
              1,
              "#f0f921"
             ]
            ],
            "type": "histogram2d"
           }
          ],
          "histogram2dcontour": [
           {
            "colorbar": {
             "outlinewidth": 0,
             "ticks": ""
            },
            "colorscale": [
             [
              0,
              "#0d0887"
             ],
             [
              0.1111111111111111,
              "#46039f"
             ],
             [
              0.2222222222222222,
              "#7201a8"
             ],
             [
              0.3333333333333333,
              "#9c179e"
             ],
             [
              0.4444444444444444,
              "#bd3786"
             ],
             [
              0.5555555555555556,
              "#d8576b"
             ],
             [
              0.6666666666666666,
              "#ed7953"
             ],
             [
              0.7777777777777778,
              "#fb9f3a"
             ],
             [
              0.8888888888888888,
              "#fdca26"
             ],
             [
              1,
              "#f0f921"
             ]
            ],
            "type": "histogram2dcontour"
           }
          ],
          "mesh3d": [
           {
            "colorbar": {
             "outlinewidth": 0,
             "ticks": ""
            },
            "type": "mesh3d"
           }
          ],
          "parcoords": [
           {
            "line": {
             "colorbar": {
              "outlinewidth": 0,
              "ticks": ""
             }
            },
            "type": "parcoords"
           }
          ],
          "pie": [
           {
            "automargin": true,
            "type": "pie"
           }
          ],
          "scatter": [
           {
            "fillpattern": {
             "fillmode": "overlay",
             "size": 10,
             "solidity": 0.2
            },
            "type": "scatter"
           }
          ],
          "scatter3d": [
           {
            "line": {
             "colorbar": {
              "outlinewidth": 0,
              "ticks": ""
             }
            },
            "marker": {
             "colorbar": {
              "outlinewidth": 0,
              "ticks": ""
             }
            },
            "type": "scatter3d"
           }
          ],
          "scattercarpet": [
           {
            "marker": {
             "colorbar": {
              "outlinewidth": 0,
              "ticks": ""
             }
            },
            "type": "scattercarpet"
           }
          ],
          "scattergeo": [
           {
            "marker": {
             "colorbar": {
              "outlinewidth": 0,
              "ticks": ""
             }
            },
            "type": "scattergeo"
           }
          ],
          "scattergl": [
           {
            "marker": {
             "colorbar": {
              "outlinewidth": 0,
              "ticks": ""
             }
            },
            "type": "scattergl"
           }
          ],
          "scattermapbox": [
           {
            "marker": {
             "colorbar": {
              "outlinewidth": 0,
              "ticks": ""
             }
            },
            "type": "scattermapbox"
           }
          ],
          "scatterpolar": [
           {
            "marker": {
             "colorbar": {
              "outlinewidth": 0,
              "ticks": ""
             }
            },
            "type": "scatterpolar"
           }
          ],
          "scatterpolargl": [
           {
            "marker": {
             "colorbar": {
              "outlinewidth": 0,
              "ticks": ""
             }
            },
            "type": "scatterpolargl"
           }
          ],
          "scatterternary": [
           {
            "marker": {
             "colorbar": {
              "outlinewidth": 0,
              "ticks": ""
             }
            },
            "type": "scatterternary"
           }
          ],
          "surface": [
           {
            "colorbar": {
             "outlinewidth": 0,
             "ticks": ""
            },
            "colorscale": [
             [
              0,
              "#0d0887"
             ],
             [
              0.1111111111111111,
              "#46039f"
             ],
             [
              0.2222222222222222,
              "#7201a8"
             ],
             [
              0.3333333333333333,
              "#9c179e"
             ],
             [
              0.4444444444444444,
              "#bd3786"
             ],
             [
              0.5555555555555556,
              "#d8576b"
             ],
             [
              0.6666666666666666,
              "#ed7953"
             ],
             [
              0.7777777777777778,
              "#fb9f3a"
             ],
             [
              0.8888888888888888,
              "#fdca26"
             ],
             [
              1,
              "#f0f921"
             ]
            ],
            "type": "surface"
           }
          ],
          "table": [
           {
            "cells": {
             "fill": {
              "color": "#EBF0F8"
             },
             "line": {
              "color": "white"
             }
            },
            "header": {
             "fill": {
              "color": "#C8D4E3"
             },
             "line": {
              "color": "white"
             }
            },
            "type": "table"
           }
          ]
         },
         "layout": {
          "annotationdefaults": {
           "arrowcolor": "#2a3f5f",
           "arrowhead": 0,
           "arrowwidth": 1
          },
          "autotypenumbers": "strict",
          "coloraxis": {
           "colorbar": {
            "outlinewidth": 0,
            "ticks": ""
           }
          },
          "colorscale": {
           "diverging": [
            [
             0,
             "#8e0152"
            ],
            [
             0.1,
             "#c51b7d"
            ],
            [
             0.2,
             "#de77ae"
            ],
            [
             0.3,
             "#f1b6da"
            ],
            [
             0.4,
             "#fde0ef"
            ],
            [
             0.5,
             "#f7f7f7"
            ],
            [
             0.6,
             "#e6f5d0"
            ],
            [
             0.7,
             "#b8e186"
            ],
            [
             0.8,
             "#7fbc41"
            ],
            [
             0.9,
             "#4d9221"
            ],
            [
             1,
             "#276419"
            ]
           ],
           "sequential": [
            [
             0,
             "#0d0887"
            ],
            [
             0.1111111111111111,
             "#46039f"
            ],
            [
             0.2222222222222222,
             "#7201a8"
            ],
            [
             0.3333333333333333,
             "#9c179e"
            ],
            [
             0.4444444444444444,
             "#bd3786"
            ],
            [
             0.5555555555555556,
             "#d8576b"
            ],
            [
             0.6666666666666666,
             "#ed7953"
            ],
            [
             0.7777777777777778,
             "#fb9f3a"
            ],
            [
             0.8888888888888888,
             "#fdca26"
            ],
            [
             1,
             "#f0f921"
            ]
           ],
           "sequentialminus": [
            [
             0,
             "#0d0887"
            ],
            [
             0.1111111111111111,
             "#46039f"
            ],
            [
             0.2222222222222222,
             "#7201a8"
            ],
            [
             0.3333333333333333,
             "#9c179e"
            ],
            [
             0.4444444444444444,
             "#bd3786"
            ],
            [
             0.5555555555555556,
             "#d8576b"
            ],
            [
             0.6666666666666666,
             "#ed7953"
            ],
            [
             0.7777777777777778,
             "#fb9f3a"
            ],
            [
             0.8888888888888888,
             "#fdca26"
            ],
            [
             1,
             "#f0f921"
            ]
           ]
          },
          "colorway": [
           "#636efa",
           "#EF553B",
           "#00cc96",
           "#ab63fa",
           "#FFA15A",
           "#19d3f3",
           "#FF6692",
           "#B6E880",
           "#FF97FF",
           "#FECB52"
          ],
          "font": {
           "color": "#2a3f5f"
          },
          "geo": {
           "bgcolor": "white",
           "lakecolor": "white",
           "landcolor": "#E5ECF6",
           "showlakes": true,
           "showland": true,
           "subunitcolor": "white"
          },
          "hoverlabel": {
           "align": "left"
          },
          "hovermode": "closest",
          "mapbox": {
           "style": "light"
          },
          "paper_bgcolor": "white",
          "plot_bgcolor": "#E5ECF6",
          "polar": {
           "angularaxis": {
            "gridcolor": "white",
            "linecolor": "white",
            "ticks": ""
           },
           "bgcolor": "#E5ECF6",
           "radialaxis": {
            "gridcolor": "white",
            "linecolor": "white",
            "ticks": ""
           }
          },
          "scene": {
           "xaxis": {
            "backgroundcolor": "#E5ECF6",
            "gridcolor": "white",
            "gridwidth": 2,
            "linecolor": "white",
            "showbackground": true,
            "ticks": "",
            "zerolinecolor": "white"
           },
           "yaxis": {
            "backgroundcolor": "#E5ECF6",
            "gridcolor": "white",
            "gridwidth": 2,
            "linecolor": "white",
            "showbackground": true,
            "ticks": "",
            "zerolinecolor": "white"
           },
           "zaxis": {
            "backgroundcolor": "#E5ECF6",
            "gridcolor": "white",
            "gridwidth": 2,
            "linecolor": "white",
            "showbackground": true,
            "ticks": "",
            "zerolinecolor": "white"
           }
          },
          "shapedefaults": {
           "line": {
            "color": "#2a3f5f"
           }
          },
          "ternary": {
           "aaxis": {
            "gridcolor": "white",
            "linecolor": "white",
            "ticks": ""
           },
           "baxis": {
            "gridcolor": "white",
            "linecolor": "white",
            "ticks": ""
           },
           "bgcolor": "#E5ECF6",
           "caxis": {
            "gridcolor": "white",
            "linecolor": "white",
            "ticks": ""
           }
          },
          "title": {
           "x": 0.05
          },
          "xaxis": {
           "automargin": true,
           "gridcolor": "white",
           "linecolor": "white",
           "ticks": "",
           "title": {
            "standoff": 15
           },
           "zerolinecolor": "white",
           "zerolinewidth": 2
          },
          "yaxis": {
           "automargin": true,
           "gridcolor": "white",
           "linecolor": "white",
           "ticks": "",
           "title": {
            "standoff": 15
           },
           "zerolinecolor": "white",
           "zerolinewidth": 2
          }
         }
        },
        "xaxis": {
         "anchor": "y",
         "categoryarray": [
          "https://api.github.com/repos/llvm/llvm-project",
          "https://api.github.com/repos/pytorch/pytorch",
          "https://api.github.com/repos/rust-lang/rust",
          "https://api.github.com/repos/dotnet/runtime",
          "https://api.github.com/repos/intel/llvm",
          "https://api.github.com/repos/apple/swift",
          "https://api.github.com/repos/JetBrains/MPS",
          "https://api.github.com/repos/NixOS/nixpkgs",
          "https://api.github.com/repos/openxla/iree",
          "https://api.github.com/repos/GoogleChrome/developer.chrome.com",
          "https://api.github.com/repos/llvm/circt",
          "https://api.github.com/repos/ClickHouse/ClickHouse",
          "https://api.github.com/repos/apple/llvm-project",
          "https://api.github.com/repos/AvaloniaUI/Avalonia",
          "https://api.github.com/repos/unoplatform/uno",
          "https://api.github.com/repos/milahu/opensubtitles-scraper-new-subs",
          "https://api.github.com/repos/apache/tvm",
          "https://api.github.com/repos/rust-lang/crates.io-index",
          "https://api.github.com/repos/nodejs/node",
          "https://api.github.com/repos/llvm-premerge-tests/llvm-project",
          "https://api.github.com/repos/astral-sh/ruff",
          "https://api.github.com/repos/emscripten-core/emscripten",
          "https://api.github.com/repos/microsoft/vscode",
          "https://api.github.com/repos/microsoft/onnxruntime",
          "https://api.github.com/repos/zkSNACKs/WalletWasabi",
          "https://api.github.com/repos/paritytech/substrate",
          "https://api.github.com/repos/golang/go",
          "https://api.github.com/repos/JuliaLang/julia",
          "https://api.github.com/repos/gear-tech/gear",
          "https://api.github.com/repos/paritytech/polkadot-sdk",
          "https://api.github.com/repos/microsoft/winget-pkgs",
          "https://api.github.com/repos/python/cpython",
          "https://api.github.com/repos/tensorflow/tensorflow",
          "https://api.github.com/repos/ziglang/zig",
          "https://api.github.com/repos/flutter/flutter",
          "https://api.github.com/repos/godotengine/godot",
          "https://api.github.com/repos/leanprover-community/mathlib4",
          "https://api.github.com/repos/Homebrew/homebrew-core",
          "https://api.github.com/repos/ethereum/go-ethereum",
          "https://api.github.com/repos/bytecodealliance/wasmtime",
          "https://api.github.com/repos/ethereum-optimism/optimism",
          "https://api.github.com/repos/web-platform-tests/wpt",
          "https://api.github.com/repos/scylladb/scylladb",
          "https://api.github.com/repos/redpanda-data/redpanda",
          "https://api.github.com/repos/noir-lang/noir",
          "https://api.github.com/repos/WasmEdge/WasmEdge",
          "https://api.github.com/repos/cloudflare/workerd",
          "https://api.github.com/repos/chromium/chromium",
          "https://api.github.com/repos/zephyrproject-rtos/zephyr",
          "https://api.github.com/repos/paritytech/polkadot"
         ],
         "categoryorder": "array",
         "domain": [
          0,
          1
         ],
         "title": {
          "text": "Repository URL"
         }
        },
        "yaxis": {
         "anchor": "x",
         "domain": [
          0,
          1
         ],
         "title": {
          "text": "# Contributor Events"
         }
        }
       }
      }
     },
     "metadata": {},
     "output_type": "display_data"
    }
   ],
   "source": [
    "df_fig_rec = repo_event_counts.to_frame().rename(columns={\"repo_git\": \"count\"})\n",
    "print(df_fig_rec)\n",
    "df_fig_rec = df_fig_rec[df_fig_rec[\"count\"] > 2500]\n",
    "\n",
    "fig_rec = px.bar(\n",
    "    data_frame=df_fig_rec,\n",
    "    color=df_fig_rec.index,\n",
    "    labels={\n",
    "                    \"value\": \"# Contributor Events\",\n",
    "                    \"repo_git\": \"Repository URL\"\n",
    "                },\n",
    ")\n",
    "fig_rec.update_layout(showlegend=False)\n",
    "fig_rec.write_image(\"general_repository_eventcount.png\")\n",
    "fig_rec"
   ]
  },
  {
   "cell_type": "code",
   "execution_count": 34,
   "metadata": {},
   "outputs": [
    {
     "data": {
      "image/png": "[encoded data removed]",
      "text/plain": [
       "<IPython.core.display.Image object>"
      ]
     },
     "execution_count": 34,
     "metadata": {},
     "output_type": "execute_result"
    }
   ],
   "source": [
    "Image(\"general_repository_eventcount.png\")"
   ]
  },
  {
   "cell_type": "markdown",
   "metadata": {},
   "source": [
    "## Contribution event stream re: Known contributors\n",
    "\n",
    "We'd like to know which projects our group of contributors are the most active in. \n",
    "\n",
    "We'll cross-reference our event stream with the list of contributor IDs we have from our previous analysis."
   ]
  },
  {
   "cell_type": "code",
   "execution_count": 42,
   "metadata": {},
   "outputs": [
    {
     "data": {
      "text/plain": [
       "['010002df-6100-0000-0000-000000000000',\n",
       " '010000fd-e400-0000-0000-000000000000',\n",
       " '01002a5e-b400-0000-0000-000000000000',\n",
       " '0100034c-5400-0000-0000-000000000000',\n",
       " '01003291-1b00-0000-0000-000000000000',\n",
       " '01019668-3400-0000-0000-000000000000',\n",
       " '01000e6f-b800-0000-0000-000000000000',\n",
       " '01000123-4b00-0000-0000-000000000000',\n",
       " '0100580b-d200-0000-0000-000000000000',\n",
       " '010003d7-c900-0000-0000-000000000000']"
      ]
     },
     "execution_count": 42,
     "metadata": {},
     "output_type": "execute_result"
    }
   ],
   "source": [
    "UUID_known = df_known_contribs.cntrb_id.to_list()\n",
    "UUID_known[:10]"
   ]
  },
  {
   "cell_type": "code",
   "execution_count": 15,
   "metadata": {},
   "outputs": [],
   "source": [
    "# only consider events from known contributors.\n",
    "df_known_event_stream = df_event_stream[df_event_stream.cntrb_id.isin(UUID_known)]"
   ]
  },
  {
   "cell_type": "markdown",
   "metadata": {},
   "source": [
    "### Difference in size:\n",
    "\n",
    "The initial set of events represented the activity of the population of all Github users. \n",
    "\n",
    "By filtering by UUID_known, we now consider only those events from those contributors that we identified in our previous step; those that were in the initial set of repos that we believe are in our ecosystem of interest.\n",
    "\n",
    "This change is from 4.2 Million events to 454K events, nearly an order of magnitude difference."
   ]
  },
  {
   "cell_type": "code",
   "execution_count": 16,
   "metadata": {},
   "outputs": [
    {
     "name": "stdout",
     "output_type": "stream",
     "text": [
      "Diff in size: (3725197, 8) compared to (370440, 8)\n"
     ]
    }
   ],
   "source": [
    "print(f\"Diff in size: {df_event_stream.shape} compared to {df_known_event_stream.shape}\")"
   ]
  },
  {
   "cell_type": "markdown",
   "metadata": {},
   "source": [
    "## Most common events among known contributors"
   ]
  },
  {
   "cell_type": "code",
   "execution_count": 35,
   "metadata": {},
   "outputs": [
    {
     "data": {
      "application/vnd.plotly.v1+json": {
       "config": {
        "plotlyServerURL": "https://plot.ly"
       },
       "data": [
        {
         "alignmentgroup": "True",
         "hovertemplate": "Kind of Event=%{x}<br># Events=%{y}<extra></extra>",
         "legendgroup": "PushEvent",
         "marker": {
          "color": "#636efa",
          "pattern": {
           "shape": ""
          }
         },
         "name": "PushEvent",
         "offsetgroup": "PushEvent",
         "orientation": "v",
         "showlegend": true,
         "textposition": "auto",
         "type": "bar",
         "x": [
          "PushEvent"
         ],
         "xaxis": "x",
         "y": [
          119704
         ],
         "yaxis": "y"
        },
        {
         "alignmentgroup": "True",
         "hovertemplate": "Kind of Event=%{x}<br># Events=%{y}<extra></extra>",
         "legendgroup": "IssueCommentEvent",
         "marker": {
          "color": "#EF553B",
          "pattern": {
           "shape": ""
          }
         },
         "name": "IssueCommentEvent",
         "offsetgroup": "IssueCommentEvent",
         "orientation": "v",
         "showlegend": true,
         "textposition": "auto",
         "type": "bar",
         "x": [
          "IssueCommentEvent"
         ],
         "xaxis": "x",
         "y": [
          64455
         ],
         "yaxis": "y"
        },
        {
         "alignmentgroup": "True",
         "hovertemplate": "Kind of Event=%{x}<br># Events=%{y}<extra></extra>",
         "legendgroup": "PullRequestEvent",
         "marker": {
          "color": "#00cc96",
          "pattern": {
           "shape": ""
          }
         },
         "name": "PullRequestEvent",
         "offsetgroup": "PullRequestEvent",
         "orientation": "v",
         "showlegend": true,
         "textposition": "auto",
         "type": "bar",
         "x": [
          "PullRequestEvent"
         ],
         "xaxis": "x",
         "y": [
          38464
         ],
         "yaxis": "y"
        },
        {
         "alignmentgroup": "True",
         "hovertemplate": "Kind of Event=%{x}<br># Events=%{y}<extra></extra>",
         "legendgroup": "PullRequestReviewEvent",
         "marker": {
          "color": "#ab63fa",
          "pattern": {
           "shape": ""
          }
         },
         "name": "PullRequestReviewEvent",
         "offsetgroup": "PullRequestReviewEvent",
         "orientation": "v",
         "showlegend": true,
         "textposition": "auto",
         "type": "bar",
         "x": [
          "PullRequestReviewEvent"
         ],
         "xaxis": "x",
         "y": [
          32550
         ],
         "yaxis": "y"
        },
        {
         "alignmentgroup": "True",
         "hovertemplate": "Kind of Event=%{x}<br># Events=%{y}<extra></extra>",
         "legendgroup": "CreateEvent",
         "marker": {
          "color": "#FFA15A",
          "pattern": {
           "shape": ""
          }
         },
         "name": "CreateEvent",
         "offsetgroup": "CreateEvent",
         "orientation": "v",
         "showlegend": true,
         "textposition": "auto",
         "type": "bar",
         "x": [
          "CreateEvent"
         ],
         "xaxis": "x",
         "y": [
          31818
         ],
         "yaxis": "y"
        },
        {
         "alignmentgroup": "True",
         "hovertemplate": "Kind of Event=%{x}<br># Events=%{y}<extra></extra>",
         "legendgroup": "PullRequestReviewCommentEvent",
         "marker": {
          "color": "#19d3f3",
          "pattern": {
           "shape": ""
          }
         },
         "name": "PullRequestReviewCommentEvent",
         "offsetgroup": "PullRequestReviewCommentEvent",
         "orientation": "v",
         "showlegend": true,
         "textposition": "auto",
         "type": "bar",
         "x": [
          "PullRequestReviewCommentEvent"
         ],
         "xaxis": "x",
         "y": [
          24787
         ],
         "yaxis": "y"
        },
        {
         "alignmentgroup": "True",
         "hovertemplate": "Kind of Event=%{x}<br># Events=%{y}<extra></extra>",
         "legendgroup": "DeleteEvent",
         "marker": {
          "color": "#FF6692",
          "pattern": {
           "shape": ""
          }
         },
         "name": "DeleteEvent",
         "offsetgroup": "DeleteEvent",
         "orientation": "v",
         "showlegend": true,
         "textposition": "auto",
         "type": "bar",
         "x": [
          "DeleteEvent"
         ],
         "xaxis": "x",
         "y": [
          19943
         ],
         "yaxis": "y"
        },
        {
         "alignmentgroup": "True",
         "hovertemplate": "Kind of Event=%{x}<br># Events=%{y}<extra></extra>",
         "legendgroup": "WatchEvent",
         "marker": {
          "color": "#B6E880",
          "pattern": {
           "shape": ""
          }
         },
         "name": "WatchEvent",
         "offsetgroup": "WatchEvent",
         "orientation": "v",
         "showlegend": true,
         "textposition": "auto",
         "type": "bar",
         "x": [
          "WatchEvent"
         ],
         "xaxis": "x",
         "y": [
          19825
         ],
         "yaxis": "y"
        },
        {
         "alignmentgroup": "True",
         "hovertemplate": "Kind of Event=%{x}<br># Events=%{y}<extra></extra>",
         "legendgroup": "IssuesEvent",
         "marker": {
          "color": "#FF97FF",
          "pattern": {
           "shape": ""
          }
         },
         "name": "IssuesEvent",
         "offsetgroup": "IssuesEvent",
         "orientation": "v",
         "showlegend": true,
         "textposition": "auto",
         "type": "bar",
         "x": [
          "IssuesEvent"
         ],
         "xaxis": "x",
         "y": [
          13644
         ],
         "yaxis": "y"
        },
        {
         "alignmentgroup": "True",
         "hovertemplate": "Kind of Event=%{x}<br># Events=%{y}<extra></extra>",
         "legendgroup": "ForkEvent",
         "marker": {
          "color": "#FECB52",
          "pattern": {
           "shape": ""
          }
         },
         "name": "ForkEvent",
         "offsetgroup": "ForkEvent",
         "orientation": "v",
         "showlegend": true,
         "textposition": "auto",
         "type": "bar",
         "x": [
          "ForkEvent"
         ],
         "xaxis": "x",
         "y": [
          2561
         ],
         "yaxis": "y"
        },
        {
         "alignmentgroup": "True",
         "hovertemplate": "Kind of Event=%{x}<br># Events=%{y}<extra></extra>",
         "legendgroup": "ReleaseEvent",
         "marker": {
          "color": "#636efa",
          "pattern": {
           "shape": ""
          }
         },
         "name": "ReleaseEvent",
         "offsetgroup": "ReleaseEvent",
         "orientation": "v",
         "showlegend": true,
         "textposition": "auto",
         "type": "bar",
         "x": [
          "ReleaseEvent"
         ],
         "xaxis": "x",
         "y": [
          1685
         ],
         "yaxis": "y"
        },
        {
         "alignmentgroup": "True",
         "hovertemplate": "Kind of Event=%{x}<br># Events=%{y}<extra></extra>",
         "legendgroup": "GollumEvent",
         "marker": {
          "color": "#EF553B",
          "pattern": {
           "shape": ""
          }
         },
         "name": "GollumEvent",
         "offsetgroup": "GollumEvent",
         "orientation": "v",
         "showlegend": true,
         "textposition": "auto",
         "type": "bar",
         "x": [
          "GollumEvent"
         ],
         "xaxis": "x",
         "y": [
          355
         ],
         "yaxis": "y"
        },
        {
         "alignmentgroup": "True",
         "hovertemplate": "Kind of Event=%{x}<br># Events=%{y}<extra></extra>",
         "legendgroup": "MemberEvent",
         "marker": {
          "color": "#00cc96",
          "pattern": {
           "shape": ""
          }
         },
         "name": "MemberEvent",
         "offsetgroup": "MemberEvent",
         "orientation": "v",
         "showlegend": true,
         "textposition": "auto",
         "type": "bar",
         "x": [
          "MemberEvent"
         ],
         "xaxis": "x",
         "y": [
          256
         ],
         "yaxis": "y"
        },
        {
         "alignmentgroup": "True",
         "hovertemplate": "Kind of Event=%{x}<br># Events=%{y}<extra></extra>",
         "legendgroup": "CommitCommentEvent",
         "marker": {
          "color": "#ab63fa",
          "pattern": {
           "shape": ""
          }
         },
         "name": "CommitCommentEvent",
         "offsetgroup": "CommitCommentEvent",
         "orientation": "v",
         "showlegend": true,
         "textposition": "auto",
         "type": "bar",
         "x": [
          "CommitCommentEvent"
         ],
         "xaxis": "x",
         "y": [
          229
         ],
         "yaxis": "y"
        },
        {
         "alignmentgroup": "True",
         "hovertemplate": "Kind of Event=%{x}<br># Events=%{y}<extra></extra>",
         "legendgroup": "PublicEvent",
         "marker": {
          "color": "#FFA15A",
          "pattern": {
           "shape": ""
          }
         },
         "name": "PublicEvent",
         "offsetgroup": "PublicEvent",
         "orientation": "v",
         "showlegend": true,
         "textposition": "auto",
         "type": "bar",
         "x": [
          "PublicEvent"
         ],
         "xaxis": "x",
         "y": [
          164
         ],
         "yaxis": "y"
        }
       ],
       "layout": {
        "barmode": "relative",
        "legend": {
         "title": {
          "text": "Kind of Event"
         },
         "tracegroupgap": 0
        },
        "margin": {
         "t": 60
        },
        "showlegend": false,
        "template": {
         "data": {
          "bar": [
           {
            "error_x": {
             "color": "#2a3f5f"
            },
            "error_y": {
             "color": "#2a3f5f"
            },
            "marker": {
             "line": {
              "color": "#E5ECF6",
              "width": 0.5
             },
             "pattern": {
              "fillmode": "overlay",
              "size": 10,
              "solidity": 0.2
             }
            },
            "type": "bar"
           }
          ],
          "barpolar": [
           {
            "marker": {
             "line": {
              "color": "#E5ECF6",
              "width": 0.5
             },
             "pattern": {
              "fillmode": "overlay",
              "size": 10,
              "solidity": 0.2
             }
            },
            "type": "barpolar"
           }
          ],
          "carpet": [
           {
            "aaxis": {
             "endlinecolor": "#2a3f5f",
             "gridcolor": "white",
             "linecolor": "white",
             "minorgridcolor": "white",
             "startlinecolor": "#2a3f5f"
            },
            "baxis": {
             "endlinecolor": "#2a3f5f",
             "gridcolor": "white",
             "linecolor": "white",
             "minorgridcolor": "white",
             "startlinecolor": "#2a3f5f"
            },
            "type": "carpet"
           }
          ],
          "choropleth": [
           {
            "colorbar": {
             "outlinewidth": 0,
             "ticks": ""
            },
            "type": "choropleth"
           }
          ],
          "contour": [
           {
            "colorbar": {
             "outlinewidth": 0,
             "ticks": ""
            },
            "colorscale": [
             [
              0,
              "#0d0887"
             ],
             [
              0.1111111111111111,
              "#46039f"
             ],
             [
              0.2222222222222222,
              "#7201a8"
             ],
             [
              0.3333333333333333,
              "#9c179e"
             ],
             [
              0.4444444444444444,
              "#bd3786"
             ],
             [
              0.5555555555555556,
              "#d8576b"
             ],
             [
              0.6666666666666666,
              "#ed7953"
             ],
             [
              0.7777777777777778,
              "#fb9f3a"
             ],
             [
              0.8888888888888888,
              "#fdca26"
             ],
             [
              1,
              "#f0f921"
             ]
            ],
            "type": "contour"
           }
          ],
          "contourcarpet": [
           {
            "colorbar": {
             "outlinewidth": 0,
             "ticks": ""
            },
            "type": "contourcarpet"
           }
          ],
          "heatmap": [
           {
            "colorbar": {
             "outlinewidth": 0,
             "ticks": ""
            },
            "colorscale": [
             [
              0,
              "#0d0887"
             ],
             [
              0.1111111111111111,
              "#46039f"
             ],
             [
              0.2222222222222222,
              "#7201a8"
             ],
             [
              0.3333333333333333,
              "#9c179e"
             ],
             [
              0.4444444444444444,
              "#bd3786"
             ],
             [
              0.5555555555555556,
              "#d8576b"
             ],
             [
              0.6666666666666666,
              "#ed7953"
             ],
             [
              0.7777777777777778,
              "#fb9f3a"
             ],
             [
              0.8888888888888888,
              "#fdca26"
             ],
             [
              1,
              "#f0f921"
             ]
            ],
            "type": "heatmap"
           }
          ],
          "heatmapgl": [
           {
            "colorbar": {
             "outlinewidth": 0,
             "ticks": ""
            },
            "colorscale": [
             [
              0,
              "#0d0887"
             ],
             [
              0.1111111111111111,
              "#46039f"
             ],
             [
              0.2222222222222222,
              "#7201a8"
             ],
             [
              0.3333333333333333,
              "#9c179e"
             ],
             [
              0.4444444444444444,
              "#bd3786"
             ],
             [
              0.5555555555555556,
              "#d8576b"
             ],
             [
              0.6666666666666666,
              "#ed7953"
             ],
             [
              0.7777777777777778,
              "#fb9f3a"
             ],
             [
              0.8888888888888888,
              "#fdca26"
             ],
             [
              1,
              "#f0f921"
             ]
            ],
            "type": "heatmapgl"
           }
          ],
          "histogram": [
           {
            "marker": {
             "pattern": {
              "fillmode": "overlay",
              "size": 10,
              "solidity": 0.2
             }
            },
            "type": "histogram"
           }
          ],
          "histogram2d": [
           {
            "colorbar": {
             "outlinewidth": 0,
             "ticks": ""
            },
            "colorscale": [
             [
              0,
              "#0d0887"
             ],
             [
              0.1111111111111111,
              "#46039f"
             ],
             [
              0.2222222222222222,
              "#7201a8"
             ],
             [
              0.3333333333333333,
              "#9c179e"
             ],
             [
              0.4444444444444444,
              "#bd3786"
             ],
             [
              0.5555555555555556,
              "#d8576b"
             ],
             [
              0.6666666666666666,
              "#ed7953"
             ],
             [
              0.7777777777777778,
              "#fb9f3a"
             ],
             [
              0.8888888888888888,
              "#fdca26"
             ],
             [
              1,
              "#f0f921"
             ]
            ],
            "type": "histogram2d"
           }
          ],
          "histogram2dcontour": [
           {
            "colorbar": {
             "outlinewidth": 0,
             "ticks": ""
            },
            "colorscale": [
             [
              0,
              "#0d0887"
             ],
             [
              0.1111111111111111,
              "#46039f"
             ],
             [
              0.2222222222222222,
              "#7201a8"
             ],
             [
              0.3333333333333333,
              "#9c179e"
             ],
             [
              0.4444444444444444,
              "#bd3786"
             ],
             [
              0.5555555555555556,
              "#d8576b"
             ],
             [
              0.6666666666666666,
              "#ed7953"
             ],
             [
              0.7777777777777778,
              "#fb9f3a"
             ],
             [
              0.8888888888888888,
              "#fdca26"
             ],
             [
              1,
              "#f0f921"
             ]
            ],
            "type": "histogram2dcontour"
           }
          ],
          "mesh3d": [
           {
            "colorbar": {
             "outlinewidth": 0,
             "ticks": ""
            },
            "type": "mesh3d"
           }
          ],
          "parcoords": [
           {
            "line": {
             "colorbar": {
              "outlinewidth": 0,
              "ticks": ""
             }
            },
            "type": "parcoords"
           }
          ],
          "pie": [
           {
            "automargin": true,
            "type": "pie"
           }
          ],
          "scatter": [
           {
            "fillpattern": {
             "fillmode": "overlay",
             "size": 10,
             "solidity": 0.2
            },
            "type": "scatter"
           }
          ],
          "scatter3d": [
           {
            "line": {
             "colorbar": {
              "outlinewidth": 0,
              "ticks": ""
             }
            },
            "marker": {
             "colorbar": {
              "outlinewidth": 0,
              "ticks": ""
             }
            },
            "type": "scatter3d"
           }
          ],
          "scattercarpet": [
           {
            "marker": {
             "colorbar": {
              "outlinewidth": 0,
              "ticks": ""
             }
            },
            "type": "scattercarpet"
           }
          ],
          "scattergeo": [
           {
            "marker": {
             "colorbar": {
              "outlinewidth": 0,
              "ticks": ""
             }
            },
            "type": "scattergeo"
           }
          ],
          "scattergl": [
           {
            "marker": {
             "colorbar": {
              "outlinewidth": 0,
              "ticks": ""
             }
            },
            "type": "scattergl"
           }
          ],
          "scattermapbox": [
           {
            "marker": {
             "colorbar": {
              "outlinewidth": 0,
              "ticks": ""
             }
            },
            "type": "scattermapbox"
           }
          ],
          "scatterpolar": [
           {
            "marker": {
             "colorbar": {
              "outlinewidth": 0,
              "ticks": ""
             }
            },
            "type": "scatterpolar"
           }
          ],
          "scatterpolargl": [
           {
            "marker": {
             "colorbar": {
              "outlinewidth": 0,
              "ticks": ""
             }
            },
            "type": "scatterpolargl"
           }
          ],
          "scatterternary": [
           {
            "marker": {
             "colorbar": {
              "outlinewidth": 0,
              "ticks": ""
             }
            },
            "type": "scatterternary"
           }
          ],
          "surface": [
           {
            "colorbar": {
             "outlinewidth": 0,
             "ticks": ""
            },
            "colorscale": [
             [
              0,
              "#0d0887"
             ],
             [
              0.1111111111111111,
              "#46039f"
             ],
             [
              0.2222222222222222,
              "#7201a8"
             ],
             [
              0.3333333333333333,
              "#9c179e"
             ],
             [
              0.4444444444444444,
              "#bd3786"
             ],
             [
              0.5555555555555556,
              "#d8576b"
             ],
             [
              0.6666666666666666,
              "#ed7953"
             ],
             [
              0.7777777777777778,
              "#fb9f3a"
             ],
             [
              0.8888888888888888,
              "#fdca26"
             ],
             [
              1,
              "#f0f921"
             ]
            ],
            "type": "surface"
           }
          ],
          "table": [
           {
            "cells": {
             "fill": {
              "color": "#EBF0F8"
             },
             "line": {
              "color": "white"
             }
            },
            "header": {
             "fill": {
              "color": "#C8D4E3"
             },
             "line": {
              "color": "white"
             }
            },
            "type": "table"
           }
          ]
         },
         "layout": {
          "annotationdefaults": {
           "arrowcolor": "#2a3f5f",
           "arrowhead": 0,
           "arrowwidth": 1
          },
          "autotypenumbers": "strict",
          "coloraxis": {
           "colorbar": {
            "outlinewidth": 0,
            "ticks": ""
           }
          },
          "colorscale": {
           "diverging": [
            [
             0,
             "#8e0152"
            ],
            [
             0.1,
             "#c51b7d"
            ],
            [
             0.2,
             "#de77ae"
            ],
            [
             0.3,
             "#f1b6da"
            ],
            [
             0.4,
             "#fde0ef"
            ],
            [
             0.5,
             "#f7f7f7"
            ],
            [
             0.6,
             "#e6f5d0"
            ],
            [
             0.7,
             "#b8e186"
            ],
            [
             0.8,
             "#7fbc41"
            ],
            [
             0.9,
             "#4d9221"
            ],
            [
             1,
             "#276419"
            ]
           ],
           "sequential": [
            [
             0,
             "#0d0887"
            ],
            [
             0.1111111111111111,
             "#46039f"
            ],
            [
             0.2222222222222222,
             "#7201a8"
            ],
            [
             0.3333333333333333,
             "#9c179e"
            ],
            [
             0.4444444444444444,
             "#bd3786"
            ],
            [
             0.5555555555555556,
             "#d8576b"
            ],
            [
             0.6666666666666666,
             "#ed7953"
            ],
            [
             0.7777777777777778,
             "#fb9f3a"
            ],
            [
             0.8888888888888888,
             "#fdca26"
            ],
            [
             1,
             "#f0f921"
            ]
           ],
           "sequentialminus": [
            [
             0,
             "#0d0887"
            ],
            [
             0.1111111111111111,
             "#46039f"
            ],
            [
             0.2222222222222222,
             "#7201a8"
            ],
            [
             0.3333333333333333,
             "#9c179e"
            ],
            [
             0.4444444444444444,
             "#bd3786"
            ],
            [
             0.5555555555555556,
             "#d8576b"
            ],
            [
             0.6666666666666666,
             "#ed7953"
            ],
            [
             0.7777777777777778,
             "#fb9f3a"
            ],
            [
             0.8888888888888888,
             "#fdca26"
            ],
            [
             1,
             "#f0f921"
            ]
           ]
          },
          "colorway": [
           "#636efa",
           "#EF553B",
           "#00cc96",
           "#ab63fa",
           "#FFA15A",
           "#19d3f3",
           "#FF6692",
           "#B6E880",
           "#FF97FF",
           "#FECB52"
          ],
          "font": {
           "color": "#2a3f5f"
          },
          "geo": {
           "bgcolor": "white",
           "lakecolor": "white",
           "landcolor": "#E5ECF6",
           "showlakes": true,
           "showland": true,
           "subunitcolor": "white"
          },
          "hoverlabel": {
           "align": "left"
          },
          "hovermode": "closest",
          "mapbox": {
           "style": "light"
          },
          "paper_bgcolor": "white",
          "plot_bgcolor": "#E5ECF6",
          "polar": {
           "angularaxis": {
            "gridcolor": "white",
            "linecolor": "white",
            "ticks": ""
           },
           "bgcolor": "#E5ECF6",
           "radialaxis": {
            "gridcolor": "white",
            "linecolor": "white",
            "ticks": ""
           }
          },
          "scene": {
           "xaxis": {
            "backgroundcolor": "#E5ECF6",
            "gridcolor": "white",
            "gridwidth": 2,
            "linecolor": "white",
            "showbackground": true,
            "ticks": "",
            "zerolinecolor": "white"
           },
           "yaxis": {
            "backgroundcolor": "#E5ECF6",
            "gridcolor": "white",
            "gridwidth": 2,
            "linecolor": "white",
            "showbackground": true,
            "ticks": "",
            "zerolinecolor": "white"
           },
           "zaxis": {
            "backgroundcolor": "#E5ECF6",
            "gridcolor": "white",
            "gridwidth": 2,
            "linecolor": "white",
            "showbackground": true,
            "ticks": "",
            "zerolinecolor": "white"
           }
          },
          "shapedefaults": {
           "line": {
            "color": "#2a3f5f"
           }
          },
          "ternary": {
           "aaxis": {
            "gridcolor": "white",
            "linecolor": "white",
            "ticks": ""
           },
           "baxis": {
            "gridcolor": "white",
            "linecolor": "white",
            "ticks": ""
           },
           "bgcolor": "#E5ECF6",
           "caxis": {
            "gridcolor": "white",
            "linecolor": "white",
            "ticks": ""
           }
          },
          "title": {
           "x": 0.05
          },
          "xaxis": {
           "automargin": true,
           "gridcolor": "white",
           "linecolor": "white",
           "ticks": "",
           "title": {
            "standoff": 15
           },
           "zerolinecolor": "white",
           "zerolinewidth": 2
          },
          "yaxis": {
           "automargin": true,
           "gridcolor": "white",
           "linecolor": "white",
           "ticks": "",
           "title": {
            "standoff": 15
           },
           "zerolinecolor": "white",
           "zerolinewidth": 2
          }
         }
        },
        "xaxis": {
         "anchor": "y",
         "categoryarray": [
          "PushEvent",
          "IssueCommentEvent",
          "PullRequestEvent",
          "PullRequestReviewEvent",
          "CreateEvent",
          "PullRequestReviewCommentEvent",
          "DeleteEvent",
          "WatchEvent",
          "IssuesEvent",
          "ForkEvent",
          "ReleaseEvent",
          "GollumEvent",
          "MemberEvent",
          "CommitCommentEvent",
          "PublicEvent"
         ],
         "categoryorder": "array",
         "domain": [
          0,
          1
         ],
         "title": {
          "text": "Kind of Event"
         }
        },
        "yaxis": {
         "anchor": "x",
         "domain": [
          0,
          1
         ],
         "title": {
          "text": "# Events"
         }
        }
       }
      }
     },
     "metadata": {},
     "output_type": "display_data"
    }
   ],
   "source": [
    "kc_event_counts = df_known_event_stream.event_type.value_counts()\n",
    "fig_kec = px.bar(\n",
    "    data_frame=kc_event_counts.to_frame(),\n",
    "    color=kc_event_counts.to_frame().index,\n",
    "    labels={\n",
    "                     \"value\": \"# Events\",\n",
    "                     \"event_type\": \"Kind of Event\"\n",
    "                 },\n",
    ")\n",
    "fig_kec.update_layout(showlegend=False)\n",
    "fig_kec.write_image(\"knowncontributors_eventcount.png\")\n",
    "fig_kec"
   ]
  },
  {
   "cell_type": "code",
   "execution_count": 36,
   "metadata": {},
   "outputs": [
    {
     "data": {
      "image/png": "[encoded data removed]",
      "text/plain": [
       "<IPython.core.display.Image object>"
      ]
     },
     "execution_count": 36,
     "metadata": {},
     "output_type": "execute_result"
    }
   ],
   "source": [
    "Image(\"knowncontributors_eventcount.png\")"
   ]
  },
  {
   "cell_type": "markdown",
   "metadata": {},
   "source": [
    "## Most common repositories among known contributors"
   ]
  },
  {
   "cell_type": "code",
   "execution_count": 37,
   "metadata": {},
   "outputs": [
    {
     "data": {
      "application/vnd.plotly.v1+json": {
       "config": {
        "plotlyServerURL": "https://plot.ly"
       },
       "data": [
        {
         "alignmentgroup": "True",
         "hovertemplate": "color=https://api.github.com/repos/rust-lang/rust<br>Repository URL=%{x}<br># Contributor Events=%{y}<extra></extra>",
         "legendgroup": "https://api.github.com/repos/rust-lang/rust",
         "marker": {
          "color": "#636efa",
          "pattern": {
           "shape": ""
          }
         },
         "name": "https://api.github.com/repos/rust-lang/rust",
         "offsetgroup": "https://api.github.com/repos/rust-lang/rust",
         "orientation": "v",
         "showlegend": true,
         "textposition": "auto",
         "type": "bar",
         "x": [
          "https://api.github.com/repos/rust-lang/rust"
         ],
         "xaxis": "x",
         "y": [
          4070
         ],
         "yaxis": "y"
        },
        {
         "alignmentgroup": "True",
         "hovertemplate": "color=https://api.github.com/repos/bytecodealliance/wasmtime<br>Repository URL=%{x}<br># Contributor Events=%{y}<extra></extra>",
         "legendgroup": "https://api.github.com/repos/bytecodealliance/wasmtime",
         "marker": {
          "color": "#EF553B",
          "pattern": {
           "shape": ""
          }
         },
         "name": "https://api.github.com/repos/bytecodealliance/wasmtime",
         "offsetgroup": "https://api.github.com/repos/bytecodealliance/wasmtime",
         "orientation": "v",
         "showlegend": true,
         "textposition": "auto",
         "type": "bar",
         "x": [
          "https://api.github.com/repos/bytecodealliance/wasmtime"
         ],
         "xaxis": "x",
         "y": [
          2714
         ],
         "yaxis": "y"
        },
        {
         "alignmentgroup": "True",
         "hovertemplate": "color=https://api.github.com/repos/WasmEdge/WasmEdge<br>Repository URL=%{x}<br># Contributor Events=%{y}<extra></extra>",
         "legendgroup": "https://api.github.com/repos/WasmEdge/WasmEdge",
         "marker": {
          "color": "#00cc96",
          "pattern": {
           "shape": ""
          }
         },
         "name": "https://api.github.com/repos/WasmEdge/WasmEdge",
         "offsetgroup": "https://api.github.com/repos/WasmEdge/WasmEdge",
         "orientation": "v",
         "showlegend": true,
         "textposition": "auto",
         "type": "bar",
         "x": [
          "https://api.github.com/repos/WasmEdge/WasmEdge"
         ],
         "xaxis": "x",
         "y": [
          2614
         ],
         "yaxis": "y"
        },
        {
         "alignmentgroup": "True",
         "hovertemplate": "color=https://api.github.com/repos/wasmerio/wasmer<br>Repository URL=%{x}<br># Contributor Events=%{y}<extra></extra>",
         "legendgroup": "https://api.github.com/repos/wasmerio/wasmer",
         "marker": {
          "color": "#ab63fa",
          "pattern": {
           "shape": ""
          }
         },
         "name": "https://api.github.com/repos/wasmerio/wasmer",
         "offsetgroup": "https://api.github.com/repos/wasmerio/wasmer",
         "orientation": "v",
         "showlegend": true,
         "textposition": "auto",
         "type": "bar",
         "x": [
          "https://api.github.com/repos/wasmerio/wasmer"
         ],
         "xaxis": "x",
         "y": [
          2007
         ],
         "yaxis": "y"
        },
        {
         "alignmentgroup": "True",
         "hovertemplate": "color=https://api.github.com/repos/risingwavelabs/risingwave<br>Repository URL=%{x}<br># Contributor Events=%{y}<extra></extra>",
         "legendgroup": "https://api.github.com/repos/risingwavelabs/risingwave",
         "marker": {
          "color": "#FFA15A",
          "pattern": {
           "shape": ""
          }
         },
         "name": "https://api.github.com/repos/risingwavelabs/risingwave",
         "offsetgroup": "https://api.github.com/repos/risingwavelabs/risingwave",
         "orientation": "v",
         "showlegend": true,
         "textposition": "auto",
         "type": "bar",
         "x": [
          "https://api.github.com/repos/risingwavelabs/risingwave"
         ],
         "xaxis": "x",
         "y": [
          1954
         ],
         "yaxis": "y"
        },
        {
         "alignmentgroup": "True",
         "hovertemplate": "color=https://api.github.com/repos/noir-lang/noir<br>Repository URL=%{x}<br># Contributor Events=%{y}<extra></extra>",
         "legendgroup": "https://api.github.com/repos/noir-lang/noir",
         "marker": {
          "color": "#19d3f3",
          "pattern": {
           "shape": ""
          }
         },
         "name": "https://api.github.com/repos/noir-lang/noir",
         "offsetgroup": "https://api.github.com/repos/noir-lang/noir",
         "orientation": "v",
         "showlegend": true,
         "textposition": "auto",
         "type": "bar",
         "x": [
          "https://api.github.com/repos/noir-lang/noir"
         ],
         "xaxis": "x",
         "y": [
          1771
         ],
         "yaxis": "y"
        },
        {
         "alignmentgroup": "True",
         "hovertemplate": "color=https://api.github.com/repos/microsoft/winget-pkgs<br>Repository URL=%{x}<br># Contributor Events=%{y}<extra></extra>",
         "legendgroup": "https://api.github.com/repos/microsoft/winget-pkgs",
         "marker": {
          "color": "#FF6692",
          "pattern": {
           "shape": ""
          }
         },
         "name": "https://api.github.com/repos/microsoft/winget-pkgs",
         "offsetgroup": "https://api.github.com/repos/microsoft/winget-pkgs",
         "orientation": "v",
         "showlegend": true,
         "textposition": "auto",
         "type": "bar",
         "x": [
          "https://api.github.com/repos/microsoft/winget-pkgs"
         ],
         "xaxis": "x",
         "y": [
          1678
         ],
         "yaxis": "y"
        },
        {
         "alignmentgroup": "True",
         "hovertemplate": "color=https://api.github.com/repos/NixOS/nixpkgs<br>Repository URL=%{x}<br># Contributor Events=%{y}<extra></extra>",
         "legendgroup": "https://api.github.com/repos/NixOS/nixpkgs",
         "marker": {
          "color": "#B6E880",
          "pattern": {
           "shape": ""
          }
         },
         "name": "https://api.github.com/repos/NixOS/nixpkgs",
         "offsetgroup": "https://api.github.com/repos/NixOS/nixpkgs",
         "orientation": "v",
         "showlegend": true,
         "textposition": "auto",
         "type": "bar",
         "x": [
          "https://api.github.com/repos/NixOS/nixpkgs"
         ],
         "xaxis": "x",
         "y": [
          1639
         ],
         "yaxis": "y"
        },
        {
         "alignmentgroup": "True",
         "hovertemplate": "color=https://api.github.com/repos/Homebrew/homebrew-core<br>Repository URL=%{x}<br># Contributor Events=%{y}<extra></extra>",
         "legendgroup": "https://api.github.com/repos/Homebrew/homebrew-core",
         "marker": {
          "color": "#FF97FF",
          "pattern": {
           "shape": ""
          }
         },
         "name": "https://api.github.com/repos/Homebrew/homebrew-core",
         "offsetgroup": "https://api.github.com/repos/Homebrew/homebrew-core",
         "orientation": "v",
         "showlegend": true,
         "textposition": "auto",
         "type": "bar",
         "x": [
          "https://api.github.com/repos/Homebrew/homebrew-core"
         ],
         "xaxis": "x",
         "y": [
          1602
         ],
         "yaxis": "y"
        },
        {
         "alignmentgroup": "True",
         "hovertemplate": "color=https://api.github.com/repos/leanprover-community/mathlib4<br>Repository URL=%{x}<br># Contributor Events=%{y}<extra></extra>",
         "legendgroup": "https://api.github.com/repos/leanprover-community/mathlib4",
         "marker": {
          "color": "#FECB52",
          "pattern": {
           "shape": ""
          }
         },
         "name": "https://api.github.com/repos/leanprover-community/mathlib4",
         "offsetgroup": "https://api.github.com/repos/leanprover-community/mathlib4",
         "orientation": "v",
         "showlegend": true,
         "textposition": "auto",
         "type": "bar",
         "x": [
          "https://api.github.com/repos/leanprover-community/mathlib4"
         ],
         "xaxis": "x",
         "y": [
          1560
         ],
         "yaxis": "y"
        },
        {
         "alignmentgroup": "True",
         "hovertemplate": "color=https://api.github.com/repos/dotnet/runtime<br>Repository URL=%{x}<br># Contributor Events=%{y}<extra></extra>",
         "legendgroup": "https://api.github.com/repos/dotnet/runtime",
         "marker": {
          "color": "#636efa",
          "pattern": {
           "shape": ""
          }
         },
         "name": "https://api.github.com/repos/dotnet/runtime",
         "offsetgroup": "https://api.github.com/repos/dotnet/runtime",
         "orientation": "v",
         "showlegend": true,
         "textposition": "auto",
         "type": "bar",
         "x": [
          "https://api.github.com/repos/dotnet/runtime"
         ],
         "xaxis": "x",
         "y": [
          1319
         ],
         "yaxis": "y"
        },
        {
         "alignmentgroup": "True",
         "hovertemplate": "color=https://api.github.com/repos/gear-tech/gear<br>Repository URL=%{x}<br># Contributor Events=%{y}<extra></extra>",
         "legendgroup": "https://api.github.com/repos/gear-tech/gear",
         "marker": {
          "color": "#EF553B",
          "pattern": {
           "shape": ""
          }
         },
         "name": "https://api.github.com/repos/gear-tech/gear",
         "offsetgroup": "https://api.github.com/repos/gear-tech/gear",
         "orientation": "v",
         "showlegend": true,
         "textposition": "auto",
         "type": "bar",
         "x": [
          "https://api.github.com/repos/gear-tech/gear"
         ],
         "xaxis": "x",
         "y": [
          1317
         ],
         "yaxis": "y"
        },
        {
         "alignmentgroup": "True",
         "hovertemplate": "color=https://api.github.com/repos/bbigras/nix-config<br>Repository URL=%{x}<br># Contributor Events=%{y}<extra></extra>",
         "legendgroup": "https://api.github.com/repos/bbigras/nix-config",
         "marker": {
          "color": "#00cc96",
          "pattern": {
           "shape": ""
          }
         },
         "name": "https://api.github.com/repos/bbigras/nix-config",
         "offsetgroup": "https://api.github.com/repos/bbigras/nix-config",
         "orientation": "v",
         "showlegend": true,
         "textposition": "auto",
         "type": "bar",
         "x": [
          "https://api.github.com/repos/bbigras/nix-config"
         ],
         "xaxis": "x",
         "y": [
          1310
         ],
         "yaxis": "y"
        },
        {
         "alignmentgroup": "True",
         "hovertemplate": "color=https://api.github.com/repos/golang/go<br>Repository URL=%{x}<br># Contributor Events=%{y}<extra></extra>",
         "legendgroup": "https://api.github.com/repos/golang/go",
         "marker": {
          "color": "#ab63fa",
          "pattern": {
           "shape": ""
          }
         },
         "name": "https://api.github.com/repos/golang/go",
         "offsetgroup": "https://api.github.com/repos/golang/go",
         "orientation": "v",
         "showlegend": true,
         "textposition": "auto",
         "type": "bar",
         "x": [
          "https://api.github.com/repos/golang/go"
         ],
         "xaxis": "x",
         "y": [
          1274
         ],
         "yaxis": "y"
        },
        {
         "alignmentgroup": "True",
         "hovertemplate": "color=https://api.github.com/repos/WebAssembly/binaryen<br>Repository URL=%{x}<br># Contributor Events=%{y}<extra></extra>",
         "legendgroup": "https://api.github.com/repos/WebAssembly/binaryen",
         "marker": {
          "color": "#FFA15A",
          "pattern": {
           "shape": ""
          }
         },
         "name": "https://api.github.com/repos/WebAssembly/binaryen",
         "offsetgroup": "https://api.github.com/repos/WebAssembly/binaryen",
         "orientation": "v",
         "showlegend": true,
         "textposition": "auto",
         "type": "bar",
         "x": [
          "https://api.github.com/repos/WebAssembly/binaryen"
         ],
         "xaxis": "x",
         "y": [
          1148
         ],
         "yaxis": "y"
        },
        {
         "alignmentgroup": "True",
         "hovertemplate": "color=https://api.github.com/repos/matrix-org/matrix-rust-sdk<br>Repository URL=%{x}<br># Contributor Events=%{y}<extra></extra>",
         "legendgroup": "https://api.github.com/repos/matrix-org/matrix-rust-sdk",
         "marker": {
          "color": "#19d3f3",
          "pattern": {
           "shape": ""
          }
         },
         "name": "https://api.github.com/repos/matrix-org/matrix-rust-sdk",
         "offsetgroup": "https://api.github.com/repos/matrix-org/matrix-rust-sdk",
         "orientation": "v",
         "showlegend": true,
         "textposition": "auto",
         "type": "bar",
         "x": [
          "https://api.github.com/repos/matrix-org/matrix-rust-sdk"
         ],
         "xaxis": "x",
         "y": [
          1140
         ],
         "yaxis": "y"
        },
        {
         "alignmentgroup": "True",
         "hovertemplate": "color=https://api.github.com/repos/containerd/runwasi<br>Repository URL=%{x}<br># Contributor Events=%{y}<extra></extra>",
         "legendgroup": "https://api.github.com/repos/containerd/runwasi",
         "marker": {
          "color": "#FF6692",
          "pattern": {
           "shape": ""
          }
         },
         "name": "https://api.github.com/repos/containerd/runwasi",
         "offsetgroup": "https://api.github.com/repos/containerd/runwasi",
         "orientation": "v",
         "showlegend": true,
         "textposition": "auto",
         "type": "bar",
         "x": [
          "https://api.github.com/repos/containerd/runwasi"
         ],
         "xaxis": "x",
         "y": [
          1027
         ],
         "yaxis": "y"
        },
        {
         "alignmentgroup": "True",
         "hovertemplate": "color=https://api.github.com/repos/wasmCloud/wasmCloud<br>Repository URL=%{x}<br># Contributor Events=%{y}<extra></extra>",
         "legendgroup": "https://api.github.com/repos/wasmCloud/wasmCloud",
         "marker": {
          "color": "#B6E880",
          "pattern": {
           "shape": ""
          }
         },
         "name": "https://api.github.com/repos/wasmCloud/wasmCloud",
         "offsetgroup": "https://api.github.com/repos/wasmCloud/wasmCloud",
         "orientation": "v",
         "showlegend": true,
         "textposition": "auto",
         "type": "bar",
         "x": [
          "https://api.github.com/repos/wasmCloud/wasmCloud"
         ],
         "xaxis": "x",
         "y": [
          987
         ],
         "yaxis": "y"
        },
        {
         "alignmentgroup": "True",
         "hovertemplate": "color=https://api.github.com/repos/dependabot/dependabot-core<br>Repository URL=%{x}<br># Contributor Events=%{y}<extra></extra>",
         "legendgroup": "https://api.github.com/repos/dependabot/dependabot-core",
         "marker": {
          "color": "#FF97FF",
          "pattern": {
           "shape": ""
          }
         },
         "name": "https://api.github.com/repos/dependabot/dependabot-core",
         "offsetgroup": "https://api.github.com/repos/dependabot/dependabot-core",
         "orientation": "v",
         "showlegend": true,
         "textposition": "auto",
         "type": "bar",
         "x": [
          "https://api.github.com/repos/dependabot/dependabot-core"
         ],
         "xaxis": "x",
         "y": [
          986
         ],
         "yaxis": "y"
        },
        {
         "alignmentgroup": "True",
         "hovertemplate": "color=https://api.github.com/repos/CosmWasm/cosmwasm<br>Repository URL=%{x}<br># Contributor Events=%{y}<extra></extra>",
         "legendgroup": "https://api.github.com/repos/CosmWasm/cosmwasm",
         "marker": {
          "color": "#FECB52",
          "pattern": {
           "shape": ""
          }
         },
         "name": "https://api.github.com/repos/CosmWasm/cosmwasm",
         "offsetgroup": "https://api.github.com/repos/CosmWasm/cosmwasm",
         "orientation": "v",
         "showlegend": true,
         "textposition": "auto",
         "type": "bar",
         "x": [
          "https://api.github.com/repos/CosmWasm/cosmwasm"
         ],
         "xaxis": "x",
         "y": [
          974
         ],
         "yaxis": "y"
        },
        {
         "alignmentgroup": "True",
         "hovertemplate": "color=https://api.github.com/repos/apollographql/router<br>Repository URL=%{x}<br># Contributor Events=%{y}<extra></extra>",
         "legendgroup": "https://api.github.com/repos/apollographql/router",
         "marker": {
          "color": "#636efa",
          "pattern": {
           "shape": ""
          }
         },
         "name": "https://api.github.com/repos/apollographql/router",
         "offsetgroup": "https://api.github.com/repos/apollographql/router",
         "orientation": "v",
         "showlegend": true,
         "textposition": "auto",
         "type": "bar",
         "x": [
          "https://api.github.com/repos/apollographql/router"
         ],
         "xaxis": "x",
         "y": [
          941
         ],
         "yaxis": "y"
        },
        {
         "alignmentgroup": "True",
         "hovertemplate": "color=https://api.github.com/repos/onflow/flow-go<br>Repository URL=%{x}<br># Contributor Events=%{y}<extra></extra>",
         "legendgroup": "https://api.github.com/repos/onflow/flow-go",
         "marker": {
          "color": "#EF553B",
          "pattern": {
           "shape": ""
          }
         },
         "name": "https://api.github.com/repos/onflow/flow-go",
         "offsetgroup": "https://api.github.com/repos/onflow/flow-go",
         "orientation": "v",
         "showlegend": true,
         "textposition": "auto",
         "type": "bar",
         "x": [
          "https://api.github.com/repos/onflow/flow-go"
         ],
         "xaxis": "x",
         "y": [
          923
         ],
         "yaxis": "y"
        },
        {
         "alignmentgroup": "True",
         "hovertemplate": "color=https://api.github.com/repos/astral-sh/ruff<br>Repository URL=%{x}<br># Contributor Events=%{y}<extra></extra>",
         "legendgroup": "https://api.github.com/repos/astral-sh/ruff",
         "marker": {
          "color": "#00cc96",
          "pattern": {
           "shape": ""
          }
         },
         "name": "https://api.github.com/repos/astral-sh/ruff",
         "offsetgroup": "https://api.github.com/repos/astral-sh/ruff",
         "orientation": "v",
         "showlegend": true,
         "textposition": "auto",
         "type": "bar",
         "x": [
          "https://api.github.com/repos/astral-sh/ruff"
         ],
         "xaxis": "x",
         "y": [
          920
         ],
         "yaxis": "y"
        },
        {
         "alignmentgroup": "True",
         "hovertemplate": "color=https://api.github.com/repos/FuelLabs/fuel-indexer<br>Repository URL=%{x}<br># Contributor Events=%{y}<extra></extra>",
         "legendgroup": "https://api.github.com/repos/FuelLabs/fuel-indexer",
         "marker": {
          "color": "#ab63fa",
          "pattern": {
           "shape": ""
          }
         },
         "name": "https://api.github.com/repos/FuelLabs/fuel-indexer",
         "offsetgroup": "https://api.github.com/repos/FuelLabs/fuel-indexer",
         "orientation": "v",
         "showlegend": true,
         "textposition": "auto",
         "type": "bar",
         "x": [
          "https://api.github.com/repos/FuelLabs/fuel-indexer"
         ],
         "xaxis": "x",
         "y": [
          916
         ],
         "yaxis": "y"
        },
        {
         "alignmentgroup": "True",
         "hovertemplate": "color=https://api.github.com/repos/ni/nimble<br>Repository URL=%{x}<br># Contributor Events=%{y}<extra></extra>",
         "legendgroup": "https://api.github.com/repos/ni/nimble",
         "marker": {
          "color": "#FFA15A",
          "pattern": {
           "shape": ""
          }
         },
         "name": "https://api.github.com/repos/ni/nimble",
         "offsetgroup": "https://api.github.com/repos/ni/nimble",
         "orientation": "v",
         "showlegend": true,
         "textposition": "auto",
         "type": "bar",
         "x": [
          "https://api.github.com/repos/ni/nimble"
         ],
         "xaxis": "x",
         "y": [
          901
         ],
         "yaxis": "y"
        },
        {
         "alignmentgroup": "True",
         "hovertemplate": "color=https://api.github.com/repos/massalabs/massa<br>Repository URL=%{x}<br># Contributor Events=%{y}<extra></extra>",
         "legendgroup": "https://api.github.com/repos/massalabs/massa",
         "marker": {
          "color": "#19d3f3",
          "pattern": {
           "shape": ""
          }
         },
         "name": "https://api.github.com/repos/massalabs/massa",
         "offsetgroup": "https://api.github.com/repos/massalabs/massa",
         "orientation": "v",
         "showlegend": true,
         "textposition": "auto",
         "type": "bar",
         "x": [
          "https://api.github.com/repos/massalabs/massa"
         ],
         "xaxis": "x",
         "y": [
          889
         ],
         "yaxis": "y"
        },
        {
         "alignmentgroup": "True",
         "hovertemplate": "color=https://api.github.com/repos/vercel/next.js<br>Repository URL=%{x}<br># Contributor Events=%{y}<extra></extra>",
         "legendgroup": "https://api.github.com/repos/vercel/next.js",
         "marker": {
          "color": "#FF6692",
          "pattern": {
           "shape": ""
          }
         },
         "name": "https://api.github.com/repos/vercel/next.js",
         "offsetgroup": "https://api.github.com/repos/vercel/next.js",
         "orientation": "v",
         "showlegend": true,
         "textposition": "auto",
         "type": "bar",
         "x": [
          "https://api.github.com/repos/vercel/next.js"
         ],
         "xaxis": "x",
         "y": [
          872
         ],
         "yaxis": "y"
        },
        {
         "alignmentgroup": "True",
         "hovertemplate": "color=https://api.github.com/repos/paritytech/substrate<br>Repository URL=%{x}<br># Contributor Events=%{y}<extra></extra>",
         "legendgroup": "https://api.github.com/repos/paritytech/substrate",
         "marker": {
          "color": "#B6E880",
          "pattern": {
           "shape": ""
          }
         },
         "name": "https://api.github.com/repos/paritytech/substrate",
         "offsetgroup": "https://api.github.com/repos/paritytech/substrate",
         "orientation": "v",
         "showlegend": true,
         "textposition": "auto",
         "type": "bar",
         "x": [
          "https://api.github.com/repos/paritytech/substrate"
         ],
         "xaxis": "x",
         "y": [
          850
         ],
         "yaxis": "y"
        },
        {
         "alignmentgroup": "True",
         "hovertemplate": "color=https://api.github.com/repos/tigerbeetle/tigerbeetle<br>Repository URL=%{x}<br># Contributor Events=%{y}<extra></extra>",
         "legendgroup": "https://api.github.com/repos/tigerbeetle/tigerbeetle",
         "marker": {
          "color": "#FF97FF",
          "pattern": {
           "shape": ""
          }
         },
         "name": "https://api.github.com/repos/tigerbeetle/tigerbeetle",
         "offsetgroup": "https://api.github.com/repos/tigerbeetle/tigerbeetle",
         "orientation": "v",
         "showlegend": true,
         "textposition": "auto",
         "type": "bar",
         "x": [
          "https://api.github.com/repos/tigerbeetle/tigerbeetle"
         ],
         "xaxis": "x",
         "y": [
          792
         ],
         "yaxis": "y"
        },
        {
         "alignmentgroup": "True",
         "hovertemplate": "color=https://api.github.com/repos/fermyon/developer<br>Repository URL=%{x}<br># Contributor Events=%{y}<extra></extra>",
         "legendgroup": "https://api.github.com/repos/fermyon/developer",
         "marker": {
          "color": "#FECB52",
          "pattern": {
           "shape": ""
          }
         },
         "name": "https://api.github.com/repos/fermyon/developer",
         "offsetgroup": "https://api.github.com/repos/fermyon/developer",
         "orientation": "v",
         "showlegend": true,
         "textposition": "auto",
         "type": "bar",
         "x": [
          "https://api.github.com/repos/fermyon/developer"
         ],
         "xaxis": "x",
         "y": [
          776
         ],
         "yaxis": "y"
        },
        {
         "alignmentgroup": "True",
         "hovertemplate": "color=https://api.github.com/repos/emscripten-core/emscripten<br>Repository URL=%{x}<br># Contributor Events=%{y}<extra></extra>",
         "legendgroup": "https://api.github.com/repos/emscripten-core/emscripten",
         "marker": {
          "color": "#636efa",
          "pattern": {
           "shape": ""
          }
         },
         "name": "https://api.github.com/repos/emscripten-core/emscripten",
         "offsetgroup": "https://api.github.com/repos/emscripten-core/emscripten",
         "orientation": "v",
         "showlegend": true,
         "textposition": "auto",
         "type": "bar",
         "x": [
          "https://api.github.com/repos/emscripten-core/emscripten"
         ],
         "xaxis": "x",
         "y": [
          767
         ],
         "yaxis": "y"
        },
        {
         "alignmentgroup": "True",
         "hovertemplate": "color=https://api.github.com/repos/anoma/namada<br>Repository URL=%{x}<br># Contributor Events=%{y}<extra></extra>",
         "legendgroup": "https://api.github.com/repos/anoma/namada",
         "marker": {
          "color": "#EF553B",
          "pattern": {
           "shape": ""
          }
         },
         "name": "https://api.github.com/repos/anoma/namada",
         "offsetgroup": "https://api.github.com/repos/anoma/namada",
         "orientation": "v",
         "showlegend": true,
         "textposition": "auto",
         "type": "bar",
         "x": [
          "https://api.github.com/repos/anoma/namada"
         ],
         "xaxis": "x",
         "y": [
          754
         ],
         "yaxis": "y"
        },
        {
         "alignmentgroup": "True",
         "hovertemplate": "color=https://api.github.com/repos/cargo-bins/cargo-binstall<br>Repository URL=%{x}<br># Contributor Events=%{y}<extra></extra>",
         "legendgroup": "https://api.github.com/repos/cargo-bins/cargo-binstall",
         "marker": {
          "color": "#00cc96",
          "pattern": {
           "shape": ""
          }
         },
         "name": "https://api.github.com/repos/cargo-bins/cargo-binstall",
         "offsetgroup": "https://api.github.com/repos/cargo-bins/cargo-binstall",
         "orientation": "v",
         "showlegend": true,
         "textposition": "auto",
         "type": "bar",
         "x": [
          "https://api.github.com/repos/cargo-bins/cargo-binstall"
         ],
         "xaxis": "x",
         "y": [
          735
         ],
         "yaxis": "y"
        },
        {
         "alignmentgroup": "True",
         "hovertemplate": "color=https://api.github.com/repos/andrewdavidmackenzie/flow<br>Repository URL=%{x}<br># Contributor Events=%{y}<extra></extra>",
         "legendgroup": "https://api.github.com/repos/andrewdavidmackenzie/flow",
         "marker": {
          "color": "#ab63fa",
          "pattern": {
           "shape": ""
          }
         },
         "name": "https://api.github.com/repos/andrewdavidmackenzie/flow",
         "offsetgroup": "https://api.github.com/repos/andrewdavidmackenzie/flow",
         "orientation": "v",
         "showlegend": true,
         "textposition": "auto",
         "type": "bar",
         "x": [
          "https://api.github.com/repos/andrewdavidmackenzie/flow"
         ],
         "xaxis": "x",
         "y": [
          726
         ],
         "yaxis": "y"
        },
        {
         "alignmentgroup": "True",
         "hovertemplate": "color=https://api.github.com/repos/fermyon/spin<br>Repository URL=%{x}<br># Contributor Events=%{y}<extra></extra>",
         "legendgroup": "https://api.github.com/repos/fermyon/spin",
         "marker": {
          "color": "#FFA15A",
          "pattern": {
           "shape": ""
          }
         },
         "name": "https://api.github.com/repos/fermyon/spin",
         "offsetgroup": "https://api.github.com/repos/fermyon/spin",
         "orientation": "v",
         "showlegend": true,
         "textposition": "auto",
         "type": "bar",
         "x": [
          "https://api.github.com/repos/fermyon/spin"
         ],
         "xaxis": "x",
         "y": [
          720
         ],
         "yaxis": "y"
        },
        {
         "alignmentgroup": "True",
         "hovertemplate": "color=https://api.github.com/repos/web-infra-dev/rspack<br>Repository URL=%{x}<br># Contributor Events=%{y}<extra></extra>",
         "legendgroup": "https://api.github.com/repos/web-infra-dev/rspack",
         "marker": {
          "color": "#19d3f3",
          "pattern": {
           "shape": ""
          }
         },
         "name": "https://api.github.com/repos/web-infra-dev/rspack",
         "offsetgroup": "https://api.github.com/repos/web-infra-dev/rspack",
         "orientation": "v",
         "showlegend": true,
         "textposition": "auto",
         "type": "bar",
         "x": [
          "https://api.github.com/repos/web-infra-dev/rspack"
         ],
         "xaxis": "x",
         "y": [
          715
         ],
         "yaxis": "y"
        },
        {
         "alignmentgroup": "True",
         "hovertemplate": "color=https://api.github.com/repos/AmbientRun/Ambient<br>Repository URL=%{x}<br># Contributor Events=%{y}<extra></extra>",
         "legendgroup": "https://api.github.com/repos/AmbientRun/Ambient",
         "marker": {
          "color": "#FF6692",
          "pattern": {
           "shape": ""
          }
         },
         "name": "https://api.github.com/repos/AmbientRun/Ambient",
         "offsetgroup": "https://api.github.com/repos/AmbientRun/Ambient",
         "orientation": "v",
         "showlegend": true,
         "textposition": "auto",
         "type": "bar",
         "x": [
          "https://api.github.com/repos/AmbientRun/Ambient"
         ],
         "xaxis": "x",
         "y": [
          712
         ],
         "yaxis": "y"
        },
        {
         "alignmentgroup": "True",
         "hovertemplate": "color=https://api.github.com/repos/ChainSafe/forest<br>Repository URL=%{x}<br># Contributor Events=%{y}<extra></extra>",
         "legendgroup": "https://api.github.com/repos/ChainSafe/forest",
         "marker": {
          "color": "#B6E880",
          "pattern": {
           "shape": ""
          }
         },
         "name": "https://api.github.com/repos/ChainSafe/forest",
         "offsetgroup": "https://api.github.com/repos/ChainSafe/forest",
         "orientation": "v",
         "showlegend": true,
         "textposition": "auto",
         "type": "bar",
         "x": [
          "https://api.github.com/repos/ChainSafe/forest"
         ],
         "xaxis": "x",
         "y": [
          699
         ],
         "yaxis": "y"
        },
        {
         "alignmentgroup": "True",
         "hovertemplate": "color=https://api.github.com/repos/llvm/llvm-project<br>Repository URL=%{x}<br># Contributor Events=%{y}<extra></extra>",
         "legendgroup": "https://api.github.com/repos/llvm/llvm-project",
         "marker": {
          "color": "#FF97FF",
          "pattern": {
           "shape": ""
          }
         },
         "name": "https://api.github.com/repos/llvm/llvm-project",
         "offsetgroup": "https://api.github.com/repos/llvm/llvm-project",
         "orientation": "v",
         "showlegend": true,
         "textposition": "auto",
         "type": "bar",
         "x": [
          "https://api.github.com/repos/llvm/llvm-project"
         ],
         "xaxis": "x",
         "y": [
          696
         ],
         "yaxis": "y"
        },
        {
         "alignmentgroup": "True",
         "hovertemplate": "color=https://api.github.com/repos/dotnet/aspnetcore<br>Repository URL=%{x}<br># Contributor Events=%{y}<extra></extra>",
         "legendgroup": "https://api.github.com/repos/dotnet/aspnetcore",
         "marker": {
          "color": "#FECB52",
          "pattern": {
           "shape": ""
          }
         },
         "name": "https://api.github.com/repos/dotnet/aspnetcore",
         "offsetgroup": "https://api.github.com/repos/dotnet/aspnetcore",
         "orientation": "v",
         "showlegend": true,
         "textposition": "auto",
         "type": "bar",
         "x": [
          "https://api.github.com/repos/dotnet/aspnetcore"
         ],
         "xaxis": "x",
         "y": [
          694
         ],
         "yaxis": "y"
        },
        {
         "alignmentgroup": "True",
         "hovertemplate": "color=https://api.github.com/repos/osmosis-labs/mesh-security<br>Repository URL=%{x}<br># Contributor Events=%{y}<extra></extra>",
         "legendgroup": "https://api.github.com/repos/osmosis-labs/mesh-security",
         "marker": {
          "color": "#636efa",
          "pattern": {
           "shape": ""
          }
         },
         "name": "https://api.github.com/repos/osmosis-labs/mesh-security",
         "offsetgroup": "https://api.github.com/repos/osmosis-labs/mesh-security",
         "orientation": "v",
         "showlegend": true,
         "textposition": "auto",
         "type": "bar",
         "x": [
          "https://api.github.com/repos/osmosis-labs/mesh-security"
         ],
         "xaxis": "x",
         "y": [
          689
         ],
         "yaxis": "y"
        },
        {
         "alignmentgroup": "True",
         "hovertemplate": "color=https://api.github.com/repos/paradigmxyz/reth<br>Repository URL=%{x}<br># Contributor Events=%{y}<extra></extra>",
         "legendgroup": "https://api.github.com/repos/paradigmxyz/reth",
         "marker": {
          "color": "#EF553B",
          "pattern": {
           "shape": ""
          }
         },
         "name": "https://api.github.com/repos/paradigmxyz/reth",
         "offsetgroup": "https://api.github.com/repos/paradigmxyz/reth",
         "orientation": "v",
         "showlegend": true,
         "textposition": "auto",
         "type": "bar",
         "x": [
          "https://api.github.com/repos/paradigmxyz/reth"
         ],
         "xaxis": "x",
         "y": [
          689
         ],
         "yaxis": "y"
        },
        {
         "alignmentgroup": "True",
         "hovertemplate": "color=https://api.github.com/repos/leptos-rs/leptos<br>Repository URL=%{x}<br># Contributor Events=%{y}<extra></extra>",
         "legendgroup": "https://api.github.com/repos/leptos-rs/leptos",
         "marker": {
          "color": "#00cc96",
          "pattern": {
           "shape": ""
          }
         },
         "name": "https://api.github.com/repos/leptos-rs/leptos",
         "offsetgroup": "https://api.github.com/repos/leptos-rs/leptos",
         "orientation": "v",
         "showlegend": true,
         "textposition": "auto",
         "type": "bar",
         "x": [
          "https://api.github.com/repos/leptos-rs/leptos"
         ],
         "xaxis": "x",
         "y": [
          685
         ],
         "yaxis": "y"
        },
        {
         "alignmentgroup": "True",
         "hovertemplate": "color=https://api.github.com/repos/moondance-labs/tanssi<br>Repository URL=%{x}<br># Contributor Events=%{y}<extra></extra>",
         "legendgroup": "https://api.github.com/repos/moondance-labs/tanssi",
         "marker": {
          "color": "#ab63fa",
          "pattern": {
           "shape": ""
          }
         },
         "name": "https://api.github.com/repos/moondance-labs/tanssi",
         "offsetgroup": "https://api.github.com/repos/moondance-labs/tanssi",
         "orientation": "v",
         "showlegend": true,
         "textposition": "auto",
         "type": "bar",
         "x": [
          "https://api.github.com/repos/moondance-labs/tanssi"
         ],
         "xaxis": "x",
         "y": [
          683
         ],
         "yaxis": "y"
        },
        {
         "alignmentgroup": "True",
         "hovertemplate": "color=https://api.github.com/repos/Kong/ngx_wasm_module<br>Repository URL=%{x}<br># Contributor Events=%{y}<extra></extra>",
         "legendgroup": "https://api.github.com/repos/Kong/ngx_wasm_module",
         "marker": {
          "color": "#FFA15A",
          "pattern": {
           "shape": ""
          }
         },
         "name": "https://api.github.com/repos/Kong/ngx_wasm_module",
         "offsetgroup": "https://api.github.com/repos/Kong/ngx_wasm_module",
         "orientation": "v",
         "showlegend": true,
         "textposition": "auto",
         "type": "bar",
         "x": [
          "https://api.github.com/repos/Kong/ngx_wasm_module"
         ],
         "xaxis": "x",
         "y": [
          670
         ],
         "yaxis": "y"
        },
        {
         "alignmentgroup": "True",
         "hovertemplate": "color=https://api.github.com/repos/OffchainLabs/nitro<br>Repository URL=%{x}<br># Contributor Events=%{y}<extra></extra>",
         "legendgroup": "https://api.github.com/repos/OffchainLabs/nitro",
         "marker": {
          "color": "#19d3f3",
          "pattern": {
           "shape": ""
          }
         },
         "name": "https://api.github.com/repos/OffchainLabs/nitro",
         "offsetgroup": "https://api.github.com/repos/OffchainLabs/nitro",
         "orientation": "v",
         "showlegend": true,
         "textposition": "auto",
         "type": "bar",
         "x": [
          "https://api.github.com/repos/OffchainLabs/nitro"
         ],
         "xaxis": "x",
         "y": [
          651
         ],
         "yaxis": "y"
        },
        {
         "alignmentgroup": "True",
         "hovertemplate": "color=https://api.github.com/repos/Azure/moby-packaging<br>Repository URL=%{x}<br># Contributor Events=%{y}<extra></extra>",
         "legendgroup": "https://api.github.com/repos/Azure/moby-packaging",
         "marker": {
          "color": "#FF6692",
          "pattern": {
           "shape": ""
          }
         },
         "name": "https://api.github.com/repos/Azure/moby-packaging",
         "offsetgroup": "https://api.github.com/repos/Azure/moby-packaging",
         "orientation": "v",
         "showlegend": true,
         "textposition": "auto",
         "type": "bar",
         "x": [
          "https://api.github.com/repos/Azure/moby-packaging"
         ],
         "xaxis": "x",
         "y": [
          645
         ],
         "yaxis": "y"
        },
        {
         "alignmentgroup": "True",
         "hovertemplate": "color=https://api.github.com/repos/hrydgard/ppsspp<br>Repository URL=%{x}<br># Contributor Events=%{y}<extra></extra>",
         "legendgroup": "https://api.github.com/repos/hrydgard/ppsspp",
         "marker": {
          "color": "#B6E880",
          "pattern": {
           "shape": ""
          }
         },
         "name": "https://api.github.com/repos/hrydgard/ppsspp",
         "offsetgroup": "https://api.github.com/repos/hrydgard/ppsspp",
         "orientation": "v",
         "showlegend": true,
         "textposition": "auto",
         "type": "bar",
         "x": [
          "https://api.github.com/repos/hrydgard/ppsspp"
         ],
         "xaxis": "x",
         "y": [
          633
         ],
         "yaxis": "y"
        },
        {
         "alignmentgroup": "True",
         "hovertemplate": "color=https://api.github.com/repos/paritytech/polkadot-sdk<br>Repository URL=%{x}<br># Contributor Events=%{y}<extra></extra>",
         "legendgroup": "https://api.github.com/repos/paritytech/polkadot-sdk",
         "marker": {
          "color": "#FF97FF",
          "pattern": {
           "shape": ""
          }
         },
         "name": "https://api.github.com/repos/paritytech/polkadot-sdk",
         "offsetgroup": "https://api.github.com/repos/paritytech/polkadot-sdk",
         "orientation": "v",
         "showlegend": true,
         "textposition": "auto",
         "type": "bar",
         "x": [
          "https://api.github.com/repos/paritytech/polkadot-sdk"
         ],
         "xaxis": "x",
         "y": [
          616
         ],
         "yaxis": "y"
        },
        {
         "alignmentgroup": "True",
         "hovertemplate": "color=https://api.github.com/repos/getredash/redash<br>Repository URL=%{x}<br># Contributor Events=%{y}<extra></extra>",
         "legendgroup": "https://api.github.com/repos/getredash/redash",
         "marker": {
          "color": "#FECB52",
          "pattern": {
           "shape": ""
          }
         },
         "name": "https://api.github.com/repos/getredash/redash",
         "offsetgroup": "https://api.github.com/repos/getredash/redash",
         "orientation": "v",
         "showlegend": true,
         "textposition": "auto",
         "type": "bar",
         "x": [
          "https://api.github.com/repos/getredash/redash"
         ],
         "xaxis": "x",
         "y": [
          611
         ],
         "yaxis": "y"
        }
       ],
       "layout": {
        "barmode": "relative",
        "legend": {
         "title": {
          "text": "color"
         },
         "tracegroupgap": 0
        },
        "margin": {
         "t": 60
        },
        "showlegend": false,
        "template": {
         "data": {
          "bar": [
           {
            "error_x": {
             "color": "#2a3f5f"
            },
            "error_y": {
             "color": "#2a3f5f"
            },
            "marker": {
             "line": {
              "color": "#E5ECF6",
              "width": 0.5
             },
             "pattern": {
              "fillmode": "overlay",
              "size": 10,
              "solidity": 0.2
             }
            },
            "type": "bar"
           }
          ],
          "barpolar": [
           {
            "marker": {
             "line": {
              "color": "#E5ECF6",
              "width": 0.5
             },
             "pattern": {
              "fillmode": "overlay",
              "size": 10,
              "solidity": 0.2
             }
            },
            "type": "barpolar"
           }
          ],
          "carpet": [
           {
            "aaxis": {
             "endlinecolor": "#2a3f5f",
             "gridcolor": "white",
             "linecolor": "white",
             "minorgridcolor": "white",
             "startlinecolor": "#2a3f5f"
            },
            "baxis": {
             "endlinecolor": "#2a3f5f",
             "gridcolor": "white",
             "linecolor": "white",
             "minorgridcolor": "white",
             "startlinecolor": "#2a3f5f"
            },
            "type": "carpet"
           }
          ],
          "choropleth": [
           {
            "colorbar": {
             "outlinewidth": 0,
             "ticks": ""
            },
            "type": "choropleth"
           }
          ],
          "contour": [
           {
            "colorbar": {
             "outlinewidth": 0,
             "ticks": ""
            },
            "colorscale": [
             [
              0,
              "#0d0887"
             ],
             [
              0.1111111111111111,
              "#46039f"
             ],
             [
              0.2222222222222222,
              "#7201a8"
             ],
             [
              0.3333333333333333,
              "#9c179e"
             ],
             [
              0.4444444444444444,
              "#bd3786"
             ],
             [
              0.5555555555555556,
              "#d8576b"
             ],
             [
              0.6666666666666666,
              "#ed7953"
             ],
             [
              0.7777777777777778,
              "#fb9f3a"
             ],
             [
              0.8888888888888888,
              "#fdca26"
             ],
             [
              1,
              "#f0f921"
             ]
            ],
            "type": "contour"
           }
          ],
          "contourcarpet": [
           {
            "colorbar": {
             "outlinewidth": 0,
             "ticks": ""
            },
            "type": "contourcarpet"
           }
          ],
          "heatmap": [
           {
            "colorbar": {
             "outlinewidth": 0,
             "ticks": ""
            },
            "colorscale": [
             [
              0,
              "#0d0887"
             ],
             [
              0.1111111111111111,
              "#46039f"
             ],
             [
              0.2222222222222222,
              "#7201a8"
             ],
             [
              0.3333333333333333,
              "#9c179e"
             ],
             [
              0.4444444444444444,
              "#bd3786"
             ],
             [
              0.5555555555555556,
              "#d8576b"
             ],
             [
              0.6666666666666666,
              "#ed7953"
             ],
             [
              0.7777777777777778,
              "#fb9f3a"
             ],
             [
              0.8888888888888888,
              "#fdca26"
             ],
             [
              1,
              "#f0f921"
             ]
            ],
            "type": "heatmap"
           }
          ],
          "heatmapgl": [
           {
            "colorbar": {
             "outlinewidth": 0,
             "ticks": ""
            },
            "colorscale": [
             [
              0,
              "#0d0887"
             ],
             [
              0.1111111111111111,
              "#46039f"
             ],
             [
              0.2222222222222222,
              "#7201a8"
             ],
             [
              0.3333333333333333,
              "#9c179e"
             ],
             [
              0.4444444444444444,
              "#bd3786"
             ],
             [
              0.5555555555555556,
              "#d8576b"
             ],
             [
              0.6666666666666666,
              "#ed7953"
             ],
             [
              0.7777777777777778,
              "#fb9f3a"
             ],
             [
              0.8888888888888888,
              "#fdca26"
             ],
             [
              1,
              "#f0f921"
             ]
            ],
            "type": "heatmapgl"
           }
          ],
          "histogram": [
           {
            "marker": {
             "pattern": {
              "fillmode": "overlay",
              "size": 10,
              "solidity": 0.2
             }
            },
            "type": "histogram"
           }
          ],
          "histogram2d": [
           {
            "colorbar": {
             "outlinewidth": 0,
             "ticks": ""
            },
            "colorscale": [
             [
              0,
              "#0d0887"
             ],
             [
              0.1111111111111111,
              "#46039f"
             ],
             [
              0.2222222222222222,
              "#7201a8"
             ],
             [
              0.3333333333333333,
              "#9c179e"
             ],
             [
              0.4444444444444444,
              "#bd3786"
             ],
             [
              0.5555555555555556,
              "#d8576b"
             ],
             [
              0.6666666666666666,
              "#ed7953"
             ],
             [
              0.7777777777777778,
              "#fb9f3a"
             ],
             [
              0.8888888888888888,
              "#fdca26"
             ],
             [
              1,
              "#f0f921"
             ]
            ],
            "type": "histogram2d"
           }
          ],
          "histogram2dcontour": [
           {
            "colorbar": {
             "outlinewidth": 0,
             "ticks": ""
            },
            "colorscale": [
             [
              0,
              "#0d0887"
             ],
             [
              0.1111111111111111,
              "#46039f"
             ],
             [
              0.2222222222222222,
              "#7201a8"
             ],
             [
              0.3333333333333333,
              "#9c179e"
             ],
             [
              0.4444444444444444,
              "#bd3786"
             ],
             [
              0.5555555555555556,
              "#d8576b"
             ],
             [
              0.6666666666666666,
              "#ed7953"
             ],
             [
              0.7777777777777778,
              "#fb9f3a"
             ],
             [
              0.8888888888888888,
              "#fdca26"
             ],
             [
              1,
              "#f0f921"
             ]
            ],
            "type": "histogram2dcontour"
           }
          ],
          "mesh3d": [
           {
            "colorbar": {
             "outlinewidth": 0,
             "ticks": ""
            },
            "type": "mesh3d"
           }
          ],
          "parcoords": [
           {
            "line": {
             "colorbar": {
              "outlinewidth": 0,
              "ticks": ""
             }
            },
            "type": "parcoords"
           }
          ],
          "pie": [
           {
            "automargin": true,
            "type": "pie"
           }
          ],
          "scatter": [
           {
            "fillpattern": {
             "fillmode": "overlay",
             "size": 10,
             "solidity": 0.2
            },
            "type": "scatter"
           }
          ],
          "scatter3d": [
           {
            "line": {
             "colorbar": {
              "outlinewidth": 0,
              "ticks": ""
             }
            },
            "marker": {
             "colorbar": {
              "outlinewidth": 0,
              "ticks": ""
             }
            },
            "type": "scatter3d"
           }
          ],
          "scattercarpet": [
           {
            "marker": {
             "colorbar": {
              "outlinewidth": 0,
              "ticks": ""
             }
            },
            "type": "scattercarpet"
           }
          ],
          "scattergeo": [
           {
            "marker": {
             "colorbar": {
              "outlinewidth": 0,
              "ticks": ""
             }
            },
            "type": "scattergeo"
           }
          ],
          "scattergl": [
           {
            "marker": {
             "colorbar": {
              "outlinewidth": 0,
              "ticks": ""
             }
            },
            "type": "scattergl"
           }
          ],
          "scattermapbox": [
           {
            "marker": {
             "colorbar": {
              "outlinewidth": 0,
              "ticks": ""
             }
            },
            "type": "scattermapbox"
           }
          ],
          "scatterpolar": [
           {
            "marker": {
             "colorbar": {
              "outlinewidth": 0,
              "ticks": ""
             }
            },
            "type": "scatterpolar"
           }
          ],
          "scatterpolargl": [
           {
            "marker": {
             "colorbar": {
              "outlinewidth": 0,
              "ticks": ""
             }
            },
            "type": "scatterpolargl"
           }
          ],
          "scatterternary": [
           {
            "marker": {
             "colorbar": {
              "outlinewidth": 0,
              "ticks": ""
             }
            },
            "type": "scatterternary"
           }
          ],
          "surface": [
           {
            "colorbar": {
             "outlinewidth": 0,
             "ticks": ""
            },
            "colorscale": [
             [
              0,
              "#0d0887"
             ],
             [
              0.1111111111111111,
              "#46039f"
             ],
             [
              0.2222222222222222,
              "#7201a8"
             ],
             [
              0.3333333333333333,
              "#9c179e"
             ],
             [
              0.4444444444444444,
              "#bd3786"
             ],
             [
              0.5555555555555556,
              "#d8576b"
             ],
             [
              0.6666666666666666,
              "#ed7953"
             ],
             [
              0.7777777777777778,
              "#fb9f3a"
             ],
             [
              0.8888888888888888,
              "#fdca26"
             ],
             [
              1,
              "#f0f921"
             ]
            ],
            "type": "surface"
           }
          ],
          "table": [
           {
            "cells": {
             "fill": {
              "color": "#EBF0F8"
             },
             "line": {
              "color": "white"
             }
            },
            "header": {
             "fill": {
              "color": "#C8D4E3"
             },
             "line": {
              "color": "white"
             }
            },
            "type": "table"
           }
          ]
         },
         "layout": {
          "annotationdefaults": {
           "arrowcolor": "#2a3f5f",
           "arrowhead": 0,
           "arrowwidth": 1
          },
          "autotypenumbers": "strict",
          "coloraxis": {
           "colorbar": {
            "outlinewidth": 0,
            "ticks": ""
           }
          },
          "colorscale": {
           "diverging": [
            [
             0,
             "#8e0152"
            ],
            [
             0.1,
             "#c51b7d"
            ],
            [
             0.2,
             "#de77ae"
            ],
            [
             0.3,
             "#f1b6da"
            ],
            [
             0.4,
             "#fde0ef"
            ],
            [
             0.5,
             "#f7f7f7"
            ],
            [
             0.6,
             "#e6f5d0"
            ],
            [
             0.7,
             "#b8e186"
            ],
            [
             0.8,
             "#7fbc41"
            ],
            [
             0.9,
             "#4d9221"
            ],
            [
             1,
             "#276419"
            ]
           ],
           "sequential": [
            [
             0,
             "#0d0887"
            ],
            [
             0.1111111111111111,
             "#46039f"
            ],
            [
             0.2222222222222222,
             "#7201a8"
            ],
            [
             0.3333333333333333,
             "#9c179e"
            ],
            [
             0.4444444444444444,
             "#bd3786"
            ],
            [
             0.5555555555555556,
             "#d8576b"
            ],
            [
             0.6666666666666666,
             "#ed7953"
            ],
            [
             0.7777777777777778,
             "#fb9f3a"
            ],
            [
             0.8888888888888888,
             "#fdca26"
            ],
            [
             1,
             "#f0f921"
            ]
           ],
           "sequentialminus": [
            [
             0,
             "#0d0887"
            ],
            [
             0.1111111111111111,
             "#46039f"
            ],
            [
             0.2222222222222222,
             "#7201a8"
            ],
            [
             0.3333333333333333,
             "#9c179e"
            ],
            [
             0.4444444444444444,
             "#bd3786"
            ],
            [
             0.5555555555555556,
             "#d8576b"
            ],
            [
             0.6666666666666666,
             "#ed7953"
            ],
            [
             0.7777777777777778,
             "#fb9f3a"
            ],
            [
             0.8888888888888888,
             "#fdca26"
            ],
            [
             1,
             "#f0f921"
            ]
           ]
          },
          "colorway": [
           "#636efa",
           "#EF553B",
           "#00cc96",
           "#ab63fa",
           "#FFA15A",
           "#19d3f3",
           "#FF6692",
           "#B6E880",
           "#FF97FF",
           "#FECB52"
          ],
          "font": {
           "color": "#2a3f5f"
          },
          "geo": {
           "bgcolor": "white",
           "lakecolor": "white",
           "landcolor": "#E5ECF6",
           "showlakes": true,
           "showland": true,
           "subunitcolor": "white"
          },
          "hoverlabel": {
           "align": "left"
          },
          "hovermode": "closest",
          "mapbox": {
           "style": "light"
          },
          "paper_bgcolor": "white",
          "plot_bgcolor": "#E5ECF6",
          "polar": {
           "angularaxis": {
            "gridcolor": "white",
            "linecolor": "white",
            "ticks": ""
           },
           "bgcolor": "#E5ECF6",
           "radialaxis": {
            "gridcolor": "white",
            "linecolor": "white",
            "ticks": ""
           }
          },
          "scene": {
           "xaxis": {
            "backgroundcolor": "#E5ECF6",
            "gridcolor": "white",
            "gridwidth": 2,
            "linecolor": "white",
            "showbackground": true,
            "ticks": "",
            "zerolinecolor": "white"
           },
           "yaxis": {
            "backgroundcolor": "#E5ECF6",
            "gridcolor": "white",
            "gridwidth": 2,
            "linecolor": "white",
            "showbackground": true,
            "ticks": "",
            "zerolinecolor": "white"
           },
           "zaxis": {
            "backgroundcolor": "#E5ECF6",
            "gridcolor": "white",
            "gridwidth": 2,
            "linecolor": "white",
            "showbackground": true,
            "ticks": "",
            "zerolinecolor": "white"
           }
          },
          "shapedefaults": {
           "line": {
            "color": "#2a3f5f"
           }
          },
          "ternary": {
           "aaxis": {
            "gridcolor": "white",
            "linecolor": "white",
            "ticks": ""
           },
           "baxis": {
            "gridcolor": "white",
            "linecolor": "white",
            "ticks": ""
           },
           "bgcolor": "#E5ECF6",
           "caxis": {
            "gridcolor": "white",
            "linecolor": "white",
            "ticks": ""
           }
          },
          "title": {
           "x": 0.05
          },
          "xaxis": {
           "automargin": true,
           "gridcolor": "white",
           "linecolor": "white",
           "ticks": "",
           "title": {
            "standoff": 15
           },
           "zerolinecolor": "white",
           "zerolinewidth": 2
          },
          "yaxis": {
           "automargin": true,
           "gridcolor": "white",
           "linecolor": "white",
           "ticks": "",
           "title": {
            "standoff": 15
           },
           "zerolinecolor": "white",
           "zerolinewidth": 2
          }
         }
        },
        "xaxis": {
         "anchor": "y",
         "domain": [
          0,
          1
         ],
         "title": {
          "text": "Repository URL"
         }
        },
        "yaxis": {
         "anchor": "x",
         "domain": [
          0,
          1
         ],
         "title": {
          "text": "# Contributor Events"
         }
        }
       }
      }
     },
     "metadata": {},
     "output_type": "display_data"
    }
   ],
   "source": [
    "kc_repo_event_counts = df_known_event_stream.repo_git.value_counts()\n",
    "df_fig_rec_kc = kc_repo_event_counts.to_frame() \n",
    "\n",
    "fig_rec_kc = px.bar(\n",
    "    data_frame=df_fig_rec_kc[:50],\n",
    "    color=df_fig_rec_kc[:50].index,\n",
    "    labels={\n",
    "                    \"value\": \"# Contributor Events\",\n",
    "                    \"repo_git\": \"Repository URL\"\n",
    "                },\n",
    ")\n",
    "fig_rec_kc.update_layout(showlegend=False)\n",
    "fig_rec_kc.write_image(\"knowncontributors_repository_eventcount.png\")\n",
    "fig_rec_kc"
   ]
  },
  {
   "cell_type": "code",
   "execution_count": 38,
   "metadata": {},
   "outputs": [
    {
     "data": {
      "image/png": "[encoded data removed]",
      "text/plain": [
       "<IPython.core.display.Image object>"
      ]
     },
     "execution_count": 38,
     "metadata": {},
     "output_type": "execute_result"
    }
   ],
   "source": [
    "Image(\"knowncontributors_repository_eventcount.png\")"
   ]
  },
  {
   "cell_type": "markdown",
   "metadata": {},
   "source": [
    "## Interpretation\n",
    "\n",
    "We find here that some obvious WASM-specific repositories are contributed to most frequently by the contributors we already knew about.\n",
    "\n",
    "However, as one might expect, repos that are popular among the general public like 'risingwavelabs/risingwave', (which is 5th in this list and 74th among the general population, despite being a distributed streaming DB (not about WASM))\n",
    "are also popular among this slice of the general population.\n",
    "\n",
    "Our challenge now is to find those repos that are *especially* popular among this population as compared to the popularity among the general public."
   ]
  },
  {
   "cell_type": "markdown",
   "metadata": {},
   "source": [
    "# Identify disproportionately popular repos"
   ]
  },
  {
   "cell_type": "markdown",
   "metadata": {},
   "source": [
    "## Unknown contributors\n",
    "\n",
    "We want to consider the popularity of repos among people who aren't in our initial set.\n",
    "\n",
    "If our 'known' group of contributors is the subpopulation \"p\" and the general population is \"P\",\n",
    "then the group of people who are in the general population but aren't in our sub-population is \"P - p\" or \" P^ \", pronounced P-hat.\n",
    "\n",
    "Hence, P-hat would be our unknown contributors."
   ]
  },
  {
   "cell_type": "code",
   "execution_count": 21,
   "metadata": {},
   "outputs": [
    {
     "data": {
      "text/plain": [
       "(3354757, 8)"
      ]
     },
     "execution_count": 21,
     "metadata": {},
     "output_type": "execute_result"
    }
   ],
   "source": [
    "# Get events made by those in P^\n",
    "\n",
    "df_general_event_stream = df_event_stream[~df_event_stream.cntrb_id.isin(UUID_known)]\n",
    "df_general_event_stream.shape"
   ]
  },
  {
   "cell_type": "code",
   "execution_count": 22,
   "metadata": {},
   "outputs": [
    {
     "data": {
      "text/html": [
       "<div>\n",
       "<style scoped>\n",
       "    .dataframe tbody tr th:only-of-type {\n",
       "        vertical-align: middle;\n",
       "    }\n",
       "\n",
       "    .dataframe tbody tr th {\n",
       "        vertical-align: top;\n",
       "    }\n",
       "\n",
       "    .dataframe thead th {\n",
       "        text-align: right;\n",
       "    }\n",
       "</style>\n",
       "<table border=\"1\" class=\"dataframe\">\n",
       "  <thead>\n",
       "    <tr style=\"text-align: right;\">\n",
       "      <th></th>\n",
       "      <th>count</th>\n",
       "    </tr>\n",
       "    <tr>\n",
       "      <th>repo_git</th>\n",
       "      <th></th>\n",
       "    </tr>\n",
       "  </thead>\n",
       "  <tbody>\n",
       "    <tr>\n",
       "      <th>https://api.github.com/repos/llvm/llvm-project</th>\n",
       "      <td>42063</td>\n",
       "    </tr>\n",
       "    <tr>\n",
       "      <th>https://api.github.com/repos/pytorch/pytorch</th>\n",
       "      <td>12357</td>\n",
       "    </tr>\n",
       "    <tr>\n",
       "      <th>https://api.github.com/repos/dotnet/runtime</th>\n",
       "      <td>10659</td>\n",
       "    </tr>\n",
       "    <tr>\n",
       "      <th>https://api.github.com/repos/intel/llvm</th>\n",
       "      <td>10008</td>\n",
       "    </tr>\n",
       "    <tr>\n",
       "      <th>https://api.github.com/repos/apple/swift</th>\n",
       "      <td>9441</td>\n",
       "    </tr>\n",
       "    <tr>\n",
       "      <th>...</th>\n",
       "      <td>...</td>\n",
       "    </tr>\n",
       "    <tr>\n",
       "      <th>https://api.github.com/repos/colyseus/colyseus-sdk7</th>\n",
       "      <td>1</td>\n",
       "    </tr>\n",
       "    <tr>\n",
       "      <th>https://api.github.com/repos/decentraland-scenes/colyseus-sdk7</th>\n",
       "      <td>1</td>\n",
       "    </tr>\n",
       "    <tr>\n",
       "      <th>https://api.github.com/repos/devSquad-study/2023-CS-Study</th>\n",
       "      <td>1</td>\n",
       "    </tr>\n",
       "    <tr>\n",
       "      <th>https://api.github.com/repos/josef-reither-museum/josef-reither-museum.github.io</th>\n",
       "      <td>1</td>\n",
       "    </tr>\n",
       "    <tr>\n",
       "      <th>https://api.github.com/repos/ShiyuNee/Awesome-Conversation-Clarifying-Questions-for-Information-Retrieval</th>\n",
       "      <td>1</td>\n",
       "    </tr>\n",
       "  </tbody>\n",
       "</table>\n",
       "<p>255833 rows × 1 columns</p>\n",
       "</div>"
      ],
      "text/plain": [
       "                                                    count\n",
       "repo_git                                                 \n",
       "https://api.github.com/repos/llvm/llvm-project      42063\n",
       "https://api.github.com/repos/pytorch/pytorch        12357\n",
       "https://api.github.com/repos/dotnet/runtime         10659\n",
       "https://api.github.com/repos/intel/llvm             10008\n",
       "https://api.github.com/repos/apple/swift             9441\n",
       "...                                                   ...\n",
       "https://api.github.com/repos/colyseus/colyseus-...      1\n",
       "https://api.github.com/repos/decentraland-scene...      1\n",
       "https://api.github.com/repos/devSquad-study/202...      1\n",
       "https://api.github.com/repos/josef-reither-muse...      1\n",
       "https://api.github.com/repos/ShiyuNee/Awesome-C...      1\n",
       "\n",
       "[255833 rows x 1 columns]"
      ]
     },
     "execution_count": 22,
     "metadata": {},
     "output_type": "execute_result"
    }
   ],
   "source": [
    "# Count the events-per-repo of P^\n",
    "\n",
    "g_repo_event_counts = df_general_event_stream.repo_git.value_counts().to_frame()\n",
    "g_repo_event_counts"
   ]
  },
  {
   "cell_type": "code",
   "execution_count": 23,
   "metadata": {},
   "outputs": [
    {
     "data": {
      "text/html": [
       "<div>\n",
       "<style scoped>\n",
       "    .dataframe tbody tr th:only-of-type {\n",
       "        vertical-align: middle;\n",
       "    }\n",
       "\n",
       "    .dataframe tbody tr th {\n",
       "        vertical-align: top;\n",
       "    }\n",
       "\n",
       "    .dataframe thead th {\n",
       "        text-align: right;\n",
       "    }\n",
       "</style>\n",
       "<table border=\"1\" class=\"dataframe\">\n",
       "  <thead>\n",
       "    <tr style=\"text-align: right;\">\n",
       "      <th></th>\n",
       "      <th>count_general</th>\n",
       "      <th>count_known</th>\n",
       "    </tr>\n",
       "    <tr>\n",
       "      <th>repo_git</th>\n",
       "      <th></th>\n",
       "      <th></th>\n",
       "    </tr>\n",
       "  </thead>\n",
       "  <tbody>\n",
       "    <tr>\n",
       "      <th>https://api.github.com/repos/llvm/llvm-project</th>\n",
       "      <td>42063</td>\n",
       "      <td>696.0</td>\n",
       "    </tr>\n",
       "    <tr>\n",
       "      <th>https://api.github.com/repos/pytorch/pytorch</th>\n",
       "      <td>12357</td>\n",
       "      <td>9.0</td>\n",
       "    </tr>\n",
       "    <tr>\n",
       "      <th>https://api.github.com/repos/dotnet/runtime</th>\n",
       "      <td>10659</td>\n",
       "      <td>1319.0</td>\n",
       "    </tr>\n",
       "    <tr>\n",
       "      <th>https://api.github.com/repos/apple/swift</th>\n",
       "      <td>9441</td>\n",
       "      <td>129.0</td>\n",
       "    </tr>\n",
       "    <tr>\n",
       "      <th>https://api.github.com/repos/rust-lang/rust</th>\n",
       "      <td>8158</td>\n",
       "      <td>4070.0</td>\n",
       "    </tr>\n",
       "    <tr>\n",
       "      <th>...</th>\n",
       "      <td>...</td>\n",
       "      <td>...</td>\n",
       "    </tr>\n",
       "    <tr>\n",
       "      <th>https://api.github.com/repos/erleans/pgo</th>\n",
       "      <td>1</td>\n",
       "      <td>1.0</td>\n",
       "    </tr>\n",
       "    <tr>\n",
       "      <th>https://api.github.com/repos/epi2me-labs/wf-metagenomics</th>\n",
       "      <td>1</td>\n",
       "      <td>1.0</td>\n",
       "    </tr>\n",
       "    <tr>\n",
       "      <th>https://api.github.com/repos/madebr/setup-sdl</th>\n",
       "      <td>1</td>\n",
       "      <td>3.0</td>\n",
       "    </tr>\n",
       "    <tr>\n",
       "      <th>https://api.github.com/repos/railsgirls/guides.railsgirls.com</th>\n",
       "      <td>1</td>\n",
       "      <td>7.0</td>\n",
       "    </tr>\n",
       "    <tr>\n",
       "      <th>https://api.github.com/repos/fails-components/webtransport</th>\n",
       "      <td>1</td>\n",
       "      <td>11.0</td>\n",
       "    </tr>\n",
       "  </tbody>\n",
       "</table>\n",
       "<p>14944 rows × 2 columns</p>\n",
       "</div>"
      ],
      "text/plain": [
       "                                                    count_general  count_known\n",
       "repo_git                                                                      \n",
       "https://api.github.com/repos/llvm/llvm-project              42063        696.0\n",
       "https://api.github.com/repos/pytorch/pytorch                12357          9.0\n",
       "https://api.github.com/repos/dotnet/runtime                 10659       1319.0\n",
       "https://api.github.com/repos/apple/swift                     9441        129.0\n",
       "https://api.github.com/repos/rust-lang/rust                  8158       4070.0\n",
       "...                                                           ...          ...\n",
       "https://api.github.com/repos/erleans/pgo                        1          1.0\n",
       "https://api.github.com/repos/epi2me-labs/wf-met...              1          1.0\n",
       "https://api.github.com/repos/madebr/setup-sdl                   1          3.0\n",
       "https://api.github.com/repos/railsgirls/guides....              1          7.0\n",
       "https://api.github.com/repos/fails-components/w...              1         11.0\n",
       "\n",
       "[14944 rows x 2 columns]"
      ]
     },
     "execution_count": 23,
     "metadata": {},
     "output_type": "execute_result"
    }
   ],
   "source": [
    "# Join the counts of P^ with those of p\n",
    "\n",
    "joined_counts = g_repo_event_counts.join(\n",
    "    other=kc_repo_event_counts.to_frame(),\n",
    "    how=\"left\",\n",
    "    lsuffix=\"_general\",\n",
    "    rsuffix=\"_known\",\n",
    ")\n",
    "\n",
    "joined_counts = joined_counts.rename(columns={\"repo_git_general\": \"count_general\", \"repo_git_known\": \"count_known\"})\n",
    "\n",
    "joined_counts = joined_counts.dropna()\n",
    "joined_counts"
   ]
  },
  {
   "cell_type": "markdown",
   "metadata": {},
   "source": [
    "## Simple approach\n",
    "\n",
    "In this figure we visualize the count of contributions from those in 'p' and 'P^' stacked on top of one another. \n",
    "\n",
    "Most of the most-contributed-to projects of those in 'p' are also most-contributed-to by members of 'p' (they are not also largely contributed to by those in 'P^').\n",
    "\n",
    "Some notable visual exceptions are 'NixOS/nixpkgs,' 'dotnet/runtime,' 'astral-sh/ruff,' 'paritytech/substrate,' and 'llvm/llvm-project.'"
   ]
  },
  {
   "cell_type": "code",
   "execution_count": 39,
   "metadata": {},
   "outputs": [
    {
     "data": {
      "application/vnd.plotly.v1+json": {
       "config": {
        "plotlyServerURL": "https://plot.ly"
       },
       "data": [
        {
         "alignmentgroup": "True",
         "hovertemplate": "variable=count_general<br>Repository URL=%{x}<br># Contributor Events=%{y}<extra></extra>",
         "legendgroup": "count_general",
         "marker": {
          "color": "#636efa",
          "pattern": {
           "shape": ""
          }
         },
         "name": "count_general",
         "offsetgroup": "count_general",
         "orientation": "v",
         "showlegend": true,
         "textposition": "auto",
         "type": "bar",
         "x": [
          "https://api.github.com/repos/rust-lang/rust",
          "https://api.github.com/repos/bytecodealliance/wasmtime",
          "https://api.github.com/repos/WasmEdge/WasmEdge",
          "https://api.github.com/repos/wasmerio/wasmer",
          "https://api.github.com/repos/risingwavelabs/risingwave",
          "https://api.github.com/repos/noir-lang/noir",
          "https://api.github.com/repos/microsoft/winget-pkgs",
          "https://api.github.com/repos/NixOS/nixpkgs",
          "https://api.github.com/repos/Homebrew/homebrew-core",
          "https://api.github.com/repos/leanprover-community/mathlib4",
          "https://api.github.com/repos/dotnet/runtime",
          "https://api.github.com/repos/gear-tech/gear",
          "https://api.github.com/repos/golang/go",
          "https://api.github.com/repos/WebAssembly/binaryen",
          "https://api.github.com/repos/matrix-org/matrix-rust-sdk",
          "https://api.github.com/repos/containerd/runwasi",
          "https://api.github.com/repos/wasmCloud/wasmCloud",
          "https://api.github.com/repos/dependabot/dependabot-core",
          "https://api.github.com/repos/CosmWasm/cosmwasm",
          "https://api.github.com/repos/apollographql/router",
          "https://api.github.com/repos/onflow/flow-go",
          "https://api.github.com/repos/astral-sh/ruff",
          "https://api.github.com/repos/FuelLabs/fuel-indexer",
          "https://api.github.com/repos/ni/nimble",
          "https://api.github.com/repos/massalabs/massa",
          "https://api.github.com/repos/vercel/next.js",
          "https://api.github.com/repos/paritytech/substrate",
          "https://api.github.com/repos/tigerbeetle/tigerbeetle",
          "https://api.github.com/repos/fermyon/developer",
          "https://api.github.com/repos/emscripten-core/emscripten",
          "https://api.github.com/repos/anoma/namada",
          "https://api.github.com/repos/cargo-bins/cargo-binstall",
          "https://api.github.com/repos/fermyon/spin",
          "https://api.github.com/repos/web-infra-dev/rspack",
          "https://api.github.com/repos/AmbientRun/Ambient",
          "https://api.github.com/repos/ChainSafe/forest",
          "https://api.github.com/repos/llvm/llvm-project",
          "https://api.github.com/repos/dotnet/aspnetcore",
          "https://api.github.com/repos/paradigmxyz/reth",
          "https://api.github.com/repos/osmosis-labs/mesh-security",
          "https://api.github.com/repos/leptos-rs/leptos",
          "https://api.github.com/repos/moondance-labs/tanssi",
          "https://api.github.com/repos/Kong/ngx_wasm_module",
          "https://api.github.com/repos/OffchainLabs/nitro",
          "https://api.github.com/repos/hrydgard/ppsspp",
          "https://api.github.com/repos/paritytech/polkadot-sdk",
          "https://api.github.com/repos/getredash/redash",
          "https://api.github.com/repos/swc-project/swc",
          "https://api.github.com/repos/filecoin-project/lotus",
          "https://api.github.com/repos/stealthrocket/timecraft"
         ],
         "xaxis": "x",
         "y": [
          8158,
          383,
          149,
          95,
          19,
          1015,
          1853,
          6514,
          1563,
          1608,
          10659,
          2388,
          2536,
          663,
          310,
          130,
          743,
          20,
          16,
          1118,
          558,
          3626,
          25,
          714,
          177,
          1392,
          3038,
          26,
          1107,
          3711,
          618,
          96,
          1176,
          42,
          42,
          1307,
          42063,
          1285,
          153,
          43,
          206,
          1,
          137,
          49,
          38,
          3014,
          6,
          133,
          61,
          275
         ],
         "yaxis": "y"
        },
        {
         "alignmentgroup": "True",
         "hovertemplate": "variable=count_known<br>Repository URL=%{x}<br># Contributor Events=%{y}<extra></extra>",
         "legendgroup": "count_known",
         "marker": {
          "color": "#EF553B",
          "pattern": {
           "shape": ""
          }
         },
         "name": "count_known",
         "offsetgroup": "count_known",
         "orientation": "v",
         "showlegend": true,
         "textposition": "auto",
         "type": "bar",
         "x": [
          "https://api.github.com/repos/rust-lang/rust",
          "https://api.github.com/repos/bytecodealliance/wasmtime",
          "https://api.github.com/repos/WasmEdge/WasmEdge",
          "https://api.github.com/repos/wasmerio/wasmer",
          "https://api.github.com/repos/risingwavelabs/risingwave",
          "https://api.github.com/repos/noir-lang/noir",
          "https://api.github.com/repos/microsoft/winget-pkgs",
          "https://api.github.com/repos/NixOS/nixpkgs",
          "https://api.github.com/repos/Homebrew/homebrew-core",
          "https://api.github.com/repos/leanprover-community/mathlib4",
          "https://api.github.com/repos/dotnet/runtime",
          "https://api.github.com/repos/gear-tech/gear",
          "https://api.github.com/repos/golang/go",
          "https://api.github.com/repos/WebAssembly/binaryen",
          "https://api.github.com/repos/matrix-org/matrix-rust-sdk",
          "https://api.github.com/repos/containerd/runwasi",
          "https://api.github.com/repos/wasmCloud/wasmCloud",
          "https://api.github.com/repos/dependabot/dependabot-core",
          "https://api.github.com/repos/CosmWasm/cosmwasm",
          "https://api.github.com/repos/apollographql/router",
          "https://api.github.com/repos/onflow/flow-go",
          "https://api.github.com/repos/astral-sh/ruff",
          "https://api.github.com/repos/FuelLabs/fuel-indexer",
          "https://api.github.com/repos/ni/nimble",
          "https://api.github.com/repos/massalabs/massa",
          "https://api.github.com/repos/vercel/next.js",
          "https://api.github.com/repos/paritytech/substrate",
          "https://api.github.com/repos/tigerbeetle/tigerbeetle",
          "https://api.github.com/repos/fermyon/developer",
          "https://api.github.com/repos/emscripten-core/emscripten",
          "https://api.github.com/repos/anoma/namada",
          "https://api.github.com/repos/cargo-bins/cargo-binstall",
          "https://api.github.com/repos/fermyon/spin",
          "https://api.github.com/repos/web-infra-dev/rspack",
          "https://api.github.com/repos/AmbientRun/Ambient",
          "https://api.github.com/repos/ChainSafe/forest",
          "https://api.github.com/repos/llvm/llvm-project",
          "https://api.github.com/repos/dotnet/aspnetcore",
          "https://api.github.com/repos/paradigmxyz/reth",
          "https://api.github.com/repos/osmosis-labs/mesh-security",
          "https://api.github.com/repos/leptos-rs/leptos",
          "https://api.github.com/repos/moondance-labs/tanssi",
          "https://api.github.com/repos/Kong/ngx_wasm_module",
          "https://api.github.com/repos/OffchainLabs/nitro",
          "https://api.github.com/repos/hrydgard/ppsspp",
          "https://api.github.com/repos/paritytech/polkadot-sdk",
          "https://api.github.com/repos/getredash/redash",
          "https://api.github.com/repos/swc-project/swc",
          "https://api.github.com/repos/filecoin-project/lotus",
          "https://api.github.com/repos/stealthrocket/timecraft"
         ],
         "xaxis": "x",
         "y": [
          4070,
          2714,
          2614,
          2007,
          1954,
          1771,
          1678,
          1639,
          1602,
          1560,
          1319,
          1317,
          1274,
          1148,
          1140,
          1027,
          987,
          986,
          974,
          941,
          923,
          920,
          916,
          901,
          889,
          872,
          850,
          792,
          776,
          767,
          754,
          735,
          720,
          715,
          712,
          699,
          696,
          694,
          689,
          689,
          685,
          683,
          670,
          651,
          633,
          616,
          611,
          599,
          588,
          588
         ],
         "yaxis": "y"
        }
       ],
       "layout": {
        "barmode": "relative",
        "legend": {
         "title": {
          "text": "variable"
         },
         "tracegroupgap": 0
        },
        "margin": {
         "t": 60
        },
        "showlegend": false,
        "template": {
         "data": {
          "bar": [
           {
            "error_x": {
             "color": "#2a3f5f"
            },
            "error_y": {
             "color": "#2a3f5f"
            },
            "marker": {
             "line": {
              "color": "#E5ECF6",
              "width": 0.5
             },
             "pattern": {
              "fillmode": "overlay",
              "size": 10,
              "solidity": 0.2
             }
            },
            "type": "bar"
           }
          ],
          "barpolar": [
           {
            "marker": {
             "line": {
              "color": "#E5ECF6",
              "width": 0.5
             },
             "pattern": {
              "fillmode": "overlay",
              "size": 10,
              "solidity": 0.2
             }
            },
            "type": "barpolar"
           }
          ],
          "carpet": [
           {
            "aaxis": {
             "endlinecolor": "#2a3f5f",
             "gridcolor": "white",
             "linecolor": "white",
             "minorgridcolor": "white",
             "startlinecolor": "#2a3f5f"
            },
            "baxis": {
             "endlinecolor": "#2a3f5f",
             "gridcolor": "white",
             "linecolor": "white",
             "minorgridcolor": "white",
             "startlinecolor": "#2a3f5f"
            },
            "type": "carpet"
           }
          ],
          "choropleth": [
           {
            "colorbar": {
             "outlinewidth": 0,
             "ticks": ""
            },
            "type": "choropleth"
           }
          ],
          "contour": [
           {
            "colorbar": {
             "outlinewidth": 0,
             "ticks": ""
            },
            "colorscale": [
             [
              0,
              "#0d0887"
             ],
             [
              0.1111111111111111,
              "#46039f"
             ],
             [
              0.2222222222222222,
              "#7201a8"
             ],
             [
              0.3333333333333333,
              "#9c179e"
             ],
             [
              0.4444444444444444,
              "#bd3786"
             ],
             [
              0.5555555555555556,
              "#d8576b"
             ],
             [
              0.6666666666666666,
              "#ed7953"
             ],
             [
              0.7777777777777778,
              "#fb9f3a"
             ],
             [
              0.8888888888888888,
              "#fdca26"
             ],
             [
              1,
              "#f0f921"
             ]
            ],
            "type": "contour"
           }
          ],
          "contourcarpet": [
           {
            "colorbar": {
             "outlinewidth": 0,
             "ticks": ""
            },
            "type": "contourcarpet"
           }
          ],
          "heatmap": [
           {
            "colorbar": {
             "outlinewidth": 0,
             "ticks": ""
            },
            "colorscale": [
             [
              0,
              "#0d0887"
             ],
             [
              0.1111111111111111,
              "#46039f"
             ],
             [
              0.2222222222222222,
              "#7201a8"
             ],
             [
              0.3333333333333333,
              "#9c179e"
             ],
             [
              0.4444444444444444,
              "#bd3786"
             ],
             [
              0.5555555555555556,
              "#d8576b"
             ],
             [
              0.6666666666666666,
              "#ed7953"
             ],
             [
              0.7777777777777778,
              "#fb9f3a"
             ],
             [
              0.8888888888888888,
              "#fdca26"
             ],
             [
              1,
              "#f0f921"
             ]
            ],
            "type": "heatmap"
           }
          ],
          "heatmapgl": [
           {
            "colorbar": {
             "outlinewidth": 0,
             "ticks": ""
            },
            "colorscale": [
             [
              0,
              "#0d0887"
             ],
             [
              0.1111111111111111,
              "#46039f"
             ],
             [
              0.2222222222222222,
              "#7201a8"
             ],
             [
              0.3333333333333333,
              "#9c179e"
             ],
             [
              0.4444444444444444,
              "#bd3786"
             ],
             [
              0.5555555555555556,
              "#d8576b"
             ],
             [
              0.6666666666666666,
              "#ed7953"
             ],
             [
              0.7777777777777778,
              "#fb9f3a"
             ],
             [
              0.8888888888888888,
              "#fdca26"
             ],
             [
              1,
              "#f0f921"
             ]
            ],
            "type": "heatmapgl"
           }
          ],
          "histogram": [
           {
            "marker": {
             "pattern": {
              "fillmode": "overlay",
              "size": 10,
              "solidity": 0.2
             }
            },
            "type": "histogram"
           }
          ],
          "histogram2d": [
           {
            "colorbar": {
             "outlinewidth": 0,
             "ticks": ""
            },
            "colorscale": [
             [
              0,
              "#0d0887"
             ],
             [
              0.1111111111111111,
              "#46039f"
             ],
             [
              0.2222222222222222,
              "#7201a8"
             ],
             [
              0.3333333333333333,
              "#9c179e"
             ],
             [
              0.4444444444444444,
              "#bd3786"
             ],
             [
              0.5555555555555556,
              "#d8576b"
             ],
             [
              0.6666666666666666,
              "#ed7953"
             ],
             [
              0.7777777777777778,
              "#fb9f3a"
             ],
             [
              0.8888888888888888,
              "#fdca26"
             ],
             [
              1,
              "#f0f921"
             ]
            ],
            "type": "histogram2d"
           }
          ],
          "histogram2dcontour": [
           {
            "colorbar": {
             "outlinewidth": 0,
             "ticks": ""
            },
            "colorscale": [
             [
              0,
              "#0d0887"
             ],
             [
              0.1111111111111111,
              "#46039f"
             ],
             [
              0.2222222222222222,
              "#7201a8"
             ],
             [
              0.3333333333333333,
              "#9c179e"
             ],
             [
              0.4444444444444444,
              "#bd3786"
             ],
             [
              0.5555555555555556,
              "#d8576b"
             ],
             [
              0.6666666666666666,
              "#ed7953"
             ],
             [
              0.7777777777777778,
              "#fb9f3a"
             ],
             [
              0.8888888888888888,
              "#fdca26"
             ],
             [
              1,
              "#f0f921"
             ]
            ],
            "type": "histogram2dcontour"
           }
          ],
          "mesh3d": [
           {
            "colorbar": {
             "outlinewidth": 0,
             "ticks": ""
            },
            "type": "mesh3d"
           }
          ],
          "parcoords": [
           {
            "line": {
             "colorbar": {
              "outlinewidth": 0,
              "ticks": ""
             }
            },
            "type": "parcoords"
           }
          ],
          "pie": [
           {
            "automargin": true,
            "type": "pie"
           }
          ],
          "scatter": [
           {
            "fillpattern": {
             "fillmode": "overlay",
             "size": 10,
             "solidity": 0.2
            },
            "type": "scatter"
           }
          ],
          "scatter3d": [
           {
            "line": {
             "colorbar": {
              "outlinewidth": 0,
              "ticks": ""
             }
            },
            "marker": {
             "colorbar": {
              "outlinewidth": 0,
              "ticks": ""
             }
            },
            "type": "scatter3d"
           }
          ],
          "scattercarpet": [
           {
            "marker": {
             "colorbar": {
              "outlinewidth": 0,
              "ticks": ""
             }
            },
            "type": "scattercarpet"
           }
          ],
          "scattergeo": [
           {
            "marker": {
             "colorbar": {
              "outlinewidth": 0,
              "ticks": ""
             }
            },
            "type": "scattergeo"
           }
          ],
          "scattergl": [
           {
            "marker": {
             "colorbar": {
              "outlinewidth": 0,
              "ticks": ""
             }
            },
            "type": "scattergl"
           }
          ],
          "scattermapbox": [
           {
            "marker": {
             "colorbar": {
              "outlinewidth": 0,
              "ticks": ""
             }
            },
            "type": "scattermapbox"
           }
          ],
          "scatterpolar": [
           {
            "marker": {
             "colorbar": {
              "outlinewidth": 0,
              "ticks": ""
             }
            },
            "type": "scatterpolar"
           }
          ],
          "scatterpolargl": [
           {
            "marker": {
             "colorbar": {
              "outlinewidth": 0,
              "ticks": ""
             }
            },
            "type": "scatterpolargl"
           }
          ],
          "scatterternary": [
           {
            "marker": {
             "colorbar": {
              "outlinewidth": 0,
              "ticks": ""
             }
            },
            "type": "scatterternary"
           }
          ],
          "surface": [
           {
            "colorbar": {
             "outlinewidth": 0,
             "ticks": ""
            },
            "colorscale": [
             [
              0,
              "#0d0887"
             ],
             [
              0.1111111111111111,
              "#46039f"
             ],
             [
              0.2222222222222222,
              "#7201a8"
             ],
             [
              0.3333333333333333,
              "#9c179e"
             ],
             [
              0.4444444444444444,
              "#bd3786"
             ],
             [
              0.5555555555555556,
              "#d8576b"
             ],
             [
              0.6666666666666666,
              "#ed7953"
             ],
             [
              0.7777777777777778,
              "#fb9f3a"
             ],
             [
              0.8888888888888888,
              "#fdca26"
             ],
             [
              1,
              "#f0f921"
             ]
            ],
            "type": "surface"
           }
          ],
          "table": [
           {
            "cells": {
             "fill": {
              "color": "#EBF0F8"
             },
             "line": {
              "color": "white"
             }
            },
            "header": {
             "fill": {
              "color": "#C8D4E3"
             },
             "line": {
              "color": "white"
             }
            },
            "type": "table"
           }
          ]
         },
         "layout": {
          "annotationdefaults": {
           "arrowcolor": "#2a3f5f",
           "arrowhead": 0,
           "arrowwidth": 1
          },
          "autotypenumbers": "strict",
          "coloraxis": {
           "colorbar": {
            "outlinewidth": 0,
            "ticks": ""
           }
          },
          "colorscale": {
           "diverging": [
            [
             0,
             "#8e0152"
            ],
            [
             0.1,
             "#c51b7d"
            ],
            [
             0.2,
             "#de77ae"
            ],
            [
             0.3,
             "#f1b6da"
            ],
            [
             0.4,
             "#fde0ef"
            ],
            [
             0.5,
             "#f7f7f7"
            ],
            [
             0.6,
             "#e6f5d0"
            ],
            [
             0.7,
             "#b8e186"
            ],
            [
             0.8,
             "#7fbc41"
            ],
            [
             0.9,
             "#4d9221"
            ],
            [
             1,
             "#276419"
            ]
           ],
           "sequential": [
            [
             0,
             "#0d0887"
            ],
            [
             0.1111111111111111,
             "#46039f"
            ],
            [
             0.2222222222222222,
             "#7201a8"
            ],
            [
             0.3333333333333333,
             "#9c179e"
            ],
            [
             0.4444444444444444,
             "#bd3786"
            ],
            [
             0.5555555555555556,
             "#d8576b"
            ],
            [
             0.6666666666666666,
             "#ed7953"
            ],
            [
             0.7777777777777778,
             "#fb9f3a"
            ],
            [
             0.8888888888888888,
             "#fdca26"
            ],
            [
             1,
             "#f0f921"
            ]
           ],
           "sequentialminus": [
            [
             0,
             "#0d0887"
            ],
            [
             0.1111111111111111,
             "#46039f"
            ],
            [
             0.2222222222222222,
             "#7201a8"
            ],
            [
             0.3333333333333333,
             "#9c179e"
            ],
            [
             0.4444444444444444,
             "#bd3786"
            ],
            [
             0.5555555555555556,
             "#d8576b"
            ],
            [
             0.6666666666666666,
             "#ed7953"
            ],
            [
             0.7777777777777778,
             "#fb9f3a"
            ],
            [
             0.8888888888888888,
             "#fdca26"
            ],
            [
             1,
             "#f0f921"
            ]
           ]
          },
          "colorway": [
           "#636efa",
           "#EF553B",
           "#00cc96",
           "#ab63fa",
           "#FFA15A",
           "#19d3f3",
           "#FF6692",
           "#B6E880",
           "#FF97FF",
           "#FECB52"
          ],
          "font": {
           "color": "#2a3f5f"
          },
          "geo": {
           "bgcolor": "white",
           "lakecolor": "white",
           "landcolor": "#E5ECF6",
           "showlakes": true,
           "showland": true,
           "subunitcolor": "white"
          },
          "hoverlabel": {
           "align": "left"
          },
          "hovermode": "closest",
          "mapbox": {
           "style": "light"
          },
          "paper_bgcolor": "white",
          "plot_bgcolor": "#E5ECF6",
          "polar": {
           "angularaxis": {
            "gridcolor": "white",
            "linecolor": "white",
            "ticks": ""
           },
           "bgcolor": "#E5ECF6",
           "radialaxis": {
            "gridcolor": "white",
            "linecolor": "white",
            "ticks": ""
           }
          },
          "scene": {
           "xaxis": {
            "backgroundcolor": "#E5ECF6",
            "gridcolor": "white",
            "gridwidth": 2,
            "linecolor": "white",
            "showbackground": true,
            "ticks": "",
            "zerolinecolor": "white"
           },
           "yaxis": {
            "backgroundcolor": "#E5ECF6",
            "gridcolor": "white",
            "gridwidth": 2,
            "linecolor": "white",
            "showbackground": true,
            "ticks": "",
            "zerolinecolor": "white"
           },
           "zaxis": {
            "backgroundcolor": "#E5ECF6",
            "gridcolor": "white",
            "gridwidth": 2,
            "linecolor": "white",
            "showbackground": true,
            "ticks": "",
            "zerolinecolor": "white"
           }
          },
          "shapedefaults": {
           "line": {
            "color": "#2a3f5f"
           }
          },
          "ternary": {
           "aaxis": {
            "gridcolor": "white",
            "linecolor": "white",
            "ticks": ""
           },
           "baxis": {
            "gridcolor": "white",
            "linecolor": "white",
            "ticks": ""
           },
           "bgcolor": "#E5ECF6",
           "caxis": {
            "gridcolor": "white",
            "linecolor": "white",
            "ticks": ""
           }
          },
          "title": {
           "x": 0.05
          },
          "xaxis": {
           "automargin": true,
           "gridcolor": "white",
           "linecolor": "white",
           "ticks": "",
           "title": {
            "standoff": 15
           },
           "zerolinecolor": "white",
           "zerolinewidth": 2
          },
          "yaxis": {
           "automargin": true,
           "gridcolor": "white",
           "linecolor": "white",
           "ticks": "",
           "title": {
            "standoff": 15
           },
           "zerolinecolor": "white",
           "zerolinewidth": 2
          }
         }
        },
        "xaxis": {
         "anchor": "y",
         "domain": [
          0,
          1
         ],
         "title": {
          "text": "Repository URL"
         }
        },
        "yaxis": {
         "anchor": "x",
         "domain": [
          0,
          1
         ],
         "title": {
          "text": "# Contributor Events"
         }
        }
       }
      }
     },
     "metadata": {},
     "output_type": "display_data"
    }
   ],
   "source": [
    "fig_joined_counts = px.bar(\n",
    "    data_frame=joined_counts\n",
    "    .sort_values(by=\"count_known\", ascending=False) # sort the joined_counts df by the number of contributions made by those in p\n",
    "    [:50], # only take the first 50\n",
    "    y=[\"count_general\", \"count_known\"],\n",
    "    labels={\n",
    "                    \"value\": \"# Contributor Events\",\n",
    "                    \"repo_git\": \"Repository URL\"\n",
    "                },\n",
    ")\n",
    "fig_joined_counts.update_layout(showlegend=False)\n",
    "fig_joined_counts.write_image(\"joined_counts.png\")\n",
    "fig_joined_counts"
   ]
  },
  {
   "cell_type": "code",
   "execution_count": 40,
   "metadata": {},
   "outputs": [
    {
     "data": {
      "image/png": "[encoded data removed]",
      "text/plain": [
       "<IPython.core.display.Image object>"
      ]
     },
     "execution_count": 40,
     "metadata": {},
     "output_type": "execute_result"
    }
   ],
   "source": [
    "Image(\"joined_counts.png\")"
   ]
  },
  {
   "cell_type": "markdown",
   "metadata": {},
   "source": [
    "## Interpretation\n",
    "\n",
    "Above, the Red parts of the bars represent the count of events from our known population 'p', whereas the Blue parts of the stacks represent the complementary population 'P^'\n",
    "\n",
    "From left to right, descending, are the projects with the largest number of contribution events (number of contribution events) from people in 'p'.\n",
    "\n",
    "The people from our subpopulation should 100% dominate projects like Wasmer and Wasmedge, because those are among the populations whose population we're directly considering.\n",
    "(wasmedge, wavm, wasmtime, wasmr are the repos we're pulling from). Interestingly though, we also see that the same group of people dominate other, non-WASM projects like risingwave, noir, and mathlib4.\n",
    "\n",
    "This opens an interesting new line of inquiry. If the overlap of contributors between projects was extremely ecosystem-specific, e.g. people from WASMedge MOSTLY participated in WASM related projects,\n",
    "then we could easily start with any WASM project and find those projects with greatest contributor overlap, and identify that those are all the WASM projects. \n",
    "\n",
    "However, this isn't the case- people who are participating in WASM are also participating in non-WASM projects, and they're contributing in high volumes, 'dominating' those projects w.r.t the population 'P^'.\n",
    "\n",
    "## Conclusion\n",
    "\n",
    "There isn't free lunch here. We need to use more sensitive methods to 'sniff out' WASM-related repositories, considering not only WHO is contributing WHERE, but who their social network is and\n",
    "what their behavior is within the 'seed' communities we start with.\n"
   ]
  },
  {
   "cell_type": "markdown",
   "metadata": {},
   "source": []
  }
 ],
 "metadata": {
  "kernelspec": {
   "display_name": "Python 3",
   "language": "python",
   "name": "python3"
  },
  "language_info": {
   "codemirror_mode": {
    "name": "ipython",
    "version": 3
   },
   "file_extension": ".py",
   "mimetype": "text/x-python",
   "name": "python",
   "nbconvert_exporter": "python",
   "pygments_lexer": "ipython3",
   "version": "3.11.5"
  },
  "orig_nbformat": 4
 },
 "nbformat": 4,
 "nbformat_minor": 2
}
