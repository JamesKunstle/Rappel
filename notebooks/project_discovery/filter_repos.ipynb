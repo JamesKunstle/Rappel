{
 "cells": [
  {
   "cell_type": "markdown",
   "metadata": {},
   "source": [
    "# Repository Filtering Methods\n",
    "\n",
    "The objective of this notebook is to filter repos belonging to the same ecosystem such that we can  best determine which projects (repos) share a similar goal. \n",
    "\n",
    "It contributes three filtering methods: 1) by contributor count 2) by project duration and 3) by activity. However, this notebook is meant to be a continuous work in progess as we gain more knowlegde about the relationships between contributors and projects in the ecosystem.\n"
   ]
  },
  {
   "cell_type": "markdown",
   "metadata": {},
   "source": [
    "## Setup"
   ]
  },
  {
   "cell_type": "code",
   "execution_count": 1,
   "metadata": {},
   "outputs": [],
   "source": [
    "#IMPORTS\n",
    "import pandas as pd\n",
    "import sqlalchemy as salc\n",
    "\n",
    "import plotly.express as px\n",
    "import json\n",
    "import numpy as np\n",
    "from IPython.display import Image\n",
    "import math"
   ]
  },
  {
   "cell_type": "code",
   "execution_count": 2,
   "metadata": {},
   "outputs": [],
   "source": [
    "#DATABASE ACCESS\n",
    "\n",
    "with open(\"wasm_creds.json\") as config_file:\n",
    "    config = json.load(config_file)\n",
    "\n",
    "database_connection_string = f\"postgresql+psycopg2://{config['user']}:{config['password']}@{config['host']}:{config['port']}/{config['database']}\"\n",
    "\n",
    "engine = salc.create_engine(\n",
    "    database_connection_string,\n",
    "    connect_args={'options': f\"-csearch_path={'augur_data'}\"})"
   ]
  },
  {
   "cell_type": "code",
   "execution_count": 3,
   "metadata": {},
   "outputs": [],
   "source": [
    "# SWITCHES\n",
    "\n",
    "LOCAL_DATA = True "
   ]
  },
  {
   "cell_type": "markdown",
   "metadata": {},
   "source": [
    "## Contribution Event Stream"
   ]
  },
  {
   "cell_type": "code",
   "execution_count": 4,
   "metadata": {},
   "outputs": [],
   "source": [
    "event_stream_query = salc.sql.text(\n",
    "    f\"\"\"\n",
    "        SET SCHEMA 'augur_data';\n",
    "        SELECT \n",
    "            c.cntrb_id,\n",
    "            c.event_id,\n",
    "            c.created_at,\n",
    "            c.cntrb_repo_id as repo_id,\n",
    "            c.repo_git,\n",
    "            c.repo_name,\n",
    "            c.gh_repo_id,\n",
    "            c.cntrb_category as event_type\n",
    "        FROM\n",
    "        contributor_repo c\n",
    "    \"\"\")\n",
    "\n",
    "\n",
    "if not LOCAL_DATA:\n",
    "    with engine.connect() as conn:\n",
    "        df_event_stream = pd.read_sql_query(event_stream_query, conn)\n",
    "        \n",
    "    with open(\"df_event_stream.parquet\", \"wb+\") as f:\n",
    "        df_event_stream.cntrb_id = df_event_stream.cntrb_id.astype(str)\n",
    "        df_event_stream.to_parquet(f)\n",
    "else:\n",
    "    with open(\"df_event_stream.parquet\", \"rb+\") as f:\n",
    "        df_event_stream = pd.read_parquet(f)"
   ]
  },
  {
   "cell_type": "code",
   "execution_count": 5,
   "metadata": {},
   "outputs": [
    {
     "data": {
      "text/html": [
       "<div>\n",
       "<style scoped>\n",
       "    .dataframe tbody tr th:only-of-type {\n",
       "        vertical-align: middle;\n",
       "    }\n",
       "\n",
       "    .dataframe tbody tr th {\n",
       "        vertical-align: top;\n",
       "    }\n",
       "\n",
       "    .dataframe thead th {\n",
       "        text-align: right;\n",
       "    }\n",
       "</style>\n",
       "<table border=\"1\" class=\"dataframe\">\n",
       "  <thead>\n",
       "    <tr style=\"text-align: right;\">\n",
       "      <th></th>\n",
       "      <th>cntrb_id</th>\n",
       "      <th>event_id</th>\n",
       "      <th>created_at</th>\n",
       "      <th>repo_id</th>\n",
       "      <th>repo_git</th>\n",
       "      <th>repo_name</th>\n",
       "      <th>gh_repo_id</th>\n",
       "      <th>event_type</th>\n",
       "    </tr>\n",
       "  </thead>\n",
       "  <tbody>\n",
       "    <tr>\n",
       "      <th>0</th>\n",
       "      <td>0100f4d9-0a00-0000-0000-000000000000</td>\n",
       "      <td>29206154815</td>\n",
       "      <td>2023-05-21 12:46:42</td>\n",
       "      <td>1331068</td>\n",
       "      <td>https://api.github.com/repos/mydeveloperday/sp...</td>\n",
       "      <td>mydeveloperday/spectral-sarif</td>\n",
       "      <td>643239814</td>\n",
       "      <td>PushEvent</td>\n",
       "    </tr>\n",
       "    <tr>\n",
       "      <th>1</th>\n",
       "      <td>01010bc1-fd00-0000-0000-000000000000</td>\n",
       "      <td>29266421350</td>\n",
       "      <td>2023-05-23 20:50:08</td>\n",
       "      <td>828122</td>\n",
       "      <td>https://api.github.com/repos/HazardyKnusperkek...</td>\n",
       "      <td>HazardyKnusperkeks/units</td>\n",
       "      <td>351321247</td>\n",
       "      <td>PushEvent</td>\n",
       "    </tr>\n",
       "    <tr>\n",
       "      <th>2</th>\n",
       "      <td>0100e8ca-1300-0000-0000-000000000000</td>\n",
       "      <td>32035370577</td>\n",
       "      <td>2023-09-22 14:59:22</td>\n",
       "      <td>50867574</td>\n",
       "      <td>https://api.github.com/repos/prometheus-operat...</td>\n",
       "      <td>prometheus-operator/prometheus-operator</td>\n",
       "      <td>68964263</td>\n",
       "      <td>ForkEvent</td>\n",
       "    </tr>\n",
       "    <tr>\n",
       "      <th>3</th>\n",
       "      <td>01010bc1-fd00-0000-0000-000000000000</td>\n",
       "      <td>29264457425</td>\n",
       "      <td>2023-05-23 19:13:06</td>\n",
       "      <td>828123</td>\n",
       "      <td>https://api.github.com/repos/llvm/llvm-project</td>\n",
       "      <td>llvm/llvm-project</td>\n",
       "      <td>75821432</td>\n",
       "      <td>IssueCommentEvent</td>\n",
       "    </tr>\n",
       "    <tr>\n",
       "      <th>4</th>\n",
       "      <td>0101b71a-0d00-0000-0000-000000000000</td>\n",
       "      <td>31189643965</td>\n",
       "      <td>2023-08-17 15:49:35</td>\n",
       "      <td>36340270</td>\n",
       "      <td>https://api.github.com/repos/Homebrew/homebrew...</td>\n",
       "      <td>Homebrew/homebrew-core</td>\n",
       "      <td>52855516</td>\n",
       "      <td>IssueCommentEvent</td>\n",
       "    </tr>\n",
       "  </tbody>\n",
       "</table>\n",
       "</div>"
      ],
      "text/plain": [
       "                               cntrb_id     event_id          created_at  \\\n",
       "0  0100f4d9-0a00-0000-0000-000000000000  29206154815 2023-05-21 12:46:42   \n",
       "1  01010bc1-fd00-0000-0000-000000000000  29266421350 2023-05-23 20:50:08   \n",
       "2  0100e8ca-1300-0000-0000-000000000000  32035370577 2023-09-22 14:59:22   \n",
       "3  01010bc1-fd00-0000-0000-000000000000  29264457425 2023-05-23 19:13:06   \n",
       "4  0101b71a-0d00-0000-0000-000000000000  31189643965 2023-08-17 15:49:35   \n",
       "\n",
       "    repo_id                                           repo_git  \\\n",
       "0   1331068  https://api.github.com/repos/mydeveloperday/sp...   \n",
       "1    828122  https://api.github.com/repos/HazardyKnusperkek...   \n",
       "2  50867574  https://api.github.com/repos/prometheus-operat...   \n",
       "3    828123     https://api.github.com/repos/llvm/llvm-project   \n",
       "4  36340270  https://api.github.com/repos/Homebrew/homebrew...   \n",
       "\n",
       "                                 repo_name  gh_repo_id         event_type  \n",
       "0            mydeveloperday/spectral-sarif   643239814          PushEvent  \n",
       "1                 HazardyKnusperkeks/units   351321247          PushEvent  \n",
       "2  prometheus-operator/prometheus-operator    68964263          ForkEvent  \n",
       "3                        llvm/llvm-project    75821432  IssueCommentEvent  \n",
       "4                   Homebrew/homebrew-core    52855516  IssueCommentEvent  "
      ]
     },
     "execution_count": 5,
     "metadata": {},
     "output_type": "execute_result"
    }
   ],
   "source": [
    "# view head\n",
    "df_event_stream.head()"
   ]
  },
  {
   "cell_type": "markdown",
   "metadata": {},
   "source": [
    "## Filter by number of contributors"
   ]
  },
  {
   "cell_type": "markdown",
   "metadata": {},
   "source": [
    "First, we consider projects with more than 1 contributor, assuming that projects that only have 1 contributor do not enough event data for us to be able to draw similarities with between them and other projects. We can see from the following summary statistics that at least 25% of projects have only 1 contributor."
   ]
  },
  {
   "cell_type": "code",
   "execution_count": 6,
   "metadata": {},
   "outputs": [
    {
     "name": "stdout",
     "output_type": "stream",
     "text": [
      "         cntrb_count\n",
      "count  324583.000000\n",
      "mean       13.073698\n",
      "std       135.632983\n",
      "min         1.000000\n",
      "25%         1.000000\n",
      "50%         2.000000\n",
      "75%         6.000000\n",
      "max     49315.000000\n"
     ]
    }
   ],
   "source": [
    "# count number of contributors for each project\n",
    "cntrbCount = df_event_stream.groupby(['repo_name']).count()['cntrb_id'].sort_values().to_frame().reset_index()\n",
    "cntrbCount = cntrbCount.rename(columns={'cntrb_id': 'cntrb_count'})\n",
    "\n",
    "# view summary statistics\n",
    "print(cntrbCount.describe())"
   ]
  },
  {
   "cell_type": "markdown",
   "metadata": {},
   "source": [
    "Before we filter out projects that only have 1 contributor, we need to check our prior assumption that these projects lack event data. We do so by calculating the proportion of NaNs across event types for projects with single contributors."
   ]
  },
  {
   "cell_type": "code",
   "execution_count": 7,
   "metadata": {},
   "outputs": [
    {
     "name": "stdout",
     "output_type": "stream",
     "text": [
      "event_type\n",
      "CommitCommentEvent               0.975340\n",
      "CreateEvent                      0.952818\n",
      "DeleteEvent                      0.988279\n",
      "ForkEvent                        0.943809\n",
      "GollumEvent                      0.999701\n",
      "IssueCommentEvent                0.899254\n",
      "IssuesEvent                      0.969771\n",
      "MemberEvent                      0.997403\n",
      "PublicEvent                      0.990623\n",
      "PullRequestEvent                 0.971992\n",
      "PullRequestReviewCommentEvent    0.999985\n",
      "PullRequestReviewEvent           0.994637\n",
      "PushEvent                        0.765873\n",
      "ReleaseEvent                     0.999211\n",
      "WatchEvent                       0.551304\n",
      "dtype: float64\n"
     ]
    }
   ],
   "source": [
    "# select repos with a single contributors\n",
    "single_cntrb_repos = list(cntrbCount[cntrbCount['cntrb_count'] == 1]['repo_name'])\n",
    "\n",
    "# filter for single contributor repos\n",
    "singleCntrbEvents= df_event_stream[df_event_stream['repo_name'].isin(single_cntrb_repos)] \n",
    "\n",
    "# count contributions for each event type\n",
    "singleCntrbEventsPivoted = pd.pivot_table(singleCntrbEvents, values='cntrb_id', index=['repo_name'],\n",
    "                                          columns=['event_type'], aggfunc=\"count\").reset_index()\n",
    "\n",
    "# calculate proportion of NaNs across event types\n",
    "print(singleCntrbEventsPivoted.iloc[:, 1:].isna().sum() / len(singleCntrbEventsPivoted))"
   ]
  },
  {
   "cell_type": "markdown",
   "metadata": {},
   "source": [
    "Clearly, our prior assumption holds. A majority of projects with single contributors lack data across different event types. We proceed by filtering out such projects and checking the proportion of NaNs across all event times for multple contributor projects to observe the effect of doing so."
   ]
  },
  {
   "cell_type": "code",
   "execution_count": 8,
   "metadata": {},
   "outputs": [
    {
     "name": "stdout",
     "output_type": "stream",
     "text": [
      "event_type\n",
      "CommitCommentEvent               0.972790\n",
      "CreateEvent                      0.610491\n",
      "DeleteEvent                      0.823419\n",
      "ForkEvent                        0.887836\n",
      "GollumEvent                      0.995949\n",
      "IssueCommentEvent                0.709689\n",
      "IssuesEvent                      0.842744\n",
      "MemberEvent                      0.985957\n",
      "PublicEvent                      0.989152\n",
      "PullRequestEvent                 0.694667\n",
      "PullRequestReviewCommentEvent    0.933702\n",
      "PullRequestReviewEvent           0.899926\n",
      "PushEvent                        0.403165\n",
      "ReleaseEvent                     0.964266\n",
      "WatchEvent                       0.765134\n",
      "dtype: float64\n"
     ]
    }
   ],
   "source": [
    "# select all repo names where there is more than 1 contributor\n",
    "multiple_cntrb_repos = list(cntrbCount[cntrbCount['cntrb_count'] > 1]['repo_name'])\n",
    "\n",
    "# filter for repos with multiple contributors\n",
    "multCntrbEvents = df_event_stream[df_event_stream['repo_name'].isin(multiple_cntrb_repos)] \n",
    "\n",
    "# count contributions for each event type \n",
    "multCntrbEventsPivoted = pd.pivot_table(multCntrbEvents, values='cntrb_id', index=['repo_name'],\n",
    "                                        columns=['event_type'], aggfunc=\"count\").reset_index()\n",
    "\n",
    "# calculate proportion of NaNs across event types\n",
    "print(multCntrbEventsPivoted.iloc[:, 1:].isna().sum() / len(multCntrbEventsPivoted))"
   ]
  },
  {
   "cell_type": "markdown",
   "metadata": {},
   "source": [
    "While the effect of filtering out single contributor projects is generally conservative, there is a dramatic difference between the availibility of data for `CreateEvent`, `IssueCommentEvent`, `PullRequestEvent`, and `PushEvent`.  We also can visualize the number contributions for each event type for both single and multiple contributor projects to get a better sense of the discrepancies in quantity and diversity of events. "
   ]
  },
  {
   "cell_type": "code",
   "execution_count": 9,
   "metadata": {},
   "outputs": [
    {
     "data": {
      "application/vnd.plotly.v1+json": {
       "config": {
        "plotlyServerURL": "https://plot.ly"
       },
       "data": [
        {
         "alignmentgroup": "True",
         "hovertemplate": "Contributors=1 Contributor<br>Kind of Event=%{x}<br># Events=%{y}<extra></extra>",
         "legendgroup": "1 Contributor",
         "marker": {
          "color": "#636efa",
          "pattern": {
           "shape": ""
          }
         },
         "name": "1 Contributor",
         "offsetgroup": "1 Contributor",
         "orientation": "v",
         "showlegend": true,
         "textposition": "auto",
         "type": "bar",
         "x": [
          "WatchEvent",
          "PushEvent",
          "IssueCommentEvent",
          "ForkEvent",
          "CreateEvent",
          "IssuesEvent",
          "PullRequestEvent",
          "CommitCommentEvent",
          "DeleteEvent",
          "PublicEvent",
          "PullRequestReviewEvent",
          "MemberEvent",
          "ReleaseEvent",
          "GollumEvent",
          "PullRequestReviewCommentEvent"
         ],
         "xaxis": "x",
         "y": [
          58571,
          30562,
          13151,
          7335,
          6159,
          3946,
          3656,
          3219,
          1530,
          1224,
          700,
          339,
          103,
          39,
          2
         ],
         "yaxis": "y"
        },
        {
         "alignmentgroup": "True",
         "hovertemplate": "Contributors=> 1 Contributor<br>Kind of Event=%{x}<br># Events=%{y}<extra></extra>",
         "legendgroup": "> 1 Contributor",
         "marker": {
          "color": "#EF553B",
          "pattern": {
           "shape": ""
          }
         },
         "name": "> 1 Contributor",
         "offsetgroup": "> 1 Contributor",
         "orientation": "v",
         "showlegend": true,
         "textposition": "auto",
         "type": "bar",
         "x": [
          "WatchEvent",
          "PushEvent",
          "IssueCommentEvent",
          "ForkEvent",
          "CreateEvent",
          "IssuesEvent",
          "PullRequestEvent",
          "CommitCommentEvent",
          "DeleteEvent",
          "PublicEvent",
          "PullRequestReviewEvent",
          "MemberEvent",
          "ReleaseEvent",
          "GollumEvent",
          "PullRequestReviewCommentEvent"
         ],
         "xaxis": "x",
         "y": [
          182077,
          1473601,
          601361,
          36123,
          322284,
          173841,
          425254,
          18925,
          204574,
          2130,
          362515,
          4050,
          21556,
          7185,
          277488
         ],
         "yaxis": "y"
        }
       ],
       "layout": {
        "barmode": "group",
        "legend": {
         "title": {
          "text": "Contributors"
         },
         "tracegroupgap": 0
        },
        "margin": {
         "t": 60
        },
        "template": {
         "data": {
          "bar": [
           {
            "error_x": {
             "color": "#2a3f5f"
            },
            "error_y": {
             "color": "#2a3f5f"
            },
            "marker": {
             "line": {
              "color": "#E5ECF6",
              "width": 0.5
             },
             "pattern": {
              "fillmode": "overlay",
              "size": 10,
              "solidity": 0.2
             }
            },
            "type": "bar"
           }
          ],
          "barpolar": [
           {
            "marker": {
             "line": {
              "color": "#E5ECF6",
              "width": 0.5
             },
             "pattern": {
              "fillmode": "overlay",
              "size": 10,
              "solidity": 0.2
             }
            },
            "type": "barpolar"
           }
          ],
          "carpet": [
           {
            "aaxis": {
             "endlinecolor": "#2a3f5f",
             "gridcolor": "white",
             "linecolor": "white",
             "minorgridcolor": "white",
             "startlinecolor": "#2a3f5f"
            },
            "baxis": {
             "endlinecolor": "#2a3f5f",
             "gridcolor": "white",
             "linecolor": "white",
             "minorgridcolor": "white",
             "startlinecolor": "#2a3f5f"
            },
            "type": "carpet"
           }
          ],
          "choropleth": [
           {
            "colorbar": {
             "outlinewidth": 0,
             "ticks": ""
            },
            "type": "choropleth"
           }
          ],
          "contour": [
           {
            "colorbar": {
             "outlinewidth": 0,
             "ticks": ""
            },
            "colorscale": [
             [
              0,
              "#0d0887"
             ],
             [
              0.1111111111111111,
              "#46039f"
             ],
             [
              0.2222222222222222,
              "#7201a8"
             ],
             [
              0.3333333333333333,
              "#9c179e"
             ],
             [
              0.4444444444444444,
              "#bd3786"
             ],
             [
              0.5555555555555556,
              "#d8576b"
             ],
             [
              0.6666666666666666,
              "#ed7953"
             ],
             [
              0.7777777777777778,
              "#fb9f3a"
             ],
             [
              0.8888888888888888,
              "#fdca26"
             ],
             [
              1,
              "#f0f921"
             ]
            ],
            "type": "contour"
           }
          ],
          "contourcarpet": [
           {
            "colorbar": {
             "outlinewidth": 0,
             "ticks": ""
            },
            "type": "contourcarpet"
           }
          ],
          "heatmap": [
           {
            "colorbar": {
             "outlinewidth": 0,
             "ticks": ""
            },
            "colorscale": [
             [
              0,
              "#0d0887"
             ],
             [
              0.1111111111111111,
              "#46039f"
             ],
             [
              0.2222222222222222,
              "#7201a8"
             ],
             [
              0.3333333333333333,
              "#9c179e"
             ],
             [
              0.4444444444444444,
              "#bd3786"
             ],
             [
              0.5555555555555556,
              "#d8576b"
             ],
             [
              0.6666666666666666,
              "#ed7953"
             ],
             [
              0.7777777777777778,
              "#fb9f3a"
             ],
             [
              0.8888888888888888,
              "#fdca26"
             ],
             [
              1,
              "#f0f921"
             ]
            ],
            "type": "heatmap"
           }
          ],
          "heatmapgl": [
           {
            "colorbar": {
             "outlinewidth": 0,
             "ticks": ""
            },
            "colorscale": [
             [
              0,
              "#0d0887"
             ],
             [
              0.1111111111111111,
              "#46039f"
             ],
             [
              0.2222222222222222,
              "#7201a8"
             ],
             [
              0.3333333333333333,
              "#9c179e"
             ],
             [
              0.4444444444444444,
              "#bd3786"
             ],
             [
              0.5555555555555556,
              "#d8576b"
             ],
             [
              0.6666666666666666,
              "#ed7953"
             ],
             [
              0.7777777777777778,
              "#fb9f3a"
             ],
             [
              0.8888888888888888,
              "#fdca26"
             ],
             [
              1,
              "#f0f921"
             ]
            ],
            "type": "heatmapgl"
           }
          ],
          "histogram": [
           {
            "marker": {
             "pattern": {
              "fillmode": "overlay",
              "size": 10,
              "solidity": 0.2
             }
            },
            "type": "histogram"
           }
          ],
          "histogram2d": [
           {
            "colorbar": {
             "outlinewidth": 0,
             "ticks": ""
            },
            "colorscale": [
             [
              0,
              "#0d0887"
             ],
             [
              0.1111111111111111,
              "#46039f"
             ],
             [
              0.2222222222222222,
              "#7201a8"
             ],
             [
              0.3333333333333333,
              "#9c179e"
             ],
             [
              0.4444444444444444,
              "#bd3786"
             ],
             [
              0.5555555555555556,
              "#d8576b"
             ],
             [
              0.6666666666666666,
              "#ed7953"
             ],
             [
              0.7777777777777778,
              "#fb9f3a"
             ],
             [
              0.8888888888888888,
              "#fdca26"
             ],
             [
              1,
              "#f0f921"
             ]
            ],
            "type": "histogram2d"
           }
          ],
          "histogram2dcontour": [
           {
            "colorbar": {
             "outlinewidth": 0,
             "ticks": ""
            },
            "colorscale": [
             [
              0,
              "#0d0887"
             ],
             [
              0.1111111111111111,
              "#46039f"
             ],
             [
              0.2222222222222222,
              "#7201a8"
             ],
             [
              0.3333333333333333,
              "#9c179e"
             ],
             [
              0.4444444444444444,
              "#bd3786"
             ],
             [
              0.5555555555555556,
              "#d8576b"
             ],
             [
              0.6666666666666666,
              "#ed7953"
             ],
             [
              0.7777777777777778,
              "#fb9f3a"
             ],
             [
              0.8888888888888888,
              "#fdca26"
             ],
             [
              1,
              "#f0f921"
             ]
            ],
            "type": "histogram2dcontour"
           }
          ],
          "mesh3d": [
           {
            "colorbar": {
             "outlinewidth": 0,
             "ticks": ""
            },
            "type": "mesh3d"
           }
          ],
          "parcoords": [
           {
            "line": {
             "colorbar": {
              "outlinewidth": 0,
              "ticks": ""
             }
            },
            "type": "parcoords"
           }
          ],
          "pie": [
           {
            "automargin": true,
            "type": "pie"
           }
          ],
          "scatter": [
           {
            "fillpattern": {
             "fillmode": "overlay",
             "size": 10,
             "solidity": 0.2
            },
            "type": "scatter"
           }
          ],
          "scatter3d": [
           {
            "line": {
             "colorbar": {
              "outlinewidth": 0,
              "ticks": ""
             }
            },
            "marker": {
             "colorbar": {
              "outlinewidth": 0,
              "ticks": ""
             }
            },
            "type": "scatter3d"
           }
          ],
          "scattercarpet": [
           {
            "marker": {
             "colorbar": {
              "outlinewidth": 0,
              "ticks": ""
             }
            },
            "type": "scattercarpet"
           }
          ],
          "scattergeo": [
           {
            "marker": {
             "colorbar": {
              "outlinewidth": 0,
              "ticks": ""
             }
            },
            "type": "scattergeo"
           }
          ],
          "scattergl": [
           {
            "marker": {
             "colorbar": {
              "outlinewidth": 0,
              "ticks": ""
             }
            },
            "type": "scattergl"
           }
          ],
          "scattermapbox": [
           {
            "marker": {
             "colorbar": {
              "outlinewidth": 0,
              "ticks": ""
             }
            },
            "type": "scattermapbox"
           }
          ],
          "scatterpolar": [
           {
            "marker": {
             "colorbar": {
              "outlinewidth": 0,
              "ticks": ""
             }
            },
            "type": "scatterpolar"
           }
          ],
          "scatterpolargl": [
           {
            "marker": {
             "colorbar": {
              "outlinewidth": 0,
              "ticks": ""
             }
            },
            "type": "scatterpolargl"
           }
          ],
          "scatterternary": [
           {
            "marker": {
             "colorbar": {
              "outlinewidth": 0,
              "ticks": ""
             }
            },
            "type": "scatterternary"
           }
          ],
          "surface": [
           {
            "colorbar": {
             "outlinewidth": 0,
             "ticks": ""
            },
            "colorscale": [
             [
              0,
              "#0d0887"
             ],
             [
              0.1111111111111111,
              "#46039f"
             ],
             [
              0.2222222222222222,
              "#7201a8"
             ],
             [
              0.3333333333333333,
              "#9c179e"
             ],
             [
              0.4444444444444444,
              "#bd3786"
             ],
             [
              0.5555555555555556,
              "#d8576b"
             ],
             [
              0.6666666666666666,
              "#ed7953"
             ],
             [
              0.7777777777777778,
              "#fb9f3a"
             ],
             [
              0.8888888888888888,
              "#fdca26"
             ],
             [
              1,
              "#f0f921"
             ]
            ],
            "type": "surface"
           }
          ],
          "table": [
           {
            "cells": {
             "fill": {
              "color": "#EBF0F8"
             },
             "line": {
              "color": "white"
             }
            },
            "header": {
             "fill": {
              "color": "#C8D4E3"
             },
             "line": {
              "color": "white"
             }
            },
            "type": "table"
           }
          ]
         },
         "layout": {
          "annotationdefaults": {
           "arrowcolor": "#2a3f5f",
           "arrowhead": 0,
           "arrowwidth": 1
          },
          "autotypenumbers": "strict",
          "coloraxis": {
           "colorbar": {
            "outlinewidth": 0,
            "ticks": ""
           }
          },
          "colorscale": {
           "diverging": [
            [
             0,
             "#8e0152"
            ],
            [
             0.1,
             "#c51b7d"
            ],
            [
             0.2,
             "#de77ae"
            ],
            [
             0.3,
             "#f1b6da"
            ],
            [
             0.4,
             "#fde0ef"
            ],
            [
             0.5,
             "#f7f7f7"
            ],
            [
             0.6,
             "#e6f5d0"
            ],
            [
             0.7,
             "#b8e186"
            ],
            [
             0.8,
             "#7fbc41"
            ],
            [
             0.9,
             "#4d9221"
            ],
            [
             1,
             "#276419"
            ]
           ],
           "sequential": [
            [
             0,
             "#0d0887"
            ],
            [
             0.1111111111111111,
             "#46039f"
            ],
            [
             0.2222222222222222,
             "#7201a8"
            ],
            [
             0.3333333333333333,
             "#9c179e"
            ],
            [
             0.4444444444444444,
             "#bd3786"
            ],
            [
             0.5555555555555556,
             "#d8576b"
            ],
            [
             0.6666666666666666,
             "#ed7953"
            ],
            [
             0.7777777777777778,
             "#fb9f3a"
            ],
            [
             0.8888888888888888,
             "#fdca26"
            ],
            [
             1,
             "#f0f921"
            ]
           ],
           "sequentialminus": [
            [
             0,
             "#0d0887"
            ],
            [
             0.1111111111111111,
             "#46039f"
            ],
            [
             0.2222222222222222,
             "#7201a8"
            ],
            [
             0.3333333333333333,
             "#9c179e"
            ],
            [
             0.4444444444444444,
             "#bd3786"
            ],
            [
             0.5555555555555556,
             "#d8576b"
            ],
            [
             0.6666666666666666,
             "#ed7953"
            ],
            [
             0.7777777777777778,
             "#fb9f3a"
            ],
            [
             0.8888888888888888,
             "#fdca26"
            ],
            [
             1,
             "#f0f921"
            ]
           ]
          },
          "colorway": [
           "#636efa",
           "#EF553B",
           "#00cc96",
           "#ab63fa",
           "#FFA15A",
           "#19d3f3",
           "#FF6692",
           "#B6E880",
           "#FF97FF",
           "#FECB52"
          ],
          "font": {
           "color": "#2a3f5f"
          },
          "geo": {
           "bgcolor": "white",
           "lakecolor": "white",
           "landcolor": "#E5ECF6",
           "showlakes": true,
           "showland": true,
           "subunitcolor": "white"
          },
          "hoverlabel": {
           "align": "left"
          },
          "hovermode": "closest",
          "mapbox": {
           "style": "light"
          },
          "paper_bgcolor": "white",
          "plot_bgcolor": "#E5ECF6",
          "polar": {
           "angularaxis": {
            "gridcolor": "white",
            "linecolor": "white",
            "ticks": ""
           },
           "bgcolor": "#E5ECF6",
           "radialaxis": {
            "gridcolor": "white",
            "linecolor": "white",
            "ticks": ""
           }
          },
          "scene": {
           "xaxis": {
            "backgroundcolor": "#E5ECF6",
            "gridcolor": "white",
            "gridwidth": 2,
            "linecolor": "white",
            "showbackground": true,
            "ticks": "",
            "zerolinecolor": "white"
           },
           "yaxis": {
            "backgroundcolor": "#E5ECF6",
            "gridcolor": "white",
            "gridwidth": 2,
            "linecolor": "white",
            "showbackground": true,
            "ticks": "",
            "zerolinecolor": "white"
           },
           "zaxis": {
            "backgroundcolor": "#E5ECF6",
            "gridcolor": "white",
            "gridwidth": 2,
            "linecolor": "white",
            "showbackground": true,
            "ticks": "",
            "zerolinecolor": "white"
           }
          },
          "shapedefaults": {
           "line": {
            "color": "#2a3f5f"
           }
          },
          "ternary": {
           "aaxis": {
            "gridcolor": "white",
            "linecolor": "white",
            "ticks": ""
           },
           "baxis": {
            "gridcolor": "white",
            "linecolor": "white",
            "ticks": ""
           },
           "bgcolor": "#E5ECF6",
           "caxis": {
            "gridcolor": "white",
            "linecolor": "white",
            "ticks": ""
           }
          },
          "title": {
           "x": 0.05
          },
          "xaxis": {
           "automargin": true,
           "gridcolor": "white",
           "linecolor": "white",
           "ticks": "",
           "title": {
            "standoff": 15
           },
           "zerolinecolor": "white",
           "zerolinewidth": 2
          },
          "yaxis": {
           "automargin": true,
           "gridcolor": "white",
           "linecolor": "white",
           "ticks": "",
           "title": {
            "standoff": 15
           },
           "zerolinecolor": "white",
           "zerolinewidth": 2
          }
         }
        },
        "xaxis": {
         "anchor": "y",
         "domain": [
          0,
          1
         ],
         "title": {
          "text": "Kind of Event"
         }
        },
        "yaxis": {
         "anchor": "x",
         "domain": [
          0,
          1
         ],
         "title": {
          "text": "# Events"
         }
        }
       }
      }
     },
     "metadata": {},
     "output_type": "display_data"
    }
   ],
   "source": [
    "# count contributions for each event type for single and multiple contributor projects\n",
    "singleCntrbEventsCounts = singleCntrbEvents['event_type'].value_counts()\n",
    "multCntrbEventsCounts = multCntrbEvents['event_type'].value_counts()\n",
    "\n",
    "# merge single and multiple contributor event types into a single DataFrame\n",
    "cntrbEventCounts = pd.merge(\n",
    "    singleCntrbEventsCounts,\n",
    "    multCntrbEventsCounts, \n",
    "    left_index=True, \n",
    "    right_index=True\n",
    ").rename(\n",
    "    columns={'event_type_x': '1 Contributor', \n",
    "             'event_type_y': '> 1 Contributor'}\n",
    "        )\n",
    "\n",
    "fig_cec = px.bar(\n",
    "        data_frame=cntrbEventCounts, \n",
    "        barmode='group', \n",
    "        labels={\n",
    "                \"variable\": \"Contributors\",\n",
    "                \"value\": \"# Events\",\n",
    "                \"index\": \"Kind of Event\"  \n",
    "        }\n",
    ")\n",
    " \n",
    "fig_cec.write_image(\"cntrbEventCounts.png\")\n",
    "fig_cec"
   ]
  },
  {
   "cell_type": "code",
   "execution_count": 10,
   "metadata": {},
   "outputs": [
    {
     "data": {
      "image/png": "[encoded data removed]",
      "text/plain": [
       "<IPython.core.display.Image object>"
      ]
     },
     "execution_count": 10,
     "metadata": {},
     "output_type": "execute_result"
    }
   ],
   "source": [
    "Image(\"cntrbEventCounts.png\")"
   ]
  },
  {
   "cell_type": "markdown",
   "metadata": {},
   "source": [
    "From the barplot, it is obvious that the multiple contributor repositories have more contributions across a more diverse set of event types which makes filtering for repos with more than 1 contributor a valid and useful strategy. For future work, the relationship between activity and the number of contributors to project should be further studied in order to determine a less arbitrary number for filtering out contributors. The following filtering methods will be applied to multiple contributor events only."
   ]
  },
  {
   "cell_type": "markdown",
   "metadata": {},
   "source": [
    "## Filter by project duration\n",
    "\n",
    "Additionally, we want to consider projects that have existed for some time, under the assumption that the longer a project has existed, the more rich and diverse its set of contributor events are. This more features a project has, the easier it is to determine whether it share similarites with other projects in the ecosystem. More importantly, the longer a project has existed, the more the likely its contributors are to have participated in other projects.\n",
    "\n",
    "We first calculate the lifetime for each project, in days, by subtracting its most recent event timestamp from its oldest timestamp."
   ]
  },
  {
   "cell_type": "code",
   "execution_count": 11,
   "metadata": {},
   "outputs": [
    {
     "data": {
      "text/plain": [
       "count    194047.000000\n",
       "mean         33.620654\n",
       "std          42.514535\n",
       "min           0.000000\n",
       "25%           0.000000\n",
       "50%           9.000000\n",
       "75%          56.000000\n",
       "max         600.000000\n",
       "Name: time_diff, dtype: float64"
      ]
     },
     "execution_count": 11,
     "metadata": {},
     "output_type": "execute_result"
    }
   ],
   "source": [
    "# get latest and oldest event timestamps for each project\n",
    "eventTimes = multCntrbEvents.groupby('repo_name').agg({'created_at': ['min', 'max']}).reset_index() \n",
    "eventTimes.columns = ['repo_name', 'min', 'max']\n",
    "\n",
    "# get the duration of the project in terms of days\n",
    "eventTimes['time_diff'] = (eventTimes['max'] - eventTimes['min']).dt.days\n",
    "\n",
    "# view summary statistics of duration of projects\n",
    "eventTimes['time_diff'].describe()"
   ]
  },
  {
   "cell_type": "markdown",
   "metadata": {},
   "source": [
    "At least 50% of the projects in the ecosystem have existed for less than a day. Before we filter out such projects, we need to check the assumption we made earlier that projects that have existed for a shorter period of time have a less diverse set of contributor events. We do so by selecting all the projects that have existed for less than a day and viewing statistics about their event types. "
   ]
  },
  {
   "cell_type": "code",
   "execution_count": 12,
   "metadata": {},
   "outputs": [
    {
     "name": "stdout",
     "output_type": "stream",
     "text": [
      "event_type\n",
      "CommitCommentEvent               0.967240\n",
      "CreateEvent                      0.561389\n",
      "DeleteEvent                      0.872316\n",
      "ForkEvent                        0.924684\n",
      "GollumEvent                      0.999113\n",
      "IssueCommentEvent                0.832287\n",
      "IssuesEvent                      0.944662\n",
      "MemberEvent                      0.992361\n",
      "PublicEvent                      0.990351\n",
      "PullRequestEvent                 0.702446\n",
      "PullRequestReviewCommentEvent    0.985312\n",
      "PullRequestReviewEvent           0.968822\n",
      "PushEvent                        0.445866\n",
      "ReleaseEvent                     0.977451\n",
      "WatchEvent                       0.929693\n",
      "dtype: float64\n"
     ]
    },
    {
     "data": {
      "text/html": [
       "<div>\n",
       "<style scoped>\n",
       "    .dataframe tbody tr th:only-of-type {\n",
       "        vertical-align: middle;\n",
       "    }\n",
       "\n",
       "    .dataframe tbody tr th {\n",
       "        vertical-align: top;\n",
       "    }\n",
       "\n",
       "    .dataframe thead th {\n",
       "        text-align: right;\n",
       "    }\n",
       "</style>\n",
       "<table border=\"1\" class=\"dataframe\">\n",
       "  <thead>\n",
       "    <tr style=\"text-align: right;\">\n",
       "      <th>event_type</th>\n",
       "      <th>CommitCommentEvent</th>\n",
       "      <th>CreateEvent</th>\n",
       "      <th>DeleteEvent</th>\n",
       "      <th>ForkEvent</th>\n",
       "      <th>GollumEvent</th>\n",
       "      <th>IssueCommentEvent</th>\n",
       "      <th>IssuesEvent</th>\n",
       "      <th>MemberEvent</th>\n",
       "      <th>PublicEvent</th>\n",
       "      <th>PullRequestEvent</th>\n",
       "      <th>PullRequestReviewCommentEvent</th>\n",
       "      <th>PullRequestReviewEvent</th>\n",
       "      <th>PushEvent</th>\n",
       "      <th>ReleaseEvent</th>\n",
       "      <th>WatchEvent</th>\n",
       "    </tr>\n",
       "  </thead>\n",
       "  <tbody>\n",
       "    <tr>\n",
       "      <th>count</th>\n",
       "      <td>2217.000000</td>\n",
       "      <td>29683.000000</td>\n",
       "      <td>8641.000000</td>\n",
       "      <td>5097.000000</td>\n",
       "      <td>60.000000</td>\n",
       "      <td>11350.000000</td>\n",
       "      <td>3745.000000</td>\n",
       "      <td>517.000000</td>\n",
       "      <td>653.000000</td>\n",
       "      <td>20137.000000</td>\n",
       "      <td>994.000000</td>\n",
       "      <td>2110.000000</td>\n",
       "      <td>37501.000000</td>\n",
       "      <td>1526.000000</td>\n",
       "      <td>4758.000000</td>\n",
       "    </tr>\n",
       "    <tr>\n",
       "      <th>mean</th>\n",
       "      <td>2.736581</td>\n",
       "      <td>1.824816</td>\n",
       "      <td>1.752691</td>\n",
       "      <td>1.036492</td>\n",
       "      <td>2.500000</td>\n",
       "      <td>2.188194</td>\n",
       "      <td>1.573031</td>\n",
       "      <td>1.299807</td>\n",
       "      <td>1.006126</td>\n",
       "      <td>1.661171</td>\n",
       "      <td>2.828974</td>\n",
       "      <td>2.060190</td>\n",
       "      <td>2.553745</td>\n",
       "      <td>1.605505</td>\n",
       "      <td>1.402270</td>\n",
       "    </tr>\n",
       "    <tr>\n",
       "      <th>std</th>\n",
       "      <td>2.810354</td>\n",
       "      <td>3.433001</td>\n",
       "      <td>5.263700</td>\n",
       "      <td>0.264758</td>\n",
       "      <td>2.281094</td>\n",
       "      <td>2.114029</td>\n",
       "      <td>2.042960</td>\n",
       "      <td>1.156822</td>\n",
       "      <td>0.078086</td>\n",
       "      <td>1.852223</td>\n",
       "      <td>3.761110</td>\n",
       "      <td>2.243726</td>\n",
       "      <td>3.527307</td>\n",
       "      <td>7.634285</td>\n",
       "      <td>0.769676</td>\n",
       "    </tr>\n",
       "    <tr>\n",
       "      <th>min</th>\n",
       "      <td>1.000000</td>\n",
       "      <td>1.000000</td>\n",
       "      <td>1.000000</td>\n",
       "      <td>1.000000</td>\n",
       "      <td>1.000000</td>\n",
       "      <td>1.000000</td>\n",
       "      <td>1.000000</td>\n",
       "      <td>1.000000</td>\n",
       "      <td>1.000000</td>\n",
       "      <td>1.000000</td>\n",
       "      <td>1.000000</td>\n",
       "      <td>1.000000</td>\n",
       "      <td>1.000000</td>\n",
       "      <td>1.000000</td>\n",
       "      <td>1.000000</td>\n",
       "    </tr>\n",
       "    <tr>\n",
       "      <th>25%</th>\n",
       "      <td>2.000000</td>\n",
       "      <td>1.000000</td>\n",
       "      <td>1.000000</td>\n",
       "      <td>1.000000</td>\n",
       "      <td>1.000000</td>\n",
       "      <td>1.000000</td>\n",
       "      <td>1.000000</td>\n",
       "      <td>1.000000</td>\n",
       "      <td>1.000000</td>\n",
       "      <td>1.000000</td>\n",
       "      <td>1.000000</td>\n",
       "      <td>1.000000</td>\n",
       "      <td>1.000000</td>\n",
       "      <td>1.000000</td>\n",
       "      <td>1.000000</td>\n",
       "    </tr>\n",
       "    <tr>\n",
       "      <th>50%</th>\n",
       "      <td>2.000000</td>\n",
       "      <td>2.000000</td>\n",
       "      <td>1.000000</td>\n",
       "      <td>1.000000</td>\n",
       "      <td>2.000000</td>\n",
       "      <td>2.000000</td>\n",
       "      <td>1.000000</td>\n",
       "      <td>1.000000</td>\n",
       "      <td>1.000000</td>\n",
       "      <td>1.000000</td>\n",
       "      <td>2.000000</td>\n",
       "      <td>1.000000</td>\n",
       "      <td>2.000000</td>\n",
       "      <td>1.000000</td>\n",
       "      <td>1.000000</td>\n",
       "    </tr>\n",
       "    <tr>\n",
       "      <th>75%</th>\n",
       "      <td>3.000000</td>\n",
       "      <td>2.000000</td>\n",
       "      <td>1.000000</td>\n",
       "      <td>1.000000</td>\n",
       "      <td>3.000000</td>\n",
       "      <td>2.000000</td>\n",
       "      <td>2.000000</td>\n",
       "      <td>1.000000</td>\n",
       "      <td>1.000000</td>\n",
       "      <td>2.000000</td>\n",
       "      <td>3.000000</td>\n",
       "      <td>2.000000</td>\n",
       "      <td>3.000000</td>\n",
       "      <td>1.000000</td>\n",
       "      <td>2.000000</td>\n",
       "    </tr>\n",
       "    <tr>\n",
       "      <th>max</th>\n",
       "      <td>78.000000</td>\n",
       "      <td>299.000000</td>\n",
       "      <td>277.000000</td>\n",
       "      <td>10.000000</td>\n",
       "      <td>12.000000</td>\n",
       "      <td>42.000000</td>\n",
       "      <td>58.000000</td>\n",
       "      <td>24.000000</td>\n",
       "      <td>2.000000</td>\n",
       "      <td>108.000000</td>\n",
       "      <td>41.000000</td>\n",
       "      <td>34.000000</td>\n",
       "      <td>212.000000</td>\n",
       "      <td>296.000000</td>\n",
       "      <td>13.000000</td>\n",
       "    </tr>\n",
       "  </tbody>\n",
       "</table>\n",
       "</div>"
      ],
      "text/plain": [
       "event_type  CommitCommentEvent   CreateEvent  DeleteEvent    ForkEvent  \\\n",
       "count              2217.000000  29683.000000  8641.000000  5097.000000   \n",
       "mean                  2.736581      1.824816     1.752691     1.036492   \n",
       "std                   2.810354      3.433001     5.263700     0.264758   \n",
       "min                   1.000000      1.000000     1.000000     1.000000   \n",
       "25%                   2.000000      1.000000     1.000000     1.000000   \n",
       "50%                   2.000000      2.000000     1.000000     1.000000   \n",
       "75%                   3.000000      2.000000     1.000000     1.000000   \n",
       "max                  78.000000    299.000000   277.000000    10.000000   \n",
       "\n",
       "event_type  GollumEvent  IssueCommentEvent  IssuesEvent  MemberEvent  \\\n",
       "count         60.000000       11350.000000  3745.000000   517.000000   \n",
       "mean           2.500000           2.188194     1.573031     1.299807   \n",
       "std            2.281094           2.114029     2.042960     1.156822   \n",
       "min            1.000000           1.000000     1.000000     1.000000   \n",
       "25%            1.000000           1.000000     1.000000     1.000000   \n",
       "50%            2.000000           2.000000     1.000000     1.000000   \n",
       "75%            3.000000           2.000000     2.000000     1.000000   \n",
       "max           12.000000          42.000000    58.000000    24.000000   \n",
       "\n",
       "event_type  PublicEvent  PullRequestEvent  PullRequestReviewCommentEvent  \\\n",
       "count        653.000000      20137.000000                     994.000000   \n",
       "mean           1.006126          1.661171                       2.828974   \n",
       "std            0.078086          1.852223                       3.761110   \n",
       "min            1.000000          1.000000                       1.000000   \n",
       "25%            1.000000          1.000000                       1.000000   \n",
       "50%            1.000000          1.000000                       2.000000   \n",
       "75%            1.000000          2.000000                       3.000000   \n",
       "max            2.000000        108.000000                      41.000000   \n",
       "\n",
       "event_type  PullRequestReviewEvent     PushEvent  ReleaseEvent   WatchEvent  \n",
       "count                  2110.000000  37501.000000   1526.000000  4758.000000  \n",
       "mean                      2.060190      2.553745      1.605505     1.402270  \n",
       "std                       2.243726      3.527307      7.634285     0.769676  \n",
       "min                       1.000000      1.000000      1.000000     1.000000  \n",
       "25%                       1.000000      1.000000      1.000000     1.000000  \n",
       "50%                       1.000000      2.000000      1.000000     1.000000  \n",
       "75%                       2.000000      3.000000      1.000000     2.000000  \n",
       "max                      34.000000    212.000000    296.000000    13.000000  "
      ]
     },
     "execution_count": 12,
     "metadata": {},
     "output_type": "execute_result"
    }
   ],
   "source": [
    "# get list of repos that have existed for less than a day\n",
    "zero_days_repos = list(eventTimes[eventTimes['time_diff'] < 1]['repo_name'])\n",
    "\n",
    "# only consider events from projects that have existed for less than a day\n",
    "zeroDayEvents= multCntrbEvents[multCntrbEvents['repo_name'].isin(zero_days_repos)]\n",
    "\n",
    "zeroDayEventsPivoted = pd.pivot_table(\n",
    "        zeroDayEvents, \n",
    "        values='cntrb_id', \n",
    "        index=['repo_name'],\n",
    "        columns=['event_type'], \n",
    "        aggfunc=\"count\"\n",
    ").reset_index()\n",
    "\n",
    "# get proportion of projects that have no contributions for a given event type  \n",
    "print(zeroDayEventsPivoted.iloc[:, 1:].isna().sum() / len(zeroDayEventsPivoted))\n",
    "\n",
    "# get summary statistics for each project's event types\n",
    "zeroDayEventsPivoted.describe()"
   ]
  },
  {
   "cell_type": "markdown",
   "metadata": {},
   "source": [
    "Clearly, our assumption holds. The majority of projects that have existed for less than a day have no contributor events. Furthermore, the mean and median of each event type accross these projects is less than 3 which is not helpful to our future analyses. We can now proceed to filter them out of the initial set of events for multiple contributor repos."
   ]
  },
  {
   "cell_type": "code",
   "execution_count": 13,
   "metadata": {},
   "outputs": [
    {
     "name": "stdout",
     "output_type": "stream",
     "text": [
      "event_type\n",
      "CommitCommentEvent               0.975762\n",
      "CreateEvent                      0.636787\n",
      "DeleteEvent                      0.797234\n",
      "ForkEvent                        0.868104\n",
      "GollumEvent                      0.994255\n",
      "IssueCommentEvent                0.644035\n",
      "IssuesEvent                      0.788165\n",
      "MemberEvent                      0.982528\n",
      "PublicEvent                      0.988510\n",
      "PullRequestEvent                 0.690501\n",
      "PullRequestReviewCommentEvent    0.906063\n",
      "PullRequestReviewEvent           0.863031\n",
      "PushEvent                        0.380298\n",
      "ReleaseEvent                     0.957206\n",
      "WatchEvent                       0.677009\n",
      "dtype: float64\n"
     ]
    },
    {
     "data": {
      "text/html": [
       "<div>\n",
       "<style scoped>\n",
       "    .dataframe tbody tr th:only-of-type {\n",
       "        vertical-align: middle;\n",
       "    }\n",
       "\n",
       "    .dataframe tbody tr th {\n",
       "        vertical-align: top;\n",
       "    }\n",
       "\n",
       "    .dataframe thead th {\n",
       "        text-align: right;\n",
       "    }\n",
       "</style>\n",
       "<table border=\"1\" class=\"dataframe\">\n",
       "  <thead>\n",
       "    <tr style=\"text-align: right;\">\n",
       "      <th>event_type</th>\n",
       "      <th>CommitCommentEvent</th>\n",
       "      <th>CreateEvent</th>\n",
       "      <th>DeleteEvent</th>\n",
       "      <th>ForkEvent</th>\n",
       "      <th>GollumEvent</th>\n",
       "      <th>IssueCommentEvent</th>\n",
       "      <th>IssuesEvent</th>\n",
       "      <th>MemberEvent</th>\n",
       "      <th>PublicEvent</th>\n",
       "      <th>PullRequestEvent</th>\n",
       "      <th>PullRequestReviewCommentEvent</th>\n",
       "      <th>PullRequestReviewEvent</th>\n",
       "      <th>PushEvent</th>\n",
       "      <th>ReleaseEvent</th>\n",
       "      <th>WatchEvent</th>\n",
       "    </tr>\n",
       "  </thead>\n",
       "  <tbody>\n",
       "    <tr>\n",
       "      <th>count</th>\n",
       "      <td>3063.000000</td>\n",
       "      <td>45900.000000</td>\n",
       "      <td>25624.000000</td>\n",
       "      <td>16668.000000</td>\n",
       "      <td>726.000000</td>\n",
       "      <td>44984.000000</td>\n",
       "      <td>26770.000000</td>\n",
       "      <td>2208.000000</td>\n",
       "      <td>1452.000000</td>\n",
       "      <td>39112.000000</td>\n",
       "      <td>11871.000000</td>\n",
       "      <td>17309.000000</td>\n",
       "      <td>78313.000000</td>\n",
       "      <td>5408.000000</td>\n",
       "      <td>40817.000000</td>\n",
       "    </tr>\n",
       "    <tr>\n",
       "      <th>mean</th>\n",
       "      <td>4.197845</td>\n",
       "      <td>5.841351</td>\n",
       "      <td>7.392640</td>\n",
       "      <td>1.850252</td>\n",
       "      <td>9.690083</td>\n",
       "      <td>12.816224</td>\n",
       "      <td>6.273814</td>\n",
       "      <td>1.529891</td>\n",
       "      <td>1.014463</td>\n",
       "      <td>10.017463</td>\n",
       "      <td>23.138405</td>\n",
       "      <td>20.692588</td>\n",
       "      <td>17.593924</td>\n",
       "      <td>3.532914</td>\n",
       "      <td>4.297352</td>\n",
       "    </tr>\n",
       "    <tr>\n",
       "      <th>std</th>\n",
       "      <td>11.633278</td>\n",
       "      <td>52.844454</td>\n",
       "      <td>94.199591</td>\n",
       "      <td>5.600788</td>\n",
       "      <td>19.899169</td>\n",
       "      <td>102.575321</td>\n",
       "      <td>39.757488</td>\n",
       "      <td>2.005433</td>\n",
       "      <td>0.130461</td>\n",
       "      <td>39.302049</td>\n",
       "      <td>93.397785</td>\n",
       "      <td>94.419121</td>\n",
       "      <td>77.837383</td>\n",
       "      <td>9.043042</td>\n",
       "      <td>14.776628</td>\n",
       "    </tr>\n",
       "    <tr>\n",
       "      <th>min</th>\n",
       "      <td>1.000000</td>\n",
       "      <td>1.000000</td>\n",
       "      <td>1.000000</td>\n",
       "      <td>1.000000</td>\n",
       "      <td>1.000000</td>\n",
       "      <td>1.000000</td>\n",
       "      <td>1.000000</td>\n",
       "      <td>1.000000</td>\n",
       "      <td>1.000000</td>\n",
       "      <td>1.000000</td>\n",
       "      <td>1.000000</td>\n",
       "      <td>1.000000</td>\n",
       "      <td>1.000000</td>\n",
       "      <td>1.000000</td>\n",
       "      <td>1.000000</td>\n",
       "    </tr>\n",
       "    <tr>\n",
       "      <th>25%</th>\n",
       "      <td>1.000000</td>\n",
       "      <td>1.000000</td>\n",
       "      <td>1.000000</td>\n",
       "      <td>1.000000</td>\n",
       "      <td>1.000000</td>\n",
       "      <td>2.000000</td>\n",
       "      <td>1.000000</td>\n",
       "      <td>1.000000</td>\n",
       "      <td>1.000000</td>\n",
       "      <td>1.000000</td>\n",
       "      <td>2.000000</td>\n",
       "      <td>2.000000</td>\n",
       "      <td>2.000000</td>\n",
       "      <td>1.000000</td>\n",
       "      <td>1.000000</td>\n",
       "    </tr>\n",
       "    <tr>\n",
       "      <th>50%</th>\n",
       "      <td>2.000000</td>\n",
       "      <td>2.000000</td>\n",
       "      <td>2.000000</td>\n",
       "      <td>1.000000</td>\n",
       "      <td>3.000000</td>\n",
       "      <td>3.000000</td>\n",
       "      <td>2.000000</td>\n",
       "      <td>1.000000</td>\n",
       "      <td>1.000000</td>\n",
       "      <td>3.000000</td>\n",
       "      <td>5.000000</td>\n",
       "      <td>4.000000</td>\n",
       "      <td>5.000000</td>\n",
       "      <td>2.000000</td>\n",
       "      <td>2.000000</td>\n",
       "    </tr>\n",
       "    <tr>\n",
       "      <th>75%</th>\n",
       "      <td>4.000000</td>\n",
       "      <td>5.000000</td>\n",
       "      <td>6.000000</td>\n",
       "      <td>2.000000</td>\n",
       "      <td>8.000000</td>\n",
       "      <td>8.000000</td>\n",
       "      <td>4.000000</td>\n",
       "      <td>2.000000</td>\n",
       "      <td>1.000000</td>\n",
       "      <td>7.000000</td>\n",
       "      <td>15.000000</td>\n",
       "      <td>12.000000</td>\n",
       "      <td>14.000000</td>\n",
       "      <td>3.000000</td>\n",
       "      <td>3.000000</td>\n",
       "    </tr>\n",
       "    <tr>\n",
       "      <th>max</th>\n",
       "      <td>322.000000</td>\n",
       "      <td>10484.000000</td>\n",
       "      <td>14505.000000</td>\n",
       "      <td>498.000000</td>\n",
       "      <td>229.000000</td>\n",
       "      <td>14250.000000</td>\n",
       "      <td>5561.000000</td>\n",
       "      <td>59.000000</td>\n",
       "      <td>3.000000</td>\n",
       "      <td>3405.000000</td>\n",
       "      <td>5643.000000</td>\n",
       "      <td>6573.000000</td>\n",
       "      <td>12759.000000</td>\n",
       "      <td>336.000000</td>\n",
       "      <td>1590.000000</td>\n",
       "    </tr>\n",
       "  </tbody>\n",
       "</table>\n",
       "</div>"
      ],
      "text/plain": [
       "event_type  CommitCommentEvent   CreateEvent   DeleteEvent     ForkEvent  \\\n",
       "count              3063.000000  45900.000000  25624.000000  16668.000000   \n",
       "mean                  4.197845      5.841351      7.392640      1.850252   \n",
       "std                  11.633278     52.844454     94.199591      5.600788   \n",
       "min                   1.000000      1.000000      1.000000      1.000000   \n",
       "25%                   1.000000      1.000000      1.000000      1.000000   \n",
       "50%                   2.000000      2.000000      2.000000      1.000000   \n",
       "75%                   4.000000      5.000000      6.000000      2.000000   \n",
       "max                 322.000000  10484.000000  14505.000000    498.000000   \n",
       "\n",
       "event_type  GollumEvent  IssueCommentEvent   IssuesEvent  MemberEvent  \\\n",
       "count        726.000000       44984.000000  26770.000000  2208.000000   \n",
       "mean           9.690083          12.816224      6.273814     1.529891   \n",
       "std           19.899169         102.575321     39.757488     2.005433   \n",
       "min            1.000000           1.000000      1.000000     1.000000   \n",
       "25%            1.000000           2.000000      1.000000     1.000000   \n",
       "50%            3.000000           3.000000      2.000000     1.000000   \n",
       "75%            8.000000           8.000000      4.000000     2.000000   \n",
       "max          229.000000       14250.000000   5561.000000    59.000000   \n",
       "\n",
       "event_type  PublicEvent  PullRequestEvent  PullRequestReviewCommentEvent  \\\n",
       "count       1452.000000      39112.000000                   11871.000000   \n",
       "mean           1.014463         10.017463                      23.138405   \n",
       "std            0.130461         39.302049                      93.397785   \n",
       "min            1.000000          1.000000                       1.000000   \n",
       "25%            1.000000          1.000000                       2.000000   \n",
       "50%            1.000000          3.000000                       5.000000   \n",
       "75%            1.000000          7.000000                      15.000000   \n",
       "max            3.000000       3405.000000                    5643.000000   \n",
       "\n",
       "event_type  PullRequestReviewEvent     PushEvent  ReleaseEvent    WatchEvent  \n",
       "count                 17309.000000  78313.000000   5408.000000  40817.000000  \n",
       "mean                     20.692588     17.593924      3.532914      4.297352  \n",
       "std                      94.419121     77.837383      9.043042     14.776628  \n",
       "min                       1.000000      1.000000      1.000000      1.000000  \n",
       "25%                       2.000000      2.000000      1.000000      1.000000  \n",
       "50%                       4.000000      5.000000      2.000000      2.000000  \n",
       "75%                      12.000000     14.000000      3.000000      3.000000  \n",
       "max                    6573.000000  12759.000000    336.000000   1590.000000  "
      ]
     },
     "execution_count": 13,
     "metadata": {},
     "output_type": "execute_result"
    }
   ],
   "source": [
    "# get list of repos that have existed for a day or more\n",
    "nonzero_days_repos = list(eventTimes[eventTimes['time_diff'] >= 1]['repo_name'])\n",
    "\n",
    "# only consider events from projects that have existed for at least a day\n",
    "nonzeroDayEvents = multCntrbEvents[multCntrbEvents['repo_name'].isin(nonzero_days_repos)]\n",
    "\n",
    "nonzeroDayEventsPivoted = pd.pivot_table(nonzeroDayEvents, values='cntrb_id', index=['repo_name'],\n",
    "                                        columns=['event_type'], aggfunc=\"count\").reset_index()\n",
    "# get proportion of projects that have no contributions for a given event type  \n",
    "print(nonzeroDayEventsPivoted.iloc[:, 1:].isna().sum() / len(nonzeroDayEventsPivoted))\n",
    "\n",
    "# get summary statistics for each project's event types\n",
    "nonzeroDayEventsPivoted.describe()"
   ]
  },
  {
   "cell_type": "code",
   "execution_count": 14,
   "metadata": {},
   "outputs": [
    {
     "data": {
      "application/vnd.plotly.v1+json": {
       "config": {
        "plotlyServerURL": "https://plot.ly"
       },
       "data": [
        {
         "alignmentgroup": "True",
         "hovertemplate": "Project Duration=< 1 day<br>Kind of Event=%{x}<br># Events=%{y}<extra></extra>",
         "legendgroup": "< 1 day",
         "marker": {
          "color": "#636efa",
          "pattern": {
           "shape": ""
          }
         },
         "name": "< 1 day",
         "offsetgroup": "< 1 day",
         "orientation": "v",
         "showlegend": true,
         "textposition": "auto",
         "type": "bar",
         "x": [
          "PushEvent",
          "CreateEvent",
          "PullRequestEvent",
          "IssueCommentEvent",
          "DeleteEvent",
          "WatchEvent",
          "CommitCommentEvent",
          "IssuesEvent",
          "ForkEvent",
          "PullRequestReviewEvent",
          "PullRequestReviewCommentEvent",
          "ReleaseEvent",
          "MemberEvent",
          "PublicEvent",
          "GollumEvent"
         ],
         "xaxis": "x",
         "y": [
          95768,
          54166,
          33451,
          24836,
          15145,
          6672,
          6067,
          5891,
          5283,
          4347,
          2812,
          2450,
          672,
          657,
          150
         ],
         "yaxis": "y"
        },
        {
         "alignmentgroup": "True",
         "hovertemplate": "Project Duration=1+ day<br>Kind of Event=%{x}<br># Events=%{y}<extra></extra>",
         "legendgroup": "1+ day",
         "marker": {
          "color": "#EF553B",
          "pattern": {
           "shape": ""
          }
         },
         "name": "1+ day",
         "offsetgroup": "1+ day",
         "orientation": "v",
         "showlegend": true,
         "textposition": "auto",
         "type": "bar",
         "x": [
          "PushEvent",
          "CreateEvent",
          "PullRequestEvent",
          "IssueCommentEvent",
          "DeleteEvent",
          "WatchEvent",
          "CommitCommentEvent",
          "IssuesEvent",
          "ForkEvent",
          "PullRequestReviewEvent",
          "PullRequestReviewCommentEvent",
          "ReleaseEvent",
          "MemberEvent",
          "PublicEvent",
          "GollumEvent"
         ],
         "xaxis": "x",
         "y": [
          1377833,
          268118,
          391803,
          576525,
          189429,
          175405,
          12858,
          167950,
          30840,
          358168,
          274676,
          19106,
          3378,
          1473,
          7035
         ],
         "yaxis": "y"
        }
       ],
       "layout": {
        "barmode": "group",
        "legend": {
         "title": {
          "text": "Project Duration"
         },
         "tracegroupgap": 0
        },
        "margin": {
         "t": 60
        },
        "template": {
         "data": {
          "bar": [
           {
            "error_x": {
             "color": "#2a3f5f"
            },
            "error_y": {
             "color": "#2a3f5f"
            },
            "marker": {
             "line": {
              "color": "#E5ECF6",
              "width": 0.5
             },
             "pattern": {
              "fillmode": "overlay",
              "size": 10,
              "solidity": 0.2
             }
            },
            "type": "bar"
           }
          ],
          "barpolar": [
           {
            "marker": {
             "line": {
              "color": "#E5ECF6",
              "width": 0.5
             },
             "pattern": {
              "fillmode": "overlay",
              "size": 10,
              "solidity": 0.2
             }
            },
            "type": "barpolar"
           }
          ],
          "carpet": [
           {
            "aaxis": {
             "endlinecolor": "#2a3f5f",
             "gridcolor": "white",
             "linecolor": "white",
             "minorgridcolor": "white",
             "startlinecolor": "#2a3f5f"
            },
            "baxis": {
             "endlinecolor": "#2a3f5f",
             "gridcolor": "white",
             "linecolor": "white",
             "minorgridcolor": "white",
             "startlinecolor": "#2a3f5f"
            },
            "type": "carpet"
           }
          ],
          "choropleth": [
           {
            "colorbar": {
             "outlinewidth": 0,
             "ticks": ""
            },
            "type": "choropleth"
           }
          ],
          "contour": [
           {
            "colorbar": {
             "outlinewidth": 0,
             "ticks": ""
            },
            "colorscale": [
             [
              0,
              "#0d0887"
             ],
             [
              0.1111111111111111,
              "#46039f"
             ],
             [
              0.2222222222222222,
              "#7201a8"
             ],
             [
              0.3333333333333333,
              "#9c179e"
             ],
             [
              0.4444444444444444,
              "#bd3786"
             ],
             [
              0.5555555555555556,
              "#d8576b"
             ],
             [
              0.6666666666666666,
              "#ed7953"
             ],
             [
              0.7777777777777778,
              "#fb9f3a"
             ],
             [
              0.8888888888888888,
              "#fdca26"
             ],
             [
              1,
              "#f0f921"
             ]
            ],
            "type": "contour"
           }
          ],
          "contourcarpet": [
           {
            "colorbar": {
             "outlinewidth": 0,
             "ticks": ""
            },
            "type": "contourcarpet"
           }
          ],
          "heatmap": [
           {
            "colorbar": {
             "outlinewidth": 0,
             "ticks": ""
            },
            "colorscale": [
             [
              0,
              "#0d0887"
             ],
             [
              0.1111111111111111,
              "#46039f"
             ],
             [
              0.2222222222222222,
              "#7201a8"
             ],
             [
              0.3333333333333333,
              "#9c179e"
             ],
             [
              0.4444444444444444,
              "#bd3786"
             ],
             [
              0.5555555555555556,
              "#d8576b"
             ],
             [
              0.6666666666666666,
              "#ed7953"
             ],
             [
              0.7777777777777778,
              "#fb9f3a"
             ],
             [
              0.8888888888888888,
              "#fdca26"
             ],
             [
              1,
              "#f0f921"
             ]
            ],
            "type": "heatmap"
           }
          ],
          "heatmapgl": [
           {
            "colorbar": {
             "outlinewidth": 0,
             "ticks": ""
            },
            "colorscale": [
             [
              0,
              "#0d0887"
             ],
             [
              0.1111111111111111,
              "#46039f"
             ],
             [
              0.2222222222222222,
              "#7201a8"
             ],
             [
              0.3333333333333333,
              "#9c179e"
             ],
             [
              0.4444444444444444,
              "#bd3786"
             ],
             [
              0.5555555555555556,
              "#d8576b"
             ],
             [
              0.6666666666666666,
              "#ed7953"
             ],
             [
              0.7777777777777778,
              "#fb9f3a"
             ],
             [
              0.8888888888888888,
              "#fdca26"
             ],
             [
              1,
              "#f0f921"
             ]
            ],
            "type": "heatmapgl"
           }
          ],
          "histogram": [
           {
            "marker": {
             "pattern": {
              "fillmode": "overlay",
              "size": 10,
              "solidity": 0.2
             }
            },
            "type": "histogram"
           }
          ],
          "histogram2d": [
           {
            "colorbar": {
             "outlinewidth": 0,
             "ticks": ""
            },
            "colorscale": [
             [
              0,
              "#0d0887"
             ],
             [
              0.1111111111111111,
              "#46039f"
             ],
             [
              0.2222222222222222,
              "#7201a8"
             ],
             [
              0.3333333333333333,
              "#9c179e"
             ],
             [
              0.4444444444444444,
              "#bd3786"
             ],
             [
              0.5555555555555556,
              "#d8576b"
             ],
             [
              0.6666666666666666,
              "#ed7953"
             ],
             [
              0.7777777777777778,
              "#fb9f3a"
             ],
             [
              0.8888888888888888,
              "#fdca26"
             ],
             [
              1,
              "#f0f921"
             ]
            ],
            "type": "histogram2d"
           }
          ],
          "histogram2dcontour": [
           {
            "colorbar": {
             "outlinewidth": 0,
             "ticks": ""
            },
            "colorscale": [
             [
              0,
              "#0d0887"
             ],
             [
              0.1111111111111111,
              "#46039f"
             ],
             [
              0.2222222222222222,
              "#7201a8"
             ],
             [
              0.3333333333333333,
              "#9c179e"
             ],
             [
              0.4444444444444444,
              "#bd3786"
             ],
             [
              0.5555555555555556,
              "#d8576b"
             ],
             [
              0.6666666666666666,
              "#ed7953"
             ],
             [
              0.7777777777777778,
              "#fb9f3a"
             ],
             [
              0.8888888888888888,
              "#fdca26"
             ],
             [
              1,
              "#f0f921"
             ]
            ],
            "type": "histogram2dcontour"
           }
          ],
          "mesh3d": [
           {
            "colorbar": {
             "outlinewidth": 0,
             "ticks": ""
            },
            "type": "mesh3d"
           }
          ],
          "parcoords": [
           {
            "line": {
             "colorbar": {
              "outlinewidth": 0,
              "ticks": ""
             }
            },
            "type": "parcoords"
           }
          ],
          "pie": [
           {
            "automargin": true,
            "type": "pie"
           }
          ],
          "scatter": [
           {
            "fillpattern": {
             "fillmode": "overlay",
             "size": 10,
             "solidity": 0.2
            },
            "type": "scatter"
           }
          ],
          "scatter3d": [
           {
            "line": {
             "colorbar": {
              "outlinewidth": 0,
              "ticks": ""
             }
            },
            "marker": {
             "colorbar": {
              "outlinewidth": 0,
              "ticks": ""
             }
            },
            "type": "scatter3d"
           }
          ],
          "scattercarpet": [
           {
            "marker": {
             "colorbar": {
              "outlinewidth": 0,
              "ticks": ""
             }
            },
            "type": "scattercarpet"
           }
          ],
          "scattergeo": [
           {
            "marker": {
             "colorbar": {
              "outlinewidth": 0,
              "ticks": ""
             }
            },
            "type": "scattergeo"
           }
          ],
          "scattergl": [
           {
            "marker": {
             "colorbar": {
              "outlinewidth": 0,
              "ticks": ""
             }
            },
            "type": "scattergl"
           }
          ],
          "scattermapbox": [
           {
            "marker": {
             "colorbar": {
              "outlinewidth": 0,
              "ticks": ""
             }
            },
            "type": "scattermapbox"
           }
          ],
          "scatterpolar": [
           {
            "marker": {
             "colorbar": {
              "outlinewidth": 0,
              "ticks": ""
             }
            },
            "type": "scatterpolar"
           }
          ],
          "scatterpolargl": [
           {
            "marker": {
             "colorbar": {
              "outlinewidth": 0,
              "ticks": ""
             }
            },
            "type": "scatterpolargl"
           }
          ],
          "scatterternary": [
           {
            "marker": {
             "colorbar": {
              "outlinewidth": 0,
              "ticks": ""
             }
            },
            "type": "scatterternary"
           }
          ],
          "surface": [
           {
            "colorbar": {
             "outlinewidth": 0,
             "ticks": ""
            },
            "colorscale": [
             [
              0,
              "#0d0887"
             ],
             [
              0.1111111111111111,
              "#46039f"
             ],
             [
              0.2222222222222222,
              "#7201a8"
             ],
             [
              0.3333333333333333,
              "#9c179e"
             ],
             [
              0.4444444444444444,
              "#bd3786"
             ],
             [
              0.5555555555555556,
              "#d8576b"
             ],
             [
              0.6666666666666666,
              "#ed7953"
             ],
             [
              0.7777777777777778,
              "#fb9f3a"
             ],
             [
              0.8888888888888888,
              "#fdca26"
             ],
             [
              1,
              "#f0f921"
             ]
            ],
            "type": "surface"
           }
          ],
          "table": [
           {
            "cells": {
             "fill": {
              "color": "#EBF0F8"
             },
             "line": {
              "color": "white"
             }
            },
            "header": {
             "fill": {
              "color": "#C8D4E3"
             },
             "line": {
              "color": "white"
             }
            },
            "type": "table"
           }
          ]
         },
         "layout": {
          "annotationdefaults": {
           "arrowcolor": "#2a3f5f",
           "arrowhead": 0,
           "arrowwidth": 1
          },
          "autotypenumbers": "strict",
          "coloraxis": {
           "colorbar": {
            "outlinewidth": 0,
            "ticks": ""
           }
          },
          "colorscale": {
           "diverging": [
            [
             0,
             "#8e0152"
            ],
            [
             0.1,
             "#c51b7d"
            ],
            [
             0.2,
             "#de77ae"
            ],
            [
             0.3,
             "#f1b6da"
            ],
            [
             0.4,
             "#fde0ef"
            ],
            [
             0.5,
             "#f7f7f7"
            ],
            [
             0.6,
             "#e6f5d0"
            ],
            [
             0.7,
             "#b8e186"
            ],
            [
             0.8,
             "#7fbc41"
            ],
            [
             0.9,
             "#4d9221"
            ],
            [
             1,
             "#276419"
            ]
           ],
           "sequential": [
            [
             0,
             "#0d0887"
            ],
            [
             0.1111111111111111,
             "#46039f"
            ],
            [
             0.2222222222222222,
             "#7201a8"
            ],
            [
             0.3333333333333333,
             "#9c179e"
            ],
            [
             0.4444444444444444,
             "#bd3786"
            ],
            [
             0.5555555555555556,
             "#d8576b"
            ],
            [
             0.6666666666666666,
             "#ed7953"
            ],
            [
             0.7777777777777778,
             "#fb9f3a"
            ],
            [
             0.8888888888888888,
             "#fdca26"
            ],
            [
             1,
             "#f0f921"
            ]
           ],
           "sequentialminus": [
            [
             0,
             "#0d0887"
            ],
            [
             0.1111111111111111,
             "#46039f"
            ],
            [
             0.2222222222222222,
             "#7201a8"
            ],
            [
             0.3333333333333333,
             "#9c179e"
            ],
            [
             0.4444444444444444,
             "#bd3786"
            ],
            [
             0.5555555555555556,
             "#d8576b"
            ],
            [
             0.6666666666666666,
             "#ed7953"
            ],
            [
             0.7777777777777778,
             "#fb9f3a"
            ],
            [
             0.8888888888888888,
             "#fdca26"
            ],
            [
             1,
             "#f0f921"
            ]
           ]
          },
          "colorway": [
           "#636efa",
           "#EF553B",
           "#00cc96",
           "#ab63fa",
           "#FFA15A",
           "#19d3f3",
           "#FF6692",
           "#B6E880",
           "#FF97FF",
           "#FECB52"
          ],
          "font": {
           "color": "#2a3f5f"
          },
          "geo": {
           "bgcolor": "white",
           "lakecolor": "white",
           "landcolor": "#E5ECF6",
           "showlakes": true,
           "showland": true,
           "subunitcolor": "white"
          },
          "hoverlabel": {
           "align": "left"
          },
          "hovermode": "closest",
          "mapbox": {
           "style": "light"
          },
          "paper_bgcolor": "white",
          "plot_bgcolor": "#E5ECF6",
          "polar": {
           "angularaxis": {
            "gridcolor": "white",
            "linecolor": "white",
            "ticks": ""
           },
           "bgcolor": "#E5ECF6",
           "radialaxis": {
            "gridcolor": "white",
            "linecolor": "white",
            "ticks": ""
           }
          },
          "scene": {
           "xaxis": {
            "backgroundcolor": "#E5ECF6",
            "gridcolor": "white",
            "gridwidth": 2,
            "linecolor": "white",
            "showbackground": true,
            "ticks": "",
            "zerolinecolor": "white"
           },
           "yaxis": {
            "backgroundcolor": "#E5ECF6",
            "gridcolor": "white",
            "gridwidth": 2,
            "linecolor": "white",
            "showbackground": true,
            "ticks": "",
            "zerolinecolor": "white"
           },
           "zaxis": {
            "backgroundcolor": "#E5ECF6",
            "gridcolor": "white",
            "gridwidth": 2,
            "linecolor": "white",
            "showbackground": true,
            "ticks": "",
            "zerolinecolor": "white"
           }
          },
          "shapedefaults": {
           "line": {
            "color": "#2a3f5f"
           }
          },
          "ternary": {
           "aaxis": {
            "gridcolor": "white",
            "linecolor": "white",
            "ticks": ""
           },
           "baxis": {
            "gridcolor": "white",
            "linecolor": "white",
            "ticks": ""
           },
           "bgcolor": "#E5ECF6",
           "caxis": {
            "gridcolor": "white",
            "linecolor": "white",
            "ticks": ""
           }
          },
          "title": {
           "x": 0.05
          },
          "xaxis": {
           "automargin": true,
           "gridcolor": "white",
           "linecolor": "white",
           "ticks": "",
           "title": {
            "standoff": 15
           },
           "zerolinecolor": "white",
           "zerolinewidth": 2
          },
          "yaxis": {
           "automargin": true,
           "gridcolor": "white",
           "linecolor": "white",
           "ticks": "",
           "title": {
            "standoff": 15
           },
           "zerolinecolor": "white",
           "zerolinewidth": 2
          }
         }
        },
        "xaxis": {
         "anchor": "y",
         "domain": [
          0,
          1
         ],
         "title": {
          "text": "Kind of Event"
         }
        },
        "yaxis": {
         "anchor": "x",
         "domain": [
          0,
          1
         ],
         "title": {
          "text": "# Events"
         }
        }
       }
      }
     },
     "metadata": {},
     "output_type": "display_data"
    }
   ],
   "source": [
    "# count contributions for each event type for projects that have existed for less than a day and a day and more\n",
    "zeroDayEventCounts = zeroDayEvents.event_type.value_counts()\n",
    "nonzeroDayEventCounts = nonzeroDayEvents.event_type.value_counts()\n",
    "\n",
    "# merge zero day and non-zero day event counts\n",
    "dayEventCounts = pd.merge(\n",
    "    zeroDayEventCounts, \n",
    "    nonzeroDayEventCounts, \n",
    "    left_index=True, \n",
    "    right_index=True\n",
    ").rename(\n",
    "    columns={\n",
    "        'event_type_x': '< 1 day', \n",
    "        'event_type_y': '1+ day'\n",
    "    }\n",
    ")\n",
    "\n",
    "fig_dec = px.bar(\n",
    "    data_frame=dayEventCounts,\n",
    "    barmode=\"group\",\n",
    "    labels={        \n",
    "                     \"variable\": \"Project Duration\",\n",
    "                     \"value\": \"# Events\",\n",
    "                     \"index\": \"Kind of Event\"\n",
    "                 },\n",
    ")\n",
    "\n",
    "fig_dec.write_image(\"dayEventCounts.png\")\n",
    "fig_dec"
   ]
  },
  {
   "cell_type": "code",
   "execution_count": 15,
   "metadata": {},
   "outputs": [
    {
     "data": {
      "image/png": "[encoded data removed]",
      "text/plain": [
       "<IPython.core.display.Image object>"
      ]
     },
     "execution_count": 15,
     "metadata": {},
     "output_type": "execute_result"
    }
   ],
   "source": [
    "Image(\"dayEventCounts.png\")"
   ]
  },
  {
   "cell_type": "markdown",
   "metadata": {},
   "source": [
    "Granted, even after filtering, the majority of projects that have existed for more than a day still have no contributor events given the conservative criteria for filtering by project duration. However, the lack of event data is not as severe and there is clearly more diversity in the set of events as evidenced by the increase in mean and median of each event type across these projects. We can also come to a similar conclustion by observing the barplot where there seems to be a significant difference in the number and range of event data between projects that have existed for less than a day and their counterparts."
   ]
  },
  {
   "cell_type": "markdown",
   "metadata": {},
   "source": [
    "## Filter by event types"
   ]
  },
  {
   "cell_type": "markdown",
   "metadata": {},
   "source": [
    "Based on the previous two analyses and even after filtering out projects based on contributors and duration, a majority still lack certain contibutor events that characterize \"active\" projects. We naively define \"active\" projects as those that have data for at least the following events: **'CreateEvent', 'ForkEvent', 'IssuesEvent', 'PullRequestEvent', 'PullRequestReviewEvent'**"
   ]
  },
  {
   "cell_type": "code",
   "execution_count": 16,
   "metadata": {},
   "outputs": [
    {
     "data": {
      "application/vnd.plotly.v1+json": {
       "config": {
        "plotlyServerURL": "https://plot.ly"
       },
       "data": [
        {
         "alignmentgroup": "True",
         "hovertemplate": "Is Active?=Yes<br>Kind of Event=%{x}<br># Events=%{y}<extra></extra>",
         "legendgroup": "Yes",
         "marker": {
          "color": "#636efa",
          "pattern": {
           "shape": ""
          }
         },
         "name": "Yes",
         "offsetgroup": "Yes",
         "orientation": "v",
         "showlegend": true,
         "textposition": "auto",
         "type": "bar",
         "x": [
          "IssueCommentEvent",
          "PushEvent",
          "PullRequestReviewEvent",
          "PullRequestReviewCommentEvent",
          "PullRequestEvent",
          "IssuesEvent",
          "CreateEvent",
          "DeleteEvent",
          "WatchEvent",
          "ForkEvent",
          "ReleaseEvent",
          "CommitCommentEvent",
          "GollumEvent",
          "MemberEvent",
          "PublicEvent"
         ],
         "xaxis": "x",
         "y": [
          209634,
          167916,
          163909,
          126935,
          116629,
          55564,
          35846,
          31330,
          29286,
          8011,
          2373,
          1502,
          701,
          314,
          7
         ],
         "yaxis": "y"
        },
        {
         "alignmentgroup": "True",
         "hovertemplate": "Is Active?=No<br>Kind of Event=%{x}<br># Events=%{y}<extra></extra>",
         "legendgroup": "No",
         "marker": {
          "color": "#EF553B",
          "pattern": {
           "shape": ""
          }
         },
         "name": "No",
         "offsetgroup": "No",
         "orientation": "v",
         "showlegend": true,
         "textposition": "auto",
         "type": "bar",
         "x": [
          "IssueCommentEvent",
          "PushEvent",
          "PullRequestReviewEvent",
          "PullRequestReviewCommentEvent",
          "PullRequestEvent",
          "IssuesEvent",
          "CreateEvent",
          "DeleteEvent",
          "WatchEvent",
          "ForkEvent",
          "ReleaseEvent",
          "CommitCommentEvent",
          "GollumEvent",
          "MemberEvent",
          "PublicEvent"
         ],
         "xaxis": "x",
         "y": [
          49784,
          257766,
          null,
          null,
          null,
          null,
          null,
          3390,
          43162,
          null,
          102,
          7393,
          1888,
          414,
          714
         ],
         "yaxis": "y"
        }
       ],
       "layout": {
        "barmode": "group",
        "legend": {
         "title": {
          "text": "Is Active?"
         },
         "tracegroupgap": 0
        },
        "margin": {
         "t": 60
        },
        "template": {
         "data": {
          "bar": [
           {
            "error_x": {
             "color": "#2a3f5f"
            },
            "error_y": {
             "color": "#2a3f5f"
            },
            "marker": {
             "line": {
              "color": "#E5ECF6",
              "width": 0.5
             },
             "pattern": {
              "fillmode": "overlay",
              "size": 10,
              "solidity": 0.2
             }
            },
            "type": "bar"
           }
          ],
          "barpolar": [
           {
            "marker": {
             "line": {
              "color": "#E5ECF6",
              "width": 0.5
             },
             "pattern": {
              "fillmode": "overlay",
              "size": 10,
              "solidity": 0.2
             }
            },
            "type": "barpolar"
           }
          ],
          "carpet": [
           {
            "aaxis": {
             "endlinecolor": "#2a3f5f",
             "gridcolor": "white",
             "linecolor": "white",
             "minorgridcolor": "white",
             "startlinecolor": "#2a3f5f"
            },
            "baxis": {
             "endlinecolor": "#2a3f5f",
             "gridcolor": "white",
             "linecolor": "white",
             "minorgridcolor": "white",
             "startlinecolor": "#2a3f5f"
            },
            "type": "carpet"
           }
          ],
          "choropleth": [
           {
            "colorbar": {
             "outlinewidth": 0,
             "ticks": ""
            },
            "type": "choropleth"
           }
          ],
          "contour": [
           {
            "colorbar": {
             "outlinewidth": 0,
             "ticks": ""
            },
            "colorscale": [
             [
              0,
              "#0d0887"
             ],
             [
              0.1111111111111111,
              "#46039f"
             ],
             [
              0.2222222222222222,
              "#7201a8"
             ],
             [
              0.3333333333333333,
              "#9c179e"
             ],
             [
              0.4444444444444444,
              "#bd3786"
             ],
             [
              0.5555555555555556,
              "#d8576b"
             ],
             [
              0.6666666666666666,
              "#ed7953"
             ],
             [
              0.7777777777777778,
              "#fb9f3a"
             ],
             [
              0.8888888888888888,
              "#fdca26"
             ],
             [
              1,
              "#f0f921"
             ]
            ],
            "type": "contour"
           }
          ],
          "contourcarpet": [
           {
            "colorbar": {
             "outlinewidth": 0,
             "ticks": ""
            },
            "type": "contourcarpet"
           }
          ],
          "heatmap": [
           {
            "colorbar": {
             "outlinewidth": 0,
             "ticks": ""
            },
            "colorscale": [
             [
              0,
              "#0d0887"
             ],
             [
              0.1111111111111111,
              "#46039f"
             ],
             [
              0.2222222222222222,
              "#7201a8"
             ],
             [
              0.3333333333333333,
              "#9c179e"
             ],
             [
              0.4444444444444444,
              "#bd3786"
             ],
             [
              0.5555555555555556,
              "#d8576b"
             ],
             [
              0.6666666666666666,
              "#ed7953"
             ],
             [
              0.7777777777777778,
              "#fb9f3a"
             ],
             [
              0.8888888888888888,
              "#fdca26"
             ],
             [
              1,
              "#f0f921"
             ]
            ],
            "type": "heatmap"
           }
          ],
          "heatmapgl": [
           {
            "colorbar": {
             "outlinewidth": 0,
             "ticks": ""
            },
            "colorscale": [
             [
              0,
              "#0d0887"
             ],
             [
              0.1111111111111111,
              "#46039f"
             ],
             [
              0.2222222222222222,
              "#7201a8"
             ],
             [
              0.3333333333333333,
              "#9c179e"
             ],
             [
              0.4444444444444444,
              "#bd3786"
             ],
             [
              0.5555555555555556,
              "#d8576b"
             ],
             [
              0.6666666666666666,
              "#ed7953"
             ],
             [
              0.7777777777777778,
              "#fb9f3a"
             ],
             [
              0.8888888888888888,
              "#fdca26"
             ],
             [
              1,
              "#f0f921"
             ]
            ],
            "type": "heatmapgl"
           }
          ],
          "histogram": [
           {
            "marker": {
             "pattern": {
              "fillmode": "overlay",
              "size": 10,
              "solidity": 0.2
             }
            },
            "type": "histogram"
           }
          ],
          "histogram2d": [
           {
            "colorbar": {
             "outlinewidth": 0,
             "ticks": ""
            },
            "colorscale": [
             [
              0,
              "#0d0887"
             ],
             [
              0.1111111111111111,
              "#46039f"
             ],
             [
              0.2222222222222222,
              "#7201a8"
             ],
             [
              0.3333333333333333,
              "#9c179e"
             ],
             [
              0.4444444444444444,
              "#bd3786"
             ],
             [
              0.5555555555555556,
              "#d8576b"
             ],
             [
              0.6666666666666666,
              "#ed7953"
             ],
             [
              0.7777777777777778,
              "#fb9f3a"
             ],
             [
              0.8888888888888888,
              "#fdca26"
             ],
             [
              1,
              "#f0f921"
             ]
            ],
            "type": "histogram2d"
           }
          ],
          "histogram2dcontour": [
           {
            "colorbar": {
             "outlinewidth": 0,
             "ticks": ""
            },
            "colorscale": [
             [
              0,
              "#0d0887"
             ],
             [
              0.1111111111111111,
              "#46039f"
             ],
             [
              0.2222222222222222,
              "#7201a8"
             ],
             [
              0.3333333333333333,
              "#9c179e"
             ],
             [
              0.4444444444444444,
              "#bd3786"
             ],
             [
              0.5555555555555556,
              "#d8576b"
             ],
             [
              0.6666666666666666,
              "#ed7953"
             ],
             [
              0.7777777777777778,
              "#fb9f3a"
             ],
             [
              0.8888888888888888,
              "#fdca26"
             ],
             [
              1,
              "#f0f921"
             ]
            ],
            "type": "histogram2dcontour"
           }
          ],
          "mesh3d": [
           {
            "colorbar": {
             "outlinewidth": 0,
             "ticks": ""
            },
            "type": "mesh3d"
           }
          ],
          "parcoords": [
           {
            "line": {
             "colorbar": {
              "outlinewidth": 0,
              "ticks": ""
             }
            },
            "type": "parcoords"
           }
          ],
          "pie": [
           {
            "automargin": true,
            "type": "pie"
           }
          ],
          "scatter": [
           {
            "fillpattern": {
             "fillmode": "overlay",
             "size": 10,
             "solidity": 0.2
            },
            "type": "scatter"
           }
          ],
          "scatter3d": [
           {
            "line": {
             "colorbar": {
              "outlinewidth": 0,
              "ticks": ""
             }
            },
            "marker": {
             "colorbar": {
              "outlinewidth": 0,
              "ticks": ""
             }
            },
            "type": "scatter3d"
           }
          ],
          "scattercarpet": [
           {
            "marker": {
             "colorbar": {
              "outlinewidth": 0,
              "ticks": ""
             }
            },
            "type": "scattercarpet"
           }
          ],
          "scattergeo": [
           {
            "marker": {
             "colorbar": {
              "outlinewidth": 0,
              "ticks": ""
             }
            },
            "type": "scattergeo"
           }
          ],
          "scattergl": [
           {
            "marker": {
             "colorbar": {
              "outlinewidth": 0,
              "ticks": ""
             }
            },
            "type": "scattergl"
           }
          ],
          "scattermapbox": [
           {
            "marker": {
             "colorbar": {
              "outlinewidth": 0,
              "ticks": ""
             }
            },
            "type": "scattermapbox"
           }
          ],
          "scatterpolar": [
           {
            "marker": {
             "colorbar": {
              "outlinewidth": 0,
              "ticks": ""
             }
            },
            "type": "scatterpolar"
           }
          ],
          "scatterpolargl": [
           {
            "marker": {
             "colorbar": {
              "outlinewidth": 0,
              "ticks": ""
             }
            },
            "type": "scatterpolargl"
           }
          ],
          "scatterternary": [
           {
            "marker": {
             "colorbar": {
              "outlinewidth": 0,
              "ticks": ""
             }
            },
            "type": "scatterternary"
           }
          ],
          "surface": [
           {
            "colorbar": {
             "outlinewidth": 0,
             "ticks": ""
            },
            "colorscale": [
             [
              0,
              "#0d0887"
             ],
             [
              0.1111111111111111,
              "#46039f"
             ],
             [
              0.2222222222222222,
              "#7201a8"
             ],
             [
              0.3333333333333333,
              "#9c179e"
             ],
             [
              0.4444444444444444,
              "#bd3786"
             ],
             [
              0.5555555555555556,
              "#d8576b"
             ],
             [
              0.6666666666666666,
              "#ed7953"
             ],
             [
              0.7777777777777778,
              "#fb9f3a"
             ],
             [
              0.8888888888888888,
              "#fdca26"
             ],
             [
              1,
              "#f0f921"
             ]
            ],
            "type": "surface"
           }
          ],
          "table": [
           {
            "cells": {
             "fill": {
              "color": "#EBF0F8"
             },
             "line": {
              "color": "white"
             }
            },
            "header": {
             "fill": {
              "color": "#C8D4E3"
             },
             "line": {
              "color": "white"
             }
            },
            "type": "table"
           }
          ]
         },
         "layout": {
          "annotationdefaults": {
           "arrowcolor": "#2a3f5f",
           "arrowhead": 0,
           "arrowwidth": 1
          },
          "autotypenumbers": "strict",
          "coloraxis": {
           "colorbar": {
            "outlinewidth": 0,
            "ticks": ""
           }
          },
          "colorscale": {
           "diverging": [
            [
             0,
             "#8e0152"
            ],
            [
             0.1,
             "#c51b7d"
            ],
            [
             0.2,
             "#de77ae"
            ],
            [
             0.3,
             "#f1b6da"
            ],
            [
             0.4,
             "#fde0ef"
            ],
            [
             0.5,
             "#f7f7f7"
            ],
            [
             0.6,
             "#e6f5d0"
            ],
            [
             0.7,
             "#b8e186"
            ],
            [
             0.8,
             "#7fbc41"
            ],
            [
             0.9,
             "#4d9221"
            ],
            [
             1,
             "#276419"
            ]
           ],
           "sequential": [
            [
             0,
             "#0d0887"
            ],
            [
             0.1111111111111111,
             "#46039f"
            ],
            [
             0.2222222222222222,
             "#7201a8"
            ],
            [
             0.3333333333333333,
             "#9c179e"
            ],
            [
             0.4444444444444444,
             "#bd3786"
            ],
            [
             0.5555555555555556,
             "#d8576b"
            ],
            [
             0.6666666666666666,
             "#ed7953"
            ],
            [
             0.7777777777777778,
             "#fb9f3a"
            ],
            [
             0.8888888888888888,
             "#fdca26"
            ],
            [
             1,
             "#f0f921"
            ]
           ],
           "sequentialminus": [
            [
             0,
             "#0d0887"
            ],
            [
             0.1111111111111111,
             "#46039f"
            ],
            [
             0.2222222222222222,
             "#7201a8"
            ],
            [
             0.3333333333333333,
             "#9c179e"
            ],
            [
             0.4444444444444444,
             "#bd3786"
            ],
            [
             0.5555555555555556,
             "#d8576b"
            ],
            [
             0.6666666666666666,
             "#ed7953"
            ],
            [
             0.7777777777777778,
             "#fb9f3a"
            ],
            [
             0.8888888888888888,
             "#fdca26"
            ],
            [
             1,
             "#f0f921"
            ]
           ]
          },
          "colorway": [
           "#636efa",
           "#EF553B",
           "#00cc96",
           "#ab63fa",
           "#FFA15A",
           "#19d3f3",
           "#FF6692",
           "#B6E880",
           "#FF97FF",
           "#FECB52"
          ],
          "font": {
           "color": "#2a3f5f"
          },
          "geo": {
           "bgcolor": "white",
           "lakecolor": "white",
           "landcolor": "#E5ECF6",
           "showlakes": true,
           "showland": true,
           "subunitcolor": "white"
          },
          "hoverlabel": {
           "align": "left"
          },
          "hovermode": "closest",
          "mapbox": {
           "style": "light"
          },
          "paper_bgcolor": "white",
          "plot_bgcolor": "#E5ECF6",
          "polar": {
           "angularaxis": {
            "gridcolor": "white",
            "linecolor": "white",
            "ticks": ""
           },
           "bgcolor": "#E5ECF6",
           "radialaxis": {
            "gridcolor": "white",
            "linecolor": "white",
            "ticks": ""
           }
          },
          "scene": {
           "xaxis": {
            "backgroundcolor": "#E5ECF6",
            "gridcolor": "white",
            "gridwidth": 2,
            "linecolor": "white",
            "showbackground": true,
            "ticks": "",
            "zerolinecolor": "white"
           },
           "yaxis": {
            "backgroundcolor": "#E5ECF6",
            "gridcolor": "white",
            "gridwidth": 2,
            "linecolor": "white",
            "showbackground": true,
            "ticks": "",
            "zerolinecolor": "white"
           },
           "zaxis": {
            "backgroundcolor": "#E5ECF6",
            "gridcolor": "white",
            "gridwidth": 2,
            "linecolor": "white",
            "showbackground": true,
            "ticks": "",
            "zerolinecolor": "white"
           }
          },
          "shapedefaults": {
           "line": {
            "color": "#2a3f5f"
           }
          },
          "ternary": {
           "aaxis": {
            "gridcolor": "white",
            "linecolor": "white",
            "ticks": ""
           },
           "baxis": {
            "gridcolor": "white",
            "linecolor": "white",
            "ticks": ""
           },
           "bgcolor": "#E5ECF6",
           "caxis": {
            "gridcolor": "white",
            "linecolor": "white",
            "ticks": ""
           }
          },
          "title": {
           "x": 0.05
          },
          "xaxis": {
           "automargin": true,
           "gridcolor": "white",
           "linecolor": "white",
           "ticks": "",
           "title": {
            "standoff": 15
           },
           "zerolinecolor": "white",
           "zerolinewidth": 2
          },
          "yaxis": {
           "automargin": true,
           "gridcolor": "white",
           "linecolor": "white",
           "ticks": "",
           "title": {
            "standoff": 15
           },
           "zerolinecolor": "white",
           "zerolinewidth": 2
          }
         }
        },
        "xaxis": {
         "anchor": "y",
         "domain": [
          0,
          1
         ],
         "title": {
          "text": "Kind of Event"
         }
        },
        "yaxis": {
         "anchor": "x",
         "domain": [
          0,
          1
         ],
         "title": {
          "text": "# Events"
         }
        }
       }
      }
     },
     "metadata": {},
     "output_type": "display_data"
    }
   ],
   "source": [
    "# get list of repos that have data and don't have data for events of interest\n",
    "active_projects_repos = list(nonzeroDayEventsPivoted[nonzeroDayEventsPivoted[['CreateEvent', 'ForkEvent', 'IssuesEvent', 'PullRequestEvent', 'PullRequestReviewEvent']].notnull().all(1)].repo_name)\n",
    "nonactive_projects_repos = list(nonzeroDayEventsPivoted[nonzeroDayEventsPivoted[['CreateEvent', 'ForkEvent', 'IssuesEvent', 'PullRequestEvent', 'PullRequestReviewEvent']].isnull().all(1)].repo_name)\n",
    "\n",
    "# filter for repos\n",
    "activeEvents = nonzeroDayEvents[nonzeroDayEvents['repo_name'].isin(active_projects_repos)]\n",
    "nonactiveEvents = nonzeroDayEvents[nonzeroDayEvents['repo_name'].isin(nonactive_projects_repos)]\n",
    "\n",
    "# count event types for active and non-active projects\n",
    "activeEventsCounts = activeEvents['event_type'].value_counts().reset_index()\n",
    "nonactiveEventsCounts = nonactiveEvents['event_type'].value_counts().reset_index()\n",
    "\n",
    "# merge active and non-active project event counts\n",
    "eventsCounts = pd.merge(\n",
    "    activeEventsCounts, \n",
    "    nonactiveEventsCounts, \n",
    "    how='left',\n",
    "    left_on='index',\n",
    "    right_on='index'\n",
    ").set_index('index').rename(\n",
    "    columns={\n",
    "        'event_type_x':'Yes', \n",
    "        'event_type_y': 'No'\n",
    "    }\n",
    ")\n",
    "\n",
    "fig_ec = px.bar(\n",
    "    data_frame=eventsCounts,\n",
    "    barmode=\"group\", \n",
    "    labels={\n",
    "        \"variable\": \"Is Active?\",\n",
    "        \"value\": \"# Events\",\n",
    "        \"index\": \"Kind of Event\"\n",
    "    }   \n",
    ")\n",
    "\n",
    "fig_ec.write_image(\"eventCounts.png\")\n",
    "fig_ec"
   ]
  },
  {
   "cell_type": "code",
   "execution_count": 17,
   "metadata": {},
   "outputs": [
    {
     "data": {
      "image/png": "[encoded data removed]",
      "text/plain": [
       "<IPython.core.display.Image object>"
      ]
     },
     "execution_count": 17,
     "metadata": {},
     "output_type": "execute_result"
    }
   ],
   "source": [
    "Image(\"eventCounts.png\")"
   ]
  },
  {
   "cell_type": "markdown",
   "metadata": {},
   "source": [
    "## Conclusion\n",
    "\n",
    "We can view the cumulative effect of our filtering methods by comparing the length and number of unique repositories of our original DataFrame and the resulting the DataFrame."
   ]
  },
  {
   "cell_type": "code",
   "execution_count": 18,
   "metadata": {},
   "outputs": [
    {
     "name": "stdout",
     "output_type": "stream",
     "text": [
      "Diff in size: 4243500 compared to 949957\n"
     ]
    }
   ],
   "source": [
    "print(f\"Diff in size: {len(df_event_stream)} compared to {len(activeEvents)}\")"
   ]
  },
  {
   "cell_type": "code",
   "execution_count": 19,
   "metadata": {},
   "outputs": [
    {
     "name": "stdout",
     "output_type": "stream",
     "text": [
      "Diff in number of repos: 324583 compared to 2073\n"
     ]
    }
   ],
   "source": [
    "print(f\"Diff in number of repos: {df_event_stream.repo_name.nunique()} compared to {activeEvents.repo_name.nunique()}\")"
   ]
  },
  {
   "cell_type": "markdown",
   "metadata": {},
   "source": [
    "The initial set of events represented the activity of the population of all Github users. \n",
    "\n",
    "By filtering out projects with single contributors, projects that have existed for less than a day, and \"non-active\" projects, the length of the DataFrame changed from 4.2 million events to 950K events. Additionally, the number of unique GitHub repositories changed from 324583 to 2073.  \n",
    "\n",
    "This is a first attempt at applying filtering methods and for future research, we aim to use less arbitrary numbers such as a single contributor and less than a day for filtering criteria as we gain more domain knowledge of the ecosystem of projects."
   ]
  }
 ],
 "metadata": {
  "kernelspec": {
   "display_name": "ml23",
   "language": "python",
   "name": "python3"
  },
  "language_info": {
   "codemirror_mode": {
    "name": "ipython",
    "version": 3
   },
   "file_extension": ".py",
   "mimetype": "text/x-python",
   "name": "python",
   "nbconvert_exporter": "python",
   "pygments_lexer": "ipython3",
   "version": "3.10.12"
  },
  "orig_nbformat": 4
 },
 "nbformat": 4,
 "nbformat_minor": 2
}
