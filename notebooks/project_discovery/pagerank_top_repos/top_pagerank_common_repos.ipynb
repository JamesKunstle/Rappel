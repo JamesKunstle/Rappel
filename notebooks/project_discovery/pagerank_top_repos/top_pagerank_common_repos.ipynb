{
 "cells": [
  {
   "cell_type": "markdown",
   "metadata": {},
   "source": [
    "# Motivation and Rationale\n",
    "\n",
    "Inferring that a contributor's connectedness is a useful proxy for their importance\n",
    "or involvement in a community, take the top p% of contributors \n",
    "by their pagerank score and identify which repos they also belong to.\n",
    "\n",
    "Compare involvement to find maximal overlap among top percentage of contributors.\n",
    "\n",
    "# Background\n",
    "\n",
    "We've started from a 'seed' of repos that seem highly likely to be a \"part of the WASM neighborhood of projects.\" We identified these few repos by \\\n",
    "cursorily inspecting online lists of WASM projects. The 'seed' includes (repo/org):\n",
    "\n",
    "1. bytecodealliance/wasmtime\n",
    "2. wasmedge/wasmedge\n",
    "3. wasmerio/wasmer\n",
    "4. wavm/wavm"
   ]
  },
  {
   "cell_type": "markdown",
   "metadata": {},
   "source": [
    "## Imports"
   ]
  },
  {
   "cell_type": "code",
   "execution_count": 96,
   "metadata": {},
   "outputs": [],
   "source": [
    "import pandas as pd\n",
    "import sqlalchemy as salc\n",
    "import plotly.express as px\n",
    "import json\n",
    "from IPython.display import Image\n",
    "from collections import Counter"
   ]
  },
  {
   "cell_type": "markdown",
   "metadata": {},
   "source": [
    "## Database"
   ]
  },
  {
   "cell_type": "code",
   "execution_count": 97,
   "metadata": {},
   "outputs": [],
   "source": [
    "# read configuration file\n",
    "with open(\"wasm_creds.json\") as config_file:\n",
    "    config = json.load(config_file)\n",
    "\n",
    "# define cx string\n",
    "database_connection_string = f\"postgresql+psycopg2://{config['user']}:{config['password']}@{config['host']}:{config['port']}/{config['database']}\"\n",
    "\n",
    "# create engine\n",
    "engine = salc.create_engine(\n",
    "    database_connection_string,\n",
    "    connect_args={'options': f\"-csearch_path={'augur_data'}\"})"
   ]
  },
  {
   "cell_type": "markdown",
   "metadata": {},
   "source": [
    "## Global Switches"
   ]
  },
  {
   "cell_type": "code",
   "execution_count": 98,
   "metadata": {},
   "outputs": [],
   "source": [
    "# Whether we're using df_event_stream.parquet or \n",
    "# querying the source database directly.\n",
    "LOCAL_DATA = True \n",
    "\n",
    "# what percent of the top contributors \n",
    "# by pagerank should we consider?\n",
    "TOP_PERCENT_CONSIDERED = 0.10 #10%\n",
    "\n",
    "# how many \"top repos\" should we output \n",
    "# at the end?\n",
    "FINAL_NUM_COMMON_REPOS = 50"
   ]
  },
  {
   "cell_type": "markdown",
   "metadata": {},
   "source": [
    "## Read pagerank scores\n",
    "\n",
    "These scores are calculated by building a collaboration graph of the contributors in four projects\n",
    "and running the pagerank algorithm on the graph. The nodes of the graph are individual contributors,\n",
    "and the edges are weighted by the historical 'connectedness' between any two nodes. Connectedness increases\n",
    "when two individuals work on something together (PR, issue, commit). \n",
    "\n",
    "The described process is implemented in Rappel/notebooks/collab_network/wasm."
   ]
  },
  {
   "cell_type": "code",
   "execution_count": 99,
   "metadata": {},
   "outputs": [
    {
     "data": {
      "text/html": [
       "<div>\n",
       "<style scoped>\n",
       "    .dataframe tbody tr th:only-of-type {\n",
       "        vertical-align: middle;\n",
       "    }\n",
       "\n",
       "    .dataframe tbody tr th {\n",
       "        vertical-align: top;\n",
       "    }\n",
       "\n",
       "    .dataframe thead th {\n",
       "        text-align: right;\n",
       "    }\n",
       "</style>\n",
       "<table border=\"1\" class=\"dataframe\">\n",
       "  <thead>\n",
       "    <tr style=\"text-align: right;\">\n",
       "      <th></th>\n",
       "      <th>cntrb_id</th>\n",
       "      <th>score</th>\n",
       "    </tr>\n",
       "  </thead>\n",
       "  <tbody>\n",
       "    <tr>\n",
       "      <th>0</th>\n",
       "      <td>010002df-6100-0000-0000-000000000000</td>\n",
       "      <td>20.000000</td>\n",
       "    </tr>\n",
       "    <tr>\n",
       "      <th>1</th>\n",
       "      <td>010000fd-e400-0000-0000-000000000000</td>\n",
       "      <td>19.052353</td>\n",
       "    </tr>\n",
       "    <tr>\n",
       "      <th>2</th>\n",
       "      <td>01002a5e-b400-0000-0000-000000000000</td>\n",
       "      <td>17.138503</td>\n",
       "    </tr>\n",
       "    <tr>\n",
       "      <th>3</th>\n",
       "      <td>0100034c-5400-0000-0000-000000000000</td>\n",
       "      <td>16.901099</td>\n",
       "    </tr>\n",
       "    <tr>\n",
       "      <th>4</th>\n",
       "      <td>01003291-1b00-0000-0000-000000000000</td>\n",
       "      <td>16.831682</td>\n",
       "    </tr>\n",
       "  </tbody>\n",
       "</table>\n",
       "</div>"
      ],
      "text/plain": [
       "                               cntrb_id      score\n",
       "0  010002df-6100-0000-0000-000000000000  20.000000\n",
       "1  010000fd-e400-0000-0000-000000000000  19.052353\n",
       "2  01002a5e-b400-0000-0000-000000000000  17.138503\n",
       "3  0100034c-5400-0000-0000-000000000000  16.901099\n",
       "4  01003291-1b00-0000-0000-000000000000  16.831682"
      ]
     },
     "execution_count": 99,
     "metadata": {},
     "output_type": "execute_result"
    }
   ],
   "source": [
    "df_known_contribs = pd.read_csv('wasm_contributor_pagerank.csv')\n",
    "df_known_contribs = df_known_contribs.rename(columns={\"user\": \"cntrb_id\"})\n",
    "df_known_contribs[\"cntrb_id\"] = df_known_contribs.cntrb_id.astype(str)\n",
    "df_known_contribs.head()"
   ]
  },
  {
   "cell_type": "markdown",
   "metadata": {},
   "source": [
    "# Contribution event stream\n",
    "\n",
    "Github provides an API endpoint from which one can query every event that occurs. For instance, if a contributor creates an issue on some repo, that event will be logged in the stream. A downside of this API is that it only serves the most recent two months of data. \n",
    "\n",
    "We want to use this stream to identify the set of repositories that our Known Contributors are also working in that weren't in the initial ecosystem kernel.\n",
    "\n",
    "The database that we use collects this event stream so we can query it from there rather than from Github. This is much faster than relying on the public Github API, and we will continue to collect the data that the API makes available, so over time the analysis that we can do will become richer and more complete. In the Augur database, the table with this information is the 'contributor_repo' table."
   ]
  },
  {
   "cell_type": "code",
   "execution_count": 100,
   "metadata": {},
   "outputs": [],
   "source": [
    "event_stream_query = salc.sql.text(\n",
    "    f\"\"\"\n",
    "        SET SCHEMA 'augur_data';\n",
    "        SELECT \n",
    "            c.cntrb_id,\n",
    "            c.event_id,\n",
    "            c.created_at,\n",
    "            c.cntrb_repo_id as repo_id,\n",
    "            c.repo_git,\n",
    "            c.repo_name,\n",
    "            c.gh_repo_id,\n",
    "            c.cntrb_category as event_type\n",
    "        FROM\n",
    "        contributor_repo c\n",
    "    \"\"\")\n",
    "\n",
    "\n",
    "if not LOCAL_DATA:\n",
    "    with engine.connect() as conn:\n",
    "        df_event_stream = pd.read_sql_query(event_stream_query, conn)\n",
    "        \n",
    "    with open(\"df_event_stream.parquet\", \"wb+\") as f:\n",
    "        df_event_stream.cntrb_id = df_event_stream.cntrb_id.astype(str)\n",
    "        df_event_stream.to_parquet(f)\n",
    "else:\n",
    "    with open(\"df_event_stream.parquet\", \"rb+\") as f:\n",
    "        df_event_stream = pd.read_parquet(f)\n",
    "        df_event_stream.cntrb_id = df_event_stream.cntrb_id.astype(str)"
   ]
  },
  {
   "cell_type": "code",
   "execution_count": 101,
   "metadata": {},
   "outputs": [
    {
     "data": {
      "text/html": [
       "<div>\n",
       "<style scoped>\n",
       "    .dataframe tbody tr th:only-of-type {\n",
       "        vertical-align: middle;\n",
       "    }\n",
       "\n",
       "    .dataframe tbody tr th {\n",
       "        vertical-align: top;\n",
       "    }\n",
       "\n",
       "    .dataframe thead th {\n",
       "        text-align: right;\n",
       "    }\n",
       "</style>\n",
       "<table border=\"1\" class=\"dataframe\">\n",
       "  <thead>\n",
       "    <tr style=\"text-align: right;\">\n",
       "      <th></th>\n",
       "      <th>cntrb_id</th>\n",
       "      <th>event_id</th>\n",
       "      <th>created_at</th>\n",
       "      <th>repo_id</th>\n",
       "      <th>repo_git</th>\n",
       "      <th>repo_name</th>\n",
       "      <th>gh_repo_id</th>\n",
       "      <th>event_type</th>\n",
       "    </tr>\n",
       "  </thead>\n",
       "  <tbody>\n",
       "    <tr>\n",
       "      <th>0</th>\n",
       "      <td>0100f4d9-0a00-0000-0000-000000000000</td>\n",
       "      <td>29206154815</td>\n",
       "      <td>2023-05-21 12:46:42</td>\n",
       "      <td>1331068</td>\n",
       "      <td>https://api.github.com/repos/mydeveloperday/sp...</td>\n",
       "      <td>mydeveloperday/spectral-sarif</td>\n",
       "      <td>643239814</td>\n",
       "      <td>PushEvent</td>\n",
       "    </tr>\n",
       "    <tr>\n",
       "      <th>1</th>\n",
       "      <td>01010bc1-fd00-0000-0000-000000000000</td>\n",
       "      <td>29266421350</td>\n",
       "      <td>2023-05-23 20:50:08</td>\n",
       "      <td>828122</td>\n",
       "      <td>https://api.github.com/repos/HazardyKnusperkek...</td>\n",
       "      <td>HazardyKnusperkeks/units</td>\n",
       "      <td>351321247</td>\n",
       "      <td>PushEvent</td>\n",
       "    </tr>\n",
       "    <tr>\n",
       "      <th>2</th>\n",
       "      <td>01010bc1-fd00-0000-0000-000000000000</td>\n",
       "      <td>29264457425</td>\n",
       "      <td>2023-05-23 19:13:06</td>\n",
       "      <td>828123</td>\n",
       "      <td>https://api.github.com/repos/llvm/llvm-project</td>\n",
       "      <td>llvm/llvm-project</td>\n",
       "      <td>75821432</td>\n",
       "      <td>IssueCommentEvent</td>\n",
       "    </tr>\n",
       "    <tr>\n",
       "      <th>3</th>\n",
       "      <td>0101b71a-0d00-0000-0000-000000000000</td>\n",
       "      <td>31189643965</td>\n",
       "      <td>2023-08-17 15:49:35</td>\n",
       "      <td>36340270</td>\n",
       "      <td>https://api.github.com/repos/Homebrew/homebrew...</td>\n",
       "      <td>Homebrew/homebrew-core</td>\n",
       "      <td>52855516</td>\n",
       "      <td>IssueCommentEvent</td>\n",
       "    </tr>\n",
       "    <tr>\n",
       "      <th>4</th>\n",
       "      <td>0101f3dd-6900-0000-0000-000000000000</td>\n",
       "      <td>30845555159</td>\n",
       "      <td>2023-08-02 13:31:25</td>\n",
       "      <td>340859</td>\n",
       "      <td>https://api.github.com/repos/web3j/web3j</td>\n",
       "      <td>web3j/web3j</td>\n",
       "      <td>67328052</td>\n",
       "      <td>PullRequestReviewEvent</td>\n",
       "    </tr>\n",
       "  </tbody>\n",
       "</table>\n",
       "</div>"
      ],
      "text/plain": [
       "                               cntrb_id     event_id          created_at  \\\n",
       "0  0100f4d9-0a00-0000-0000-000000000000  29206154815 2023-05-21 12:46:42   \n",
       "1  01010bc1-fd00-0000-0000-000000000000  29266421350 2023-05-23 20:50:08   \n",
       "2  01010bc1-fd00-0000-0000-000000000000  29264457425 2023-05-23 19:13:06   \n",
       "3  0101b71a-0d00-0000-0000-000000000000  31189643965 2023-08-17 15:49:35   \n",
       "4  0101f3dd-6900-0000-0000-000000000000  30845555159 2023-08-02 13:31:25   \n",
       "\n",
       "    repo_id                                           repo_git  \\\n",
       "0   1331068  https://api.github.com/repos/mydeveloperday/sp...   \n",
       "1    828122  https://api.github.com/repos/HazardyKnusperkek...   \n",
       "2    828123     https://api.github.com/repos/llvm/llvm-project   \n",
       "3  36340270  https://api.github.com/repos/Homebrew/homebrew...   \n",
       "4    340859           https://api.github.com/repos/web3j/web3j   \n",
       "\n",
       "                       repo_name  gh_repo_id              event_type  \n",
       "0  mydeveloperday/spectral-sarif   643239814               PushEvent  \n",
       "1       HazardyKnusperkeks/units   351321247               PushEvent  \n",
       "2              llvm/llvm-project    75821432       IssueCommentEvent  \n",
       "3         Homebrew/homebrew-core    52855516       IssueCommentEvent  \n",
       "4                    web3j/web3j    67328052  PullRequestReviewEvent  "
      ]
     },
     "execution_count": 101,
     "metadata": {},
     "output_type": "execute_result"
    }
   ],
   "source": [
    "df_event_stream.head()"
   ]
  },
  {
   "cell_type": "code",
   "execution_count": 102,
   "metadata": {},
   "outputs": [
    {
     "name": "stdout",
     "output_type": "stream",
     "text": [
      "There are: 5121316 events available\n"
     ]
    }
   ],
   "source": [
    "print(f\"There are: {df_event_stream.shape[0]} events available\")"
   ]
  },
  {
   "cell_type": "markdown",
   "metadata": {},
   "source": [
    "### Who are the TOP_PERCENT_CONSIDERED of the pagerank score-havers?"
   ]
  },
  {
   "cell_type": "code",
   "execution_count": 103,
   "metadata": {},
   "outputs": [
    {
     "name": "stdout",
     "output_type": "stream",
     "text": [
      "Num in original set: 1436\n",
      "Num in top 10%: 143\n"
     ]
    },
    {
     "data": {
      "text/html": [
       "<div>\n",
       "<style scoped>\n",
       "    .dataframe tbody tr th:only-of-type {\n",
       "        vertical-align: middle;\n",
       "    }\n",
       "\n",
       "    .dataframe tbody tr th {\n",
       "        vertical-align: top;\n",
       "    }\n",
       "\n",
       "    .dataframe thead th {\n",
       "        text-align: right;\n",
       "    }\n",
       "</style>\n",
       "<table border=\"1\" class=\"dataframe\">\n",
       "  <thead>\n",
       "    <tr style=\"text-align: right;\">\n",
       "      <th></th>\n",
       "      <th>cntrb_id</th>\n",
       "      <th>score</th>\n",
       "    </tr>\n",
       "  </thead>\n",
       "  <tbody>\n",
       "    <tr>\n",
       "      <th>0</th>\n",
       "      <td>010002df-6100-0000-0000-000000000000</td>\n",
       "      <td>20.000000</td>\n",
       "    </tr>\n",
       "    <tr>\n",
       "      <th>1</th>\n",
       "      <td>010000fd-e400-0000-0000-000000000000</td>\n",
       "      <td>19.052353</td>\n",
       "    </tr>\n",
       "    <tr>\n",
       "      <th>2</th>\n",
       "      <td>01002a5e-b400-0000-0000-000000000000</td>\n",
       "      <td>17.138503</td>\n",
       "    </tr>\n",
       "    <tr>\n",
       "      <th>3</th>\n",
       "      <td>0100034c-5400-0000-0000-000000000000</td>\n",
       "      <td>16.901099</td>\n",
       "    </tr>\n",
       "    <tr>\n",
       "      <th>4</th>\n",
       "      <td>01003291-1b00-0000-0000-000000000000</td>\n",
       "      <td>16.831682</td>\n",
       "    </tr>\n",
       "    <tr>\n",
       "      <th>...</th>\n",
       "      <td>...</td>\n",
       "      <td>...</td>\n",
       "    </tr>\n",
       "    <tr>\n",
       "      <th>138</th>\n",
       "      <td>010027ae-4a00-0000-0000-000000000000</td>\n",
       "      <td>5.092587</td>\n",
       "    </tr>\n",
       "    <tr>\n",
       "      <th>139</th>\n",
       "      <td>01001386-4c00-0000-0000-000000000000</td>\n",
       "      <td>5.091771</td>\n",
       "    </tr>\n",
       "    <tr>\n",
       "      <th>140</th>\n",
       "      <td>0101f8fb-b200-0000-0000-000000000000</td>\n",
       "      <td>5.090214</td>\n",
       "    </tr>\n",
       "    <tr>\n",
       "      <th>141</th>\n",
       "      <td>0101d21d-3000-0000-0000-000000000000</td>\n",
       "      <td>5.089975</td>\n",
       "    </tr>\n",
       "    <tr>\n",
       "      <th>142</th>\n",
       "      <td>01019736-ff00-0000-0000-000000000000</td>\n",
       "      <td>5.087438</td>\n",
       "    </tr>\n",
       "  </tbody>\n",
       "</table>\n",
       "<p>143 rows × 2 columns</p>\n",
       "</div>"
      ],
      "text/plain": [
       "                                 cntrb_id      score\n",
       "0    010002df-6100-0000-0000-000000000000  20.000000\n",
       "1    010000fd-e400-0000-0000-000000000000  19.052353\n",
       "2    01002a5e-b400-0000-0000-000000000000  17.138503\n",
       "3    0100034c-5400-0000-0000-000000000000  16.901099\n",
       "4    01003291-1b00-0000-0000-000000000000  16.831682\n",
       "..                                    ...        ...\n",
       "138  010027ae-4a00-0000-0000-000000000000   5.092587\n",
       "139  01001386-4c00-0000-0000-000000000000   5.091771\n",
       "140  0101f8fb-b200-0000-0000-000000000000   5.090214\n",
       "141  0101d21d-3000-0000-0000-000000000000   5.089975\n",
       "142  01019736-ff00-0000-0000-000000000000   5.087438\n",
       "\n",
       "[143 rows x 2 columns]"
      ]
     },
     "execution_count": 103,
     "metadata": {},
     "output_type": "execute_result"
    }
   ],
   "source": [
    "pop_contribs = df_known_contribs.shape[0]\n",
    "top_10p = df_known_contribs.sort_values(by=\"score\", ascending=False)[:int(pop_contribs * TOP_PERCENT_CONSIDERED)]\n",
    "top_10p = top_10p.rename({\"user\": \"cntrb_id\"})\n",
    "\n",
    "print(f\"Num in original set: {df_known_contribs.shape[0]}\")\n",
    "print(f\"Num in top 10%: {top_10p.shape[0]}\")\n",
    "top_10p"
   ]
  },
  {
   "cell_type": "markdown",
   "metadata": {},
   "source": [
    "### Join event stream and top_10p on the user's id\n",
    "\n",
    "Will give us the events for each of the contributors."
   ]
  },
  {
   "cell_type": "code",
   "execution_count": 104,
   "metadata": {},
   "outputs": [
    {
     "data": {
      "text/html": [
       "<div>\n",
       "<style scoped>\n",
       "    .dataframe tbody tr th:only-of-type {\n",
       "        vertical-align: middle;\n",
       "    }\n",
       "\n",
       "    .dataframe tbody tr th {\n",
       "        vertical-align: top;\n",
       "    }\n",
       "\n",
       "    .dataframe thead th {\n",
       "        text-align: right;\n",
       "    }\n",
       "</style>\n",
       "<table border=\"1\" class=\"dataframe\">\n",
       "  <thead>\n",
       "    <tr style=\"text-align: right;\">\n",
       "      <th></th>\n",
       "      <th>cntrb_id</th>\n",
       "      <th>score</th>\n",
       "      <th>event_id</th>\n",
       "      <th>created_at</th>\n",
       "      <th>repo_id</th>\n",
       "      <th>repo_git</th>\n",
       "      <th>repo_name</th>\n",
       "      <th>gh_repo_id</th>\n",
       "      <th>event_type</th>\n",
       "    </tr>\n",
       "  </thead>\n",
       "  <tbody>\n",
       "    <tr>\n",
       "      <th>0</th>\n",
       "      <td>010002df-6100-0000-0000-000000000000</td>\n",
       "      <td>20.000000</td>\n",
       "      <td>3.034902e+10</td>\n",
       "      <td>2023-07-11 17:27:35</td>\n",
       "      <td>700806.0</td>\n",
       "      <td>https://api.github.com/repos/wasmerio/wasmer</td>\n",
       "      <td>wasmerio/wasmer</td>\n",
       "      <td>152572186.0</td>\n",
       "      <td>PullRequestReviewEvent</td>\n",
       "    </tr>\n",
       "    <tr>\n",
       "      <th>0</th>\n",
       "      <td>010002df-6100-0000-0000-000000000000</td>\n",
       "      <td>20.000000</td>\n",
       "      <td>3.028624e+10</td>\n",
       "      <td>2023-07-08 18:13:18</td>\n",
       "      <td>700826.0</td>\n",
       "      <td>https://api.github.com/repos/wasmerio/wasmer</td>\n",
       "      <td>wasmerio/wasmer</td>\n",
       "      <td>152572186.0</td>\n",
       "      <td>PullRequestReviewEvent</td>\n",
       "    </tr>\n",
       "    <tr>\n",
       "      <th>0</th>\n",
       "      <td>010002df-6100-0000-0000-000000000000</td>\n",
       "      <td>20.000000</td>\n",
       "      <td>3.064332e+10</td>\n",
       "      <td>2023-07-25 01:02:41</td>\n",
       "      <td>700779.0</td>\n",
       "      <td>https://api.github.com/repos/wasmerio/wasmer</td>\n",
       "      <td>wasmerio/wasmer</td>\n",
       "      <td>152572186.0</td>\n",
       "      <td>IssueCommentEvent</td>\n",
       "    </tr>\n",
       "    <tr>\n",
       "      <th>0</th>\n",
       "      <td>010002df-6100-0000-0000-000000000000</td>\n",
       "      <td>20.000000</td>\n",
       "      <td>3.026886e+10</td>\n",
       "      <td>2023-07-07 13:54:54</td>\n",
       "      <td>700829.0</td>\n",
       "      <td>https://api.github.com/repos/wasmerio/wasmer</td>\n",
       "      <td>wasmerio/wasmer</td>\n",
       "      <td>152572186.0</td>\n",
       "      <td>IssueCommentEvent</td>\n",
       "    </tr>\n",
       "    <tr>\n",
       "      <th>0</th>\n",
       "      <td>010002df-6100-0000-0000-000000000000</td>\n",
       "      <td>20.000000</td>\n",
       "      <td>3.065442e+10</td>\n",
       "      <td>2023-07-25 11:06:14</td>\n",
       "      <td>700777.0</td>\n",
       "      <td>https://api.github.com/repos/wasmerio/wasmer</td>\n",
       "      <td>wasmerio/wasmer</td>\n",
       "      <td>152572186.0</td>\n",
       "      <td>IssueCommentEvent</td>\n",
       "    </tr>\n",
       "    <tr>\n",
       "      <th>...</th>\n",
       "      <td>...</td>\n",
       "      <td>...</td>\n",
       "      <td>...</td>\n",
       "      <td>...</td>\n",
       "      <td>...</td>\n",
       "      <td>...</td>\n",
       "      <td>...</td>\n",
       "      <td>...</td>\n",
       "      <td>...</td>\n",
       "    </tr>\n",
       "    <tr>\n",
       "      <th>142</th>\n",
       "      <td>01019736-ff00-0000-0000-000000000000</td>\n",
       "      <td>5.087438</td>\n",
       "      <td>3.239220e+10</td>\n",
       "      <td>2023-10-07 18:40:14</td>\n",
       "      <td>101840834.0</td>\n",
       "      <td>https://api.github.com/repos/charlie890414/tit...</td>\n",
       "      <td>charlie890414/titan-monopoly</td>\n",
       "      <td>701831835.0</td>\n",
       "      <td>PushEvent</td>\n",
       "    </tr>\n",
       "    <tr>\n",
       "      <th>142</th>\n",
       "      <td>01019736-ff00-0000-0000-000000000000</td>\n",
       "      <td>5.087438</td>\n",
       "      <td>3.239308e+10</td>\n",
       "      <td>2023-10-07 20:51:23</td>\n",
       "      <td>101840825.0</td>\n",
       "      <td>https://api.github.com/repos/charlie890414/tit...</td>\n",
       "      <td>charlie890414/titan-monopoly</td>\n",
       "      <td>701831835.0</td>\n",
       "      <td>PushEvent</td>\n",
       "    </tr>\n",
       "    <tr>\n",
       "      <th>142</th>\n",
       "      <td>01019736-ff00-0000-0000-000000000000</td>\n",
       "      <td>5.087438</td>\n",
       "      <td>3.239308e+10</td>\n",
       "      <td>2023-10-07 20:51:23</td>\n",
       "      <td>101840826.0</td>\n",
       "      <td>https://api.github.com/repos/charlie890414/tit...</td>\n",
       "      <td>charlie890414/titan-monopoly</td>\n",
       "      <td>701831835.0</td>\n",
       "      <td>PullRequestEvent</td>\n",
       "    </tr>\n",
       "    <tr>\n",
       "      <th>142</th>\n",
       "      <td>01019736-ff00-0000-0000-000000000000</td>\n",
       "      <td>5.087438</td>\n",
       "      <td>3.239308e+10</td>\n",
       "      <td>2023-10-07 20:51:18</td>\n",
       "      <td>101840827.0</td>\n",
       "      <td>https://api.github.com/repos/charlie890414/tit...</td>\n",
       "      <td>charlie890414/titan-monopoly</td>\n",
       "      <td>701831835.0</td>\n",
       "      <td>PullRequestEvent</td>\n",
       "    </tr>\n",
       "    <tr>\n",
       "      <th>142</th>\n",
       "      <td>01019736-ff00-0000-0000-000000000000</td>\n",
       "      <td>5.087438</td>\n",
       "      <td>3.239307e+10</td>\n",
       "      <td>2023-10-07 20:51:01</td>\n",
       "      <td>101840828.0</td>\n",
       "      <td>https://api.github.com/repos/charlie890414/tit...</td>\n",
       "      <td>charlie890414/titan-monopoly</td>\n",
       "      <td>701831835.0</td>\n",
       "      <td>CreateEvent</td>\n",
       "    </tr>\n",
       "  </tbody>\n",
       "</table>\n",
       "<p>180898 rows × 9 columns</p>\n",
       "</div>"
      ],
      "text/plain": [
       "                                 cntrb_id      score      event_id  \\\n",
       "0    010002df-6100-0000-0000-000000000000  20.000000  3.034902e+10   \n",
       "0    010002df-6100-0000-0000-000000000000  20.000000  3.028624e+10   \n",
       "0    010002df-6100-0000-0000-000000000000  20.000000  3.064332e+10   \n",
       "0    010002df-6100-0000-0000-000000000000  20.000000  3.026886e+10   \n",
       "0    010002df-6100-0000-0000-000000000000  20.000000  3.065442e+10   \n",
       "..                                    ...        ...           ...   \n",
       "142  01019736-ff00-0000-0000-000000000000   5.087438  3.239220e+10   \n",
       "142  01019736-ff00-0000-0000-000000000000   5.087438  3.239308e+10   \n",
       "142  01019736-ff00-0000-0000-000000000000   5.087438  3.239308e+10   \n",
       "142  01019736-ff00-0000-0000-000000000000   5.087438  3.239308e+10   \n",
       "142  01019736-ff00-0000-0000-000000000000   5.087438  3.239307e+10   \n",
       "\n",
       "             created_at      repo_id  \\\n",
       "0   2023-07-11 17:27:35     700806.0   \n",
       "0   2023-07-08 18:13:18     700826.0   \n",
       "0   2023-07-25 01:02:41     700779.0   \n",
       "0   2023-07-07 13:54:54     700829.0   \n",
       "0   2023-07-25 11:06:14     700777.0   \n",
       "..                  ...          ...   \n",
       "142 2023-10-07 18:40:14  101840834.0   \n",
       "142 2023-10-07 20:51:23  101840825.0   \n",
       "142 2023-10-07 20:51:23  101840826.0   \n",
       "142 2023-10-07 20:51:18  101840827.0   \n",
       "142 2023-10-07 20:51:01  101840828.0   \n",
       "\n",
       "                                              repo_git  \\\n",
       "0         https://api.github.com/repos/wasmerio/wasmer   \n",
       "0         https://api.github.com/repos/wasmerio/wasmer   \n",
       "0         https://api.github.com/repos/wasmerio/wasmer   \n",
       "0         https://api.github.com/repos/wasmerio/wasmer   \n",
       "0         https://api.github.com/repos/wasmerio/wasmer   \n",
       "..                                                 ...   \n",
       "142  https://api.github.com/repos/charlie890414/tit...   \n",
       "142  https://api.github.com/repos/charlie890414/tit...   \n",
       "142  https://api.github.com/repos/charlie890414/tit...   \n",
       "142  https://api.github.com/repos/charlie890414/tit...   \n",
       "142  https://api.github.com/repos/charlie890414/tit...   \n",
       "\n",
       "                        repo_name   gh_repo_id              event_type  \n",
       "0                 wasmerio/wasmer  152572186.0  PullRequestReviewEvent  \n",
       "0                 wasmerio/wasmer  152572186.0  PullRequestReviewEvent  \n",
       "0                 wasmerio/wasmer  152572186.0       IssueCommentEvent  \n",
       "0                 wasmerio/wasmer  152572186.0       IssueCommentEvent  \n",
       "0                 wasmerio/wasmer  152572186.0       IssueCommentEvent  \n",
       "..                            ...          ...                     ...  \n",
       "142  charlie890414/titan-monopoly  701831835.0               PushEvent  \n",
       "142  charlie890414/titan-monopoly  701831835.0               PushEvent  \n",
       "142  charlie890414/titan-monopoly  701831835.0        PullRequestEvent  \n",
       "142  charlie890414/titan-monopoly  701831835.0        PullRequestEvent  \n",
       "142  charlie890414/titan-monopoly  701831835.0             CreateEvent  \n",
       "\n",
       "[180898 rows x 9 columns]"
      ]
     },
     "execution_count": 104,
     "metadata": {},
     "output_type": "execute_result"
    }
   ],
   "source": [
    "# joins events data on the top_10p group of people.\n",
    "# have to set the index of the 'other' df to be the\n",
    "# column we want to join on\n",
    "top_10p_events = top_10p.join(\n",
    "    other=df_event_stream.set_index(\"cntrb_id\"),\n",
    "    on=\"cntrb_id\"\n",
    ")\n",
    "top_10p_events"
   ]
  },
  {
   "cell_type": "markdown",
   "metadata": {},
   "source": [
    "For each contributor, get the list of repo gits that they've made at least one contribution to."
   ]
  },
  {
   "cell_type": "code",
   "execution_count": 105,
   "metadata": {},
   "outputs": [
    {
     "data": {
      "text/html": [
       "<div>\n",
       "<style scoped>\n",
       "    .dataframe tbody tr th:only-of-type {\n",
       "        vertical-align: middle;\n",
       "    }\n",
       "\n",
       "    .dataframe tbody tr th {\n",
       "        vertical-align: top;\n",
       "    }\n",
       "\n",
       "    .dataframe thead th {\n",
       "        text-align: right;\n",
       "    }\n",
       "</style>\n",
       "<table border=\"1\" class=\"dataframe\">\n",
       "  <thead>\n",
       "    <tr style=\"text-align: right;\">\n",
       "      <th></th>\n",
       "      <th>unique</th>\n",
       "    </tr>\n",
       "    <tr>\n",
       "      <th>cntrb_id</th>\n",
       "      <th></th>\n",
       "    </tr>\n",
       "  </thead>\n",
       "  <tbody>\n",
       "    <tr>\n",
       "      <th>0100000c-a200-0000-0000-000000000000</th>\n",
       "      <td>[nan]</td>\n",
       "    </tr>\n",
       "    <tr>\n",
       "      <th>0100002a-3600-0000-0000-000000000000</th>\n",
       "      <td>[https://api.github.com/repos/WasmEdge/wasmedg...</td>\n",
       "    </tr>\n",
       "    <tr>\n",
       "      <th>01000058-b400-0000-0000-000000000000</th>\n",
       "      <td>[https://api.github.com/repos/eduardomourar/wa...</td>\n",
       "    </tr>\n",
       "    <tr>\n",
       "      <th>0100006c-f500-0000-0000-000000000000</th>\n",
       "      <td>[https://api.github.com/repos/Illumine-Labs/Gr...</td>\n",
       "    </tr>\n",
       "    <tr>\n",
       "      <th>010000d5-f300-0000-0000-000000000000</th>\n",
       "      <td>[https://api.github.com/repos/YosysHQ/abc, htt...</td>\n",
       "    </tr>\n",
       "    <tr>\n",
       "      <th>...</th>\n",
       "      <td>...</td>\n",
       "    </tr>\n",
       "    <tr>\n",
       "      <th>01059e69-db00-0000-0000-000000000000</th>\n",
       "      <td>[https://api.github.com/repos/mer-hybris/libgb...</td>\n",
       "    </tr>\n",
       "    <tr>\n",
       "      <th>0105c15a-8e00-0000-0000-000000000000</th>\n",
       "      <td>[https://api.github.com/repos/rust-lang/cargo,...</td>\n",
       "    </tr>\n",
       "    <tr>\n",
       "      <th>0106cc99-fd00-0000-0000-000000000000</th>\n",
       "      <td>[https://api.github.com/repos/WasmEdge/WasmEdg...</td>\n",
       "    </tr>\n",
       "    <tr>\n",
       "      <th>0106e8d2-7300-0000-0000-000000000000</th>\n",
       "      <td>[https://api.github.com/repos/little-willy/Was...</td>\n",
       "    </tr>\n",
       "    <tr>\n",
       "      <th>01070dcb-e200-0000-0000-000000000000</th>\n",
       "      <td>[https://api.github.com/repos/GSA-TTS/FAC, htt...</td>\n",
       "    </tr>\n",
       "  </tbody>\n",
       "</table>\n",
       "<p>143 rows × 1 columns</p>\n",
       "</div>"
      ],
      "text/plain": [
       "                                                                                 unique\n",
       "cntrb_id                                                                               \n",
       "0100000c-a200-0000-0000-000000000000                                              [nan]\n",
       "0100002a-3600-0000-0000-000000000000  [https://api.github.com/repos/WasmEdge/wasmedg...\n",
       "01000058-b400-0000-0000-000000000000  [https://api.github.com/repos/eduardomourar/wa...\n",
       "0100006c-f500-0000-0000-000000000000  [https://api.github.com/repos/Illumine-Labs/Gr...\n",
       "010000d5-f300-0000-0000-000000000000  [https://api.github.com/repos/YosysHQ/abc, htt...\n",
       "...                                                                                 ...\n",
       "01059e69-db00-0000-0000-000000000000  [https://api.github.com/repos/mer-hybris/libgb...\n",
       "0105c15a-8e00-0000-0000-000000000000  [https://api.github.com/repos/rust-lang/cargo,...\n",
       "0106cc99-fd00-0000-0000-000000000000  [https://api.github.com/repos/WasmEdge/WasmEdg...\n",
       "0106e8d2-7300-0000-0000-000000000000  [https://api.github.com/repos/little-willy/Was...\n",
       "01070dcb-e200-0000-0000-000000000000  [https://api.github.com/repos/GSA-TTS/FAC, htt...\n",
       "\n",
       "[143 rows x 1 columns]"
      ]
     },
     "execution_count": 105,
     "metadata": {},
     "output_type": "execute_result"
    }
   ],
   "source": [
    "cntrb_repos = top_10p_events.groupby([\"cntrb_id\"])[\"repo_git\"].agg(['unique'])\n",
    "cntrb_repos"
   ]
  },
  {
   "cell_type": "code",
   "execution_count": 106,
   "metadata": {},
   "outputs": [],
   "source": [
    "# concatenate all of the lists of repo belonging together\n",
    "# for all of the contribs.\n",
    "# then, count the occurrences of each repo.\n",
    "all_repos = []\n",
    "for row in cntrb_repos[\"unique\"]:\n",
    "    all_repos = all_repos + list(row)\n",
    "    \n",
    "n_contribs_per_repo = dict(Counter(all_repos))"
   ]
  },
  {
   "cell_type": "code",
   "execution_count": 107,
   "metadata": {},
   "outputs": [
    {
     "data": {
      "text/plain": [
       "[(nan, 8),\n",
       " ('https://api.github.com/repos/WasmEdge/wasmedge-rust-sdk', 3),\n",
       " ('https://api.github.com/repos/docker/awesome-compose', 1),\n",
       " ('https://api.github.com/repos/denostr-lab/denostr', 1),\n",
       " ('https://api.github.com/repos/AnonymousAmalgrams/ByteLlama', 2),\n",
       " ('https://api.github.com/repos/WasmEdge/WasmEdge', 25),\n",
       " ('https://api.github.com/repos/flows-network/docs', 2),\n",
       " ('https://api.github.com/repos/flows-network/discord-chatgpt', 2),\n",
       " ('https://api.github.com/repos/juntao/ByteLlama', 1),\n",
       " ('https://api.github.com/repos/soramitsu/kagome', 1)]"
      ]
     },
     "execution_count": 107,
     "metadata": {},
     "output_type": "execute_result"
    }
   ],
   "source": [
    "list(n_contribs_per_repo.items())[:10]"
   ]
  },
  {
   "cell_type": "code",
   "execution_count": 108,
   "metadata": {},
   "outputs": [],
   "source": [
    "# Translate the dictionary into a dataframe and sort\n",
    "# Thanks Hema Veeradhi for this implementation.\n",
    "df_for_fig = pd.DataFrame(list(n_contribs_per_repo.items()), columns=['repo_gits', 'repo_cntrb_counts']).sort_values(by=\"repo_cntrb_counts\", ascending=False)\n",
    "df_for_fig.repo_gits = df_for_fig.repo_gits.apply(lambda x : x.removeprefix(\"https://api.github.com/repos/\") if(type(x)==str) else x)"
   ]
  },
  {
   "cell_type": "code",
   "execution_count": 109,
   "metadata": {},
   "outputs": [],
   "source": [
    "fig = px.bar(\n",
    "    data_frame=df_for_fig[:FINAL_NUM_COMMON_REPOS],\n",
    "    y=\"repo_gits\",\n",
    "    x=\"repo_cntrb_counts\",\n",
    "    hover_name=\"repo_cntrb_counts\",\n",
    "    orientation=\"h\"\n",
    ")"
   ]
  },
  {
   "cell_type": "code",
   "execution_count": 110,
   "metadata": {},
   "outputs": [
    {
     "data": {
      "application/vnd.plotly.v1+json": {
       "config": {
        "plotlyServerURL": "https://plot.ly"
       },
       "data": [
        {
         "alignmentgroup": "True",
         "hovertemplate": "<b>%{hovertext}</b><br><br>repo_cntrb_counts=%{x}<br>repo_gits=%{y}<extra></extra>",
         "hovertext": [
          26,
          25,
          17,
          13,
          12,
          10,
          9,
          9,
          9,
          8,
          8,
          8,
          8,
          8,
          8,
          8,
          8,
          7,
          7,
          7,
          6,
          6,
          6,
          6,
          6,
          6,
          6,
          5,
          5,
          5,
          5,
          5,
          5,
          5,
          5,
          5,
          5,
          5,
          5,
          5,
          5,
          4,
          4,
          4,
          4,
          4,
          4,
          4,
          4,
          4
         ],
         "legendgroup": "",
         "marker": {
          "color": "#636efa",
          "pattern": {
           "shape": ""
          }
         },
         "name": "",
         "offsetgroup": "",
         "orientation": "h",
         "showlegend": false,
         "textposition": "auto",
         "type": "bar",
         "x": [
          26,
          25,
          17,
          13,
          12,
          10,
          9,
          9,
          9,
          8,
          8,
          8,
          8,
          8,
          8,
          8,
          8,
          7,
          7,
          7,
          6,
          6,
          6,
          6,
          6,
          6,
          6,
          5,
          5,
          5,
          5,
          5,
          5,
          5,
          5,
          5,
          5,
          5,
          5,
          5,
          5,
          4,
          4,
          4,
          4,
          4,
          4,
          4,
          4,
          4
         ],
         "xaxis": "x",
         "y": [
          "bytecodealliance/wasmtime",
          "WasmEdge/WasmEdge",
          "rust-lang/rust",
          "bytecodealliance/meetings",
          "bytecodealliance/wasm-tools",
          "bytecodealliance/wit-bindgen",
          "llvm/llvm-project",
          "WebAssembly/component-model",
          "bytecodealliance/cargo-component",
          "wasmerio/wasmer",
          "bytecodealliance/WASI-Virt",
          "bytecodealliance/jco",
          "WebAssembly/wasi-http",
          null,
          "WasmEdge/docs",
          "WebAssembly/wasi-libc",
          "WebAssembly/meetings",
          "NixOS/nixpkgs",
          "ziglang/zig",
          "ByteByteGoHq/system-design-101",
          "rust-lang/rfcs",
          "WebAssembly/wasi-sdk",
          "wasmerio/winterjs",
          "bytecodealliance/componentize-js",
          "second-state/WasmEdge-WASINN-examples",
          "WasmEdge/mediapipe-rs",
          "WebAssembly/wasi-io",
          "rust-lang/libc",
          "wasmerio/wasmer-js",
          "huggingface/candle",
          "rust-lang/libs-team",
          "wasix-org/cargo-wasix",
          "WebAssembly/WASI",
          "wasix-org/wasix-libc",
          "fermyon/spin",
          "cncf/landscape",
          "wasmerio/docs.wasmer.io",
          "bytecodealliance/regalloc2",
          "bytecodealliance/rfcs",
          "rust-lang/cargo",
          "ratatui-org/ratatui",
          "fastly/Viceroy",
          "emscripten-core/emscripten",
          "envoyproxy/envoy",
          "golang/go",
          "wasix-org/rust",
          "bytecodealliance/rustix",
          "proxy-wasm/proxy-wasm-cpp-host",
          "bytecodealliance/gecko-dev",
          "serde-rs/serde"
         ],
         "yaxis": "y"
        }
       ],
       "layout": {
        "barmode": "relative",
        "legend": {
         "tracegroupgap": 0
        },
        "margin": {
         "t": 60
        },
        "template": {
         "data": {
          "bar": [
           {
            "error_x": {
             "color": "#2a3f5f"
            },
            "error_y": {
             "color": "#2a3f5f"
            },
            "marker": {
             "line": {
              "color": "#E5ECF6",
              "width": 0.5
             },
             "pattern": {
              "fillmode": "overlay",
              "size": 10,
              "solidity": 0.2
             }
            },
            "type": "bar"
           }
          ],
          "barpolar": [
           {
            "marker": {
             "line": {
              "color": "#E5ECF6",
              "width": 0.5
             },
             "pattern": {
              "fillmode": "overlay",
              "size": 10,
              "solidity": 0.2
             }
            },
            "type": "barpolar"
           }
          ],
          "carpet": [
           {
            "aaxis": {
             "endlinecolor": "#2a3f5f",
             "gridcolor": "white",
             "linecolor": "white",
             "minorgridcolor": "white",
             "startlinecolor": "#2a3f5f"
            },
            "baxis": {
             "endlinecolor": "#2a3f5f",
             "gridcolor": "white",
             "linecolor": "white",
             "minorgridcolor": "white",
             "startlinecolor": "#2a3f5f"
            },
            "type": "carpet"
           }
          ],
          "choropleth": [
           {
            "colorbar": {
             "outlinewidth": 0,
             "ticks": ""
            },
            "type": "choropleth"
           }
          ],
          "contour": [
           {
            "colorbar": {
             "outlinewidth": 0,
             "ticks": ""
            },
            "colorscale": [
             [
              0,
              "#0d0887"
             ],
             [
              0.1111111111111111,
              "#46039f"
             ],
             [
              0.2222222222222222,
              "#7201a8"
             ],
             [
              0.3333333333333333,
              "#9c179e"
             ],
             [
              0.4444444444444444,
              "#bd3786"
             ],
             [
              0.5555555555555556,
              "#d8576b"
             ],
             [
              0.6666666666666666,
              "#ed7953"
             ],
             [
              0.7777777777777778,
              "#fb9f3a"
             ],
             [
              0.8888888888888888,
              "#fdca26"
             ],
             [
              1,
              "#f0f921"
             ]
            ],
            "type": "contour"
           }
          ],
          "contourcarpet": [
           {
            "colorbar": {
             "outlinewidth": 0,
             "ticks": ""
            },
            "type": "contourcarpet"
           }
          ],
          "heatmap": [
           {
            "colorbar": {
             "outlinewidth": 0,
             "ticks": ""
            },
            "colorscale": [
             [
              0,
              "#0d0887"
             ],
             [
              0.1111111111111111,
              "#46039f"
             ],
             [
              0.2222222222222222,
              "#7201a8"
             ],
             [
              0.3333333333333333,
              "#9c179e"
             ],
             [
              0.4444444444444444,
              "#bd3786"
             ],
             [
              0.5555555555555556,
              "#d8576b"
             ],
             [
              0.6666666666666666,
              "#ed7953"
             ],
             [
              0.7777777777777778,
              "#fb9f3a"
             ],
             [
              0.8888888888888888,
              "#fdca26"
             ],
             [
              1,
              "#f0f921"
             ]
            ],
            "type": "heatmap"
           }
          ],
          "heatmapgl": [
           {
            "colorbar": {
             "outlinewidth": 0,
             "ticks": ""
            },
            "colorscale": [
             [
              0,
              "#0d0887"
             ],
             [
              0.1111111111111111,
              "#46039f"
             ],
             [
              0.2222222222222222,
              "#7201a8"
             ],
             [
              0.3333333333333333,
              "#9c179e"
             ],
             [
              0.4444444444444444,
              "#bd3786"
             ],
             [
              0.5555555555555556,
              "#d8576b"
             ],
             [
              0.6666666666666666,
              "#ed7953"
             ],
             [
              0.7777777777777778,
              "#fb9f3a"
             ],
             [
              0.8888888888888888,
              "#fdca26"
             ],
             [
              1,
              "#f0f921"
             ]
            ],
            "type": "heatmapgl"
           }
          ],
          "histogram": [
           {
            "marker": {
             "pattern": {
              "fillmode": "overlay",
              "size": 10,
              "solidity": 0.2
             }
            },
            "type": "histogram"
           }
          ],
          "histogram2d": [
           {
            "colorbar": {
             "outlinewidth": 0,
             "ticks": ""
            },
            "colorscale": [
             [
              0,
              "#0d0887"
             ],
             [
              0.1111111111111111,
              "#46039f"
             ],
             [
              0.2222222222222222,
              "#7201a8"
             ],
             [
              0.3333333333333333,
              "#9c179e"
             ],
             [
              0.4444444444444444,
              "#bd3786"
             ],
             [
              0.5555555555555556,
              "#d8576b"
             ],
             [
              0.6666666666666666,
              "#ed7953"
             ],
             [
              0.7777777777777778,
              "#fb9f3a"
             ],
             [
              0.8888888888888888,
              "#fdca26"
             ],
             [
              1,
              "#f0f921"
             ]
            ],
            "type": "histogram2d"
           }
          ],
          "histogram2dcontour": [
           {
            "colorbar": {
             "outlinewidth": 0,
             "ticks": ""
            },
            "colorscale": [
             [
              0,
              "#0d0887"
             ],
             [
              0.1111111111111111,
              "#46039f"
             ],
             [
              0.2222222222222222,
              "#7201a8"
             ],
             [
              0.3333333333333333,
              "#9c179e"
             ],
             [
              0.4444444444444444,
              "#bd3786"
             ],
             [
              0.5555555555555556,
              "#d8576b"
             ],
             [
              0.6666666666666666,
              "#ed7953"
             ],
             [
              0.7777777777777778,
              "#fb9f3a"
             ],
             [
              0.8888888888888888,
              "#fdca26"
             ],
             [
              1,
              "#f0f921"
             ]
            ],
            "type": "histogram2dcontour"
           }
          ],
          "mesh3d": [
           {
            "colorbar": {
             "outlinewidth": 0,
             "ticks": ""
            },
            "type": "mesh3d"
           }
          ],
          "parcoords": [
           {
            "line": {
             "colorbar": {
              "outlinewidth": 0,
              "ticks": ""
             }
            },
            "type": "parcoords"
           }
          ],
          "pie": [
           {
            "automargin": true,
            "type": "pie"
           }
          ],
          "scatter": [
           {
            "fillpattern": {
             "fillmode": "overlay",
             "size": 10,
             "solidity": 0.2
            },
            "type": "scatter"
           }
          ],
          "scatter3d": [
           {
            "line": {
             "colorbar": {
              "outlinewidth": 0,
              "ticks": ""
             }
            },
            "marker": {
             "colorbar": {
              "outlinewidth": 0,
              "ticks": ""
             }
            },
            "type": "scatter3d"
           }
          ],
          "scattercarpet": [
           {
            "marker": {
             "colorbar": {
              "outlinewidth": 0,
              "ticks": ""
             }
            },
            "type": "scattercarpet"
           }
          ],
          "scattergeo": [
           {
            "marker": {
             "colorbar": {
              "outlinewidth": 0,
              "ticks": ""
             }
            },
            "type": "scattergeo"
           }
          ],
          "scattergl": [
           {
            "marker": {
             "colorbar": {
              "outlinewidth": 0,
              "ticks": ""
             }
            },
            "type": "scattergl"
           }
          ],
          "scattermapbox": [
           {
            "marker": {
             "colorbar": {
              "outlinewidth": 0,
              "ticks": ""
             }
            },
            "type": "scattermapbox"
           }
          ],
          "scatterpolar": [
           {
            "marker": {
             "colorbar": {
              "outlinewidth": 0,
              "ticks": ""
             }
            },
            "type": "scatterpolar"
           }
          ],
          "scatterpolargl": [
           {
            "marker": {
             "colorbar": {
              "outlinewidth": 0,
              "ticks": ""
             }
            },
            "type": "scatterpolargl"
           }
          ],
          "scatterternary": [
           {
            "marker": {
             "colorbar": {
              "outlinewidth": 0,
              "ticks": ""
             }
            },
            "type": "scatterternary"
           }
          ],
          "surface": [
           {
            "colorbar": {
             "outlinewidth": 0,
             "ticks": ""
            },
            "colorscale": [
             [
              0,
              "#0d0887"
             ],
             [
              0.1111111111111111,
              "#46039f"
             ],
             [
              0.2222222222222222,
              "#7201a8"
             ],
             [
              0.3333333333333333,
              "#9c179e"
             ],
             [
              0.4444444444444444,
              "#bd3786"
             ],
             [
              0.5555555555555556,
              "#d8576b"
             ],
             [
              0.6666666666666666,
              "#ed7953"
             ],
             [
              0.7777777777777778,
              "#fb9f3a"
             ],
             [
              0.8888888888888888,
              "#fdca26"
             ],
             [
              1,
              "#f0f921"
             ]
            ],
            "type": "surface"
           }
          ],
          "table": [
           {
            "cells": {
             "fill": {
              "color": "#EBF0F8"
             },
             "line": {
              "color": "white"
             }
            },
            "header": {
             "fill": {
              "color": "#C8D4E3"
             },
             "line": {
              "color": "white"
             }
            },
            "type": "table"
           }
          ]
         },
         "layout": {
          "annotationdefaults": {
           "arrowcolor": "#2a3f5f",
           "arrowhead": 0,
           "arrowwidth": 1
          },
          "autotypenumbers": "strict",
          "coloraxis": {
           "colorbar": {
            "outlinewidth": 0,
            "ticks": ""
           }
          },
          "colorscale": {
           "diverging": [
            [
             0,
             "#8e0152"
            ],
            [
             0.1,
             "#c51b7d"
            ],
            [
             0.2,
             "#de77ae"
            ],
            [
             0.3,
             "#f1b6da"
            ],
            [
             0.4,
             "#fde0ef"
            ],
            [
             0.5,
             "#f7f7f7"
            ],
            [
             0.6,
             "#e6f5d0"
            ],
            [
             0.7,
             "#b8e186"
            ],
            [
             0.8,
             "#7fbc41"
            ],
            [
             0.9,
             "#4d9221"
            ],
            [
             1,
             "#276419"
            ]
           ],
           "sequential": [
            [
             0,
             "#0d0887"
            ],
            [
             0.1111111111111111,
             "#46039f"
            ],
            [
             0.2222222222222222,
             "#7201a8"
            ],
            [
             0.3333333333333333,
             "#9c179e"
            ],
            [
             0.4444444444444444,
             "#bd3786"
            ],
            [
             0.5555555555555556,
             "#d8576b"
            ],
            [
             0.6666666666666666,
             "#ed7953"
            ],
            [
             0.7777777777777778,
             "#fb9f3a"
            ],
            [
             0.8888888888888888,
             "#fdca26"
            ],
            [
             1,
             "#f0f921"
            ]
           ],
           "sequentialminus": [
            [
             0,
             "#0d0887"
            ],
            [
             0.1111111111111111,
             "#46039f"
            ],
            [
             0.2222222222222222,
             "#7201a8"
            ],
            [
             0.3333333333333333,
             "#9c179e"
            ],
            [
             0.4444444444444444,
             "#bd3786"
            ],
            [
             0.5555555555555556,
             "#d8576b"
            ],
            [
             0.6666666666666666,
             "#ed7953"
            ],
            [
             0.7777777777777778,
             "#fb9f3a"
            ],
            [
             0.8888888888888888,
             "#fdca26"
            ],
            [
             1,
             "#f0f921"
            ]
           ]
          },
          "colorway": [
           "#636efa",
           "#EF553B",
           "#00cc96",
           "#ab63fa",
           "#FFA15A",
           "#19d3f3",
           "#FF6692",
           "#B6E880",
           "#FF97FF",
           "#FECB52"
          ],
          "font": {
           "color": "#2a3f5f"
          },
          "geo": {
           "bgcolor": "white",
           "lakecolor": "white",
           "landcolor": "#E5ECF6",
           "showlakes": true,
           "showland": true,
           "subunitcolor": "white"
          },
          "hoverlabel": {
           "align": "left"
          },
          "hovermode": "closest",
          "mapbox": {
           "style": "light"
          },
          "paper_bgcolor": "white",
          "plot_bgcolor": "#E5ECF6",
          "polar": {
           "angularaxis": {
            "gridcolor": "white",
            "linecolor": "white",
            "ticks": ""
           },
           "bgcolor": "#E5ECF6",
           "radialaxis": {
            "gridcolor": "white",
            "linecolor": "white",
            "ticks": ""
           }
          },
          "scene": {
           "xaxis": {
            "backgroundcolor": "#E5ECF6",
            "gridcolor": "white",
            "gridwidth": 2,
            "linecolor": "white",
            "showbackground": true,
            "ticks": "",
            "zerolinecolor": "white"
           },
           "yaxis": {
            "backgroundcolor": "#E5ECF6",
            "gridcolor": "white",
            "gridwidth": 2,
            "linecolor": "white",
            "showbackground": true,
            "ticks": "",
            "zerolinecolor": "white"
           },
           "zaxis": {
            "backgroundcolor": "#E5ECF6",
            "gridcolor": "white",
            "gridwidth": 2,
            "linecolor": "white",
            "showbackground": true,
            "ticks": "",
            "zerolinecolor": "white"
           }
          },
          "shapedefaults": {
           "line": {
            "color": "#2a3f5f"
           }
          },
          "ternary": {
           "aaxis": {
            "gridcolor": "white",
            "linecolor": "white",
            "ticks": ""
           },
           "baxis": {
            "gridcolor": "white",
            "linecolor": "white",
            "ticks": ""
           },
           "bgcolor": "#E5ECF6",
           "caxis": {
            "gridcolor": "white",
            "linecolor": "white",
            "ticks": ""
           }
          },
          "title": {
           "x": 0.05
          },
          "xaxis": {
           "automargin": true,
           "gridcolor": "white",
           "linecolor": "white",
           "ticks": "",
           "title": {
            "standoff": 15
           },
           "zerolinecolor": "white",
           "zerolinewidth": 2
          },
          "yaxis": {
           "automargin": true,
           "gridcolor": "white",
           "linecolor": "white",
           "ticks": "",
           "title": {
            "standoff": 15
           },
           "zerolinecolor": "white",
           "zerolinewidth": 2
          }
         }
        },
        "xaxis": {
         "anchor": "y",
         "domain": [
          0,
          1
         ],
         "title": {
          "text": "repo_cntrb_counts"
         }
        },
        "yaxis": {
         "anchor": "x",
         "domain": [
          0,
          1
         ],
         "title": {
          "text": "repo_gits"
         }
        }
       }
      }
     },
     "metadata": {},
     "output_type": "display_data"
    }
   ],
   "source": [
    "fig.show()"
   ]
  },
  {
   "cell_type": "markdown",
   "metadata": {},
   "source": [
    "**Note**: \n",
    "\n",
    "Image below omits many github URLs associated with the real column rendered.\n",
    "Consider running notebook for holistic visualization."
   ]
  },
  {
   "cell_type": "code",
   "execution_count": 111,
   "metadata": {},
   "outputs": [
    {
     "data": {
      "image/png": "[encoded data removed]",
      "text/plain": [
       "<IPython.core.display.Image object>"
      ]
     },
     "execution_count": 111,
     "metadata": {},
     "output_type": "execute_result"
    }
   ],
   "source": [
    "fig.write_image(\"repo_cntrb_counts.png\")\n",
    "Image(filename=\"repo_cntrb_counts.png\")"
   ]
  },
  {
   "cell_type": "code",
   "execution_count": 114,
   "metadata": {},
   "outputs": [
    {
     "data": {
      "text/html": [
       "<div>\n",
       "<style scoped>\n",
       "    .dataframe tbody tr th:only-of-type {\n",
       "        vertical-align: middle;\n",
       "    }\n",
       "\n",
       "    .dataframe tbody tr th {\n",
       "        vertical-align: top;\n",
       "    }\n",
       "\n",
       "    .dataframe thead th {\n",
       "        text-align: right;\n",
       "    }\n",
       "</style>\n",
       "<table border=\"1\" class=\"dataframe\">\n",
       "  <thead>\n",
       "    <tr style=\"text-align: right;\">\n",
       "      <th></th>\n",
       "      <th>repo_gits</th>\n",
       "      <th>repo_cntrb_counts</th>\n",
       "    </tr>\n",
       "  </thead>\n",
       "  <tbody>\n",
       "    <tr>\n",
       "      <th>85</th>\n",
       "      <td>bytecodealliance/wasmtime</td>\n",
       "      <td>26</td>\n",
       "    </tr>\n",
       "    <tr>\n",
       "      <th>5</th>\n",
       "      <td>WasmEdge/WasmEdge</td>\n",
       "      <td>25</td>\n",
       "    </tr>\n",
       "    <tr>\n",
       "      <th>147</th>\n",
       "      <td>rust-lang/rust</td>\n",
       "      <td>17</td>\n",
       "    </tr>\n",
       "    <tr>\n",
       "      <th>75</th>\n",
       "      <td>bytecodealliance/meetings</td>\n",
       "      <td>13</td>\n",
       "    </tr>\n",
       "    <tr>\n",
       "      <th>99</th>\n",
       "      <td>bytecodealliance/wasm-tools</td>\n",
       "      <td>12</td>\n",
       "    </tr>\n",
       "    <tr>\n",
       "      <th>384</th>\n",
       "      <td>bytecodealliance/wit-bindgen</td>\n",
       "      <td>10</td>\n",
       "    </tr>\n",
       "    <tr>\n",
       "      <th>562</th>\n",
       "      <td>llvm/llvm-project</td>\n",
       "      <td>9</td>\n",
       "    </tr>\n",
       "    <tr>\n",
       "      <th>110</th>\n",
       "      <td>WebAssembly/component-model</td>\n",
       "      <td>9</td>\n",
       "    </tr>\n",
       "    <tr>\n",
       "      <th>82</th>\n",
       "      <td>bytecodealliance/cargo-component</td>\n",
       "      <td>9</td>\n",
       "    </tr>\n",
       "    <tr>\n",
       "      <th>681</th>\n",
       "      <td>wasmerio/wasmer</td>\n",
       "      <td>8</td>\n",
       "    </tr>\n",
       "    <tr>\n",
       "      <th>385</th>\n",
       "      <td>bytecodealliance/WASI-Virt</td>\n",
       "      <td>8</td>\n",
       "    </tr>\n",
       "    <tr>\n",
       "      <th>100</th>\n",
       "      <td>bytecodealliance/jco</td>\n",
       "      <td>8</td>\n",
       "    </tr>\n",
       "    <tr>\n",
       "      <th>108</th>\n",
       "      <td>WebAssembly/wasi-http</td>\n",
       "      <td>8</td>\n",
       "    </tr>\n",
       "    <tr>\n",
       "      <th>0</th>\n",
       "      <td>NaN</td>\n",
       "      <td>8</td>\n",
       "    </tr>\n",
       "    <tr>\n",
       "      <th>55</th>\n",
       "      <td>WasmEdge/docs</td>\n",
       "      <td>8</td>\n",
       "    </tr>\n",
       "    <tr>\n",
       "      <th>410</th>\n",
       "      <td>WebAssembly/wasi-libc</td>\n",
       "      <td>8</td>\n",
       "    </tr>\n",
       "    <tr>\n",
       "      <th>402</th>\n",
       "      <td>WebAssembly/meetings</td>\n",
       "      <td>8</td>\n",
       "    </tr>\n",
       "    <tr>\n",
       "      <th>315</th>\n",
       "      <td>NixOS/nixpkgs</td>\n",
       "      <td>7</td>\n",
       "    </tr>\n",
       "    <tr>\n",
       "      <th>329</th>\n",
       "      <td>ziglang/zig</td>\n",
       "      <td>7</td>\n",
       "    </tr>\n",
       "    <tr>\n",
       "      <th>226</th>\n",
       "      <td>ByteByteGoHq/system-design-101</td>\n",
       "      <td>7</td>\n",
       "    </tr>\n",
       "    <tr>\n",
       "      <th>611</th>\n",
       "      <td>rust-lang/rfcs</td>\n",
       "      <td>6</td>\n",
       "    </tr>\n",
       "    <tr>\n",
       "      <th>358</th>\n",
       "      <td>WebAssembly/wasi-sdk</td>\n",
       "      <td>6</td>\n",
       "    </tr>\n",
       "    <tr>\n",
       "      <th>483</th>\n",
       "      <td>wasmerio/winterjs</td>\n",
       "      <td>6</td>\n",
       "    </tr>\n",
       "    <tr>\n",
       "      <th>399</th>\n",
       "      <td>bytecodealliance/componentize-js</td>\n",
       "      <td>6</td>\n",
       "    </tr>\n",
       "    <tr>\n",
       "      <th>11</th>\n",
       "      <td>second-state/WasmEdge-WASINN-examples</td>\n",
       "      <td>6</td>\n",
       "    </tr>\n",
       "    <tr>\n",
       "      <th>13</th>\n",
       "      <td>WasmEdge/mediapipe-rs</td>\n",
       "      <td>6</td>\n",
       "    </tr>\n",
       "    <tr>\n",
       "      <th>432</th>\n",
       "      <td>WebAssembly/wasi-io</td>\n",
       "      <td>6</td>\n",
       "    </tr>\n",
       "    <tr>\n",
       "      <th>418</th>\n",
       "      <td>rust-lang/libc</td>\n",
       "      <td>5</td>\n",
       "    </tr>\n",
       "    <tr>\n",
       "      <th>701</th>\n",
       "      <td>wasmerio/wasmer-js</td>\n",
       "      <td>5</td>\n",
       "    </tr>\n",
       "    <tr>\n",
       "      <th>704</th>\n",
       "      <td>huggingface/candle</td>\n",
       "      <td>5</td>\n",
       "    </tr>\n",
       "    <tr>\n",
       "      <th>649</th>\n",
       "      <td>rust-lang/libs-team</td>\n",
       "      <td>5</td>\n",
       "    </tr>\n",
       "    <tr>\n",
       "      <th>374</th>\n",
       "      <td>wasix-org/cargo-wasix</td>\n",
       "      <td>5</td>\n",
       "    </tr>\n",
       "    <tr>\n",
       "      <th>380</th>\n",
       "      <td>WebAssembly/WASI</td>\n",
       "      <td>5</td>\n",
       "    </tr>\n",
       "    <tr>\n",
       "      <th>691</th>\n",
       "      <td>wasix-org/wasix-libc</td>\n",
       "      <td>5</td>\n",
       "    </tr>\n",
       "    <tr>\n",
       "      <th>381</th>\n",
       "      <td>fermyon/spin</td>\n",
       "      <td>5</td>\n",
       "    </tr>\n",
       "    <tr>\n",
       "      <th>44</th>\n",
       "      <td>cncf/landscape</td>\n",
       "      <td>5</td>\n",
       "    </tr>\n",
       "    <tr>\n",
       "      <th>687</th>\n",
       "      <td>wasmerio/docs.wasmer.io</td>\n",
       "      <td>5</td>\n",
       "    </tr>\n",
       "    <tr>\n",
       "      <th>90</th>\n",
       "      <td>bytecodealliance/regalloc2</td>\n",
       "      <td>5</td>\n",
       "    </tr>\n",
       "    <tr>\n",
       "      <th>389</th>\n",
       "      <td>bytecodealliance/rfcs</td>\n",
       "      <td>5</td>\n",
       "    </tr>\n",
       "    <tr>\n",
       "      <th>619</th>\n",
       "      <td>rust-lang/cargo</td>\n",
       "      <td>5</td>\n",
       "    </tr>\n",
       "    <tr>\n",
       "      <th>263</th>\n",
       "      <td>ratatui-org/ratatui</td>\n",
       "      <td>5</td>\n",
       "    </tr>\n",
       "    <tr>\n",
       "      <th>86</th>\n",
       "      <td>fastly/Viceroy</td>\n",
       "      <td>4</td>\n",
       "    </tr>\n",
       "    <tr>\n",
       "      <th>736</th>\n",
       "      <td>emscripten-core/emscripten</td>\n",
       "      <td>4</td>\n",
       "    </tr>\n",
       "    <tr>\n",
       "      <th>756</th>\n",
       "      <td>envoyproxy/envoy</td>\n",
       "      <td>4</td>\n",
       "    </tr>\n",
       "    <tr>\n",
       "      <th>394</th>\n",
       "      <td>golang/go</td>\n",
       "      <td>4</td>\n",
       "    </tr>\n",
       "    <tr>\n",
       "      <th>730</th>\n",
       "      <td>wasix-org/rust</td>\n",
       "      <td>4</td>\n",
       "    </tr>\n",
       "    <tr>\n",
       "      <th>428</th>\n",
       "      <td>bytecodealliance/rustix</td>\n",
       "      <td>4</td>\n",
       "    </tr>\n",
       "    <tr>\n",
       "      <th>749</th>\n",
       "      <td>proxy-wasm/proxy-wasm-cpp-host</td>\n",
       "      <td>4</td>\n",
       "    </tr>\n",
       "    <tr>\n",
       "      <th>92</th>\n",
       "      <td>bytecodealliance/gecko-dev</td>\n",
       "      <td>4</td>\n",
       "    </tr>\n",
       "    <tr>\n",
       "      <th>745</th>\n",
       "      <td>serde-rs/serde</td>\n",
       "      <td>4</td>\n",
       "    </tr>\n",
       "  </tbody>\n",
       "</table>\n",
       "</div>"
      ],
      "text/plain": [
       "                                 repo_gits  repo_cntrb_counts\n",
       "85               bytecodealliance/wasmtime                 26\n",
       "5                        WasmEdge/WasmEdge                 25\n",
       "147                         rust-lang/rust                 17\n",
       "75               bytecodealliance/meetings                 13\n",
       "99             bytecodealliance/wasm-tools                 12\n",
       "384           bytecodealliance/wit-bindgen                 10\n",
       "562                      llvm/llvm-project                  9\n",
       "110            WebAssembly/component-model                  9\n",
       "82        bytecodealliance/cargo-component                  9\n",
       "681                        wasmerio/wasmer                  8\n",
       "385             bytecodealliance/WASI-Virt                  8\n",
       "100                   bytecodealliance/jco                  8\n",
       "108                  WebAssembly/wasi-http                  8\n",
       "0                                      NaN                  8\n",
       "55                           WasmEdge/docs                  8\n",
       "410                  WebAssembly/wasi-libc                  8\n",
       "402                   WebAssembly/meetings                  8\n",
       "315                          NixOS/nixpkgs                  7\n",
       "329                            ziglang/zig                  7\n",
       "226         ByteByteGoHq/system-design-101                  7\n",
       "611                         rust-lang/rfcs                  6\n",
       "358                   WebAssembly/wasi-sdk                  6\n",
       "483                      wasmerio/winterjs                  6\n",
       "399       bytecodealliance/componentize-js                  6\n",
       "11   second-state/WasmEdge-WASINN-examples                  6\n",
       "13                   WasmEdge/mediapipe-rs                  6\n",
       "432                    WebAssembly/wasi-io                  6\n",
       "418                         rust-lang/libc                  5\n",
       "701                     wasmerio/wasmer-js                  5\n",
       "704                     huggingface/candle                  5\n",
       "649                    rust-lang/libs-team                  5\n",
       "374                  wasix-org/cargo-wasix                  5\n",
       "380                       WebAssembly/WASI                  5\n",
       "691                   wasix-org/wasix-libc                  5\n",
       "381                           fermyon/spin                  5\n",
       "44                          cncf/landscape                  5\n",
       "687                wasmerio/docs.wasmer.io                  5\n",
       "90              bytecodealliance/regalloc2                  5\n",
       "389                  bytecodealliance/rfcs                  5\n",
       "619                        rust-lang/cargo                  5\n",
       "263                    ratatui-org/ratatui                  5\n",
       "86                          fastly/Viceroy                  4\n",
       "736             emscripten-core/emscripten                  4\n",
       "756                       envoyproxy/envoy                  4\n",
       "394                              golang/go                  4\n",
       "730                         wasix-org/rust                  4\n",
       "428                bytecodealliance/rustix                  4\n",
       "749         proxy-wasm/proxy-wasm-cpp-host                  4\n",
       "92              bytecodealliance/gecko-dev                  4\n",
       "745                         serde-rs/serde                  4"
      ]
     },
     "execution_count": 114,
     "metadata": {},
     "output_type": "execute_result"
    }
   ],
   "source": [
    "# Here's the list of the top-50 most mutual repos among pagerank-top contributors\n",
    "df_for_fig[:FINAL_NUM_COMMON_REPOS]"
   ]
  },
  {
   "cell_type": "markdown",
   "metadata": {},
   "source": [
    "\n",
    "\n",
    "## Interpretation\n",
    "\n",
    "We're expecting that the \"repos of most significant mutual involvement\" should include the seed projects because, by definition, we know that each of the\\\n",
    "contributors considered begins, in our analysis, as a past contributor to these projects.\n",
    "\n",
    "However, we're not attempting a perfect retrospective analysis of contributor involvement- our dataset is of events going back only so far (approx. 6 mos at time of writing). \\\n",
    "Therefore, it's not surprising that (wavm/wavm) does NOT appear in the top-50 we generate here, unlike wasmtime, wasmedge, and wasmer. In the near past, it may not have the \\\n",
    "same traction it did when the resource that we used to identify seed projects was created.\n",
    "\n",
    "These are useful results because they exhibit, at a glance, high WASM-specificity. With these top 50 projects, we are able to look \"beyond\" our initial seed projects, acknowledging \\\n",
    "highly mutual projects within this project space that we couldn't, without significant specialized knowledge, identify on our own.\n",
    "\n",
    "## Next Steps\n",
    "\n",
    "Set the 'seed' of another cycle of discovery to these 50 repos, called seed_1 (the successor to seed_0). Using this new, more inclusive seed_1, build a new collaboration network \\\n",
    "and rank the contributors in the new network. We infer that there will be significant overlap between those that are most involved in the seed_0 analysis phase as those identified \\\n",
    "in the seed_1 analysis phase. \n",
    "\n",
    "Re-run this analysis, producing a prospective seed_2. Repeat, eventually generating seed_n. When seed_(n-1) is sufficiently similar to seed_n, we'll conclude that the identified \\\n",
    "\"neighborhood\" of the final seed repos has converged.\n",
    "\n",
    "As an interesting alternate thread, consider the use of pagerank-central contributors as done in this notebook. Instead of finding repos of largest mutuality, use the Events themselves \\\n",
    "with appropriate filtering to find those projects of highest sub-population involvement, at least numerically, and compare against this notebook. (/notebooks/project_discover/repo_discovery). \\\n",
    "Filtering currently in process to remove events associated with heuristically minimally interesting repos.\n",
    "\n",
    "Having a set of repos we can confidently say are \"highly mutual\" at least, we can use network science to visualize the neighborhood connectome over time (notebooks/graph_analysis/approaches). \\\n"
   ]
  },
  {
   "cell_type": "markdown",
   "metadata": {},
   "source": []
  }
 ],
 "metadata": {
  "kernelspec": {
   "display_name": "Python 3",
   "language": "python",
   "name": "python3"
  },
  "language_info": {
   "codemirror_mode": {
    "name": "ipython",
    "version": 3
   },
   "file_extension": ".py",
   "mimetype": "text/x-python",
   "name": "python",
   "nbconvert_exporter": "python",
   "pygments_lexer": "ipython3",
   "version": "3.11.6"
  }
 },
 "nbformat": 4,
 "nbformat_minor": 2
}
